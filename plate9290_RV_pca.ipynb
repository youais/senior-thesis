{
 "cells": [
  {
   "cell_type": "code",
   "execution_count": 13,
   "metadata": {},
   "outputs": [],
   "source": [
    "import pandas as pd\n",
    "from sklearn.preprocessing import StandardScaler"
   ]
  },
  {
   "cell_type": "code",
   "execution_count": 26,
   "metadata": {},
   "outputs": [],
   "source": [
    "df = pd.read_csv('plate9290_RVs.csv').drop(['Unnamed: 0', 'Plate ID'], axis=1)"
   ]
  },
  {
   "cell_type": "code",
   "execution_count": 27,
   "metadata": {},
   "outputs": [
    {
     "data": {
      "text/html": [
       "<div>\n",
       "<style scoped>\n",
       "    .dataframe tbody tr th:only-of-type {\n",
       "        vertical-align: middle;\n",
       "    }\n",
       "\n",
       "    .dataframe tbody tr th {\n",
       "        vertical-align: top;\n",
       "    }\n",
       "\n",
       "    .dataframe thead th {\n",
       "        text-align: right;\n",
       "    }\n",
       "</style>\n",
       "<table border=\"1\" class=\"dataframe\">\n",
       "  <thead>\n",
       "    <tr style=\"text-align: right;\">\n",
       "      <th></th>\n",
       "      <th>Target ID</th>\n",
       "      <th>MJD</th>\n",
       "      <th>OBSVHELIO (km/s)</th>\n",
       "    </tr>\n",
       "  </thead>\n",
       "  <tbody>\n",
       "    <tr>\n",
       "      <th>0</th>\n",
       "      <td>apo25m.5226.150-08-RV.2M03252400+4614203</td>\n",
       "      <td>57706</td>\n",
       "      <td>-86.565704</td>\n",
       "    </tr>\n",
       "    <tr>\n",
       "      <th>1</th>\n",
       "      <td>apo25m.5226.150-08-RV.2M03252400+4614203</td>\n",
       "      <td>57732</td>\n",
       "      <td>-86.383430</td>\n",
       "    </tr>\n",
       "    <tr>\n",
       "      <th>2</th>\n",
       "      <td>apo25m.5226.150-08-RV.2M03252400+4614203</td>\n",
       "      <td>57734</td>\n",
       "      <td>-86.386870</td>\n",
       "    </tr>\n",
       "    <tr>\n",
       "      <th>3</th>\n",
       "      <td>apo25m.5226.150-08-RV.2M03252400+4614203</td>\n",
       "      <td>57735</td>\n",
       "      <td>-86.532840</td>\n",
       "    </tr>\n",
       "    <tr>\n",
       "      <th>4</th>\n",
       "      <td>apo25m.5226.150-08-RV.2M03252400+4614203</td>\n",
       "      <td>57760</td>\n",
       "      <td>-86.366640</td>\n",
       "    </tr>\n",
       "    <tr>\n",
       "      <th>...</th>\n",
       "      <td>...</td>\n",
       "      <td>...</td>\n",
       "      <td>...</td>\n",
       "    </tr>\n",
       "    <tr>\n",
       "      <th>4181</th>\n",
       "      <td>apo25m.5226.150-08-RV.2M03415658+4626067</td>\n",
       "      <td>58068</td>\n",
       "      <td>-26.490055</td>\n",
       "    </tr>\n",
       "    <tr>\n",
       "      <th>4182</th>\n",
       "      <td>apo25m.5226.150-08-RV.2M03415658+4626067</td>\n",
       "      <td>58085</td>\n",
       "      <td>-26.595278</td>\n",
       "    </tr>\n",
       "    <tr>\n",
       "      <th>4183</th>\n",
       "      <td>apo25m.5226.150-08-RV.2M03415658+4626067</td>\n",
       "      <td>58087</td>\n",
       "      <td>-26.603954</td>\n",
       "    </tr>\n",
       "    <tr>\n",
       "      <th>4184</th>\n",
       "      <td>apo25m.5226.150-08-RV.2M03415658+4626067</td>\n",
       "      <td>58114</td>\n",
       "      <td>-26.599243</td>\n",
       "    </tr>\n",
       "    <tr>\n",
       "      <th>4185</th>\n",
       "      <td>apo25m.5226.150-08-RV.2M03415658+4626067</td>\n",
       "      <td>58143</td>\n",
       "      <td>-26.415329</td>\n",
       "    </tr>\n",
       "  </tbody>\n",
       "</table>\n",
       "<p>4186 rows × 3 columns</p>\n",
       "</div>"
      ],
      "text/plain": [
       "                                     Target ID    MJD  OBSVHELIO (km/s)\n",
       "0     apo25m.5226.150-08-RV.2M03252400+4614203  57706        -86.565704\n",
       "1     apo25m.5226.150-08-RV.2M03252400+4614203  57732        -86.383430\n",
       "2     apo25m.5226.150-08-RV.2M03252400+4614203  57734        -86.386870\n",
       "3     apo25m.5226.150-08-RV.2M03252400+4614203  57735        -86.532840\n",
       "4     apo25m.5226.150-08-RV.2M03252400+4614203  57760        -86.366640\n",
       "...                                        ...    ...               ...\n",
       "4181  apo25m.5226.150-08-RV.2M03415658+4626067  58068        -26.490055\n",
       "4182  apo25m.5226.150-08-RV.2M03415658+4626067  58085        -26.595278\n",
       "4183  apo25m.5226.150-08-RV.2M03415658+4626067  58087        -26.603954\n",
       "4184  apo25m.5226.150-08-RV.2M03415658+4626067  58114        -26.599243\n",
       "4185  apo25m.5226.150-08-RV.2M03415658+4626067  58143        -26.415329\n",
       "\n",
       "[4186 rows x 3 columns]"
      ]
     },
     "execution_count": 27,
     "metadata": {},
     "output_type": "execute_result"
    }
   ],
   "source": [
    "df"
   ]
  },
  {
   "cell_type": "code",
   "execution_count": 28,
   "metadata": {},
   "outputs": [],
   "source": [
    "features = ['MJD', 'OBSVHELIO (km/s)']"
   ]
  },
  {
   "cell_type": "code",
   "execution_count": 29,
   "metadata": {},
   "outputs": [],
   "source": [
    "x = df.loc[:, features].values"
   ]
  },
  {
   "cell_type": "code",
   "execution_count": 30,
   "metadata": {},
   "outputs": [],
   "source": [
    "y = df.loc[:, ['Target ID']].values"
   ]
  },
  {
   "cell_type": "code",
   "execution_count": 31,
   "metadata": {},
   "outputs": [],
   "source": [
    "x = StandardScaler().fit_transform(x)"
   ]
  },
  {
   "cell_type": "code",
   "execution_count": 32,
   "metadata": {},
   "outputs": [],
   "source": [
    "from sklearn.decomposition import PCA"
   ]
  },
  {
   "cell_type": "code",
   "execution_count": 33,
   "metadata": {},
   "outputs": [],
   "source": [
    "pca = PCA(n_components = 2)"
   ]
  },
  {
   "cell_type": "code",
   "execution_count": 34,
   "metadata": {},
   "outputs": [],
   "source": [
    "principalComponents = pca.fit_transform(x)"
   ]
  },
  {
   "cell_type": "code",
   "execution_count": 35,
   "metadata": {},
   "outputs": [],
   "source": [
    "principalDf = pd.DataFrame(data = principalComponents, \n",
    "                           columns = ['principal component 1', 'principal component 2'])"
   ]
  },
  {
   "cell_type": "code",
   "execution_count": 36,
   "metadata": {},
   "outputs": [],
   "source": [
    "finalDf = pd.concat([principalDf, df[['Target ID']]], axis = 1)"
   ]
  },
  {
   "cell_type": "code",
   "execution_count": 37,
   "metadata": {},
   "outputs": [
    {
     "data": {
      "text/html": [
       "<div>\n",
       "<style scoped>\n",
       "    .dataframe tbody tr th:only-of-type {\n",
       "        vertical-align: middle;\n",
       "    }\n",
       "\n",
       "    .dataframe tbody tr th {\n",
       "        vertical-align: top;\n",
       "    }\n",
       "\n",
       "    .dataframe thead th {\n",
       "        text-align: right;\n",
       "    }\n",
       "</style>\n",
       "<table border=\"1\" class=\"dataframe\">\n",
       "  <thead>\n",
       "    <tr style=\"text-align: right;\">\n",
       "      <th></th>\n",
       "      <th>principal component 1</th>\n",
       "      <th>principal component 2</th>\n",
       "      <th>Target ID</th>\n",
       "    </tr>\n",
       "  </thead>\n",
       "  <tbody>\n",
       "    <tr>\n",
       "      <th>0</th>\n",
       "      <td>0.928584</td>\n",
       "      <td>-0.999609</td>\n",
       "      <td>apo25m.5226.150-08-RV.2M03252400+4614203</td>\n",
       "    </tr>\n",
       "    <tr>\n",
       "      <th>1</th>\n",
       "      <td>0.816866</td>\n",
       "      <td>-0.887886</td>\n",
       "      <td>apo25m.5226.150-08-RV.2M03252400+4614203</td>\n",
       "    </tr>\n",
       "    <tr>\n",
       "      <th>2</th>\n",
       "      <td>0.808272</td>\n",
       "      <td>-0.879292</td>\n",
       "      <td>apo25m.5226.150-08-RV.2M03252400+4614203</td>\n",
       "    </tr>\n",
       "    <tr>\n",
       "      <th>3</th>\n",
       "      <td>0.803973</td>\n",
       "      <td>-0.874997</td>\n",
       "      <td>apo25m.5226.150-08-RV.2M03252400+4614203</td>\n",
       "    </tr>\n",
       "    <tr>\n",
       "      <th>4</th>\n",
       "      <td>0.696552</td>\n",
       "      <td>-0.767571</td>\n",
       "      <td>apo25m.5226.150-08-RV.2M03252400+4614203</td>\n",
       "    </tr>\n",
       "    <tr>\n",
       "      <th>...</th>\n",
       "      <td>...</td>\n",
       "      <td>...</td>\n",
       "      <td>...</td>\n",
       "    </tr>\n",
       "    <tr>\n",
       "      <th>4181</th>\n",
       "      <td>-0.626040</td>\n",
       "      <td>0.556755</td>\n",
       "      <td>apo25m.5226.150-08-RV.2M03415658+4626067</td>\n",
       "    </tr>\n",
       "    <tr>\n",
       "      <th>4182</th>\n",
       "      <td>-0.699089</td>\n",
       "      <td>0.629802</td>\n",
       "      <td>apo25m.5226.150-08-RV.2M03415658+4626067</td>\n",
       "    </tr>\n",
       "    <tr>\n",
       "      <th>4183</th>\n",
       "      <td>-0.707683</td>\n",
       "      <td>0.638395</td>\n",
       "      <td>apo25m.5226.150-08-RV.2M03415658+4626067</td>\n",
       "    </tr>\n",
       "    <tr>\n",
       "      <th>4184</th>\n",
       "      <td>-0.823701</td>\n",
       "      <td>0.754413</td>\n",
       "      <td>apo25m.5226.150-08-RV.2M03415658+4626067</td>\n",
       "    </tr>\n",
       "    <tr>\n",
       "      <th>4185</th>\n",
       "      <td>-0.948310</td>\n",
       "      <td>0.879027</td>\n",
       "      <td>apo25m.5226.150-08-RV.2M03415658+4626067</td>\n",
       "    </tr>\n",
       "  </tbody>\n",
       "</table>\n",
       "<p>4186 rows × 3 columns</p>\n",
       "</div>"
      ],
      "text/plain": [
       "      principal component 1  principal component 2  \\\n",
       "0                  0.928584              -0.999609   \n",
       "1                  0.816866              -0.887886   \n",
       "2                  0.808272              -0.879292   \n",
       "3                  0.803973              -0.874997   \n",
       "4                  0.696552              -0.767571   \n",
       "...                     ...                    ...   \n",
       "4181              -0.626040               0.556755   \n",
       "4182              -0.699089               0.629802   \n",
       "4183              -0.707683               0.638395   \n",
       "4184              -0.823701               0.754413   \n",
       "4185              -0.948310               0.879027   \n",
       "\n",
       "                                     Target ID  \n",
       "0     apo25m.5226.150-08-RV.2M03252400+4614203  \n",
       "1     apo25m.5226.150-08-RV.2M03252400+4614203  \n",
       "2     apo25m.5226.150-08-RV.2M03252400+4614203  \n",
       "3     apo25m.5226.150-08-RV.2M03252400+4614203  \n",
       "4     apo25m.5226.150-08-RV.2M03252400+4614203  \n",
       "...                                        ...  \n",
       "4181  apo25m.5226.150-08-RV.2M03415658+4626067  \n",
       "4182  apo25m.5226.150-08-RV.2M03415658+4626067  \n",
       "4183  apo25m.5226.150-08-RV.2M03415658+4626067  \n",
       "4184  apo25m.5226.150-08-RV.2M03415658+4626067  \n",
       "4185  apo25m.5226.150-08-RV.2M03415658+4626067  \n",
       "\n",
       "[4186 rows x 3 columns]"
      ]
     },
     "execution_count": 37,
     "metadata": {},
     "output_type": "execute_result"
    }
   ],
   "source": [
    "finalDf"
   ]
  },
  {
   "cell_type": "code",
   "execution_count": null,
   "metadata": {},
   "outputs": [],
   "source": []
  }
 ],
 "metadata": {
  "kernelspec": {
   "display_name": "Python 3",
   "language": "python",
   "name": "python3"
  },
  "language_info": {
   "codemirror_mode": {
    "name": "ipython",
    "version": 3
   },
   "file_extension": ".py",
   "mimetype": "text/x-python",
   "name": "python",
   "nbconvert_exporter": "python",
   "pygments_lexer": "ipython3",
   "version": "3.8.5"
  }
 },
 "nbformat": 4,
 "nbformat_minor": 4
}
