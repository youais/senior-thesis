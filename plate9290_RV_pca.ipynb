{
 "cells": [
  {
   "cell_type": "code",
   "execution_count": 1,
   "metadata": {},
   "outputs": [],
   "source": [
    "import numpy as np\n",
    "import pandas as pd\n",
    "import matplotlib.pyplot as plt\n",
    "import plotly.express as px  # for data visualization\n",
    "import plotly.graph_objects as go # for data visualization\n",
    "from sklearn.preprocessing import StandardScaler\n",
    "from sklearn.decomposition import PCA\n",
    "from sklearn.mixture import GaussianMixture # for GMM clustering\n",
    "from sklearn import metrics # for calculating Silhouette score\n",
    "from collections import Counter\n",
    "from scipy.stats import norm"
   ]
  },
  {
   "cell_type": "code",
   "execution_count": 123,
   "metadata": {},
   "outputs": [],
   "source": [
    "# Read in CSV file\n",
    "\n",
    "df = pd.read_csv('plate9290_RVs.csv').drop(['Unnamed: 0', 'Plate ID'], axis=1)"
   ]
  },
  {
   "cell_type": "code",
   "execution_count": 124,
   "metadata": {},
   "outputs": [],
   "source": [
    "# Read in CSV file\n",
    "\n",
    "mp_df = pd.read_csv('multiplate_RVs.csv').drop(['Unnamed: 0', 'Plate ID'], axis=1)"
   ]
  },
  {
   "cell_type": "code",
   "execution_count": 125,
   "metadata": {
    "scrolled": true
   },
   "outputs": [],
   "source": [
    "df = df.sort_values(['Target ID'], ascending=True)"
   ]
  },
  {
   "cell_type": "code",
   "execution_count": 126,
   "metadata": {},
   "outputs": [
    {
     "data": {
      "text/html": [
       "<div>\n",
       "<style scoped>\n",
       "    .dataframe tbody tr th:only-of-type {\n",
       "        vertical-align: middle;\n",
       "    }\n",
       "\n",
       "    .dataframe tbody tr th {\n",
       "        vertical-align: top;\n",
       "    }\n",
       "\n",
       "    .dataframe thead th {\n",
       "        text-align: right;\n",
       "    }\n",
       "</style>\n",
       "<table border=\"1\" class=\"dataframe\">\n",
       "  <thead>\n",
       "    <tr style=\"text-align: right;\">\n",
       "      <th></th>\n",
       "      <th>Target ID</th>\n",
       "      <th>MJD</th>\n",
       "      <th>OBSVHELIO (km/s)</th>\n",
       "      <th>OBSVREL Error (km/s)</th>\n",
       "    </tr>\n",
       "  </thead>\n",
       "  <tbody>\n",
       "    <tr>\n",
       "      <th>0</th>\n",
       "      <td>apo25m.5226.150-08-RV.2M03252400+4614203</td>\n",
       "      <td>57706</td>\n",
       "      <td>-86.565704</td>\n",
       "      <td>0.010245</td>\n",
       "    </tr>\n",
       "    <tr>\n",
       "      <th>1</th>\n",
       "      <td>apo25m.5226.150-08-RV.2M03252400+4614203</td>\n",
       "      <td>57732</td>\n",
       "      <td>-86.383430</td>\n",
       "      <td>0.008206</td>\n",
       "    </tr>\n",
       "    <tr>\n",
       "      <th>2</th>\n",
       "      <td>apo25m.5226.150-08-RV.2M03252400+4614203</td>\n",
       "      <td>57734</td>\n",
       "      <td>-86.386870</td>\n",
       "      <td>0.009015</td>\n",
       "    </tr>\n",
       "    <tr>\n",
       "      <th>3</th>\n",
       "      <td>apo25m.5226.150-08-RV.2M03252400+4614203</td>\n",
       "      <td>57735</td>\n",
       "      <td>-86.532840</td>\n",
       "      <td>0.010742</td>\n",
       "    </tr>\n",
       "    <tr>\n",
       "      <th>4</th>\n",
       "      <td>apo25m.5226.150-08-RV.2M03252400+4614203</td>\n",
       "      <td>57760</td>\n",
       "      <td>-86.366640</td>\n",
       "      <td>0.012035</td>\n",
       "    </tr>\n",
       "    <tr>\n",
       "      <th>...</th>\n",
       "      <td>...</td>\n",
       "      <td>...</td>\n",
       "      <td>...</td>\n",
       "      <td>...</td>\n",
       "    </tr>\n",
       "    <tr>\n",
       "      <th>10664</th>\n",
       "      <td>apo25m.5118.URMINOR.2M15260674+6734563</td>\n",
       "      <td>57879</td>\n",
       "      <td>0.493465</td>\n",
       "      <td>0.061337</td>\n",
       "    </tr>\n",
       "    <tr>\n",
       "      <th>10665</th>\n",
       "      <td>apo25m.5118.URMINOR.2M15260674+6734563</td>\n",
       "      <td>57886</td>\n",
       "      <td>0.285309</td>\n",
       "      <td>0.083303</td>\n",
       "    </tr>\n",
       "    <tr>\n",
       "      <th>10666</th>\n",
       "      <td>apo25m.5118.URMINOR.2M15260674+6734563</td>\n",
       "      <td>57887</td>\n",
       "      <td>0.420483</td>\n",
       "      <td>0.067660</td>\n",
       "    </tr>\n",
       "    <tr>\n",
       "      <th>10667</th>\n",
       "      <td>apo25m.5118.URMINOR.2M15260674+6734563</td>\n",
       "      <td>57916</td>\n",
       "      <td>0.399855</td>\n",
       "      <td>0.066620</td>\n",
       "    </tr>\n",
       "    <tr>\n",
       "      <th>10668</th>\n",
       "      <td>apo25m.5118.URMINOR.2M15260674+6734563</td>\n",
       "      <td>58293</td>\n",
       "      <td>0.804984</td>\n",
       "      <td>0.066469</td>\n",
       "    </tr>\n",
       "  </tbody>\n",
       "</table>\n",
       "<p>10669 rows × 4 columns</p>\n",
       "</div>"
      ],
      "text/plain": [
       "                                      Target ID    MJD  OBSVHELIO (km/s)  \\\n",
       "0      apo25m.5226.150-08-RV.2M03252400+4614203  57706        -86.565704   \n",
       "1      apo25m.5226.150-08-RV.2M03252400+4614203  57732        -86.383430   \n",
       "2      apo25m.5226.150-08-RV.2M03252400+4614203  57734        -86.386870   \n",
       "3      apo25m.5226.150-08-RV.2M03252400+4614203  57735        -86.532840   \n",
       "4      apo25m.5226.150-08-RV.2M03252400+4614203  57760        -86.366640   \n",
       "...                                         ...    ...               ...   \n",
       "10664    apo25m.5118.URMINOR.2M15260674+6734563  57879          0.493465   \n",
       "10665    apo25m.5118.URMINOR.2M15260674+6734563  57886          0.285309   \n",
       "10666    apo25m.5118.URMINOR.2M15260674+6734563  57887          0.420483   \n",
       "10667    apo25m.5118.URMINOR.2M15260674+6734563  57916          0.399855   \n",
       "10668    apo25m.5118.URMINOR.2M15260674+6734563  58293          0.804984   \n",
       "\n",
       "       OBSVREL Error (km/s)  \n",
       "0                  0.010245  \n",
       "1                  0.008206  \n",
       "2                  0.009015  \n",
       "3                  0.010742  \n",
       "4                  0.012035  \n",
       "...                     ...  \n",
       "10664              0.061337  \n",
       "10665              0.083303  \n",
       "10666              0.067660  \n",
       "10667              0.066620  \n",
       "10668              0.066469  \n",
       "\n",
       "[10669 rows x 4 columns]"
      ]
     },
     "execution_count": 126,
     "metadata": {},
     "output_type": "execute_result"
    }
   ],
   "source": [
    "mp_df"
   ]
  },
  {
   "cell_type": "markdown",
   "metadata": {},
   "source": [
    "## Step 1\n",
    "- Calculate ΔRV_j = RV_j - < RV >\n",
    "- Plot ΔRV vs MJD, try to locate pattern\n",
    "\n",
    "#### Notes\n",
    "- j denotes epoch (MJD?)\n",
    "- 'epoch', an arbitrarily fixed date relative to which stellar/planetary measurements are expressed\n",
    "\n",
    "#### Questions\n",
    "- Does it matter that uncertainty is for OBSVREL not OBSVHELIO? --> no"
   ]
  },
  {
   "cell_type": "code",
   "execution_count": 127,
   "metadata": {},
   "outputs": [],
   "source": [
    "# Identify list of unique targets\n",
    "\n",
    "unique_targets = Counter(mp_df['Target ID'])\n",
    "unique_targets_list = unique_targets.keys()"
   ]
  },
  {
   "cell_type": "code",
   "execution_count": 128,
   "metadata": {},
   "outputs": [],
   "source": [
    "# unique_targets"
   ]
  },
  {
   "cell_type": "code",
   "execution_count": 129,
   "metadata": {
    "scrolled": true
   },
   "outputs": [
    {
     "data": {
      "text/plain": [
       "793"
      ]
     },
     "execution_count": 129,
     "metadata": {},
     "output_type": "execute_result"
    }
   ],
   "source": [
    "len(unique_targets)"
   ]
  },
  {
   "cell_type": "code",
   "execution_count": 130,
   "metadata": {},
   "outputs": [],
   "source": [
    "# Create list of RV_j values\n",
    "\n",
    "RV_j = list(mp_df['OBSVHELIO (km/s)'])"
   ]
  },
  {
   "cell_type": "code",
   "execution_count": 133,
   "metadata": {},
   "outputs": [],
   "source": [
    "# Calculate <RV>, i.e. weighted RV_j values\n",
    "\n",
    "weightedRVs = []\n",
    "\n",
    "for target in unique_targets_list:\n",
    "    target_df = mp_df[mp_df['Target ID'] == target]\n",
    "    targetRV_j = list(target_df['OBSVHELIO (km/s)'])\n",
    "    sigma = list(target_df['OBSVREL Error (km/s)'])\n",
    "    weight = [1 / (sigma[s]**2) for s in range(len(sigma))]\n",
    "    weightedavg = sum([targetRV_j[i] * weight[i] for i in range(len(targetRV_j))]) / sum(weight)\n",
    "    for j in range(len(targetRV_j)):\n",
    "        weightedRVs.append(weightedavg)"
   ]
  },
  {
   "cell_type": "code",
   "execution_count": 10,
   "metadata": {},
   "outputs": [],
   "source": [
    "# Check list of <RV> values\n",
    "\n",
    "# weightedRVs"
   ]
  },
  {
   "cell_type": "code",
   "execution_count": 134,
   "metadata": {},
   "outputs": [],
   "source": [
    "# Append <RV> values to dataframe\n",
    "\n",
    "mp_df['<RV>'] = weightedRVs\n",
    "# df['<RV>'] = [abs(rv) for rv in weightedRVs] # Don't want the abs value!"
   ]
  },
  {
   "cell_type": "code",
   "execution_count": 135,
   "metadata": {
    "scrolled": true
   },
   "outputs": [
    {
     "data": {
      "text/html": [
       "<div>\n",
       "<style scoped>\n",
       "    .dataframe tbody tr th:only-of-type {\n",
       "        vertical-align: middle;\n",
       "    }\n",
       "\n",
       "    .dataframe tbody tr th {\n",
       "        vertical-align: top;\n",
       "    }\n",
       "\n",
       "    .dataframe thead th {\n",
       "        text-align: right;\n",
       "    }\n",
       "</style>\n",
       "<table border=\"1\" class=\"dataframe\">\n",
       "  <thead>\n",
       "    <tr style=\"text-align: right;\">\n",
       "      <th></th>\n",
       "      <th>Target ID</th>\n",
       "      <th>MJD</th>\n",
       "      <th>OBSVHELIO (km/s)</th>\n",
       "      <th>OBSVREL Error (km/s)</th>\n",
       "      <th>&lt;RV&gt;</th>\n",
       "    </tr>\n",
       "  </thead>\n",
       "  <tbody>\n",
       "    <tr>\n",
       "      <th>0</th>\n",
       "      <td>apo25m.5226.150-08-RV.2M03252400+4614203</td>\n",
       "      <td>57706</td>\n",
       "      <td>-86.565704</td>\n",
       "      <td>0.010245</td>\n",
       "      <td>-86.476541</td>\n",
       "    </tr>\n",
       "    <tr>\n",
       "      <th>1</th>\n",
       "      <td>apo25m.5226.150-08-RV.2M03252400+4614203</td>\n",
       "      <td>57732</td>\n",
       "      <td>-86.383430</td>\n",
       "      <td>0.008206</td>\n",
       "      <td>-86.476541</td>\n",
       "    </tr>\n",
       "    <tr>\n",
       "      <th>2</th>\n",
       "      <td>apo25m.5226.150-08-RV.2M03252400+4614203</td>\n",
       "      <td>57734</td>\n",
       "      <td>-86.386870</td>\n",
       "      <td>0.009015</td>\n",
       "      <td>-86.476541</td>\n",
       "    </tr>\n",
       "    <tr>\n",
       "      <th>3</th>\n",
       "      <td>apo25m.5226.150-08-RV.2M03252400+4614203</td>\n",
       "      <td>57735</td>\n",
       "      <td>-86.532840</td>\n",
       "      <td>0.010742</td>\n",
       "      <td>-86.476541</td>\n",
       "    </tr>\n",
       "    <tr>\n",
       "      <th>4</th>\n",
       "      <td>apo25m.5226.150-08-RV.2M03252400+4614203</td>\n",
       "      <td>57760</td>\n",
       "      <td>-86.366640</td>\n",
       "      <td>0.012035</td>\n",
       "      <td>-86.476541</td>\n",
       "    </tr>\n",
       "    <tr>\n",
       "      <th>...</th>\n",
       "      <td>...</td>\n",
       "      <td>...</td>\n",
       "      <td>...</td>\n",
       "      <td>...</td>\n",
       "      <td>...</td>\n",
       "    </tr>\n",
       "    <tr>\n",
       "      <th>10664</th>\n",
       "      <td>apo25m.5118.URMINOR.2M15260674+6734563</td>\n",
       "      <td>57879</td>\n",
       "      <td>0.493465</td>\n",
       "      <td>0.061337</td>\n",
       "      <td>0.435488</td>\n",
       "    </tr>\n",
       "    <tr>\n",
       "      <th>10665</th>\n",
       "      <td>apo25m.5118.URMINOR.2M15260674+6734563</td>\n",
       "      <td>57886</td>\n",
       "      <td>0.285309</td>\n",
       "      <td>0.083303</td>\n",
       "      <td>0.435488</td>\n",
       "    </tr>\n",
       "    <tr>\n",
       "      <th>10666</th>\n",
       "      <td>apo25m.5118.URMINOR.2M15260674+6734563</td>\n",
       "      <td>57887</td>\n",
       "      <td>0.420483</td>\n",
       "      <td>0.067660</td>\n",
       "      <td>0.435488</td>\n",
       "    </tr>\n",
       "    <tr>\n",
       "      <th>10667</th>\n",
       "      <td>apo25m.5118.URMINOR.2M15260674+6734563</td>\n",
       "      <td>57916</td>\n",
       "      <td>0.399855</td>\n",
       "      <td>0.066620</td>\n",
       "      <td>0.435488</td>\n",
       "    </tr>\n",
       "    <tr>\n",
       "      <th>10668</th>\n",
       "      <td>apo25m.5118.URMINOR.2M15260674+6734563</td>\n",
       "      <td>58293</td>\n",
       "      <td>0.804984</td>\n",
       "      <td>0.066469</td>\n",
       "      <td>0.435488</td>\n",
       "    </tr>\n",
       "  </tbody>\n",
       "</table>\n",
       "<p>10669 rows × 5 columns</p>\n",
       "</div>"
      ],
      "text/plain": [
       "                                      Target ID    MJD  OBSVHELIO (km/s)  \\\n",
       "0      apo25m.5226.150-08-RV.2M03252400+4614203  57706        -86.565704   \n",
       "1      apo25m.5226.150-08-RV.2M03252400+4614203  57732        -86.383430   \n",
       "2      apo25m.5226.150-08-RV.2M03252400+4614203  57734        -86.386870   \n",
       "3      apo25m.5226.150-08-RV.2M03252400+4614203  57735        -86.532840   \n",
       "4      apo25m.5226.150-08-RV.2M03252400+4614203  57760        -86.366640   \n",
       "...                                         ...    ...               ...   \n",
       "10664    apo25m.5118.URMINOR.2M15260674+6734563  57879          0.493465   \n",
       "10665    apo25m.5118.URMINOR.2M15260674+6734563  57886          0.285309   \n",
       "10666    apo25m.5118.URMINOR.2M15260674+6734563  57887          0.420483   \n",
       "10667    apo25m.5118.URMINOR.2M15260674+6734563  57916          0.399855   \n",
       "10668    apo25m.5118.URMINOR.2M15260674+6734563  58293          0.804984   \n",
       "\n",
       "       OBSVREL Error (km/s)       <RV>  \n",
       "0                  0.010245 -86.476541  \n",
       "1                  0.008206 -86.476541  \n",
       "2                  0.009015 -86.476541  \n",
       "3                  0.010742 -86.476541  \n",
       "4                  0.012035 -86.476541  \n",
       "...                     ...        ...  \n",
       "10664              0.061337   0.435488  \n",
       "10665              0.083303   0.435488  \n",
       "10666              0.067660   0.435488  \n",
       "10667              0.066620   0.435488  \n",
       "10668              0.066469   0.435488  \n",
       "\n",
       "[10669 rows x 5 columns]"
      ]
     },
     "execution_count": 135,
     "metadata": {},
     "output_type": "execute_result"
    }
   ],
   "source": [
    "mp_df"
   ]
  },
  {
   "cell_type": "code",
   "execution_count": 136,
   "metadata": {},
   "outputs": [],
   "source": [
    "# Calculate ΔRV_j = RV_j - < RV >\n",
    "\n",
    "deltaRV_j = [RV_j[i] - weightedRVs[i] for i in range(len(RV_j))]"
   ]
  },
  {
   "cell_type": "code",
   "execution_count": 137,
   "metadata": {},
   "outputs": [],
   "source": [
    "# Append ΔRV_j values to dataframe as ΔRV\n",
    "\n",
    "mp_df['ΔRV'] = deltaRV_j"
   ]
  },
  {
   "cell_type": "code",
   "execution_count": 138,
   "metadata": {
    "scrolled": true
   },
   "outputs": [
    {
     "data": {
      "text/html": [
       "<div>\n",
       "<style scoped>\n",
       "    .dataframe tbody tr th:only-of-type {\n",
       "        vertical-align: middle;\n",
       "    }\n",
       "\n",
       "    .dataframe tbody tr th {\n",
       "        vertical-align: top;\n",
       "    }\n",
       "\n",
       "    .dataframe thead th {\n",
       "        text-align: right;\n",
       "    }\n",
       "</style>\n",
       "<table border=\"1\" class=\"dataframe\">\n",
       "  <thead>\n",
       "    <tr style=\"text-align: right;\">\n",
       "      <th></th>\n",
       "      <th>Target ID</th>\n",
       "      <th>MJD</th>\n",
       "      <th>OBSVHELIO (km/s)</th>\n",
       "      <th>OBSVREL Error (km/s)</th>\n",
       "      <th>&lt;RV&gt;</th>\n",
       "      <th>ΔRV</th>\n",
       "    </tr>\n",
       "  </thead>\n",
       "  <tbody>\n",
       "    <tr>\n",
       "      <th>8910</th>\n",
       "      <td>apo25m.5118.URMINOR.2M15093625+6704196</td>\n",
       "      <td>57826</td>\n",
       "      <td>792.21655</td>\n",
       "      <td>0.404612</td>\n",
       "      <td>-156.561306</td>\n",
       "      <td>948.777856</td>\n",
       "    </tr>\n",
       "    <tr>\n",
       "      <th>8417</th>\n",
       "      <td>apo25m.5118.URMINOR.2M15063871+6658396</td>\n",
       "      <td>57861</td>\n",
       "      <td>733.46014</td>\n",
       "      <td>0.253042</td>\n",
       "      <td>-154.120771</td>\n",
       "      <td>887.580911</td>\n",
       "    </tr>\n",
       "    <tr>\n",
       "      <th>9369</th>\n",
       "      <td>apo25m.5118.URMINOR.2M15115384+6649520</td>\n",
       "      <td>57056</td>\n",
       "      <td>800.25195</td>\n",
       "      <td>0.222765</td>\n",
       "      <td>-85.127828</td>\n",
       "      <td>885.379778</td>\n",
       "    </tr>\n",
       "    <tr>\n",
       "      <th>9374</th>\n",
       "      <td>apo25m.5118.URMINOR.2M15115384+6649520</td>\n",
       "      <td>57916</td>\n",
       "      <td>759.57400</td>\n",
       "      <td>0.607863</td>\n",
       "      <td>-85.127828</td>\n",
       "      <td>844.701828</td>\n",
       "    </tr>\n",
       "    <tr>\n",
       "      <th>8412</th>\n",
       "      <td>apo25m.5118.URMINOR.2M15063871+6658396</td>\n",
       "      <td>57056</td>\n",
       "      <td>672.35693</td>\n",
       "      <td>0.426444</td>\n",
       "      <td>-154.120771</td>\n",
       "      <td>826.477701</td>\n",
       "    </tr>\n",
       "    <tr>\n",
       "      <th>...</th>\n",
       "      <td>...</td>\n",
       "      <td>...</td>\n",
       "      <td>...</td>\n",
       "      <td>...</td>\n",
       "      <td>...</td>\n",
       "      <td>...</td>\n",
       "    </tr>\n",
       "    <tr>\n",
       "      <th>9027</th>\n",
       "      <td>apo25m.5118.URMINOR.2M15101168+6708289</td>\n",
       "      <td>57092</td>\n",
       "      <td>-336.02725</td>\n",
       "      <td>0.407346</td>\n",
       "      <td>405.331797</td>\n",
       "      <td>-741.359047</td>\n",
       "    </tr>\n",
       "    <tr>\n",
       "      <th>8656</th>\n",
       "      <td>apo25m.5118.URMINOR.2M15081544+6711515</td>\n",
       "      <td>57856</td>\n",
       "      <td>-1205.61650</td>\n",
       "      <td>0.498352</td>\n",
       "      <td>-394.484207</td>\n",
       "      <td>-811.132293</td>\n",
       "    </tr>\n",
       "    <tr>\n",
       "      <th>9020</th>\n",
       "      <td>apo25m.5118.URMINOR.2M15101013+6710376</td>\n",
       "      <td>57092</td>\n",
       "      <td>-1196.64180</td>\n",
       "      <td>0.631840</td>\n",
       "      <td>-350.575209</td>\n",
       "      <td>-846.066591</td>\n",
       "    </tr>\n",
       "    <tr>\n",
       "      <th>9044</th>\n",
       "      <td>apo25m.5118.URMINOR.2M15101942+6705324</td>\n",
       "      <td>57886</td>\n",
       "      <td>-896.48460</td>\n",
       "      <td>0.396056</td>\n",
       "      <td>-32.051848</td>\n",
       "      <td>-864.432752</td>\n",
       "    </tr>\n",
       "    <tr>\n",
       "      <th>8659</th>\n",
       "      <td>apo25m.5118.URMINOR.2M15081544+6711515</td>\n",
       "      <td>57886</td>\n",
       "      <td>-1294.70750</td>\n",
       "      <td>0.653873</td>\n",
       "      <td>-394.484207</td>\n",
       "      <td>-900.223293</td>\n",
       "    </tr>\n",
       "  </tbody>\n",
       "</table>\n",
       "<p>10669 rows × 6 columns</p>\n",
       "</div>"
      ],
      "text/plain": [
       "                                   Target ID    MJD  OBSVHELIO (km/s)  \\\n",
       "8910  apo25m.5118.URMINOR.2M15093625+6704196  57826         792.21655   \n",
       "8417  apo25m.5118.URMINOR.2M15063871+6658396  57861         733.46014   \n",
       "9369  apo25m.5118.URMINOR.2M15115384+6649520  57056         800.25195   \n",
       "9374  apo25m.5118.URMINOR.2M15115384+6649520  57916         759.57400   \n",
       "8412  apo25m.5118.URMINOR.2M15063871+6658396  57056         672.35693   \n",
       "...                                      ...    ...               ...   \n",
       "9027  apo25m.5118.URMINOR.2M15101168+6708289  57092        -336.02725   \n",
       "8656  apo25m.5118.URMINOR.2M15081544+6711515  57856       -1205.61650   \n",
       "9020  apo25m.5118.URMINOR.2M15101013+6710376  57092       -1196.64180   \n",
       "9044  apo25m.5118.URMINOR.2M15101942+6705324  57886        -896.48460   \n",
       "8659  apo25m.5118.URMINOR.2M15081544+6711515  57886       -1294.70750   \n",
       "\n",
       "      OBSVREL Error (km/s)        <RV>         ΔRV  \n",
       "8910              0.404612 -156.561306  948.777856  \n",
       "8417              0.253042 -154.120771  887.580911  \n",
       "9369              0.222765  -85.127828  885.379778  \n",
       "9374              0.607863  -85.127828  844.701828  \n",
       "8412              0.426444 -154.120771  826.477701  \n",
       "...                    ...         ...         ...  \n",
       "9027              0.407346  405.331797 -741.359047  \n",
       "8656              0.498352 -394.484207 -811.132293  \n",
       "9020              0.631840 -350.575209 -846.066591  \n",
       "9044              0.396056  -32.051848 -864.432752  \n",
       "8659              0.653873 -394.484207 -900.223293  \n",
       "\n",
       "[10669 rows x 6 columns]"
      ]
     },
     "execution_count": 138,
     "metadata": {},
     "output_type": "execute_result"
    }
   ],
   "source": [
    "# Check updated dataframe\n",
    "\n",
    "mp_df.sort_values('ΔRV', ascending=False)"
   ]
  },
  {
   "cell_type": "code",
   "execution_count": 140,
   "metadata": {},
   "outputs": [
    {
     "data": {
      "text/plain": [
       "Text(0, 0.5, 'ΔRV [km/s]')"
      ]
     },
     "execution_count": 140,
     "metadata": {},
     "output_type": "execute_result"
    },
    {
     "data": {
      "image/png": "[encoded data removed]",
      "text/plain": [
       "<Figure size 1440x1080 with 1 Axes>"
      ]
     },
     "metadata": {
      "needs_background": "light"
     },
     "output_type": "display_data"
    }
   ],
   "source": [
    "# Plot ΔRV versus epoch\n",
    "\n",
    "x = mp_df['MJD']\n",
    "y = mp_df['ΔRV']\n",
    "yerr = mp_df['OBSVREL Error (km/s)']\n",
    "plt.figure(figsize=(20, 15))\n",
    "plt.errorbar(x, y, yerr, fmt='.', capsize=3, color='black', ecolor='r')\n",
    "plt.title('ΔRV vs epoch for Plates 8907, 8112, 9290')\n",
    "plt.xlabel('MJD')\n",
    "plt.ylabel('ΔRV [km/s]')"
   ]
  },
  {
   "cell_type": "markdown",
   "metadata": {},
   "source": [
    "## Step 2\n",
    "- Condense all ΔRVs into a single point per MJD\n",
    "\n",
    "### Step 2.5\n",
    "- Calculate statistical/standard error: sigma_< RV > = sqrt(1/sum(weight))\n",
    "- Plot statistical error bars"
   ]
  },
  {
   "cell_type": "code",
   "execution_count": 141,
   "metadata": {},
   "outputs": [],
   "source": [
    "# Identify list of unique MJDs\n",
    "\n",
    "unique_mjd = Counter(mp_df['MJD'])\n",
    "unique_mjd_list = unique_mjd.keys()"
   ]
  },
  {
   "cell_type": "code",
   "execution_count": 142,
   "metadata": {},
   "outputs": [
    {
     "data": {
      "text/plain": [
       "dict_keys([57706, 57732, 57734, 57735, 57760, 57788, 57789, 58006, 58032, 58054, 58063, 58068, 58085, 58087, 58114, 58143, 57434, 57439, 57440, 57463, 57678, 57819, 57822, 57823, 57055, 57056, 57064, 57092, 57826, 57856, 57861, 57879, 57886, 57887, 57916, 58293])"
      ]
     },
     "execution_count": 142,
     "metadata": {},
     "output_type": "execute_result"
    }
   ],
   "source": [
    "unique_mjd_list"
   ]
  },
  {
   "cell_type": "code",
   "execution_count": 143,
   "metadata": {},
   "outputs": [],
   "source": [
    "# Obtain weighted average ΔRV for each MJD\n",
    "\n",
    "combined_weightedRVs = []\n",
    "combined_staterror = []\n",
    "\n",
    "for mjd in unique_mjd_list:\n",
    "    mjd_df = mp_df[mp_df['MJD'] == mjd]\n",
    "    mjd_RVs = list(mjd_df['ΔRV'])\n",
    "    mjd_sigma = list(mjd_df['OBSVREL Error (km/s)'])\n",
    "    weight = [1 / (mjd_sigma[s]**2) for s in range(len(mjd_sigma))]\n",
    "    sigmaRV = 1000*np.sqrt(1/sum(weight))\n",
    "    # print('Sum of ΔRV for MJD', mjd, ':', sum(mjd_RVs))\n",
    "    # print('Sum of weights:', sum(weight))\n",
    "    combined_weightedavg = 1000*sum([mjd_RVs[r] * weight[r] for r in range(len(mjd_RVs))]) / sum(weight) #[r] for r in range(len(mjd_sigma)))\n",
    "    # combined_weightedavg = sum([mjd_RVs[r] * mjd_sigma[r] for r in range(len(mjd_RVs))]) / sum(mjd_sigma) #[r] for r in range(len(mjd_sigma)))\n",
    "    combined_weightedRVs.append(combined_weightedavg)\n",
    "    combined_staterror.append(sigmaRV)"
   ]
  },
  {
   "cell_type": "code",
   "execution_count": 20,
   "metadata": {
    "scrolled": true
   },
   "outputs": [],
   "source": [
    "#combined_weightedRVs # Expect order of 1-10 m/s; actually ~10-100 m/s, why??"
   ]
  },
  {
   "cell_type": "code",
   "execution_count": 21,
   "metadata": {},
   "outputs": [],
   "source": [
    "#combined_staterror"
   ]
  },
  {
   "cell_type": "code",
   "execution_count": 144,
   "metadata": {},
   "outputs": [],
   "source": [
    "# Create dataframe for MJD and combined weighted ΔRV values\n",
    "\n",
    "weightedavg_data = [unique_mjd_list, combined_weightedRVs, combined_staterror]\n",
    "weightedavg_df = pd.DataFrame(weightedavg_data).transpose()\n",
    "weightedavg_df.columns = ['MJD', 'Combined ΔRV (m/s)', 'Combined σRV (m/s)']"
   ]
  },
  {
   "cell_type": "code",
   "execution_count": 23,
   "metadata": {},
   "outputs": [],
   "source": [
    "#weightedavg_df"
   ]
  },
  {
   "cell_type": "code",
   "execution_count": 24,
   "metadata": {},
   "outputs": [],
   "source": [
    "# Plot combined weighted ΔRV values vs MJD, with statistical error\n",
    "\n",
    "#weightedavg_df.plot(x='MJD', y='Combined ΔRV (m/s)', yerr='Combined σRV (m/s)', kind='scatter', s=1, figsize=(10,10)) # Statistical error very hard to see"
   ]
  },
  {
   "cell_type": "markdown",
   "metadata": {},
   "source": [
    "## Step 3\n",
    "- Fit line to free parameters (i.e. x & y values), check gradient for anything interesting?"
   ]
  },
  {
   "cell_type": "code",
   "execution_count": 145,
   "metadata": {},
   "outputs": [],
   "source": [
    "x = weightedavg_df['MJD']\n",
    "y = weightedavg_df['Combined ΔRV (m/s)']\n",
    "yerr = weightedavg_df['Combined σRV (m/s)']"
   ]
  },
  {
   "cell_type": "code",
   "execution_count": 146,
   "metadata": {},
   "outputs": [],
   "source": [
    "a, b = np.polyfit(x, y, 1)"
   ]
  },
  {
   "cell_type": "code",
   "execution_count": 147,
   "metadata": {},
   "outputs": [
    {
     "data": {
      "text/plain": [
       "Text(0, 0.5, 'summed + weighted ΔRV [km/s]')"
      ]
     },
     "execution_count": 147,
     "metadata": {},
     "output_type": "execute_result"
    },
    {
     "data": {
      "image/png": "[encoded data removed]",
      "text/plain": [
       "<Figure size 720x720 with 1 Axes>"
      ]
     },
     "metadata": {
      "needs_background": "light"
     },
     "output_type": "display_data"
    }
   ],
   "source": [
    "# Scatterplot of combined total ΔRVs per epoch for Plate 9290, with linear fit\n",
    "plt.figure(figsize=(10, 10))\n",
    "plt.errorbar(x, y, yerr, fmt='.', color='blue', ecolor='red', capsize=5)\n",
    "plt.plot(x, a*x+b, color='lightgreen')\n",
    "plt.title('Sum of all ΔRVs per epoch for Plate 9290')\n",
    "plt.xlabel('MJD')\n",
    "plt.ylabel('summed + weighted ΔRV [km/s]')"
   ]
  },
  {
   "cell_type": "code",
   "execution_count": 148,
   "metadata": {},
   "outputs": [
    {
     "name": "stdout",
     "output_type": "stream",
     "text": [
      "Gradient of slope: -0.5977973884983322 [m/MJD]\n"
     ]
    }
   ],
   "source": [
    "# Gradient - not sure how to interpret?\n",
    "\n",
    "print('Gradient of slope:', a, '[m/MJD]')"
   ]
  },
  {
   "cell_type": "markdown",
   "metadata": {},
   "source": [
    "## Step 4\n",
    "- Check distribution of ~200 data points used to create combined ΔRV\n",
    "    - Don't expect Gaussian, but should be relatively well-behaved (big tail suggests outlier that should be removed)\n",
    "- Check distribution of all ΔRV per MJD\n",
    "\n",
    "### Results\n",
    "- All subhistograms centred around 0 ΔRV\n",
    "- Some have certain big outliers\n",
    "- What is the cutoff?\n",
    "- Should I cut off overall, or for each subhistogram?"
   ]
  },
  {
   "cell_type": "code",
   "execution_count": 29,
   "metadata": {},
   "outputs": [],
   "source": [
    "# Counter(df_cutoff['ΔRV'])"
   ]
  },
  {
   "cell_type": "code",
   "execution_count": 30,
   "metadata": {},
   "outputs": [],
   "source": [
    "ΔRVdist = df['ΔRV']"
   ]
  },
  {
   "cell_type": "code",
   "execution_count": 31,
   "metadata": {},
   "outputs": [
    {
     "data": {
      "text/plain": [
       "(-10.0, 10.0)"
      ]
     },
     "execution_count": 31,
     "metadata": {},
     "output_type": "execute_result"
    },
    {
     "data": {
      "image/png": "[encoded data removed]",
      "text/plain": [
       "<Figure size 1440x720 with 1 Axes>"
      ]
     },
     "metadata": {
      "needs_background": "light"
     },
     "output_type": "display_data"
    }
   ],
   "source": [
    "plt.figure(figsize=(20, 10))\n",
    "ΔRVdist.plot.hist(grid=True, bins=2000, rwidth=1)\n",
    "plt.title('Distribution of ΔRVs on Plate 9290')\n",
    "plt.xlabel('ΔRV [km/s]')\n",
    "plt.xlim(-10, 10)"
   ]
  },
  {
   "cell_type": "code",
   "execution_count": 32,
   "metadata": {},
   "outputs": [
    {
     "ename": "NameError",
     "evalue": "name 'df_cutoff' is not defined",
     "output_type": "error",
     "traceback": [
      "\u001b[0;31m---------------------------------------------------------------------------\u001b[0m",
      "\u001b[0;31mNameError\u001b[0m                                 Traceback (most recent call last)",
      "\u001b[0;32m/var/folders/hh/025gcjhx0zx_78ws1t9nf3f80000gn/T/ipykernel_25851/2442211041.py\u001b[0m in \u001b[0;36m<module>\u001b[0;34m\u001b[0m\n\u001b[1;32m      1\u001b[0m \u001b[0mplt\u001b[0m\u001b[0;34m.\u001b[0m\u001b[0mfigure\u001b[0m\u001b[0;34m(\u001b[0m\u001b[0mfigsize\u001b[0m\u001b[0;34m=\u001b[0m\u001b[0;34m(\u001b[0m\u001b[0;36m20\u001b[0m\u001b[0;34m,\u001b[0m \u001b[0;36m10\u001b[0m\u001b[0;34m)\u001b[0m\u001b[0;34m)\u001b[0m\u001b[0;34m\u001b[0m\u001b[0;34m\u001b[0m\u001b[0m\n\u001b[0;32m----> 2\u001b[0;31m \u001b[0mdf_cutoff\u001b[0m\u001b[0;34m[\u001b[0m\u001b[0;34m'ΔRV'\u001b[0m\u001b[0;34m]\u001b[0m\u001b[0;34m.\u001b[0m\u001b[0mplot\u001b[0m\u001b[0;34m.\u001b[0m\u001b[0mhist\u001b[0m\u001b[0;34m(\u001b[0m\u001b[0mgrid\u001b[0m\u001b[0;34m=\u001b[0m\u001b[0;32mTrue\u001b[0m\u001b[0;34m,\u001b[0m \u001b[0mbins\u001b[0m\u001b[0;34m=\u001b[0m\u001b[0;36m2000\u001b[0m\u001b[0;34m,\u001b[0m \u001b[0mrwidth\u001b[0m\u001b[0;34m=\u001b[0m\u001b[0;36m1\u001b[0m\u001b[0;34m)\u001b[0m\u001b[0;34m\u001b[0m\u001b[0;34m\u001b[0m\u001b[0m\n\u001b[0m\u001b[1;32m      3\u001b[0m \u001b[0mplt\u001b[0m\u001b[0;34m.\u001b[0m\u001b[0mtitle\u001b[0m\u001b[0;34m(\u001b[0m\u001b[0;34m'Distribution of ΔRVs on Plate 9290'\u001b[0m\u001b[0;34m)\u001b[0m\u001b[0;34m\u001b[0m\u001b[0;34m\u001b[0m\u001b[0m\n\u001b[1;32m      4\u001b[0m \u001b[0mplt\u001b[0m\u001b[0;34m.\u001b[0m\u001b[0mxlabel\u001b[0m\u001b[0;34m(\u001b[0m\u001b[0;34m'ΔRV [km/s]'\u001b[0m\u001b[0;34m)\u001b[0m\u001b[0;34m\u001b[0m\u001b[0;34m\u001b[0m\u001b[0m\n\u001b[1;32m      5\u001b[0m \u001b[0mplt\u001b[0m\u001b[0;34m.\u001b[0m\u001b[0mxlim\u001b[0m\u001b[0;34m(\u001b[0m\u001b[0;34m-\u001b[0m\u001b[0;36m1\u001b[0m\u001b[0;34m,\u001b[0m \u001b[0;36m1\u001b[0m\u001b[0;34m)\u001b[0m\u001b[0;34m\u001b[0m\u001b[0;34m\u001b[0m\u001b[0m\n",
      "\u001b[0;31mNameError\u001b[0m: name 'df_cutoff' is not defined"
     ]
    },
    {
     "data": {
      "text/plain": [
       "<Figure size 1440x720 with 0 Axes>"
      ]
     },
     "metadata": {},
     "output_type": "display_data"
    }
   ],
   "source": [
    "plt.figure(figsize=(20, 10))\n",
    "df_cutoff['ΔRV'].plot.hist(grid=True, bins=2000, rwidth=1)\n",
    "plt.title('Distribution of ΔRVs on Plate 9290')\n",
    "plt.xlabel('ΔRV [km/s]')\n",
    "plt.xlim(-1, 1)"
   ]
  },
  {
   "cell_type": "markdown",
   "metadata": {},
   "source": [
    "### Distributions of ΔRV per MJD"
   ]
  },
  {
   "cell_type": "code",
   "execution_count": null,
   "metadata": {},
   "outputs": [],
   "source": [
    "ΔRV_57706 = df[df['MJD'] == 57706]['ΔRV']*1000"
   ]
  },
  {
   "cell_type": "code",
   "execution_count": null,
   "metadata": {},
   "outputs": [],
   "source": [
    "'''df_57706 = df[df['MJD'] == 57706]\n",
    "ΔRV_57706 = df[df['MJD'] == 57706]['ΔRV']*1000\n",
    "plt.figure(figsize=(20, 10))\n",
    "ΔRV_57706.plot.hist(grid=True, bins=500, rwidth=1)\n",
    "plt.title('Distribution of ΔRVs on Plate 9290, MJD 57706')\n",
    "plt.xlabel('ΔRV [m/s]')'''"
   ]
  },
  {
   "cell_type": "code",
   "execution_count": null,
   "metadata": {},
   "outputs": [],
   "source": [
    "'''df_57732 = df[df['MJD'] == 57732]\n",
    "plt.figure(figsize=(20, 10))\n",
    "df_57732['ΔRV'].plot.hist(grid=True, bins=500, rwidth=1)\n",
    "plt.title('Distribution of ΔRVs on Plate 9290, MJD 57732')\n",
    "plt.xlabel('ΔRV [km/s]')'''"
   ]
  },
  {
   "cell_type": "code",
   "execution_count": null,
   "metadata": {},
   "outputs": [],
   "source": [
    "'''df_57734 = df[df['MJD'] == 57734]\n",
    "plt.figure(figsize=(20, 10))\n",
    "df_57734['ΔRV'].plot.hist(grid=True, bins=500, rwidth=1)\n",
    "plt.title('Distribution of ΔRVs on Plate 9290, MJD 57734')\n",
    "plt.xlabel('ΔRV [km/s]')'''"
   ]
  },
  {
   "cell_type": "code",
   "execution_count": null,
   "metadata": {},
   "outputs": [],
   "source": [
    "'''df_57735 = df[df['MJD'] == 57735]\n",
    "plt.figure(figsize=(20, 10))\n",
    "df_57735['ΔRV'].plot.hist(grid=True, bins=500, rwidth=1)\n",
    "plt.title('Distribution of ΔRVs on Plate 9290, MJD 57735')\n",
    "plt.xlabel('ΔRV [km/s]')'''"
   ]
  },
  {
   "cell_type": "code",
   "execution_count": 33,
   "metadata": {},
   "outputs": [
    {
     "data": {
      "text/plain": [
       "\"df_57760 = df[df['MJD'] == 57760]\\nplt.figure(figsize=(20, 10))\\ndf_57760['ΔRV'].plot.hist(grid=True, bins=500, rwidth=1)\\nplt.title('Distribution of ΔRVs on Plate 9290, MJD 57760')\\nplt.xlabel('ΔRV [km/s]')\""
      ]
     },
     "execution_count": 33,
     "metadata": {},
     "output_type": "execute_result"
    }
   ],
   "source": [
    "'''df_57760 = df[df['MJD'] == 57760]\n",
    "plt.figure(figsize=(20, 10))\n",
    "df_57760['ΔRV'].plot.hist(grid=True, bins=500, rwidth=1)\n",
    "plt.title('Distribution of ΔRVs on Plate 9290, MJD 57760')\n",
    "plt.xlabel('ΔRV [km/s]')'''"
   ]
  },
  {
   "cell_type": "code",
   "execution_count": 34,
   "metadata": {},
   "outputs": [
    {
     "data": {
      "text/plain": [
       "\"df_57788 = df[df['MJD'] == 57788]\\nplt.figure(figsize=(20, 10))\\ndf_57788['ΔRV'].plot.hist(grid=True, bins=500, rwidth=1)\\nplt.title('Distribution of ΔRVs on Plate 9290, MJD 57788')\\nplt.xlabel('ΔRV [km/s]')\""
      ]
     },
     "execution_count": 34,
     "metadata": {},
     "output_type": "execute_result"
    }
   ],
   "source": [
    "'''df_57788 = df[df['MJD'] == 57788]\n",
    "plt.figure(figsize=(20, 10))\n",
    "df_57788['ΔRV'].plot.hist(grid=True, bins=500, rwidth=1)\n",
    "plt.title('Distribution of ΔRVs on Plate 9290, MJD 57788')\n",
    "plt.xlabel('ΔRV [km/s]')'''"
   ]
  },
  {
   "cell_type": "code",
   "execution_count": 35,
   "metadata": {},
   "outputs": [
    {
     "data": {
      "text/plain": [
       "\"df_57789 = df[df['MJD'] == 57789]\\nplt.figure(figsize=(20, 10))\\ndf_57789['ΔRV'].plot.hist(grid=True, bins=500, rwidth=1)\\nplt.title('Distribution of ΔRVs on Plate 9290, MJD 57789')\\nplt.xlabel('ΔRV [km/s]')\""
      ]
     },
     "execution_count": 35,
     "metadata": {},
     "output_type": "execute_result"
    }
   ],
   "source": [
    "'''df_57789 = df[df['MJD'] == 57789]\n",
    "plt.figure(figsize=(20, 10))\n",
    "df_57789['ΔRV'].plot.hist(grid=True, bins=500, rwidth=1)\n",
    "plt.title('Distribution of ΔRVs on Plate 9290, MJD 57789')\n",
    "plt.xlabel('ΔRV [km/s]')'''"
   ]
  },
  {
   "cell_type": "code",
   "execution_count": 36,
   "metadata": {},
   "outputs": [
    {
     "data": {
      "text/plain": [
       "\"df_58006 = df[df['MJD'] == 58006]\\nplt.figure(figsize=(20, 10))\\ndf_58006['ΔRV'].plot.hist(grid=True, bins=500, rwidth=1)\\nplt.title('Distribution of ΔRVs on Plate 9290, MJD 58006')\\nplt.xlabel('ΔRV [km/s]')\""
      ]
     },
     "execution_count": 36,
     "metadata": {},
     "output_type": "execute_result"
    }
   ],
   "source": [
    "'''df_58006 = df[df['MJD'] == 58006]\n",
    "plt.figure(figsize=(20, 10))\n",
    "df_58006['ΔRV'].plot.hist(grid=True, bins=500, rwidth=1)\n",
    "plt.title('Distribution of ΔRVs on Plate 9290, MJD 58006')\n",
    "plt.xlabel('ΔRV [km/s]')'''"
   ]
  },
  {
   "cell_type": "code",
   "execution_count": 37,
   "metadata": {},
   "outputs": [
    {
     "data": {
      "text/plain": [
       "\"df_58032 = df[df['MJD'] == 58032]\\nplt.figure(figsize=(20, 10))\\ndf_58032['ΔRV'].plot.hist(grid=True, bins=500, rwidth=1)\\nplt.title('Distribution of ΔRVs on Plate 9290, MJD 58032')\\nplt.xlabel('ΔRV [km/s]')\""
      ]
     },
     "execution_count": 37,
     "metadata": {},
     "output_type": "execute_result"
    }
   ],
   "source": [
    "'''df_58032 = df[df['MJD'] == 58032]\n",
    "plt.figure(figsize=(20, 10))\n",
    "df_58032['ΔRV'].plot.hist(grid=True, bins=500, rwidth=1)\n",
    "plt.title('Distribution of ΔRVs on Plate 9290, MJD 58032')\n",
    "plt.xlabel('ΔRV [km/s]')'''"
   ]
  },
  {
   "cell_type": "code",
   "execution_count": 38,
   "metadata": {},
   "outputs": [
    {
     "data": {
      "text/plain": [
       "\"df_58054 = df[df['MJD'] == 58054]\\nplt.figure(figsize=(20, 10))\\ndf_58054['ΔRV'].plot.hist(grid=True, bins=500, rwidth=1)\\nplt.title('Distribution of ΔRVs on Plate 9290, MJD 58054')\\nplt.xlabel('ΔRV [km/s]')\""
      ]
     },
     "execution_count": 38,
     "metadata": {},
     "output_type": "execute_result"
    }
   ],
   "source": [
    "'''df_58054 = df[df['MJD'] == 58054]\n",
    "plt.figure(figsize=(20, 10))\n",
    "df_58054['ΔRV'].plot.hist(grid=True, bins=500, rwidth=1)\n",
    "plt.title('Distribution of ΔRVs on Plate 9290, MJD 58054')\n",
    "plt.xlabel('ΔRV [km/s]')'''"
   ]
  },
  {
   "cell_type": "code",
   "execution_count": 39,
   "metadata": {},
   "outputs": [
    {
     "data": {
      "text/plain": [
       "\"df_58063 = df[df['MJD'] == 58063]\\nplt.figure(figsize=(20, 10))\\ndf_58063['ΔRV'].plot.hist(grid=True, bins=500, rwidth=1)\\nplt.title('Distribution of ΔRVs on Plate 9290, MJD 58063')\\nplt.xlabel('ΔRV [km/s]')\""
      ]
     },
     "execution_count": 39,
     "metadata": {},
     "output_type": "execute_result"
    }
   ],
   "source": [
    "'''df_58063 = df[df['MJD'] == 58063]\n",
    "plt.figure(figsize=(20, 10))\n",
    "df_58063['ΔRV'].plot.hist(grid=True, bins=500, rwidth=1)\n",
    "plt.title('Distribution of ΔRVs on Plate 9290, MJD 58063')\n",
    "plt.xlabel('ΔRV [km/s]')'''"
   ]
  },
  {
   "cell_type": "code",
   "execution_count": 40,
   "metadata": {},
   "outputs": [
    {
     "data": {
      "text/plain": [
       "\"df_58068 = df[df['MJD'] == 58068]\\nplt.figure(figsize=(20, 10))\\ndf_58068['ΔRV'].plot.hist(grid=True, bins=500, rwidth=1)\\nplt.title('Distribution of ΔRVs on Plate 9290, MJD 58068')\\nplt.xlabel('ΔRV [km/s]')\""
      ]
     },
     "execution_count": 40,
     "metadata": {},
     "output_type": "execute_result"
    }
   ],
   "source": [
    "'''df_58068 = df[df['MJD'] == 58068]\n",
    "plt.figure(figsize=(20, 10))\n",
    "df_58068['ΔRV'].plot.hist(grid=True, bins=500, rwidth=1)\n",
    "plt.title('Distribution of ΔRVs on Plate 9290, MJD 58068')\n",
    "plt.xlabel('ΔRV [km/s]')'''"
   ]
  },
  {
   "cell_type": "code",
   "execution_count": 41,
   "metadata": {},
   "outputs": [
    {
     "data": {
      "text/plain": [
       "\"df_58085 = df[df['MJD'] == 58085]\\nplt.figure(figsize=(20, 10))\\ndf_58085['ΔRV'].plot.hist(grid=True, bins=500, rwidth=1)\\nplt.title('Distribution of ΔRVs on Plate 9290, MJD 58085')\\nplt.xlabel('ΔRV [km/s]')\""
      ]
     },
     "execution_count": 41,
     "metadata": {},
     "output_type": "execute_result"
    }
   ],
   "source": [
    "'''df_58085 = df[df['MJD'] == 58085]\n",
    "plt.figure(figsize=(20, 10))\n",
    "df_58085['ΔRV'].plot.hist(grid=True, bins=500, rwidth=1)\n",
    "plt.title('Distribution of ΔRVs on Plate 9290, MJD 58085')\n",
    "plt.xlabel('ΔRV [km/s]')'''"
   ]
  },
  {
   "cell_type": "code",
   "execution_count": 42,
   "metadata": {},
   "outputs": [
    {
     "data": {
      "text/plain": [
       "\"df_58087 = df[df['MJD'] == 58087]\\nplt.figure(figsize=(20, 10))\\ndf_58087['ΔRV'].plot.hist(grid=True, bins=500, rwidth=1)\\nplt.title('Distribution of ΔRVs on Plate 9290, MJD 58087')\\nplt.xlabel('ΔRV [km/s]')\""
      ]
     },
     "execution_count": 42,
     "metadata": {},
     "output_type": "execute_result"
    }
   ],
   "source": [
    "'''df_58087 = df[df['MJD'] == 58087]\n",
    "plt.figure(figsize=(20, 10))\n",
    "df_58087['ΔRV'].plot.hist(grid=True, bins=500, rwidth=1)\n",
    "plt.title('Distribution of ΔRVs on Plate 9290, MJD 58087')\n",
    "plt.xlabel('ΔRV [km/s]')'''"
   ]
  },
  {
   "cell_type": "code",
   "execution_count": 43,
   "metadata": {},
   "outputs": [
    {
     "data": {
      "text/plain": [
       "\"df_58114 = df[df['MJD'] == 58114]\\nplt.figure(figsize=(20, 10))\\ndf_58114['ΔRV'].plot.hist(grid=True, bins=500, rwidth=1)\\nplt.title('Distribution of ΔRVs on Plate 9290, MJD 58114')\\nplt.xlabel('ΔRV [km/s]')\""
      ]
     },
     "execution_count": 43,
     "metadata": {},
     "output_type": "execute_result"
    }
   ],
   "source": [
    "'''df_58114 = df[df['MJD'] == 58114]\n",
    "plt.figure(figsize=(20, 10))\n",
    "df_58114['ΔRV'].plot.hist(grid=True, bins=500, rwidth=1)\n",
    "plt.title('Distribution of ΔRVs on Plate 9290, MJD 58114')\n",
    "plt.xlabel('ΔRV [km/s]')'''"
   ]
  },
  {
   "cell_type": "code",
   "execution_count": 44,
   "metadata": {},
   "outputs": [
    {
     "data": {
      "text/plain": [
       "\"df_58143 = df[df['MJD'] == 58143]\\nplt.figure(figsize=(20, 10))\\ndf_58143['ΔRV'].plot.hist(grid=True, bins=500, rwidth=1)\\nplt.title('Distribution of ΔRVs on Plate 9290, MJD 58143')\\nplt.xlabel('ΔRV [km/s]')\""
      ]
     },
     "execution_count": 44,
     "metadata": {},
     "output_type": "execute_result"
    }
   ],
   "source": [
    "'''df_58143 = df[df['MJD'] == 58143]\n",
    "plt.figure(figsize=(20, 10))\n",
    "df_58143['ΔRV'].plot.hist(grid=True, bins=500, rwidth=1)\n",
    "plt.title('Distribution of ΔRVs on Plate 9290, MJD 58143')\n",
    "plt.xlabel('ΔRV [km/s]')'''"
   ]
  },
  {
   "cell_type": "markdown",
   "metadata": {},
   "source": [
    "Gaussian Mixture Model"
   ]
  },
  {
   "cell_type": "code",
   "execution_count": 45,
   "metadata": {
    "scrolled": true
   },
   "outputs": [],
   "source": [
    "# Data X is a 2-D array? "
   ]
  },
  {
   "cell_type": "code",
   "execution_count": 149,
   "metadata": {},
   "outputs": [
    {
     "name": "stderr",
     "output_type": "stream",
     "text": [
      "/var/folders/hh/025gcjhx0zx_78ws1t9nf3f80000gn/T/ipykernel_25851/3167383925.py:20: UserWarning: color is redundantly defined by the 'color' keyword argument and the fmt string \"bo-\" (-> color='b'). The keyword argument will take precedence.\n",
      "  plt.plot(K, S, 'bo-', color='black')\n"
     ]
    },
    {
     "data": {
      "image/png": "[encoded data removed]",
      "text/plain": [
       "<Figure size 4800x2400 with 1 Axes>"
      ]
     },
     "metadata": {
      "needs_background": "light"
     },
     "output_type": "display_data"
    }
   ],
   "source": [
    "# Create empty list\n",
    "S=[]\n",
    "\n",
    "# Range of clusters to try (2 to 10)\n",
    "K=range(2,11)\n",
    "\n",
    "# Select data for clustering model\n",
    "X = mp_df[['OBSVREL Error (km/s)', 'ΔRV']]\n",
    "\n",
    "for k in K:\n",
    "    # Set the model and its parameters\n",
    "    model = GaussianMixture(n_components=k, n_init=20, init_params='kmeans')\n",
    "    # Fit the model \n",
    "    labels = model.fit_predict(X)\n",
    "    # Calculate Silhoutte Score and append to a list\n",
    "    S.append(metrics.silhouette_score(X, labels, metric='euclidean'))\n",
    "\n",
    "# Plot the resulting Silhouette scores on a graph\n",
    "plt.figure(figsize=(16,8), dpi=300)\n",
    "plt.plot(K, S, 'bo-', color='black')\n",
    "plt.xlabel('k')\n",
    "plt.ylabel('Silhouette Score')\n",
    "plt.title('Identify the number of clusters using Silhouette Score')\n",
    "plt.show()"
   ]
  },
  {
   "cell_type": "code",
   "execution_count": 150,
   "metadata": {},
   "outputs": [
    {
     "name": "stdout",
     "output_type": "stream",
     "text": [
      "*************** 2 Cluster Model ***************\n",
      "Weights:  [0.61916013 0.38083987]\n",
      "Means:  [[ 0.01823213 -0.00630366]\n",
      " [ 0.70409687  2.27195728]]\n",
      "Covariances:  [[[ 2.66038600e-04 -2.53405844e-06]\n",
      "  [-2.53405844e-06  3.37688023e-02]]\n",
      "\n",
      " [[ 1.84306285e+00 -1.89400745e+00]\n",
      "  [-1.89400745e+00  8.85568547e+03]]]\n",
      "Precisions:  [[[3.75885573e+03 2.82069822e-01]\n",
      "  [2.82069822e-01 2.96131531e+01]]\n",
      "\n",
      " [[5.42694371e-01 1.16068619e-04]\n",
      "  [1.16068619e-04 1.12946631e-04]]]\n",
      "Converged:  True\n",
      " No. of Iterations:  42\n",
      "Lower Bound:  -1.7408610174440444\n"
     ]
    }
   ],
   "source": [
    "# Select data for clustering model\n",
    "X = mp_df[['OBSVREL Error (km/s)', 'ΔRV']]\n",
    "\n",
    "# Set the model and its parameters - 2 clusters\n",
    "model = GaussianMixture(n_components=2, # this is the number of clusters\n",
    "                         covariance_type='full', # {‘full’, ‘tied’, ‘diag’, ‘spherical’}, default=’full’\n",
    "                         max_iter=1000, # the number of EM iterations to perform. default=100\n",
    "                         n_init=10, # the number of initializations to perform. default = 1\n",
    "                         init_params='random', # the method used to initialize the weights, the means and the precisions. {'random' or default='k-means'}\n",
    "                         verbose=0, # default 0, {0,1,2}\n",
    "                         random_state=1 # for reproducibility\n",
    "                        )\n",
    "\n",
    "# Fit the model and predict labels\n",
    "clust2 = model.fit(X)\n",
    "labels2 = model.predict(X)\n",
    "\n",
    "# Generate 10,000 new samples based on the model\n",
    "smpl=model.sample(n_samples=10000)\n",
    "\n",
    "# Model summary\n",
    "print('*************** 2 Cluster Model ***************')\n",
    "print('Weights: ', clust2.weights_)\n",
    "print('Means: ', clust2.means_)\n",
    "print('Covariances: ', clust2.covariances_)\n",
    "print('Precisions: ', clust2.precisions_)\n",
    "#print('Precisions Cholesky: ', clust2.precisions_cholesky_)\n",
    "print('Converged: ', clust2.converged_)\n",
    "print(' No. of Iterations: ', clust2.n_iter_)\n",
    "print('Lower Bound: ', clust2.lower_bound_)"
   ]
  },
  {
   "cell_type": "code",
   "execution_count": 151,
   "metadata": {},
   "outputs": [],
   "source": [
    "# Attach cluster labels to the main dataframe\n",
    "mp_df['Cluster']=labels2"
   ]
  },
  {
   "cell_type": "code",
   "execution_count": 152,
   "metadata": {},
   "outputs": [
    {
     "data": {
      "text/html": [
       "<div>\n",
       "<style scoped>\n",
       "    .dataframe tbody tr th:only-of-type {\n",
       "        vertical-align: middle;\n",
       "    }\n",
       "\n",
       "    .dataframe tbody tr th {\n",
       "        vertical-align: top;\n",
       "    }\n",
       "\n",
       "    .dataframe thead th {\n",
       "        text-align: right;\n",
       "    }\n",
       "</style>\n",
       "<table border=\"1\" class=\"dataframe\">\n",
       "  <thead>\n",
       "    <tr style=\"text-align: right;\">\n",
       "      <th></th>\n",
       "      <th>Target ID</th>\n",
       "      <th>MJD</th>\n",
       "      <th>OBSVHELIO (km/s)</th>\n",
       "      <th>OBSVREL Error (km/s)</th>\n",
       "      <th>&lt;RV&gt;</th>\n",
       "      <th>ΔRV</th>\n",
       "      <th>Cluster</th>\n",
       "    </tr>\n",
       "  </thead>\n",
       "  <tbody>\n",
       "    <tr>\n",
       "      <th>0</th>\n",
       "      <td>apo25m.5226.150-08-RV.2M03252400+4614203</td>\n",
       "      <td>57706</td>\n",
       "      <td>-86.565704</td>\n",
       "      <td>0.010245</td>\n",
       "      <td>-86.476541</td>\n",
       "      <td>-0.089163</td>\n",
       "      <td>0</td>\n",
       "    </tr>\n",
       "    <tr>\n",
       "      <th>1</th>\n",
       "      <td>apo25m.5226.150-08-RV.2M03252400+4614203</td>\n",
       "      <td>57732</td>\n",
       "      <td>-86.383430</td>\n",
       "      <td>0.008206</td>\n",
       "      <td>-86.476541</td>\n",
       "      <td>0.093111</td>\n",
       "      <td>0</td>\n",
       "    </tr>\n",
       "    <tr>\n",
       "      <th>2</th>\n",
       "      <td>apo25m.5226.150-08-RV.2M03252400+4614203</td>\n",
       "      <td>57734</td>\n",
       "      <td>-86.386870</td>\n",
       "      <td>0.009015</td>\n",
       "      <td>-86.476541</td>\n",
       "      <td>0.089671</td>\n",
       "      <td>0</td>\n",
       "    </tr>\n",
       "    <tr>\n",
       "      <th>3</th>\n",
       "      <td>apo25m.5226.150-08-RV.2M03252400+4614203</td>\n",
       "      <td>57735</td>\n",
       "      <td>-86.532840</td>\n",
       "      <td>0.010742</td>\n",
       "      <td>-86.476541</td>\n",
       "      <td>-0.056299</td>\n",
       "      <td>0</td>\n",
       "    </tr>\n",
       "    <tr>\n",
       "      <th>4</th>\n",
       "      <td>apo25m.5226.150-08-RV.2M03252400+4614203</td>\n",
       "      <td>57760</td>\n",
       "      <td>-86.366640</td>\n",
       "      <td>0.012035</td>\n",
       "      <td>-86.476541</td>\n",
       "      <td>0.109901</td>\n",
       "      <td>0</td>\n",
       "    </tr>\n",
       "    <tr>\n",
       "      <th>...</th>\n",
       "      <td>...</td>\n",
       "      <td>...</td>\n",
       "      <td>...</td>\n",
       "      <td>...</td>\n",
       "      <td>...</td>\n",
       "      <td>...</td>\n",
       "      <td>...</td>\n",
       "    </tr>\n",
       "    <tr>\n",
       "      <th>10664</th>\n",
       "      <td>apo25m.5118.URMINOR.2M15260674+6734563</td>\n",
       "      <td>57879</td>\n",
       "      <td>0.493465</td>\n",
       "      <td>0.061337</td>\n",
       "      <td>0.435488</td>\n",
       "      <td>0.057977</td>\n",
       "      <td>0</td>\n",
       "    </tr>\n",
       "    <tr>\n",
       "      <th>10665</th>\n",
       "      <td>apo25m.5118.URMINOR.2M15260674+6734563</td>\n",
       "      <td>57886</td>\n",
       "      <td>0.285309</td>\n",
       "      <td>0.083303</td>\n",
       "      <td>0.435488</td>\n",
       "      <td>-0.150180</td>\n",
       "      <td>0</td>\n",
       "    </tr>\n",
       "    <tr>\n",
       "      <th>10666</th>\n",
       "      <td>apo25m.5118.URMINOR.2M15260674+6734563</td>\n",
       "      <td>57887</td>\n",
       "      <td>0.420483</td>\n",
       "      <td>0.067660</td>\n",
       "      <td>0.435488</td>\n",
       "      <td>-0.015006</td>\n",
       "      <td>0</td>\n",
       "    </tr>\n",
       "    <tr>\n",
       "      <th>10667</th>\n",
       "      <td>apo25m.5118.URMINOR.2M15260674+6734563</td>\n",
       "      <td>57916</td>\n",
       "      <td>0.399855</td>\n",
       "      <td>0.066620</td>\n",
       "      <td>0.435488</td>\n",
       "      <td>-0.035634</td>\n",
       "      <td>0</td>\n",
       "    </tr>\n",
       "    <tr>\n",
       "      <th>10668</th>\n",
       "      <td>apo25m.5118.URMINOR.2M15260674+6734563</td>\n",
       "      <td>58293</td>\n",
       "      <td>0.804984</td>\n",
       "      <td>0.066469</td>\n",
       "      <td>0.435488</td>\n",
       "      <td>0.369496</td>\n",
       "      <td>0</td>\n",
       "    </tr>\n",
       "  </tbody>\n",
       "</table>\n",
       "<p>10669 rows × 7 columns</p>\n",
       "</div>"
      ],
      "text/plain": [
       "                                      Target ID    MJD  OBSVHELIO (km/s)  \\\n",
       "0      apo25m.5226.150-08-RV.2M03252400+4614203  57706        -86.565704   \n",
       "1      apo25m.5226.150-08-RV.2M03252400+4614203  57732        -86.383430   \n",
       "2      apo25m.5226.150-08-RV.2M03252400+4614203  57734        -86.386870   \n",
       "3      apo25m.5226.150-08-RV.2M03252400+4614203  57735        -86.532840   \n",
       "4      apo25m.5226.150-08-RV.2M03252400+4614203  57760        -86.366640   \n",
       "...                                         ...    ...               ...   \n",
       "10664    apo25m.5118.URMINOR.2M15260674+6734563  57879          0.493465   \n",
       "10665    apo25m.5118.URMINOR.2M15260674+6734563  57886          0.285309   \n",
       "10666    apo25m.5118.URMINOR.2M15260674+6734563  57887          0.420483   \n",
       "10667    apo25m.5118.URMINOR.2M15260674+6734563  57916          0.399855   \n",
       "10668    apo25m.5118.URMINOR.2M15260674+6734563  58293          0.804984   \n",
       "\n",
       "       OBSVREL Error (km/s)       <RV>       ΔRV  Cluster  \n",
       "0                  0.010245 -86.476541 -0.089163        0  \n",
       "1                  0.008206 -86.476541  0.093111        0  \n",
       "2                  0.009015 -86.476541  0.089671        0  \n",
       "3                  0.010742 -86.476541 -0.056299        0  \n",
       "4                  0.012035 -86.476541  0.109901        0  \n",
       "...                     ...        ...       ...      ...  \n",
       "10664              0.061337   0.435488  0.057977        0  \n",
       "10665              0.083303   0.435488 -0.150180        0  \n",
       "10666              0.067660   0.435488 -0.015006        0  \n",
       "10667              0.066620   0.435488 -0.035634        0  \n",
       "10668              0.066469   0.435488  0.369496        0  \n",
       "\n",
       "[10669 rows x 7 columns]"
      ]
     },
     "execution_count": 152,
     "metadata": {},
     "output_type": "execute_result"
    }
   ],
   "source": [
    "mp_df"
   ]
  },
  {
   "cell_type": "code",
   "execution_count": 153,
   "metadata": {},
   "outputs": [
    {
     "data": {
      "text/plain": [
       "<AxesSubplot:xlabel='Cluster', ylabel='ΔRV'>"
      ]
     },
     "execution_count": 153,
     "metadata": {},
     "output_type": "execute_result"
    },
    {
     "data": {
      "image/png": "[encoded data removed]",
      "text/plain": [
       "<Figure size 432x288 with 1 Axes>"
      ]
     },
     "metadata": {
      "needs_background": "light"
     },
     "output_type": "display_data"
    }
   ],
   "source": [
    "mp_df.plot(x='Cluster', y='ΔRV', kind='scatter')"
   ]
  },
  {
   "cell_type": "code",
   "execution_count": 154,
   "metadata": {},
   "outputs": [
    {
     "data": {
      "text/plain": [
       "<AxesSubplot:xlabel='MJD', ylabel='Cluster'>"
      ]
     },
     "execution_count": 154,
     "metadata": {},
     "output_type": "execute_result"
    },
    {
     "data": {
      "image/png": "[encoded data removed]",
      "text/plain": [
       "<Figure size 432x288 with 1 Axes>"
      ]
     },
     "metadata": {
      "needs_background": "light"
     },
     "output_type": "display_data"
    }
   ],
   "source": [
    "mp_df.plot(x='MJD', y='Cluster', kind='scatter')"
   ]
  },
  {
   "cell_type": "code",
   "execution_count": 155,
   "metadata": {},
   "outputs": [],
   "source": [
    "df0 = mp_df[mp_df['Cluster'] == 0]\n",
    "df1 = mp_df[mp_df['Cluster'] == 1]"
   ]
  },
  {
   "cell_type": "code",
   "execution_count": 156,
   "metadata": {
    "scrolled": true
   },
   "outputs": [
    {
     "data": {
      "text/plain": [
       "count    6604.000000\n",
       "mean       -0.005951\n",
       "std         0.183792\n",
       "min        -0.867057\n",
       "25%        -0.096697\n",
       "50%        -0.008965\n",
       "75%         0.084810\n",
       "max         0.857364\n",
       "Name: ΔRV, dtype: float64"
      ]
     },
     "execution_count": 156,
     "metadata": {},
     "output_type": "execute_result"
    }
   ],
   "source": [
    "df0['ΔRV'].describe()"
   ]
  },
  {
   "cell_type": "code",
   "execution_count": 157,
   "metadata": {},
   "outputs": [
    {
     "data": {
      "text/plain": [
       "count    4065.000000\n",
       "mean        2.270364\n",
       "std        94.095190\n",
       "min      -900.223293\n",
       "25%        -2.383085\n",
       "50%         0.003261\n",
       "75%         2.310525\n",
       "max       948.777856\n",
       "Name: ΔRV, dtype: float64"
      ]
     },
     "execution_count": 157,
     "metadata": {},
     "output_type": "execute_result"
    }
   ],
   "source": [
    "df1['ΔRV'].describe()"
   ]
  },
  {
   "cell_type": "code",
   "execution_count": 158,
   "metadata": {},
   "outputs": [
    {
     "data": {
      "text/plain": [
       "count    6604.000000\n",
       "mean        0.018160\n",
       "std         0.016089\n",
       "min         0.000637\n",
       "25%         0.008067\n",
       "50%         0.012554\n",
       "75%         0.021946\n",
       "max         0.095137\n",
       "Name: OBSVREL Error (km/s), dtype: float64"
      ]
     },
     "execution_count": 158,
     "metadata": {},
     "output_type": "execute_result"
    }
   ],
   "source": [
    "df0['OBSVREL Error (km/s)'].describe()"
   ]
  },
  {
   "cell_type": "code",
   "execution_count": 159,
   "metadata": {},
   "outputs": [
    {
     "data": {
      "text/plain": [
       "count    4065.000000\n",
       "mean        0.703907\n",
       "std         1.357479\n",
       "min         0.000470\n",
       "25%         0.151363\n",
       "50%         0.296589\n",
       "75%         0.763401\n",
       "max        42.168373\n",
       "Name: OBSVREL Error (km/s), dtype: float64"
      ]
     },
     "execution_count": 159,
     "metadata": {},
     "output_type": "execute_result"
    }
   ],
   "source": [
    "df1['OBSVREL Error (km/s)'].describe()"
   ]
  },
  {
   "cell_type": "code",
   "execution_count": 160,
   "metadata": {},
   "outputs": [],
   "source": [
    "y0 = df0['ΔRV']\n",
    "y1 = df1['ΔRV']\n",
    "x0 = df0['MJD']\n",
    "x1 = df1['MJD']"
   ]
  },
  {
   "cell_type": "code",
   "execution_count": 161,
   "metadata": {},
   "outputs": [
    {
     "data": {
      "text/plain": [
       "[<matplotlib.lines.Line2D at 0x7fe443b78e50>]"
      ]
     },
     "execution_count": 161,
     "metadata": {},
     "output_type": "execute_result"
    },
    {
     "data": {
      "image/png": "[encoded data removed]",
      "text/plain": [
       "<Figure size 432x288 with 1 Axes>"
      ]
     },
     "metadata": {
      "needs_background": "light"
     },
     "output_type": "display_data"
    }
   ],
   "source": [
    "plt.plot(x1, y1, '.', color='g')\n",
    "plt.plot(x0, y0, '.', color='r')"
   ]
  },
  {
   "cell_type": "code",
   "execution_count": 59,
   "metadata": {},
   "outputs": [
    {
     "data": {
      "text/plain": [
       "(-0.68658, 0.637125)"
      ]
     },
     "execution_count": 59,
     "metadata": {},
     "output_type": "execute_result"
    },
    {
     "data": {
      "image/png": "[encoded data removed]",
      "text/plain": [
       "<Figure size 1440x720 with 1 Axes>"
      ]
     },
     "metadata": {
      "needs_background": "light"
     },
     "output_type": "display_data"
    }
   ],
   "source": [
    "plt.figure(figsize=(20,10))\n",
    "plt.hist(x=df1['ΔRV'], bins=1000, alpha=0.5, color='g', label='Cluster 1', density=True)\n",
    "plt.hist(x=df0['ΔRV'], bins=1000, alpha=0.5, color='r', label='Cluster 2', density=True)\n",
    "#df1['ΔRV'].plot.hist(grid=True, bins=1000, rwidth=1, color='g', alpha=0.5, label='Cluster 1')\n",
    "#df0['ΔRV'].plot.hist(grid=True, bins=1000, rwidth=1, color='r', alpha=0.5, label='Cluster 0')\n",
    "plt.title('Normalised Distribution of ΔRVs for GMM Clusters 0 & 1')\n",
    "plt.legend()\n",
    "plt.xlabel('ΔRV [km/s]')\n",
    "plt.grid()\n",
    "plt.xlim(-0.686580, 0.637125)"
   ]
  },
  {
   "cell_type": "code",
   "execution_count": 163,
   "metadata": {},
   "outputs": [
    {
     "name": "stdout",
     "output_type": "stream",
     "text": [
      "mu: -0.005950644235066459 std: 0.18377772565871067\n"
     ]
    },
    {
     "data": {
      "image/png": "[encoded data removed]",
      "text/plain": [
       "<Figure size 1440x720 with 1 Axes>"
      ]
     },
     "metadata": {
      "needs_background": "light"
     },
     "output_type": "display_data"
    }
   ],
   "source": [
    "mu0, std0 = norm.fit(df0['ΔRV'])\n",
    "\n",
    "plt.figure(figsize=(20,10))\n",
    "plt.hist(x=df0['ΔRV'], bins=1000, alpha=0.5, color='r', label='Cluster 2', density=True)\n",
    "xmin0, xmax0 = plt.xlim()\n",
    "x0 = np.linspace(xmin0, xmax0, 100)\n",
    "p0 = norm.pdf(x0, mu0, std0)  \n",
    "plt.plot(x0, p0, 'k', linewidth=1)\n",
    "plt.grid()\n",
    "plt.title('Normalised distribution of Cluster 0 ΔRVs for Plate 9290')\n",
    "plt.xlabel('ΔRV [km/s]')\n",
    "plt.ylabel('frequency')\n",
    "print('mu:', mu0, 'std:', std0)"
   ]
  },
  {
   "cell_type": "code",
   "execution_count": 61,
   "metadata": {},
   "outputs": [
    {
     "data": {
      "text/plain": [
       "0.007055359016120949"
      ]
     },
     "execution_count": 61,
     "metadata": {},
     "output_type": "execute_result"
    }
   ],
   "source": [
    "(df0['ΔRV'][0] - mu0)**2"
   ]
  },
  {
   "cell_type": "code",
   "execution_count": 62,
   "metadata": {},
   "outputs": [
    {
     "data": {
      "text/plain": [
       "range(0, 2651)"
      ]
     },
     "execution_count": 62,
     "metadata": {},
     "output_type": "execute_result"
    }
   ],
   "source": [
    "range(len(df0['ΔRV']))"
   ]
  },
  {
   "cell_type": "code",
   "execution_count": 63,
   "metadata": {},
   "outputs": [],
   "source": [
    "pdf = []\n",
    "\n",
    "for drv0 in df0['ΔRV']:\n",
    "    gx0 = (1/(std0 * np.sqrt(2*np.pi))) * np.exp(-0.5 * (((drv0-mu0)/std0))**2)\n",
    "    pdf.append(gx0)"
   ]
  },
  {
   "cell_type": "code",
   "execution_count": 64,
   "metadata": {},
   "outputs": [
    {
     "data": {
      "text/plain": [
       "4916.486292037104"
      ]
     },
     "execution_count": 64,
     "metadata": {},
     "output_type": "execute_result"
    }
   ],
   "source": [
    "sum(pdf)"
   ]
  },
  {
   "cell_type": "code",
   "execution_count": 164,
   "metadata": {},
   "outputs": [
    {
     "data": {
      "text/plain": [
       "-0.30155426259301604"
      ]
     },
     "execution_count": 164,
     "metadata": {},
     "output_type": "execute_result"
    }
   ],
   "source": [
    "np.sort(list(np.random.normal(0, std0, 1000000)))[50000]"
   ]
  },
  {
   "cell_type": "code",
   "execution_count": 66,
   "metadata": {},
   "outputs": [],
   "source": [
    "sig0 = sum((list(df0['ΔRV'])[dr] - mu0)**2 for dr in range(len(df0['ΔRV']))) / len(df0['ΔRV'])\n",
    "\n",
    "pdf0 = []\n",
    "#cluster0_recalc = []\n",
    "\n",
    "for drv0 in df0['ΔRV']:\n",
    "    gx0 = (1/(sig0 * np.sqrt(2*np.pi))) * np.exp(-0.5 * ((drv0-mu0)**2)/(sig0**2))\n",
    "    pdf0.append(gx0)\n",
    "    #if gx0 > 0.95:\n",
    "    #    cluster0_recalc.append(0)\n",
    "    #else:\n",
    "    #    cluster0_recalc.append(1)"
   ]
  },
  {
   "cell_type": "code",
   "execution_count": 67,
   "metadata": {},
   "outputs": [
    {
     "data": {
      "text/plain": [
       "[0.09680107548583022,\n",
       " 9.078912061135412e-46,\n",
       " 2.684063522871219,\n",
       " 2.392349603972126,\n",
       " 0.0602070290024875,\n",
       " 5.319752217886645,\n",
       " 0.11758950507758147,\n",
       " 0.008623770929653636,\n",
       " 4.143028550719827,\n",
       " 9.898868822283843,\n",
       " 0.13228458249553232,\n",
       " 0.0011572343872429348,\n",
       " 2.3235943138587634,\n",
       " 0.024168971908850263,\n",
       " 0.015023774418428679,\n",
       " 0.053225901021947214,\n",
       " 11.294208085502778,\n",
       " 0.5412348997940434,\n",
       " 5.517851029782267e-05,\n",
       " 1.6758451666536705e-12,\n",
       " 12.081828294962476,\n",
       " 0.0033733446593001595,\n",
       " 0.0035601475400379567,\n",
       " 8.665697168956845,\n",
       " 0.01177228178846418,\n",
       " 8.26006537598546,\n",
       " 14.326800566959106,\n",
       " 1.0226289116062797,\n",
       " 0.025016639545450636,\n",
       " 4.034486153841246e-06,\n",
       " 14.601178157449343,\n",
       " 8.248914809690291,\n",
       " 14.515872180849804,\n",
       " 1.0419811093307807,\n",
       " 4.631450216553965,\n",
       " 7.193469407945997,\n",
       " 1.6400837478626502,\n",
       " 1.9863234287824243e-07,\n",
       " 0.0005763504544672565,\n",
       " 14.895310064558222,\n",
       " 8.40696604557223,\n",
       " 1.9998788681164277e-08,\n",
       " 14.797444929980225,\n",
       " 7.148809850845065e-37,\n",
       " 7.872312868288956e-19,\n",
       " 2.374127881551385e-09,\n",
       " 1.4355534121240231e-08,\n",
       " 0.0004953673260616886,\n",
       " 13.316446543765348,\n",
       " 6.528252519230065,\n",
       " 2.234175847498294,\n",
       " 2.765657752471184,\n",
       " 15.081706227389995,\n",
       " 0.00749306069020161,\n",
       " 2.5799634769943514,\n",
       " 3.7952883116498417,\n",
       " 13.729647150086745,\n",
       " 1.7592421931361324e-27,\n",
       " 3.878507959422894e-40,\n",
       " 1.3540344806106667e-40,\n",
       " 3.365663438010751e-30,\n",
       " 1.215112964482028e-22,\n",
       " 0.044296201897353435,\n",
       " 4.19932967127267e-10,\n",
       " 0.8098022902336848,\n",
       " 1.2439209806223447e-06,\n",
       " 2.948890136442244e-06,\n",
       " 0.346079184080013,\n",
       " 1.4895780238175195e-05,\n",
       " 2.4290492455686195e-10,\n",
       " 4.328006794807336e-49,\n",
       " 1.106775119405937e-05,\n",
       " 15.054860747237738,\n",
       " 0.025436092825632476,\n",
       " 0.049971575517723424,\n",
       " 3.9272437015999797e-07,\n",
       " 5.113209662056082e-17,\n",
       " 0.3737998521235349,\n",
       " 9.505368599323855e-06,\n",
       " 14.526851637074289,\n",
       " 0.0028931644139231533,\n",
       " 5.842915280253899,\n",
       " 11.077474919040911,\n",
       " 0.02840685989319151,\n",
       " 0.10544271422698684,\n",
       " 0.006432017452834222,\n",
       " 7.654806661259281,\n",
       " 0.04585848834968194,\n",
       " 0.16080313666107976,\n",
       " 9.959191917708732e-21,\n",
       " 1.017545210000154e-11,\n",
       " 0.10764818753435486,\n",
       " 3.344240135611717,\n",
       " 0.6293672603343404,\n",
       " 0.07477231059250826,\n",
       " 8.465794969366943,\n",
       " 2.6313505409125237e-05,\n",
       " 9.845333156235769e-32,\n",
       " 0.0006587078679681847,\n",
       " 0.19714156417624173,\n",
       " 0.9647363294608714,\n",
       " 15.077862448301659,\n",
       " 0.03453200685812245,\n",
       " 3.258430761800834e-05,\n",
       " 2.2393387344092113e-13,\n",
       " 1.6303372859472667e-56,\n",
       " 0.3924761072539708,\n",
       " 1.6734784730175095e-20,\n",
       " 2.8057277445695968e-12,\n",
       " 0.5588740489446454,\n",
       " 0.010444435005254993,\n",
       " 0.5499237271817545,\n",
       " 2.1231220240771186e-19,\n",
       " 1.8368081154262806e-07,\n",
       " 12.395939174015503,\n",
       " 0.023348123912341128,\n",
       " 0.20639633310736938,\n",
       " 6.712158105950422,\n",
       " 7.8385738336867465,\n",
       " 1.635258775332146,\n",
       " 0.12170328420275882,\n",
       " 10.847342430086,\n",
       " 3.8412835558836785e-05,\n",
       " 0.00027591928112434224,\n",
       " 7.603524481379392,\n",
       " 3.616862985674699,\n",
       " 10.35698404945511,\n",
       " 0.0005853722623812704,\n",
       " 4.920441273602104e-05,\n",
       " 2.34947571873911,\n",
       " 13.620541322826929,\n",
       " 8.13809680159877,\n",
       " 4.513135246698427,\n",
       " 3.2563874047710146,\n",
       " 7.0591777525582975,\n",
       " 2.4502484802177685e-11,\n",
       " 5.269532986015652,\n",
       " 5.774137572929147,\n",
       " 13.27353928879032,\n",
       " 4.1530400051944594e-10,\n",
       " 1.1557122783162301,\n",
       " 3.21818101300341,\n",
       " 7.313278180225081,\n",
       " 0.0696715887371612,\n",
       " 3.260220737870257,\n",
       " 2.9330513743970545,\n",
       " 5.722023676329365,\n",
       " 0.11376546597604044,\n",
       " 0.4455283821728839,\n",
       " 12.909863658994677,\n",
       " 10.54855586917296,\n",
       " 0.015789360238574992,\n",
       " 13.901846036569156,\n",
       " 4.776883101687727,\n",
       " 5.667190906393089e-08,\n",
       " 1.631966623226976e-13,\n",
       " 0.00210296715168244,\n",
       " 0.02298801079114052,\n",
       " 0.16727750307207412,\n",
       " 6.156866743978745e-13,\n",
       " 13.702534524295897,\n",
       " 0.001176207768151337,\n",
       " 0.00022588847939761564,\n",
       " 5.483870939133792,\n",
       " 1.5585461685729893e-05,\n",
       " 4.99952608822415,\n",
       " 0.20204431205004156,\n",
       " 0.0009077221039759948,\n",
       " 1.5644185731562596e-17,\n",
       " 8.388483381847256e-05,\n",
       " 1.3576516757056452e-19,\n",
       " 2.4865696607722447e-14,\n",
       " 4.0723509497310485e-19,\n",
       " 0.00035263304370674594,\n",
       " 2.4061405008662313,\n",
       " 4.048375380895184e-09,\n",
       " 0.20910468308113858,\n",
       " 1.860971342439923,\n",
       " 0.0011101604611421243,\n",
       " 0.004853320815401283,\n",
       " 0.20133486628601244,\n",
       " 4.5627641671424105e-30,\n",
       " 0.26389489886681516,\n",
       " 1.2584974857206095e-05,\n",
       " 13.204480205929132,\n",
       " 0.0010307091433053505,\n",
       " 6.283751266919703e-24,\n",
       " 9.561614007054965e-10,\n",
       " 1.9252291068281875e-22,\n",
       " 0.06852246960302102,\n",
       " 1.8394346457531835e-08,\n",
       " 0.0024566924372959,\n",
       " 3.9669579223922124e-05,\n",
       " 7.710337977311519e-07,\n",
       " 0.21340358802022857,\n",
       " 1.4046532805281042,\n",
       " 0.2003621870565439,\n",
       " 0.3141038583920158,\n",
       " 13.338279641278236,\n",
       " 3.6394874134878446e-10,\n",
       " 2.345955854044942e-07,\n",
       " 1.117048237139663e-07,\n",
       " 7.4224914116225005,\n",
       " 1.849398448060651e-06,\n",
       " 0.0694438945939026,\n",
       " 1.767520131319206e-06,\n",
       " 1.6879764278555796e-05,\n",
       " 4.639067380160369,\n",
       " 4.995765775968987e-06,\n",
       " 2.326194454139973,\n",
       " 0.42745187400254114,\n",
       " 0.009358447775927325,\n",
       " 14.4333118399033,\n",
       " 1.0414896528691672e-06,\n",
       " 15.048990946299282,\n",
       " 7.824860992116767e-15,\n",
       " 14.590249884742082,\n",
       " 4.644911037348149,\n",
       " 5.68718134214325e-15,\n",
       " 0.0027932962753924196,\n",
       " 5.824965152026726,\n",
       " 14.596411837340495,\n",
       " 4.1850420633401504e-05,\n",
       " 2.456353322241964e-06,\n",
       " 2.085155469265019,\n",
       " 14.814280123060442,\n",
       " 0.3438506431543702,\n",
       " 7.225655732824153e-15,\n",
       " 0.17719364243452881,\n",
       " 0.00014418984825884757,\n",
       " 9.982263186750997e-07,\n",
       " 0.002028601178361929,\n",
       " 2.1950652883381577e-58,\n",
       " 5.86479380980361e-34,\n",
       " 0.21467886732721164,\n",
       " 4.2818826762159127e-13,\n",
       " 2.1578160626232437e-10,\n",
       " 6.451124971681072,\n",
       " 2.2188243060089987,\n",
       " 0.4309333986778513,\n",
       " 0.08004042749937222,\n",
       " 5.6891739720047205,\n",
       " 0.00012118860139443187,\n",
       " 2.6474681046018587,\n",
       " 0.9581409653459766,\n",
       " 0.001204986652212247,\n",
       " 1.416211150092507e-20,\n",
       " 0.011828989786878335,\n",
       " 3.912549029770786e-12,\n",
       " 13.850572201752318,\n",
       " 0.23321592403244248,\n",
       " 0.005939621062185684,\n",
       " 3.079462060011441e-13,\n",
       " 2.528907315437125e-08,\n",
       " 1.4430286378097013e-46,\n",
       " 1.1670519310519805e-11,\n",
       " 5.381348327834796e-05,\n",
       " 4.91382476317575e-16,\n",
       " 15.036755297514485,\n",
       " 0.00015609756196689327,\n",
       " 7.551459846693032,\n",
       " 0.0034980451308383384,\n",
       " 0.7071574094750727,\n",
       " 8.349080107674125,\n",
       " 0.009130265918759727,\n",
       " 9.0778239419681,\n",
       " 1.3502983624438148e-12,\n",
       " 0.024414654650699592,\n",
       " 8.226363227911486,\n",
       " 1.0055664421704146e-05,\n",
       " 11.41467969894752,\n",
       " 6.243935215690665,\n",
       " 6.826311864599423e-11,\n",
       " 0.38973173492751845,\n",
       " 13.68956136026367,\n",
       " 12.63634404940834,\n",
       " 3.477599058893139,\n",
       " 3.14603411463304e-26,\n",
       " 1.0595242593033061e-37,\n",
       " 3.1333010232487924e-20,\n",
       " 3.551291475721093e-25,\n",
       " 7.542344125299547,\n",
       " 0.00010830593963798866,\n",
       " 0.0179641339490334,\n",
       " 0.08327525771734036,\n",
       " 0.011530916829474198,\n",
       " 0.18888339848386196,\n",
       " 4.274635138743655e-22,\n",
       " 1.097027072448474,\n",
       " 2.6675610909629457,\n",
       " 1.843010927238115,\n",
       " 0.002550286721199025,\n",
       " 0.4953199046455243,\n",
       " 0.021411172679755345,\n",
       " 0.0012017957191532442,\n",
       " 3.3181009459623573e-43,\n",
       " 2.0422844007446955e-11,\n",
       " 2.6017110489397025e-25,\n",
       " 0.05689611689725657,\n",
       " 1.6528308629193604,\n",
       " 3.0708345630028206e-06,\n",
       " 0.26307627284418084,\n",
       " 4.804538610770938e-06,\n",
       " 0.0014594432048070823,\n",
       " 0.0007519389686597782,\n",
       " 0.0008737168880032713,\n",
       " 0.4703745970444243,\n",
       " 13.789640676199117,\n",
       " 12.585867972129593,\n",
       " 13.263024019615166,\n",
       " 5.654439283806714,\n",
       " 0.7513875147044466,\n",
       " 11.332158712884125,\n",
       " 0.06631306599249503,\n",
       " 1.1367346470714643,\n",
       " 5.825259909805442e-10,\n",
       " 14.151005191831079,\n",
       " 0.7695825152609892,\n",
       " 10.263458169129887,\n",
       " 0.02292365759053439,\n",
       " 0.16264232531378267,\n",
       " 7.261744636353973,\n",
       " 12.0637434361348,\n",
       " 8.86318520267119,\n",
       " 0.10058407378372558,\n",
       " 0.035152389908052056,\n",
       " 5.322340014576662,\n",
       " 5.85760329159156,\n",
       " 11.763883897490421,\n",
       " 3.3193831952888585e-05,\n",
       " 0.00013648687740800726,\n",
       " 5.433411614654424,\n",
       " 8.36508768132001,\n",
       " 7.30831818342135,\n",
       " 7.839841392059455,\n",
       " 2.3127374451480423e-09,\n",
       " 3.062290079430668,\n",
       " 7.209722993239656,\n",
       " 13.367596361499402,\n",
       " 14.221037271914152,\n",
       " 0.014175707936935164,\n",
       " 0.10609715560686868,\n",
       " 14.761236775344416,\n",
       " 2.1697119835771983,\n",
       " 0.012387487832219376,\n",
       " 15.075155509693587,\n",
       " 3.7713799898754377,\n",
       " 10.341341740947264,\n",
       " 0.10066498396522074,\n",
       " 2.1284542937217626e-39,\n",
       " 8.83145341987272,\n",
       " 2.5346179326073515e-11,\n",
       " 2.165431404660172e-20,\n",
       " 3.801242129519464e-08,\n",
       " 3.199728419593525e-30,\n",
       " 7.837606398982675,\n",
       " 0.008142128960390856,\n",
       " 0.004855934459445006,\n",
       " 0.7064683377669376,\n",
       " 1.395685458811221,\n",
       " 2.2333539209001884e-17,\n",
       " 1.3318603356327808e-08,\n",
       " 9.098334274200278e-07,\n",
       " 11.092703194928824,\n",
       " 14.823793478930346,\n",
       " 0.040974736986543414,\n",
       " 2.955732553373219e-31,\n",
       " 13.971091060862468,\n",
       " 5.06715271964657e-10,\n",
       " 4.9180691010354955,\n",
       " 0.07919166527574031,\n",
       " 2.5015541837663733e-12,\n",
       " 2.624238296000939e-26,\n",
       " 0.2055755049525083,\n",
       " 0.018932232829192302,\n",
       " 0.02421119270209582,\n",
       " 2.436331110989759e-11,\n",
       " 0.4833869643154271,\n",
       " 4.348214319005486,\n",
       " 7.392176949447918e-50,\n",
       " 2.67782190268797e-57,\n",
       " 1.986233673365426e-06,\n",
       " 8.639161805815357,\n",
       " 12.245975223076925,\n",
       " 0.014753827768778203,\n",
       " 4.512229764347318,\n",
       " 10.130787521223885,\n",
       " 4.440036008503403e-12,\n",
       " 0.0044111358349331305,\n",
       " 1.8969925851920182e-06,\n",
       " 0.004075713882621314,\n",
       " 5.261793779842655e-13,\n",
       " 0.02279928046202859,\n",
       " 2.7010221350667187,\n",
       " 0.06015753635182878,\n",
       " 0.06424285030940745,\n",
       " 0.7775459161736807,\n",
       " 3.007630763016189,\n",
       " 2.4610514195671622,\n",
       " 2.5270375136792304e-17,\n",
       " 3.4874657968441784e-24,\n",
       " 0.18484108213533731,\n",
       " 0.028768018055345016,\n",
       " 7.308819782987408,\n",
       " 3.6167657862987295e-12,\n",
       " 12.61247534180268,\n",
       " 1.3078807227719798e-22,\n",
       " 0.08993634938216338,\n",
       " 0.011199804265097838,\n",
       " 0.002409932477019493,\n",
       " 4.202780270711994e-21,\n",
       " 1.4705036918360374e-17,\n",
       " 1.649110508053237e-15,\n",
       " 3.0424519774954972,\n",
       " 0.015727352304420406,\n",
       " 0.5064471966602682,\n",
       " 9.275667556356563,\n",
       " 0.3996706292079524,\n",
       " 7.345973617602127e-05,\n",
       " 3.6004173366748957,\n",
       " 2.1034130970693364e-06,\n",
       " 2.7250291216408113,\n",
       " 0.8339759171480751,\n",
       " 2.8089716544230813e-07,\n",
       " 2.6619489544567725e-06,\n",
       " 0.7367269624567334,\n",
       " 0.1422294752697722,\n",
       " 3.969391820606211,\n",
       " 0.23086623259056357,\n",
       " 7.584677536816992e-124,\n",
       " 3.1067814790873422e-34,\n",
       " 1.9179012635142366e-14,\n",
       " 7.249171249210746e-144,\n",
       " 1.0059773700158406e-77,\n",
       " 8.15908369056514e-12,\n",
       " 14.737143404796335,\n",
       " 15.090883072008713,\n",
       " 9.580124731277078,\n",
       " 1.8211998570020404e-08,\n",
       " 0.023354255592984152,\n",
       " 4.61152968499416,\n",
       " 3.0667128625196515e-11,\n",
       " 0.07204575024324229,\n",
       " 3.1132404307539093e-33,\n",
       " 0.026233372814035157,\n",
       " 7.4852542064313e-08,\n",
       " 0.36469412309470234,\n",
       " 0.005320766037674316,\n",
       " 8.237270756705593,\n",
       " 1.537791388815423e-14,\n",
       " 0.0006622533748250443,\n",
       " 0.03782832229123615,\n",
       " 0.03129900868007804,\n",
       " 0.006626647891619606,\n",
       " 0.010393459987291274,\n",
       " 6.120310409274463,\n",
       " 9.727052735236571e-05,\n",
       " 0.025208399777658232,\n",
       " 0.0013784282918805893,\n",
       " 1.4539754399090594,\n",
       " 0.15567369467713418,\n",
       " 0.6955110857133086,\n",
       " 4.748411271574824,\n",
       " 15.001118271572098,\n",
       " 2.2001202292786135,\n",
       " 5.89205378969724,\n",
       " 3.340078055075838e-29,\n",
       " 0.3037930476811133,\n",
       " 0.46551161524041373,\n",
       " 15.082278889559275,\n",
       " 8.448753887496759,\n",
       " 8.532168396022571e-08,\n",
       " 0.0005887302079413258,\n",
       " 12.695289941619404,\n",
       " 7.3909944105645025,\n",
       " 2.414792460260945,\n",
       " 3.7361834411412405,\n",
       " 0.0004229708782086757,\n",
       " 15.074548008007547,\n",
       " 2.5823106565285776e-15,\n",
       " 11.242381112632929,\n",
       " 13.820983966944958,\n",
       " 3.516310268758196,\n",
       " 0.10908874019074827,\n",
       " 1.1618578740824888,\n",
       " 0.17778438379765577,\n",
       " 0.006965888192451665,\n",
       " 9.75996743811179e-07,\n",
       " 0.4971882696570675,\n",
       " 0.16210642344503084,\n",
       " 0.0032123791277633524,\n",
       " 2.0014478272709932,\n",
       " 0.30223240858243816,\n",
       " 3.4928513095920344e-39,\n",
       " 0.04809030141109393,\n",
       " 0.0067175558659550326,\n",
       " 13.415359674410334,\n",
       " 0.0024106820779924874,\n",
       " 0.0006842900072473606,\n",
       " 4.321236972923086,\n",
       " 8.741486403871143,\n",
       " 5.772606359720075e-12,\n",
       " 10.31042975414517,\n",
       " 1.0937391562445367,\n",
       " 1.3887541870556221e-11,\n",
       " 6.0672605582242695e-06,\n",
       " 1.1715999103734934e-10,\n",
       " 1.0708960081295234e-27,\n",
       " 3.35507307124644,\n",
       " 14.560337564202362,\n",
       " 12.725524164811711,\n",
       " 2.3251255906267554,\n",
       " 14.071207650912921,\n",
       " 4.623281785192682e-47,\n",
       " 1.8468969147854537e-20,\n",
       " 11.894316656660463,\n",
       " 12.681051419275688,\n",
       " 14.608864483955198,\n",
       " 8.651645159289515,\n",
       " 6.877870847569903,\n",
       " 3.520113753817014e-06,\n",
       " 7.225814294625699e-05,\n",
       " 7.191750248391182,\n",
       " 9.98637038040377,\n",
       " 0.06879626700254268,\n",
       " 2.479671285972931e-09,\n",
       " 1.524087523729472,\n",
       " 8.76165981218451e-06,\n",
       " 0.020957879709825333,\n",
       " 0.026866099083995943,\n",
       " 6.093049339456378,\n",
       " 0.006706241073763889,\n",
       " 3.993392690920836e-05,\n",
       " 2.594426571516744e-11,\n",
       " 0.2963935402231553,\n",
       " 6.097769073037381,\n",
       " 3.2380845679295716,\n",
       " 7.398210421380732e-11,\n",
       " 7.246475480287042e-09,\n",
       " 1.9883513571566858e-05,\n",
       " 1.8750842183846945e-18,\n",
       " 12.901816843201503,\n",
       " 7.173080714289209,\n",
       " 8.77840178876273,\n",
       " 13.210223885073358,\n",
       " 9.584504208642933e-43,\n",
       " 11.153956391865721,\n",
       " 13.77680019214888,\n",
       " 15.020083357081404,\n",
       " 2.6818995690877636e-33,\n",
       " 4.6132620445087836e-33,\n",
       " 2.418777938153723e-14,\n",
       " 0.009897005017180925,\n",
       " 7.8190430015541095,\n",
       " 0.0059232798770058135,\n",
       " 9.308684215097901e-05,\n",
       " 12.404601376174224,\n",
       " 3.7695833626192616,\n",
       " 1.7935609852168709e-40,\n",
       " 13.328181258649115,\n",
       " 2.4767147852358407,\n",
       " 5.404365154504205e-37,\n",
       " 1.8566436339986954,\n",
       " 0.0011723587402531785,\n",
       " 1.1613190012345565e-10,\n",
       " 0.0004650322025428821,\n",
       " 0.0010119712594467418,\n",
       " 1.1812793508909968e-21,\n",
       " 8.55128017846447,\n",
       " 0.09139908324321303,\n",
       " 14.769671763479785,\n",
       " 2.346769504764622e-05,\n",
       " 3.2316991794390744e-07,\n",
       " 15.072268573439015,\n",
       " 2.9444850337909565,\n",
       " 3.917538949029825e-17,\n",
       " 6.443092244790815,\n",
       " 14.154202510906098,\n",
       " 0.002140205741301852,\n",
       " 0.0008857177803065865,\n",
       " 12.898697494964024,\n",
       " 7.459735641389707,\n",
       " 1.3855861324877732e-07,\n",
       " 1.7740671689256449,\n",
       " 14.155163872833409,\n",
       " 3.4360212226545817,\n",
       " 6.141760336661674,\n",
       " 8.315311253409226,\n",
       " 11.452806516774015,\n",
       " 4.42871790732414,\n",
       " 4.3990171032749854e-07,\n",
       " 4.702457220669856,\n",
       " 5.378460146239567e-05,\n",
       " 9.605569992698628,\n",
       " 1.0728690480640186e-21,\n",
       " 5.833852018727173e-98,\n",
       " 8.607994891335755e-122,\n",
       " 0.0934304694386139,\n",
       " 0.06371613500978447,\n",
       " 3.664059770278482e-07,\n",
       " 0.0001171564231753402,\n",
       " 1.0169187917772571e-09,\n",
       " 0.039457287182544674,\n",
       " 2.476960441922873e-15,\n",
       " 7.606496958128267e-113,\n",
       " 1.425377970683102e-10,\n",
       " 1.5320127435966625e-37,\n",
       " 6.351602239609478e-26,\n",
       " 0.25398068266047447,\n",
       " 8.796933192225123e-42,\n",
       " 0.06213428662585586,\n",
       " 2.1578872139095075e-14,\n",
       " 4.483390526928052e-06,\n",
       " 3.2831530379474644e-32,\n",
       " 2.9778651648425367e-05,\n",
       " 5.934795384137547,\n",
       " 7.020343832752117,\n",
       " 10.133630451785178,\n",
       " 9.298414416112456,\n",
       " 1.2462852655976464,\n",
       " 0.0035359286819675846,\n",
       " 10.7320611054508,\n",
       " 0.7474743257239617,\n",
       " 0.03387920118200623,\n",
       " 1.542129637359253,\n",
       " 10.726360001254967,\n",
       " 15.050443844140451,\n",
       " 8.081915657022163,\n",
       " 1.8844752466914513e-05,\n",
       " 0.0013377463849897284,\n",
       " 0.05292279008503347,\n",
       " 8.11083761384285,\n",
       " 1.6997767699933575,\n",
       " 9.170469606865625,\n",
       " 8.386869826016627,\n",
       " 14.800994926512594,\n",
       " 7.043952672330914,\n",
       " 11.59921426983063,\n",
       " 0.30427730639013917,\n",
       " 5.125791140248921,\n",
       " 8.015025870675716e-17,\n",
       " 1.4713120767222162e-05,\n",
       " 14.694091102836412,\n",
       " 0.0631736633474914,\n",
       " 15.077546897480083,\n",
       " 0.024457244852284163,\n",
       " 13.255676826140832,\n",
       " 10.220198738408568,\n",
       " 1.004806507784381,\n",
       " 2.555700784945085e-05,\n",
       " 1.9603172204069958e-10,\n",
       " 0.0030622697671876683,\n",
       " 13.521787896583243,\n",
       " 0.0015103033808315962,\n",
       " 9.539514143533939,\n",
       " 8.101483906596908,\n",
       " 4.248542230390135e-23,\n",
       " 12.150638577481732,\n",
       " 2.7018121813857687e-22,\n",
       " 0.950714073112832,\n",
       " 0.012567890350304875,\n",
       " 6.1138754236689365,\n",
       " 5.192234811009042e-07,\n",
       " 0.0034808035320809875,\n",
       " 0.016451789718659467,\n",
       " 0.0002928695289935551,\n",
       " 9.875372658780999e-08,\n",
       " 10.641642402544022,\n",
       " 0.06387858838907558,\n",
       " 9.67436444610626e-17,\n",
       " 0.029178895148119107,\n",
       " 1.1104207441119274e-59,\n",
       " 5.746589878454848e-08,\n",
       " 7.349790434160724e-06,\n",
       " 11.56510510084663,\n",
       " 15.092929696821155,\n",
       " 6.642411423762732,\n",
       " 11.513405260504594,\n",
       " 2.7935444891085095,\n",
       " 3.8138899235877885e-05,\n",
       " 11.022616864480371,\n",
       " 6.691082496506601,\n",
       " 7.469871013017281,\n",
       " 12.027943373699841,\n",
       " 7.837645264411807,\n",
       " 2.4247215258396975,\n",
       " 1.1824922415136427e-14,\n",
       " 14.439121541999892,\n",
       " 2.420366618526322e-08,\n",
       " 1.8274844943627917,\n",
       " 9.474092718502291,\n",
       " 1.0355966772382728,\n",
       " 2.7083790955558977,\n",
       " 4.512170196388122,\n",
       " 2.0483224232892304e-45,\n",
       " 2.744853151754886e-23,\n",
       " 7.117372223325001e-23,\n",
       " 4.114319414102228e-31,\n",
       " 8.395601511801605e-07,\n",
       " 1.2791327207443e-29,\n",
       " 7.408349038065464e-31,\n",
       " 7.130915014515379,\n",
       " 0.35335938864719346,\n",
       " 9.566644180479224e-83,\n",
       " 7.534234012729178e-39,\n",
       " 2.956715862302697e-18,\n",
       " 14.782214428978993,\n",
       " 1.600832388742493,\n",
       " 1.3086975788209563e-15,\n",
       " 7.042976520868006e-81,\n",
       " 3.406941567281558e-80,\n",
       " 1.4559328027787457e-43,\n",
       " 8.07948128607707e-60,\n",
       " 6.906756338506638e-51,\n",
       " 3.7444277438478405e-40,\n",
       " 1.0357584245680113e-15,\n",
       " 1.6221979264635774e-33,\n",
       " 2.3205173225938113e-55,\n",
       " 5.026685283039596e-13,\n",
       " 2.163116718766287e-125,\n",
       " 4.339962042774369e-99,\n",
       " 4.7068285615252206e-116,\n",
       " 1.796766633876212e-107,\n",
       " 2.5043891567131665e-106,\n",
       " 0.023850773033433883,\n",
       " 0.2701290749653766,\n",
       " 3.2623532992013045e-17,\n",
       " 0.021242344796680405,\n",
       " 3.190040279185587e-05,\n",
       " 6.110964535712251,\n",
       " 15.0919968406132,\n",
       " 4.060148617908169,\n",
       " 0.0002000214365588862,\n",
       " 0.0032516834881629545,\n",
       " 0.06068762579823767,\n",
       " 0.603305115838023,\n",
       " 14.248510299447215,\n",
       " 0.9180713280842542,\n",
       " 12.548086952466905,\n",
       " 0.0015160800381925773,\n",
       " 6.1657920258035235,\n",
       " 3.2513769031857893e-07,\n",
       " 7.1610357370785565,\n",
       " 12.61898428028372,\n",
       " 1.334871694235173,\n",
       " 12.536807065362664,\n",
       " 0.04627915341007833,\n",
       " 10.711152186872601,\n",
       " 4.937169658718261e-09,\n",
       " 13.206723380208745,\n",
       " 1.1739533900776357e-07,\n",
       " 2.9823331219694284e-06,\n",
       " 0.16859534600425086,\n",
       " 12.972094100081403,\n",
       " 14.630402998143184,\n",
       " 3.376209009091479,\n",
       " 4.3854343971711085,\n",
       " 15.086655898350104,\n",
       " 3.62334290131114,\n",
       " 0.053042335004953006,\n",
       " 3.256954596184659,\n",
       " 0.02614529612538502,\n",
       " 1.1417642285811378,\n",
       " 9.356353751514717,\n",
       " 14.960537674633729,\n",
       " 3.004115569825984,\n",
       " 15.050070197301624,\n",
       " 0.00012034885913362097,\n",
       " 13.400855598962593,\n",
       " 1.8636666426228605,\n",
       " 15.093249364741014,\n",
       " 0.5139733494894866,\n",
       " 8.045599491810874,\n",
       " 0.1982966251477191,\n",
       " 1.8215329059501044e-08,\n",
       " 0.02546117557336797,\n",
       " 5.556533686880501,\n",
       " 0.019213522398389565,\n",
       " 1.8084211371386297e-05,\n",
       " 0.012087651942047474,\n",
       " 12.966327761608454,\n",
       " 5.158726378526867,\n",
       " 0.8150563027569772,\n",
       " 1.3629660326535175e-14,\n",
       " 5.791729305817089,\n",
       " 0.0003243993086988584,\n",
       " 0.015174856673558569,\n",
       " 0.0063438341219717665,\n",
       " 15.067107489903092,\n",
       " 0.010531726079921337,\n",
       " 14.935721538986956,\n",
       " 0.17069063266486442,\n",
       " 0.9325499925979934,\n",
       " 0.15892529832891053,\n",
       " 2.623866061409469e-18,\n",
       " 4.21606167856527,\n",
       " 2.1318452743995584e-43,\n",
       " 0.13220991916862262,\n",
       " 14.265079336799612,\n",
       " 0.0017347693018547885,\n",
       " 1.0533359184167167e-06,\n",
       " 2.1543250469342497e-06,\n",
       " 7.061127944937067e-08,\n",
       " 14.795667578989192,\n",
       " 6.068742269449889e-26,\n",
       " 2.4781902500207007,\n",
       " 0.015072849608892573,\n",
       " 0.08856706753026107,\n",
       " 0.1570241431369268,\n",
       " 0.044611791797796715,\n",
       " 4.489553246116181,\n",
       " 14.94088503219823,\n",
       " 0.0008672098538573408,\n",
       " 2.4065287815526055e-19,\n",
       " 2.818447100686531,\n",
       " 1.6359572586273807,\n",
       " 0.17456523916961533,\n",
       " 14.007156412754586,\n",
       " 12.260461045309157,\n",
       " 13.900455324334306,\n",
       " 0.0001206437971303495,\n",
       " 11.469880296936568,\n",
       " 3.5043173730180917e-15,\n",
       " 0.24333050293521513,\n",
       " 1.5625706584169316e-07,\n",
       " 1.44756228991941e-25,\n",
       " 0.0004116997836329498,\n",
       " 11.649066795938316,\n",
       " 6.053123038480052,\n",
       " 1.9341308052723926e-10,\n",
       " 2.2312971681353596e-05,\n",
       " 7.895448948143973,\n",
       " 1.452718491062358e-26,\n",
       " 0.00101528789345993,\n",
       " 6.742119379092075e-07,\n",
       " 0.0699033545320072,\n",
       " 9.899284419111266e-07,\n",
       " 2.547977620830756e-21,\n",
       " 1.0614708274118512e-40,\n",
       " 0.1665241155393546,\n",
       " 0.4352935178700706,\n",
       " 2.467597228778763,\n",
       " 0.001599431389662294,\n",
       " 0.00654236153335246,\n",
       " 3.706444177116714e-27,\n",
       " 0.003910915758886063,\n",
       " 2.5030503454181883e-45,\n",
       " 2.993077608187861,\n",
       " 0.36337897572376954,\n",
       " 3.0141093845487275,\n",
       " 0.5155384096856996,\n",
       " 4.858248739249056e-08,\n",
       " 1.3184422665686425e-09,\n",
       " 9.005080892630732e-12,\n",
       " 4.446506076751392,\n",
       " 0.0034916173492123602,\n",
       " 14.940363762069024,\n",
       " 4.2951744109129955,\n",
       " 1.3073848009673146,\n",
       " 7.68038301914251,\n",
       " 2.7804449039114414,\n",
       " 0.0010290913233293713,\n",
       " 0.5174809613524528,\n",
       " 3.92486842630898e-05,\n",
       " 1.5057290773888277,\n",
       " 6.58296192260038,\n",
       " 0.45892745626134995,\n",
       " 14.897757078062584,\n",
       " 4.104412209944775,\n",
       " 11.041065429538827,\n",
       " 0.0016853555077423208,\n",
       " 5.491142780946733,\n",
       " 0.1407575842055204,\n",
       " 0.0009009574558925814,\n",
       " 6.561735562453334e-12,\n",
       " 1.0553689771839,\n",
       " 2.6482503266884253e-06,\n",
       " 0.00010991300919203348,\n",
       " 2.883917360262198e-20,\n",
       " 0.06616531654321191,\n",
       " 8.726253040823034,\n",
       " 14.968799386771828,\n",
       " 0.4272634885083107,\n",
       " 0.042091704487539267,\n",
       " 12.562639955779336,\n",
       " 0.005319062214068554,\n",
       " 3.361031926116495,\n",
       " 14.859346424655092,\n",
       " 13.463760232883821,\n",
       " 5.060962740832919,\n",
       " 1.9649445817529633e-05,\n",
       " 1.008048584331735,\n",
       " 7.313552985475776,\n",
       " 10.130586292906044,\n",
       " 0.14656480427532986,\n",
       " 0.0031161673446872423,\n",
       " 7.559987108088995e-07,\n",
       " 0.0002563556135173524,\n",
       " 4.862599386514146e-06,\n",
       " 14.462164289263338,\n",
       " 2.82330409823984e-19,\n",
       " 0.3828858693616936,\n",
       " 0.009473762237481895,\n",
       " 2.1051460064302097,\n",
       " 0.0012875366297001804,\n",
       " 4.242012911620918e-12,\n",
       " 14.523269769151277,\n",
       " 2.2561890975623466,\n",
       " 0.512669263803393,\n",
       " 2.6050816477510783,\n",
       " 0.3908366583850115,\n",
       " 1.1632110138883934e-17,\n",
       " 1.3950750672338828e-07,\n",
       " 5.714998121929636,\n",
       " 15.01644123807041,\n",
       " 1.7067171436982944,\n",
       " 4.354523088749963e-11,\n",
       " 14.933192687837265,\n",
       " 0.07219000836138766,\n",
       " 0.017902119916054417,\n",
       " 1.8377374023677537,\n",
       " 12.687989432679501,\n",
       " 8.263059823629474,\n",
       " 3.305150674100246,\n",
       " 6.539994125519284,\n",
       " 7.6169199919194845,\n",
       " 0.06984580216938072,\n",
       " 0.9865511984631233,\n",
       " 15.012894877713578,\n",
       " 0.7901888146620017,\n",
       " 0.10473066738358269,\n",
       " 6.074170862710848e-11,\n",
       " 0.0005969818644195144,\n",
       " 4.106565369666651e-31,\n",
       " 2.794826690559174e-11,\n",
       " 8.10906691169813e-06,\n",
       " 6.811764027321566e-09,\n",
       " 0.0030605465903776716,\n",
       " 8.409718026187354,\n",
       " 2.0346930968439874e-13,\n",
       " 0.8485954629601129,\n",
       " 1.3234501229728681,\n",
       " 3.9980414937636e-35,\n",
       " 0.0007668145768486247,\n",
       " 0.46095649718942444,\n",
       " 2.902209122117519,\n",
       " 8.644481833428735,\n",
       " 12.643787206577397,\n",
       " 9.036124465527519e-128,\n",
       " 5.018110315304919,\n",
       " 14.394571220039106,\n",
       " 0.007966041106935379,\n",
       " 14.694827455126996,\n",
       " 0.11336447105035714,\n",
       " 1.0239288748556794,\n",
       " 1.8113085938160247,\n",
       " 15.059532481926484,\n",
       " 0.05823217749203902,\n",
       " 0.11554261132336698,\n",
       " 5.450841036893039e-05,\n",
       " 0.008674101043751766,\n",
       " 0.16724220781318216,\n",
       " 6.197023133464058,\n",
       " 14.133369812561455,\n",
       " 0.0057330922425120265,\n",
       " 0.2052666587172329,\n",
       " 3.784288489854977e-25,\n",
       " 9.977720871263271e-05,\n",
       " 0.5825661690222002,\n",
       " 0.057410708381700995,\n",
       " 11.374364387520167,\n",
       " 13.71109224205344,\n",
       " 14.815070326871002,\n",
       " 15.051674794129395,\n",
       " 3.886892790355802,\n",
       " 0.0007420970321231287,\n",
       " 11.450195271475133,\n",
       " 0.3063439823045826,\n",
       " 0.1643491830963605,\n",
       " 0.28632703129019593,\n",
       " 7.762137146749598,\n",
       " 0.07478742566557044,\n",
       " 0.8803120166169461,\n",
       " 2.6324522772214816,\n",
       " 15.017137201421246,\n",
       " 0.0002339994673516795,\n",
       " 0.0018001930679719925,\n",
       " 13.46806029697065,\n",
       " 0.3797100759403223,\n",
       " 3.195555696076678e-05,\n",
       " 0.02985647196893249,\n",
       " 3.955244826117408e-15,\n",
       " 1.5105171413774316e-14,\n",
       " 1.5000943111149672e-64,\n",
       " 0.00010272146794009093,\n",
       " 6.313514244948522e-15,\n",
       " 0.06410428365057691,\n",
       " 3.665286977947177e-05,\n",
       " 1.2894499344026848,\n",
       " 10.461889620898377,\n",
       " ...]"
      ]
     },
     "execution_count": 67,
     "metadata": {},
     "output_type": "execute_result"
    }
   ],
   "source": [
    "pdf0"
   ]
  },
  {
   "cell_type": "code",
   "execution_count": 69,
   "metadata": {},
   "outputs": [
    {
     "name": "stdout",
     "output_type": "stream",
     "text": [
      "mu: -0.15018285930963515 std: 9.364465480901352\n"
     ]
    },
    {
     "data": {
      "image/png": "[encoded data removed]",
      "text/plain": [
       "<Figure size 1440x720 with 1 Axes>"
      ]
     },
     "metadata": {
      "needs_background": "light"
     },
     "output_type": "display_data"
    }
   ],
   "source": [
    "mu1, std1 = norm.fit(df1['ΔRV'])\n",
    "\n",
    "plt.figure(figsize=(20,10))\n",
    "plt.hist(x=df1['ΔRV'], bins=1000, alpha=0.5, color='g', label='Cluster 2', density=True)\n",
    "x1min, x1max = plt.xlim()\n",
    "x1 = np.linspace(x1min, x1max, 100)\n",
    "p1 = norm.pdf(x1, mu1, std1)  \n",
    "plt.plot(x1, p1, 'k', linewidth=1)\n",
    "plt.grid()\n",
    "plt.title('Normalised distribution of Cluster 1 ΔRVs for Plate 9290')\n",
    "plt.xlabel('ΔRV [km/s]')\n",
    "plt.ylabel('frequency')\n",
    "print('mu:', mu1, 'std:', std1)"
   ]
  },
  {
   "cell_type": "code",
   "execution_count": 70,
   "metadata": {},
   "outputs": [
    {
     "name": "stdout",
     "output_type": "stream",
     "text": [
      "mu: -0.037378303952802935 std: 4.416219868171523\n"
     ]
    },
    {
     "data": {
      "image/png": "[encoded data removed]",
      "text/plain": [
       "<Figure size 1440x720 with 1 Axes>"
      ]
     },
     "metadata": {
      "needs_background": "light"
     },
     "output_type": "display_data"
    }
   ],
   "source": [
    "mu, std = norm.fit(df['ΔRV'])\n",
    "\n",
    "plt.figure(figsize=(20,10))\n",
    "plt.hist(x=df['ΔRV'], bins=1000, alpha=0.5, density=True)\n",
    "xmin, xmax = plt.xlim()\n",
    "x = np.linspace(xmin, xmax, 100)\n",
    "p = norm.pdf(x, mu, std)  \n",
    "plt.plot(x, p, 'k', linewidth=1)\n",
    "plt.grid()\n",
    "plt.title('Normalised distribution of all ΔRVs for Plate 9290')\n",
    "plt.xlabel('ΔRV [km/s]')\n",
    "plt.ylabel('frequency')\n",
    "print('mu:', mu, 'std:', std)"
   ]
  },
  {
   "cell_type": "code",
   "execution_count": 71,
   "metadata": {},
   "outputs": [
    {
     "data": {
      "text/plain": [
       "<matplotlib.legend.Legend at 0x7fe452c537f0>"
      ]
     },
     "execution_count": 71,
     "metadata": {},
     "output_type": "execute_result"
    },
    {
     "data": {
      "image/png": "[encoded data removed]",
      "text/plain": [
       "<Figure size 1440x720 with 1 Axes>"
      ]
     },
     "metadata": {
      "needs_background": "light"
     },
     "output_type": "display_data"
    }
   ],
   "source": [
    "plt.figure(figsize=(20,10))\n",
    "plt.plot(x0, p0, linewidth=1, color='r', label='Cluster 0')\n",
    "plt.plot(x1, p1, linewidth=1, color='g', label='Cluster 1')\n",
    "plt.plot(x, p, linewidth=1, label='All ΔRVs')\n",
    "plt.grid()\n",
    "plt.title('Normalised ΔRV distributions for Plate 9290')\n",
    "plt.xlabel('ΔRV [km/s]')\n",
    "plt.ylabel('frequency')\n",
    "plt.legend()"
   ]
  },
  {
   "cell_type": "code",
   "execution_count": 72,
   "metadata": {},
   "outputs": [
    {
     "data": {
      "text/plain": [
       "array([-60.39783266, -59.29321521, -58.18859777, -57.08398033,\n",
       "       -55.97936288, -54.87474544, -53.77012799, -52.66551055,\n",
       "       -51.5608931 , -50.45627566, -49.35165821, -48.24704077,\n",
       "       -47.14242332, -46.03780588, -44.93318844, -43.82857099,\n",
       "       -42.72395355, -41.6193361 , -40.51471866, -39.41010121,\n",
       "       -38.30548377, -37.20086632, -36.09624888, -34.99163144,\n",
       "       -33.88701399, -32.78239655, -31.6777791 , -30.57316166,\n",
       "       -29.46854421, -28.36392677, -27.25930932, -26.15469188,\n",
       "       -25.05007444, -23.94545699, -22.84083955, -21.7362221 ,\n",
       "       -20.63160466, -19.52698721, -18.42236977, -17.31775232,\n",
       "       -16.21313488, -15.10851744, -14.00389999, -12.89928255,\n",
       "       -11.7946651 , -10.69004766,  -9.58543021,  -8.48081277,\n",
       "        -7.37619532,  -6.27157788,  -5.16696044,  -4.06234299,\n",
       "        -2.95772555,  -1.8531081 ,  -0.74849066,   0.35612679,\n",
       "         1.46074423,   2.56536168,   3.66997912,   4.77459656,\n",
       "         5.87921401,   6.98383145,   8.0884489 ,   9.19306634,\n",
       "        10.29768379,  11.40230123,  12.50691868,  13.61153612,\n",
       "        14.71615357,  15.82077101,  16.92538845,  18.0300059 ,\n",
       "        19.13462334,  20.23924079,  21.34385823,  22.44847568,\n",
       "        23.55309312,  24.65771057,  25.76232801,  26.86694545,\n",
       "        27.9715629 ,  29.07618034,  30.18079779,  31.28541523,\n",
       "        32.39003268,  33.49465012,  34.59926757,  35.70388501,\n",
       "        36.80850245,  37.9131199 ,  39.01773734,  40.12235479,\n",
       "        41.22697223,  42.33158968,  43.43620712,  44.54082457,\n",
       "        45.64544201,  46.75005945,  47.8546769 ,  48.95929434])"
      ]
     },
     "execution_count": 72,
     "metadata": {},
     "output_type": "execute_result"
    }
   ],
   "source": [
    "x1"
   ]
  },
  {
   "cell_type": "code",
   "execution_count": 73,
   "metadata": {},
   "outputs": [
    {
     "data": {
      "text/plain": [
       "array([-60.39783266, -59.29321521, -58.18859777, -57.08398033,\n",
       "       -55.97936288, -54.87474544, -53.77012799, -52.66551055,\n",
       "       -51.5608931 , -50.45627566, -49.35165821, -48.24704077,\n",
       "       -47.14242332, -46.03780588, -44.93318844, -43.82857099,\n",
       "       -42.72395355, -41.6193361 , -40.51471866, -39.41010121,\n",
       "       -38.30548377, -37.20086632, -36.09624888, -34.99163144,\n",
       "       -33.88701399, -32.78239655, -31.6777791 , -30.57316166,\n",
       "       -29.46854421, -28.36392677, -27.25930932, -26.15469188,\n",
       "       -25.05007444, -23.94545699, -22.84083955, -21.7362221 ,\n",
       "       -20.63160466, -19.52698721, -18.42236977, -17.31775232,\n",
       "       -16.21313488, -15.10851744, -14.00389999, -12.89928255,\n",
       "       -11.7946651 , -10.69004766,  -9.58543021,  -8.48081277,\n",
       "        -7.37619532,  -6.27157788,  -5.16696044,  -4.06234299,\n",
       "        -2.95772555,  -1.8531081 ,  -0.74849066,   0.35612679,\n",
       "         1.46074423,   2.56536168,   3.66997912,   4.77459656,\n",
       "         5.87921401,   6.98383145,   8.0884489 ,   9.19306634,\n",
       "        10.29768379,  11.40230123,  12.50691868,  13.61153612,\n",
       "        14.71615357,  15.82077101,  16.92538845,  18.0300059 ,\n",
       "        19.13462334,  20.23924079,  21.34385823,  22.44847568,\n",
       "        23.55309312,  24.65771057,  25.76232801,  26.86694545,\n",
       "        27.9715629 ,  29.07618034,  30.18079779,  31.28541523,\n",
       "        32.39003268,  33.49465012,  34.59926757,  35.70388501,\n",
       "        36.80850245,  37.9131199 ,  39.01773734,  40.12235479,\n",
       "        41.22697223,  42.33158968,  43.43620712,  44.54082457,\n",
       "        45.64544201,  46.75005945,  47.8546769 ,  48.95929434])"
      ]
     },
     "execution_count": 73,
     "metadata": {},
     "output_type": "execute_result"
    }
   ],
   "source": [
    "x"
   ]
  },
  {
   "cell_type": "code",
   "execution_count": 74,
   "metadata": {},
   "outputs": [
    {
     "data": {
      "image/png": "[encoded data removed]",
      "text/plain": [
       "<Figure size 1440x720 with 1 Axes>"
      ]
     },
     "metadata": {
      "needs_background": "light"
     },
     "output_type": "display_data"
    }
   ],
   "source": [
    "plt.figure(figsize=(20,10))\n",
    "plt.hist(x=df1['OBSVREL Error (km/s)'], bins=1000, alpha=0.5, color='g', label='Cluster 1', density=True)\n",
    "plt.hist(x=df0['OBSVREL Error (km/s)'], bins=1000, alpha=0.5, color='r', label='Cluster 2', density=True)\n",
    "#df1['OBSVREL Error (km/s)'].plot.hist(grid=True, bins=1000, rwidth=1, color='g', alpha=0.5, label='Cluster 1')\n",
    "#df0['OBSVREL Error (km/s)'].plot.hist(grid=True, bins=1000, rwidth=1, color='r', alpha=0.5, label='Cluster 0')\n",
    "plt.title('Distribution of statistical error for GMM Clusters 0 & 1')\n",
    "plt.legend()\n",
    "plt.xlabel('OBSVREL Error (km/s)')\n",
    "plt.grid()\n",
    "#plt.xlim(0.001236, 0.088124)"
   ]
  },
  {
   "cell_type": "code",
   "execution_count": 75,
   "metadata": {},
   "outputs": [
    {
     "data": {
      "text/plain": [
       "Text(0.5, 0, 'ΔRV [km/s]')"
      ]
     },
     "execution_count": 75,
     "metadata": {},
     "output_type": "execute_result"
    },
    {
     "data": {
      "image/png": "[encoded data removed]",
      "text/plain": [
       "<Figure size 1440x720 with 1 Axes>"
      ]
     },
     "metadata": {
      "needs_background": "light"
     },
     "output_type": "display_data"
    }
   ],
   "source": [
    "plt.figure(figsize=(20, 10))\n",
    "df0['ΔRV'].plot.hist(grid=True, bins=1000, rwidth=1, color='r')\n",
    "plt.title('Distribution of ΔRVs for GMM Cluster 0')\n",
    "plt.xlabel('ΔRV [km/s]')"
   ]
  },
  {
   "cell_type": "code",
   "execution_count": 76,
   "metadata": {},
   "outputs": [
    {
     "data": {
      "text/plain": [
       "Text(0.5, 0, 'ΔRV [km/s]')"
      ]
     },
     "execution_count": 76,
     "metadata": {},
     "output_type": "execute_result"
    },
    {
     "data": {
      "image/png": "[encoded data removed]",
      "text/plain": [
       "<Figure size 1440x720 with 1 Axes>"
      ]
     },
     "metadata": {
      "needs_background": "light"
     },
     "output_type": "display_data"
    }
   ],
   "source": [
    "plt.figure(figsize=(20, 10))\n",
    "df1['ΔRV'].plot.hist(grid=True, bins=1000, rwidth=1, color='g')\n",
    "plt.title('Distribution of ΔRVs for GMM Cluster 1')\n",
    "plt.xlabel('ΔRV [km/s]')\n",
    "#plt.xlim(-0.686580, 0.637125)"
   ]
  },
  {
   "cell_type": "code",
   "execution_count": 168,
   "metadata": {},
   "outputs": [
    {
     "data": {
      "text/html": [
       "<div>\n",
       "<style scoped>\n",
       "    .dataframe tbody tr th:only-of-type {\n",
       "        vertical-align: middle;\n",
       "    }\n",
       "\n",
       "    .dataframe tbody tr th {\n",
       "        vertical-align: top;\n",
       "    }\n",
       "\n",
       "    .dataframe thead th {\n",
       "        text-align: right;\n",
       "    }\n",
       "</style>\n",
       "<table border=\"1\" class=\"dataframe\">\n",
       "  <thead>\n",
       "    <tr style=\"text-align: right;\">\n",
       "      <th></th>\n",
       "      <th>Target ID</th>\n",
       "      <th>MJD</th>\n",
       "      <th>OBSVHELIO (km/s)</th>\n",
       "      <th>OBSVREL Error (km/s)</th>\n",
       "      <th>&lt;RV&gt;</th>\n",
       "      <th>ΔRV</th>\n",
       "      <th>Cluster</th>\n",
       "    </tr>\n",
       "  </thead>\n",
       "  <tbody>\n",
       "    <tr>\n",
       "      <th>2221</th>\n",
       "      <td>apo25m.5226.150-08-RV.2M03335510+4525265</td>\n",
       "      <td>58054</td>\n",
       "      <td>-60.069443</td>\n",
       "      <td>0.009608</td>\n",
       "      <td>-59.768067</td>\n",
       "      <td>-0.301376</td>\n",
       "      <td>0</td>\n",
       "    </tr>\n",
       "    <tr>\n",
       "      <th>5956</th>\n",
       "      <td>apo25m.5176.COROTA2-RV.2M06504009-0336271</td>\n",
       "      <td>57706</td>\n",
       "      <td>74.374596</td>\n",
       "      <td>0.025135</td>\n",
       "      <td>74.675694</td>\n",
       "      <td>-0.301098</td>\n",
       "      <td>0</td>\n",
       "    </tr>\n",
       "    <tr>\n",
       "      <th>8437</th>\n",
       "      <td>apo25m.5118.URMINOR.2M15070093+6701498</td>\n",
       "      <td>57826</td>\n",
       "      <td>-64.221730</td>\n",
       "      <td>0.433119</td>\n",
       "      <td>-63.920768</td>\n",
       "      <td>-0.300962</td>\n",
       "      <td>1</td>\n",
       "    </tr>\n",
       "    <tr>\n",
       "      <th>7734</th>\n",
       "      <td>apo25m.5176.COROTA2-RV.2M06545052-0520509</td>\n",
       "      <td>57434</td>\n",
       "      <td>91.174520</td>\n",
       "      <td>0.011486</td>\n",
       "      <td>91.475363</td>\n",
       "      <td>-0.300843</td>\n",
       "      <td>0</td>\n",
       "    </tr>\n",
       "    <tr>\n",
       "      <th>1543</th>\n",
       "      <td>apo25m.5226.150-08-RV.2M03314528+4629182</td>\n",
       "      <td>58087</td>\n",
       "      <td>-23.296644</td>\n",
       "      <td>0.042131</td>\n",
       "      <td>-22.996190</td>\n",
       "      <td>-0.300454</td>\n",
       "      <td>0</td>\n",
       "    </tr>\n",
       "    <tr>\n",
       "      <th>...</th>\n",
       "      <td>...</td>\n",
       "      <td>...</td>\n",
       "      <td>...</td>\n",
       "      <td>...</td>\n",
       "      <td>...</td>\n",
       "      <td>...</td>\n",
       "      <td>...</td>\n",
       "    </tr>\n",
       "    <tr>\n",
       "      <th>4615</th>\n",
       "      <td>apo25m.5176.COROTA2-RV.2M06482507-0426272</td>\n",
       "      <td>57760</td>\n",
       "      <td>29.654640</td>\n",
       "      <td>0.005156</td>\n",
       "      <td>29.355605</td>\n",
       "      <td>0.299035</td>\n",
       "      <td>0</td>\n",
       "    </tr>\n",
       "    <tr>\n",
       "      <th>5350</th>\n",
       "      <td>apo25m.5176.COROTA2-RV.2M06494300-0554289</td>\n",
       "      <td>57822</td>\n",
       "      <td>66.805570</td>\n",
       "      <td>0.013239</td>\n",
       "      <td>66.505273</td>\n",
       "      <td>0.300297</td>\n",
       "      <td>0</td>\n",
       "    </tr>\n",
       "    <tr>\n",
       "      <th>1791</th>\n",
       "      <td>apo25m.5226.150-08-RV.2M03323426+4539131</td>\n",
       "      <td>58032</td>\n",
       "      <td>-62.699356</td>\n",
       "      <td>0.068965</td>\n",
       "      <td>-63.000188</td>\n",
       "      <td>0.300832</td>\n",
       "      <td>0</td>\n",
       "    </tr>\n",
       "    <tr>\n",
       "      <th>905</th>\n",
       "      <td>apo25m.5226.150-08-RV.2M03294792+4706508</td>\n",
       "      <td>58032</td>\n",
       "      <td>-41.237260</td>\n",
       "      <td>0.087552</td>\n",
       "      <td>-41.538365</td>\n",
       "      <td>0.301105</td>\n",
       "      <td>0</td>\n",
       "    </tr>\n",
       "    <tr>\n",
       "      <th>9623</th>\n",
       "      <td>apo25m.5118.URMINOR.2M15131804+6817406</td>\n",
       "      <td>57826</td>\n",
       "      <td>-14.312212</td>\n",
       "      <td>0.214236</td>\n",
       "      <td>-14.613680</td>\n",
       "      <td>0.301468</td>\n",
       "      <td>1</td>\n",
       "    </tr>\n",
       "  </tbody>\n",
       "</table>\n",
       "<p>6559 rows × 7 columns</p>\n",
       "</div>"
      ],
      "text/plain": [
       "                                      Target ID    MJD  OBSVHELIO (km/s)  \\\n",
       "2221   apo25m.5226.150-08-RV.2M03335510+4525265  58054        -60.069443   \n",
       "5956  apo25m.5176.COROTA2-RV.2M06504009-0336271  57706         74.374596   \n",
       "8437     apo25m.5118.URMINOR.2M15070093+6701498  57826        -64.221730   \n",
       "7734  apo25m.5176.COROTA2-RV.2M06545052-0520509  57434         91.174520   \n",
       "1543   apo25m.5226.150-08-RV.2M03314528+4629182  58087        -23.296644   \n",
       "...                                         ...    ...               ...   \n",
       "4615  apo25m.5176.COROTA2-RV.2M06482507-0426272  57760         29.654640   \n",
       "5350  apo25m.5176.COROTA2-RV.2M06494300-0554289  57822         66.805570   \n",
       "1791   apo25m.5226.150-08-RV.2M03323426+4539131  58032        -62.699356   \n",
       "905    apo25m.5226.150-08-RV.2M03294792+4706508  58032        -41.237260   \n",
       "9623     apo25m.5118.URMINOR.2M15131804+6817406  57826        -14.312212   \n",
       "\n",
       "      OBSVREL Error (km/s)       <RV>       ΔRV  Cluster  \n",
       "2221              0.009608 -59.768067 -0.301376        0  \n",
       "5956              0.025135  74.675694 -0.301098        0  \n",
       "8437              0.433119 -63.920768 -0.300962        1  \n",
       "7734              0.011486  91.475363 -0.300843        0  \n",
       "1543              0.042131 -22.996190 -0.300454        0  \n",
       "...                    ...        ...       ...      ...  \n",
       "4615              0.005156  29.355605  0.299035        0  \n",
       "5350              0.013239  66.505273  0.300297        0  \n",
       "1791              0.068965 -63.000188  0.300832        0  \n",
       "905               0.087552 -41.538365  0.301105        0  \n",
       "9623              0.214236 -14.613680  0.301468        1  \n",
       "\n",
       "[6559 rows x 7 columns]"
      ]
     },
     "execution_count": 168,
     "metadata": {},
     "output_type": "execute_result"
    }
   ],
   "source": [
    "# Consider limiting ΔRV range?\n",
    "\n",
    "df_cutoff = mp_df.loc[(mp_df['ΔRV'] < 0.30155426259301604) & (mp_df['ΔRV'] > -0.30155426259301604)]\n",
    "#df_cutoff = df.loc[(df['ΔRV'] < 1) & (df['ΔRV'] > -1)]\n",
    "df_cutoff.sort_values('ΔRV')"
   ]
  },
  {
   "cell_type": "code",
   "execution_count": 169,
   "metadata": {},
   "outputs": [
    {
     "data": {
      "text/plain": [
       "count    6559.000000\n",
       "mean       -0.005454\n",
       "std         0.126773\n",
       "min        -0.301376\n",
       "25%        -0.089043\n",
       "50%        -0.008208\n",
       "75%         0.078347\n",
       "max         0.301468\n",
       "Name: ΔRV, dtype: float64"
      ]
     },
     "execution_count": 169,
     "metadata": {},
     "output_type": "execute_result"
    }
   ],
   "source": [
    "df_cutoff['ΔRV'].describe()"
   ]
  },
  {
   "cell_type": "code",
   "execution_count": 178,
   "metadata": {},
   "outputs": [
    {
     "data": {
      "text/plain": [
       "Text(0, 0.5, 'ΔRV [km/s]')"
      ]
     },
     "execution_count": 178,
     "metadata": {},
     "output_type": "execute_result"
    },
    {
     "data": {
      "image/png": "[encoded data removed]",
      "text/plain": [
       "<Figure size 1440x1080 with 1 Axes>"
      ]
     },
     "metadata": {
      "needs_background": "light"
     },
     "output_type": "display_data"
    }
   ],
   "source": [
    "# Plot ΔRV versus epoch for cutoff dataframe\n",
    "\n",
    "x = df0['MJD']\n",
    "y = df0['ΔRV']\n",
    "yerr = df0['OBSVREL Error (km/s)']\n",
    "#x = df_cutoff['MJD']\n",
    "#y = df_cutoff['ΔRV']\n",
    "#yerr = df_cutoff['OBSVREL Error (km/s)']\n",
    "plt.figure(figsize=(20, 15))\n",
    "plt.errorbar(x, y, yerr, fmt='.', capsize=3, color='black', ecolor='r')\n",
    "plt.title('ΔRV vs epoch for Plates 8112, 8907, 9290, Cluster 0 with ΔRV cutoff')\n",
    "plt.xlabel('MJD')\n",
    "plt.ylabel('ΔRV [km/s]')\n",
    "\n",
    "#df_cutoff.plot(x = 'MJD', y = 'ΔRV', kind = 'scatter', figsize=(15,10))"
   ]
  },
  {
   "cell_type": "code",
   "execution_count": 171,
   "metadata": {},
   "outputs": [],
   "source": [
    "unique_mjd_cf = Counter(df_cutoff['MJD'])\n",
    "unique_mjd_cflist = unique_mjd_cf.keys()"
   ]
  },
  {
   "cell_type": "code",
   "execution_count": 172,
   "metadata": {},
   "outputs": [],
   "source": [
    "# Obtain weighted average ΔRV for each MJD\n",
    "\n",
    "combined_weightedRVs_cutoff = []\n",
    "combined_staterror_cutoff = []\n",
    "weights = []\n",
    "\n",
    "for mjd in unique_mjd_cflist:\n",
    "    mjd_df = df_cutoff[df_cutoff['MJD'] == mjd]\n",
    "    mjd_RVs = list(mjd_df['ΔRV'])\n",
    "    mjd_sigma = list(mjd_df['OBSVREL Error (km/s)'])\n",
    "    weight = [1 / (mjd_sigma[s]**2) for s in range(len(mjd_sigma))]\n",
    "    sigmaRV = 1000*np.sqrt(1/sum(weight))\n",
    "    # print('Sum of ΔRV for MJD', mjd, ':', sum(mjd_RVs))\n",
    "    # print('Sum of weights:', sum(weight))\n",
    "    combined_weightedavg = 1000*sum([mjd_RVs[r] * weight[r] for r in range(len(mjd_RVs))]) / sum(weight) #[r] for r in range(len(mjd_sigma)))\n",
    "    # combined_weightedavg = sum([mjd_RVs[r] * mjd_sigma[r] for r in range(len(mjd_RVs))]) / sum(mjd_sigma) #[r] for r in range(len(mjd_sigma)))\n",
    "    combined_weightedRVs_cutoff.append(combined_weightedavg)\n",
    "    combined_staterror_cutoff.append(sigmaRV)\n",
    "    weights.append(weight)"
   ]
  },
  {
   "cell_type": "code",
   "execution_count": 173,
   "metadata": {},
   "outputs": [
    {
     "data": {
      "text/html": [
       "<div>\n",
       "<style scoped>\n",
       "    .dataframe tbody tr th:only-of-type {\n",
       "        vertical-align: middle;\n",
       "    }\n",
       "\n",
       "    .dataframe tbody tr th {\n",
       "        vertical-align: top;\n",
       "    }\n",
       "\n",
       "    .dataframe thead th {\n",
       "        text-align: right;\n",
       "    }\n",
       "</style>\n",
       "<table border=\"1\" class=\"dataframe\">\n",
       "  <thead>\n",
       "    <tr style=\"text-align: right;\">\n",
       "      <th></th>\n",
       "      <th>Target ID</th>\n",
       "      <th>MJD</th>\n",
       "      <th>OBSVHELIO (km/s)</th>\n",
       "      <th>OBSVREL Error (km/s)</th>\n",
       "      <th>&lt;RV&gt;</th>\n",
       "      <th>ΔRV</th>\n",
       "      <th>Cluster</th>\n",
       "    </tr>\n",
       "  </thead>\n",
       "  <tbody>\n",
       "    <tr>\n",
       "      <th>0</th>\n",
       "      <td>apo25m.5226.150-08-RV.2M03252400+4614203</td>\n",
       "      <td>57706</td>\n",
       "      <td>-86.565704</td>\n",
       "      <td>0.010245</td>\n",
       "      <td>-86.476541</td>\n",
       "      <td>-0.089163</td>\n",
       "      <td>0</td>\n",
       "    </tr>\n",
       "    <tr>\n",
       "      <th>1</th>\n",
       "      <td>apo25m.5226.150-08-RV.2M03252400+4614203</td>\n",
       "      <td>57732</td>\n",
       "      <td>-86.383430</td>\n",
       "      <td>0.008206</td>\n",
       "      <td>-86.476541</td>\n",
       "      <td>0.093111</td>\n",
       "      <td>0</td>\n",
       "    </tr>\n",
       "    <tr>\n",
       "      <th>2</th>\n",
       "      <td>apo25m.5226.150-08-RV.2M03252400+4614203</td>\n",
       "      <td>57734</td>\n",
       "      <td>-86.386870</td>\n",
       "      <td>0.009015</td>\n",
       "      <td>-86.476541</td>\n",
       "      <td>0.089671</td>\n",
       "      <td>0</td>\n",
       "    </tr>\n",
       "    <tr>\n",
       "      <th>3</th>\n",
       "      <td>apo25m.5226.150-08-RV.2M03252400+4614203</td>\n",
       "      <td>57735</td>\n",
       "      <td>-86.532840</td>\n",
       "      <td>0.010742</td>\n",
       "      <td>-86.476541</td>\n",
       "      <td>-0.056299</td>\n",
       "      <td>0</td>\n",
       "    </tr>\n",
       "    <tr>\n",
       "      <th>4</th>\n",
       "      <td>apo25m.5226.150-08-RV.2M03252400+4614203</td>\n",
       "      <td>57760</td>\n",
       "      <td>-86.366640</td>\n",
       "      <td>0.012035</td>\n",
       "      <td>-86.476541</td>\n",
       "      <td>0.109901</td>\n",
       "      <td>0</td>\n",
       "    </tr>\n",
       "    <tr>\n",
       "      <th>...</th>\n",
       "      <td>...</td>\n",
       "      <td>...</td>\n",
       "      <td>...</td>\n",
       "      <td>...</td>\n",
       "      <td>...</td>\n",
       "      <td>...</td>\n",
       "      <td>...</td>\n",
       "    </tr>\n",
       "    <tr>\n",
       "      <th>10664</th>\n",
       "      <td>apo25m.5118.URMINOR.2M15260674+6734563</td>\n",
       "      <td>57879</td>\n",
       "      <td>0.493465</td>\n",
       "      <td>0.061337</td>\n",
       "      <td>0.435488</td>\n",
       "      <td>0.057977</td>\n",
       "      <td>0</td>\n",
       "    </tr>\n",
       "    <tr>\n",
       "      <th>10665</th>\n",
       "      <td>apo25m.5118.URMINOR.2M15260674+6734563</td>\n",
       "      <td>57886</td>\n",
       "      <td>0.285309</td>\n",
       "      <td>0.083303</td>\n",
       "      <td>0.435488</td>\n",
       "      <td>-0.150180</td>\n",
       "      <td>0</td>\n",
       "    </tr>\n",
       "    <tr>\n",
       "      <th>10666</th>\n",
       "      <td>apo25m.5118.URMINOR.2M15260674+6734563</td>\n",
       "      <td>57887</td>\n",
       "      <td>0.420483</td>\n",
       "      <td>0.067660</td>\n",
       "      <td>0.435488</td>\n",
       "      <td>-0.015006</td>\n",
       "      <td>0</td>\n",
       "    </tr>\n",
       "    <tr>\n",
       "      <th>10667</th>\n",
       "      <td>apo25m.5118.URMINOR.2M15260674+6734563</td>\n",
       "      <td>57916</td>\n",
       "      <td>0.399855</td>\n",
       "      <td>0.066620</td>\n",
       "      <td>0.435488</td>\n",
       "      <td>-0.035634</td>\n",
       "      <td>0</td>\n",
       "    </tr>\n",
       "    <tr>\n",
       "      <th>10668</th>\n",
       "      <td>apo25m.5118.URMINOR.2M15260674+6734563</td>\n",
       "      <td>58293</td>\n",
       "      <td>0.804984</td>\n",
       "      <td>0.066469</td>\n",
       "      <td>0.435488</td>\n",
       "      <td>0.369496</td>\n",
       "      <td>0</td>\n",
       "    </tr>\n",
       "  </tbody>\n",
       "</table>\n",
       "<p>6604 rows × 7 columns</p>\n",
       "</div>"
      ],
      "text/plain": [
       "                                      Target ID    MJD  OBSVHELIO (km/s)  \\\n",
       "0      apo25m.5226.150-08-RV.2M03252400+4614203  57706        -86.565704   \n",
       "1      apo25m.5226.150-08-RV.2M03252400+4614203  57732        -86.383430   \n",
       "2      apo25m.5226.150-08-RV.2M03252400+4614203  57734        -86.386870   \n",
       "3      apo25m.5226.150-08-RV.2M03252400+4614203  57735        -86.532840   \n",
       "4      apo25m.5226.150-08-RV.2M03252400+4614203  57760        -86.366640   \n",
       "...                                         ...    ...               ...   \n",
       "10664    apo25m.5118.URMINOR.2M15260674+6734563  57879          0.493465   \n",
       "10665    apo25m.5118.URMINOR.2M15260674+6734563  57886          0.285309   \n",
       "10666    apo25m.5118.URMINOR.2M15260674+6734563  57887          0.420483   \n",
       "10667    apo25m.5118.URMINOR.2M15260674+6734563  57916          0.399855   \n",
       "10668    apo25m.5118.URMINOR.2M15260674+6734563  58293          0.804984   \n",
       "\n",
       "       OBSVREL Error (km/s)       <RV>       ΔRV  Cluster  \n",
       "0                  0.010245 -86.476541 -0.089163        0  \n",
       "1                  0.008206 -86.476541  0.093111        0  \n",
       "2                  0.009015 -86.476541  0.089671        0  \n",
       "3                  0.010742 -86.476541 -0.056299        0  \n",
       "4                  0.012035 -86.476541  0.109901        0  \n",
       "...                     ...        ...       ...      ...  \n",
       "10664              0.061337   0.435488  0.057977        0  \n",
       "10665              0.083303   0.435488 -0.150180        0  \n",
       "10666              0.067660   0.435488 -0.015006        0  \n",
       "10667              0.066620   0.435488 -0.035634        0  \n",
       "10668              0.066469   0.435488  0.369496        0  \n",
       "\n",
       "[6604 rows x 7 columns]"
      ]
     },
     "execution_count": 173,
     "metadata": {},
     "output_type": "execute_result"
    }
   ],
   "source": [
    "df0 #[df0['MJD'] == 58143]"
   ]
  },
  {
   "cell_type": "code",
   "execution_count": 174,
   "metadata": {},
   "outputs": [],
   "source": [
    "# Create dataframe for MJD and combined weighted ΔRV values\n",
    "\n",
    "weightedavg_data_cutoff = [unique_mjd_cflist, combined_weightedRVs_cutoff, combined_staterror_cutoff]\n",
    "weightedavg_df_cutoff = pd.DataFrame(weightedavg_data_cutoff).transpose()\n",
    "weightedavg_df_cutoff.columns = ['MJD', 'Combined ΔRV (m/s)', 'Combined σRV (m/s)']"
   ]
  },
  {
   "cell_type": "code",
   "execution_count": 175,
   "metadata": {},
   "outputs": [
    {
     "data": {
      "text/html": [
       "<div>\n",
       "<style scoped>\n",
       "    .dataframe tbody tr th:only-of-type {\n",
       "        vertical-align: middle;\n",
       "    }\n",
       "\n",
       "    .dataframe tbody tr th {\n",
       "        vertical-align: top;\n",
       "    }\n",
       "\n",
       "    .dataframe thead th {\n",
       "        text-align: right;\n",
       "    }\n",
       "</style>\n",
       "<table border=\"1\" class=\"dataframe\">\n",
       "  <thead>\n",
       "    <tr style=\"text-align: right;\">\n",
       "      <th></th>\n",
       "      <th>MJD</th>\n",
       "      <th>Combined ΔRV (m/s)</th>\n",
       "      <th>Combined σRV (m/s)</th>\n",
       "    </tr>\n",
       "  </thead>\n",
       "  <tbody>\n",
       "    <tr>\n",
       "      <th>0</th>\n",
       "      <td>57706.0</td>\n",
       "      <td>-38.712200</td>\n",
       "      <td>0.370361</td>\n",
       "    </tr>\n",
       "    <tr>\n",
       "      <th>1</th>\n",
       "      <td>57732.0</td>\n",
       "      <td>-22.118102</td>\n",
       "      <td>0.387643</td>\n",
       "    </tr>\n",
       "    <tr>\n",
       "      <th>2</th>\n",
       "      <td>57734.0</td>\n",
       "      <td>44.334602</td>\n",
       "      <td>0.304781</td>\n",
       "    </tr>\n",
       "    <tr>\n",
       "      <th>3</th>\n",
       "      <td>57735.0</td>\n",
       "      <td>-12.731824</td>\n",
       "      <td>0.393091</td>\n",
       "    </tr>\n",
       "    <tr>\n",
       "      <th>4</th>\n",
       "      <td>57760.0</td>\n",
       "      <td>92.078307</td>\n",
       "      <td>0.402091</td>\n",
       "    </tr>\n",
       "    <tr>\n",
       "      <th>5</th>\n",
       "      <td>57788.0</td>\n",
       "      <td>-93.128264</td>\n",
       "      <td>0.922952</td>\n",
       "    </tr>\n",
       "    <tr>\n",
       "      <th>6</th>\n",
       "      <td>57789.0</td>\n",
       "      <td>-15.463829</td>\n",
       "      <td>0.335085</td>\n",
       "    </tr>\n",
       "    <tr>\n",
       "      <th>7</th>\n",
       "      <td>58006.0</td>\n",
       "      <td>36.140368</td>\n",
       "      <td>0.484830</td>\n",
       "    </tr>\n",
       "    <tr>\n",
       "      <th>8</th>\n",
       "      <td>58032.0</td>\n",
       "      <td>-9.367240</td>\n",
       "      <td>0.661798</td>\n",
       "    </tr>\n",
       "    <tr>\n",
       "      <th>9</th>\n",
       "      <td>58054.0</td>\n",
       "      <td>-40.832366</td>\n",
       "      <td>0.457570</td>\n",
       "    </tr>\n",
       "    <tr>\n",
       "      <th>10</th>\n",
       "      <td>58063.0</td>\n",
       "      <td>-9.793239</td>\n",
       "      <td>0.381209</td>\n",
       "    </tr>\n",
       "    <tr>\n",
       "      <th>11</th>\n",
       "      <td>58068.0</td>\n",
       "      <td>10.282038</td>\n",
       "      <td>0.408140</td>\n",
       "    </tr>\n",
       "    <tr>\n",
       "      <th>12</th>\n",
       "      <td>58085.0</td>\n",
       "      <td>-17.002882</td>\n",
       "      <td>0.445698</td>\n",
       "    </tr>\n",
       "    <tr>\n",
       "      <th>13</th>\n",
       "      <td>58087.0</td>\n",
       "      <td>46.917154</td>\n",
       "      <td>0.397812</td>\n",
       "    </tr>\n",
       "    <tr>\n",
       "      <th>14</th>\n",
       "      <td>58114.0</td>\n",
       "      <td>-48.240754</td>\n",
       "      <td>0.818699</td>\n",
       "    </tr>\n",
       "    <tr>\n",
       "      <th>15</th>\n",
       "      <td>58143.0</td>\n",
       "      <td>34.932833</td>\n",
       "      <td>0.385613</td>\n",
       "    </tr>\n",
       "    <tr>\n",
       "      <th>16</th>\n",
       "      <td>57434.0</td>\n",
       "      <td>-33.729962</td>\n",
       "      <td>0.583114</td>\n",
       "    </tr>\n",
       "    <tr>\n",
       "      <th>17</th>\n",
       "      <td>57439.0</td>\n",
       "      <td>-46.507028</td>\n",
       "      <td>1.539026</td>\n",
       "    </tr>\n",
       "    <tr>\n",
       "      <th>18</th>\n",
       "      <td>57440.0</td>\n",
       "      <td>-23.727567</td>\n",
       "      <td>0.880983</td>\n",
       "    </tr>\n",
       "    <tr>\n",
       "      <th>19</th>\n",
       "      <td>57463.0</td>\n",
       "      <td>5.069503</td>\n",
       "      <td>0.709549</td>\n",
       "    </tr>\n",
       "    <tr>\n",
       "      <th>20</th>\n",
       "      <td>57678.0</td>\n",
       "      <td>-22.265690</td>\n",
       "      <td>0.545319</td>\n",
       "    </tr>\n",
       "    <tr>\n",
       "      <th>21</th>\n",
       "      <td>57819.0</td>\n",
       "      <td>-51.540713</td>\n",
       "      <td>0.496663</td>\n",
       "    </tr>\n",
       "    <tr>\n",
       "      <th>22</th>\n",
       "      <td>57822.0</td>\n",
       "      <td>-38.855987</td>\n",
       "      <td>0.429969</td>\n",
       "    </tr>\n",
       "    <tr>\n",
       "      <th>23</th>\n",
       "      <td>57823.0</td>\n",
       "      <td>-24.909230</td>\n",
       "      <td>0.419673</td>\n",
       "    </tr>\n",
       "    <tr>\n",
       "      <th>24</th>\n",
       "      <td>57861.0</td>\n",
       "      <td>-93.203390</td>\n",
       "      <td>4.749567</td>\n",
       "    </tr>\n",
       "    <tr>\n",
       "      <th>25</th>\n",
       "      <td>57886.0</td>\n",
       "      <td>-67.564909</td>\n",
       "      <td>5.688111</td>\n",
       "    </tr>\n",
       "    <tr>\n",
       "      <th>26</th>\n",
       "      <td>58293.0</td>\n",
       "      <td>-131.719965</td>\n",
       "      <td>4.530605</td>\n",
       "    </tr>\n",
       "    <tr>\n",
       "      <th>27</th>\n",
       "      <td>57055.0</td>\n",
       "      <td>13.507878</td>\n",
       "      <td>7.507257</td>\n",
       "    </tr>\n",
       "    <tr>\n",
       "      <th>28</th>\n",
       "      <td>57056.0</td>\n",
       "      <td>-30.452951</td>\n",
       "      <td>5.938899</td>\n",
       "    </tr>\n",
       "    <tr>\n",
       "      <th>29</th>\n",
       "      <td>57826.0</td>\n",
       "      <td>160.871464</td>\n",
       "      <td>5.133289</td>\n",
       "    </tr>\n",
       "    <tr>\n",
       "      <th>30</th>\n",
       "      <td>57856.0</td>\n",
       "      <td>-34.208133</td>\n",
       "      <td>4.705628</td>\n",
       "    </tr>\n",
       "    <tr>\n",
       "      <th>31</th>\n",
       "      <td>57879.0</td>\n",
       "      <td>-62.696536</td>\n",
       "      <td>4.720609</td>\n",
       "    </tr>\n",
       "    <tr>\n",
       "      <th>32</th>\n",
       "      <td>57887.0</td>\n",
       "      <td>-39.014857</td>\n",
       "      <td>4.981629</td>\n",
       "    </tr>\n",
       "    <tr>\n",
       "      <th>33</th>\n",
       "      <td>57916.0</td>\n",
       "      <td>-12.474892</td>\n",
       "      <td>6.509603</td>\n",
       "    </tr>\n",
       "    <tr>\n",
       "      <th>34</th>\n",
       "      <td>57064.0</td>\n",
       "      <td>-78.506388</td>\n",
       "      <td>5.765128</td>\n",
       "    </tr>\n",
       "    <tr>\n",
       "      <th>35</th>\n",
       "      <td>57092.0</td>\n",
       "      <td>-144.837734</td>\n",
       "      <td>4.790996</td>\n",
       "    </tr>\n",
       "  </tbody>\n",
       "</table>\n",
       "</div>"
      ],
      "text/plain": [
       "        MJD  Combined ΔRV (m/s)  Combined σRV (m/s)\n",
       "0   57706.0          -38.712200            0.370361\n",
       "1   57732.0          -22.118102            0.387643\n",
       "2   57734.0           44.334602            0.304781\n",
       "3   57735.0          -12.731824            0.393091\n",
       "4   57760.0           92.078307            0.402091\n",
       "5   57788.0          -93.128264            0.922952\n",
       "6   57789.0          -15.463829            0.335085\n",
       "7   58006.0           36.140368            0.484830\n",
       "8   58032.0           -9.367240            0.661798\n",
       "9   58054.0          -40.832366            0.457570\n",
       "10  58063.0           -9.793239            0.381209\n",
       "11  58068.0           10.282038            0.408140\n",
       "12  58085.0          -17.002882            0.445698\n",
       "13  58087.0           46.917154            0.397812\n",
       "14  58114.0          -48.240754            0.818699\n",
       "15  58143.0           34.932833            0.385613\n",
       "16  57434.0          -33.729962            0.583114\n",
       "17  57439.0          -46.507028            1.539026\n",
       "18  57440.0          -23.727567            0.880983\n",
       "19  57463.0            5.069503            0.709549\n",
       "20  57678.0          -22.265690            0.545319\n",
       "21  57819.0          -51.540713            0.496663\n",
       "22  57822.0          -38.855987            0.429969\n",
       "23  57823.0          -24.909230            0.419673\n",
       "24  57861.0          -93.203390            4.749567\n",
       "25  57886.0          -67.564909            5.688111\n",
       "26  58293.0         -131.719965            4.530605\n",
       "27  57055.0           13.507878            7.507257\n",
       "28  57056.0          -30.452951            5.938899\n",
       "29  57826.0          160.871464            5.133289\n",
       "30  57856.0          -34.208133            4.705628\n",
       "31  57879.0          -62.696536            4.720609\n",
       "32  57887.0          -39.014857            4.981629\n",
       "33  57916.0          -12.474892            6.509603\n",
       "34  57064.0          -78.506388            5.765128\n",
       "35  57092.0         -144.837734            4.790996"
      ]
     },
     "execution_count": 175,
     "metadata": {},
     "output_type": "execute_result"
    }
   ],
   "source": [
    "weightedavg_df_cutoff"
   ]
  },
  {
   "cell_type": "code",
   "execution_count": 85,
   "metadata": {},
   "outputs": [
    {
     "data": {
      "text/html": [
       "<div>\n",
       "<style scoped>\n",
       "    .dataframe tbody tr th:only-of-type {\n",
       "        vertical-align: middle;\n",
       "    }\n",
       "\n",
       "    .dataframe tbody tr th {\n",
       "        vertical-align: top;\n",
       "    }\n",
       "\n",
       "    .dataframe thead th {\n",
       "        text-align: right;\n",
       "    }\n",
       "</style>\n",
       "<table border=\"1\" class=\"dataframe\">\n",
       "  <thead>\n",
       "    <tr style=\"text-align: right;\">\n",
       "      <th></th>\n",
       "      <th>Target ID</th>\n",
       "      <th>MJD</th>\n",
       "      <th>OBSVHELIO (km/s)</th>\n",
       "      <th>OBSVREL Error (km/s)</th>\n",
       "      <th>&lt;RV&gt;</th>\n",
       "      <th>ΔRV</th>\n",
       "      <th>Cluster</th>\n",
       "    </tr>\n",
       "  </thead>\n",
       "  <tbody>\n",
       "    <tr>\n",
       "      <th>15</th>\n",
       "      <td>apo25m.5226.150-08-RV.2M03252400+4614203</td>\n",
       "      <td>58143</td>\n",
       "      <td>-86.096080</td>\n",
       "      <td>0.019952</td>\n",
       "      <td>-86.476541</td>\n",
       "      <td>0.380461</td>\n",
       "      <td>0</td>\n",
       "    </tr>\n",
       "    <tr>\n",
       "      <th>63</th>\n",
       "      <td>apo25m.5226.150-08-RV.2M03262343+4632226</td>\n",
       "      <td>58143</td>\n",
       "      <td>12.651539</td>\n",
       "      <td>0.004862</td>\n",
       "      <td>12.452550</td>\n",
       "      <td>0.198989</td>\n",
       "      <td>0</td>\n",
       "    </tr>\n",
       "    <tr>\n",
       "      <th>127</th>\n",
       "      <td>apo25m.5226.150-08-RV.2M03263984+4522118</td>\n",
       "      <td>58143</td>\n",
       "      <td>-67.523415</td>\n",
       "      <td>0.001907</td>\n",
       "      <td>-67.687254</td>\n",
       "      <td>0.163839</td>\n",
       "      <td>0</td>\n",
       "    </tr>\n",
       "    <tr>\n",
       "      <th>143</th>\n",
       "      <td>apo25m.5226.150-08-RV.2M03264360+4555595</td>\n",
       "      <td>58143</td>\n",
       "      <td>14.835888</td>\n",
       "      <td>0.033460</td>\n",
       "      <td>14.789389</td>\n",
       "      <td>0.046499</td>\n",
       "      <td>0</td>\n",
       "    </tr>\n",
       "    <tr>\n",
       "      <th>159</th>\n",
       "      <td>apo25m.5226.150-08-RV.2M03264888+4530001</td>\n",
       "      <td>58143</td>\n",
       "      <td>-43.308360</td>\n",
       "      <td>0.006249</td>\n",
       "      <td>-43.443684</td>\n",
       "      <td>0.135324</td>\n",
       "      <td>0</td>\n",
       "    </tr>\n",
       "    <tr>\n",
       "      <th>...</th>\n",
       "      <td>...</td>\n",
       "      <td>...</td>\n",
       "      <td>...</td>\n",
       "      <td>...</td>\n",
       "      <td>...</td>\n",
       "      <td>...</td>\n",
       "      <td>...</td>\n",
       "    </tr>\n",
       "    <tr>\n",
       "      <th>3343</th>\n",
       "      <td>apo25m.5226.150-08-RV.2M03413804+4551198</td>\n",
       "      <td>58143</td>\n",
       "      <td>-39.596684</td>\n",
       "      <td>0.001373</td>\n",
       "      <td>-39.246963</td>\n",
       "      <td>-0.349721</td>\n",
       "      <td>0</td>\n",
       "    </tr>\n",
       "    <tr>\n",
       "      <th>3359</th>\n",
       "      <td>apo25m.5226.150-08-RV.2M03414198+4535501</td>\n",
       "      <td>58143</td>\n",
       "      <td>-11.983702</td>\n",
       "      <td>0.020443</td>\n",
       "      <td>-12.037193</td>\n",
       "      <td>0.053491</td>\n",
       "      <td>0</td>\n",
       "    </tr>\n",
       "    <tr>\n",
       "      <th>3375</th>\n",
       "      <td>apo25m.5226.150-08-RV.2M03414441+4619165</td>\n",
       "      <td>58143</td>\n",
       "      <td>-33.714245</td>\n",
       "      <td>0.004526</td>\n",
       "      <td>-33.805174</td>\n",
       "      <td>0.090929</td>\n",
       "      <td>0</td>\n",
       "    </tr>\n",
       "    <tr>\n",
       "      <th>3391</th>\n",
       "      <td>apo25m.5226.150-08-RV.2M03415050+4551108</td>\n",
       "      <td>58143</td>\n",
       "      <td>-33.030212</td>\n",
       "      <td>0.024766</td>\n",
       "      <td>-32.999944</td>\n",
       "      <td>-0.030268</td>\n",
       "      <td>0</td>\n",
       "    </tr>\n",
       "    <tr>\n",
       "      <th>3407</th>\n",
       "      <td>apo25m.5226.150-08-RV.2M03415658+4626067</td>\n",
       "      <td>58143</td>\n",
       "      <td>-26.415329</td>\n",
       "      <td>0.008397</td>\n",
       "      <td>-26.537180</td>\n",
       "      <td>0.121851</td>\n",
       "      <td>0</td>\n",
       "    </tr>\n",
       "  </tbody>\n",
       "</table>\n",
       "<p>170 rows × 7 columns</p>\n",
       "</div>"
      ],
      "text/plain": [
       "                                     Target ID    MJD  OBSVHELIO (km/s)  \\\n",
       "15    apo25m.5226.150-08-RV.2M03252400+4614203  58143        -86.096080   \n",
       "63    apo25m.5226.150-08-RV.2M03262343+4632226  58143         12.651539   \n",
       "127   apo25m.5226.150-08-RV.2M03263984+4522118  58143        -67.523415   \n",
       "143   apo25m.5226.150-08-RV.2M03264360+4555595  58143         14.835888   \n",
       "159   apo25m.5226.150-08-RV.2M03264888+4530001  58143        -43.308360   \n",
       "...                                        ...    ...               ...   \n",
       "3343  apo25m.5226.150-08-RV.2M03413804+4551198  58143        -39.596684   \n",
       "3359  apo25m.5226.150-08-RV.2M03414198+4535501  58143        -11.983702   \n",
       "3375  apo25m.5226.150-08-RV.2M03414441+4619165  58143        -33.714245   \n",
       "3391  apo25m.5226.150-08-RV.2M03415050+4551108  58143        -33.030212   \n",
       "3407  apo25m.5226.150-08-RV.2M03415658+4626067  58143        -26.415329   \n",
       "\n",
       "      OBSVREL Error (km/s)       <RV>       ΔRV  Cluster  \n",
       "15                0.019952 -86.476541  0.380461        0  \n",
       "63                0.004862  12.452550  0.198989        0  \n",
       "127               0.001907 -67.687254  0.163839        0  \n",
       "143               0.033460  14.789389  0.046499        0  \n",
       "159               0.006249 -43.443684  0.135324        0  \n",
       "...                    ...        ...       ...      ...  \n",
       "3343              0.001373 -39.246963 -0.349721        0  \n",
       "3359              0.020443 -12.037193  0.053491        0  \n",
       "3375              0.004526 -33.805174  0.090929        0  \n",
       "3391              0.024766 -32.999944 -0.030268        0  \n",
       "3407              0.008397 -26.537180  0.121851        0  \n",
       "\n",
       "[170 rows x 7 columns]"
      ]
     },
     "execution_count": 85,
     "metadata": {},
     "output_type": "execute_result"
    }
   ],
   "source": [
    "df0[df0['MJD'] == 58143]"
   ]
  },
  {
   "cell_type": "code",
   "execution_count": 86,
   "metadata": {},
   "outputs": [
    {
     "data": {
      "text/plain": [
       "0.04786643918209839"
      ]
     },
     "execution_count": 86,
     "metadata": {},
     "output_type": "execute_result"
    }
   ],
   "source": [
    "sum(list(df0[df0['MJD'] == 58143]['ΔRV'])) / 170"
   ]
  },
  {
   "cell_type": "code",
   "execution_count": 87,
   "metadata": {},
   "outputs": [],
   "source": [
    "deltarv = list(df0[df0['MJD'] == 58143]['ΔRV'])\n",
    "sigmarv = list(df0[df0['MJD'] == 58143]['OBSVREL Error (km/s)'])"
   ]
  },
  {
   "cell_type": "code",
   "execution_count": 88,
   "metadata": {},
   "outputs": [],
   "source": [
    "weight_df0 = [1/((sigmarv[s])**2) for s in range(len(sigmarv))]\n",
    "# weight_df0"
   ]
  },
  {
   "cell_type": "code",
   "execution_count": 89,
   "metadata": {},
   "outputs": [
    {
     "data": {
      "text/plain": [
       "0.0003854622805873125"
      ]
     },
     "execution_count": 89,
     "metadata": {},
     "output_type": "execute_result"
    }
   ],
   "source": [
    "SigmaRV = np.sqrt(1/sum(weight_df0))\n",
    "SigmaRV"
   ]
  },
  {
   "cell_type": "code",
   "execution_count": 90,
   "metadata": {},
   "outputs": [
    {
     "data": {
      "text/plain": [
       "0.03474662908698892"
      ]
     },
     "execution_count": 90,
     "metadata": {},
     "output_type": "execute_result"
    }
   ],
   "source": [
    "combinedavg = sum([deltarv[r]*weight_df0[r] for r in range(len(deltarv))]) / sum(weight_df0)\n",
    "combinedavg"
   ]
  },
  {
   "cell_type": "markdown",
   "metadata": {},
   "source": [
    "### Find statistical uncertainty on polyfit (i.e. a and b)\n",
    "- Should be square root of diagonal elements of the covariance\n",
    "- Then try doing this whole thing with other plates?"
   ]
  },
  {
   "cell_type": "code",
   "execution_count": 177,
   "metadata": {},
   "outputs": [
    {
     "name": "stdout",
     "output_type": "stream",
     "text": [
      "Gradient of slope: 0.026486353112670828 [m/MJD]\n",
      "Polynomial coefficients: 0.026486353112670828 -1528.4716367142598\n",
      "Covariance matrix: [[ 1.47329823e-03 -8.52427726e+01]\n",
      " [-8.52427726e+01  4.93205742e+06]]\n",
      "Uncertainty: [3.83835671e-02 2.22082359e+03]\n"
     ]
    },
    {
     "data": {
      "image/png": "[encoded data removed]",
      "text/plain": [
       "<Figure size 720x720 with 1 Axes>"
      ]
     },
     "metadata": {
      "needs_background": "light"
     },
     "output_type": "display_data"
    }
   ],
   "source": [
    "x_cf = weightedavg_df_cutoff['MJD']\n",
    "y_cf = weightedavg_df_cutoff['Combined ΔRV (m/s)']\n",
    "yerr_cf = weightedavg_df_cutoff['Combined σRV (m/s)']\n",
    "weights = 1/(yerr_cf**2)\n",
    "model, cov = np.polyfit(x_cf, y_cf, deg=1, w=weights, cov=True)\n",
    "a, b = model\n",
    "\n",
    "# Scatterplot of combined total ΔRVs per epoch for Plate 9290, with linear fit\n",
    "\n",
    "plt.figure(figsize=(10, 10))\n",
    "plt.errorbar(x_cf, y_cf, yerr_cf, fmt='.', color='blue', ecolor='red', capsize=5)\n",
    "plt.plot(x, a*x+b, color='lightgreen')\n",
    "plt.title('Sum of ΔRVs per epoch for Plates 8112, 8907, 9290, Cluster 0 ΔRVs')\n",
    "plt.xlabel('MJD')\n",
    "plt.ylabel('summed + weighted ΔRV [km/s]')\n",
    "\n",
    "# Gradient - not sure how to interpret?\n",
    "\n",
    "print('Gradient of slope:', a, '[m/MJD]')\n",
    "print('Polynomial coefficients:', a, b)\n",
    "print('Covariance matrix:', cov)\n",
    "print('Uncertainty:', np.sqrt(np.diag(cov)))"
   ]
  },
  {
   "cell_type": "code",
   "execution_count": null,
   "metadata": {},
   "outputs": [],
   "source": [
    "print(np.sqrt(np.diag(cov)))"
   ]
  },
  {
   "cell_type": "code",
   "execution_count": 108,
   "metadata": {},
   "outputs": [
    {
     "name": "stdout",
     "output_type": "stream",
     "text": [
      "[ 5.84682581e-02 -3.38645306e+03]\n",
      "0.05846825809757231\n",
      "-3386.45305865877\n"
     ]
    }
   ],
   "source": [
    "a, b = np.polyfit(x_cf, y_cf, deg=1, w=weights)\n",
    "print(np.polyfit(x_cf, y_cf, deg=1, w=weights))\n",
    "print(a)\n",
    "print(b)"
   ]
  },
  {
   "cell_type": "code",
   "execution_count": 92,
   "metadata": {},
   "outputs": [],
   "source": [
    "df2 = pd.concat([df0, df1])"
   ]
  },
  {
   "cell_type": "code",
   "execution_count": 93,
   "metadata": {},
   "outputs": [
    {
     "data": {
      "text/html": [
       "<div>\n",
       "<style scoped>\n",
       "    .dataframe tbody tr th:only-of-type {\n",
       "        vertical-align: middle;\n",
       "    }\n",
       "\n",
       "    .dataframe tbody tr th {\n",
       "        vertical-align: top;\n",
       "    }\n",
       "\n",
       "    .dataframe thead th {\n",
       "        text-align: right;\n",
       "    }\n",
       "</style>\n",
       "<table border=\"1\" class=\"dataframe\">\n",
       "  <thead>\n",
       "    <tr style=\"text-align: right;\">\n",
       "      <th></th>\n",
       "      <th>Target ID</th>\n",
       "      <th>MJD</th>\n",
       "      <th>OBSVHELIO (km/s)</th>\n",
       "      <th>OBSVREL Error (km/s)</th>\n",
       "      <th>&lt;RV&gt;</th>\n",
       "      <th>ΔRV</th>\n",
       "      <th>Cluster</th>\n",
       "    </tr>\n",
       "  </thead>\n",
       "  <tbody>\n",
       "    <tr>\n",
       "      <th>0</th>\n",
       "      <td>apo25m.5226.150-08-RV.2M03252400+4614203</td>\n",
       "      <td>57706</td>\n",
       "      <td>-86.565704</td>\n",
       "      <td>0.010245</td>\n",
       "      <td>-86.476541</td>\n",
       "      <td>-0.089163</td>\n",
       "      <td>0</td>\n",
       "    </tr>\n",
       "    <tr>\n",
       "      <th>15</th>\n",
       "      <td>apo25m.5226.150-08-RV.2M03252400+4614203</td>\n",
       "      <td>58143</td>\n",
       "      <td>-86.096080</td>\n",
       "      <td>0.019952</td>\n",
       "      <td>-86.476541</td>\n",
       "      <td>0.380461</td>\n",
       "      <td>0</td>\n",
       "    </tr>\n",
       "    <tr>\n",
       "      <th>14</th>\n",
       "      <td>apo25m.5226.150-08-RV.2M03252400+4614203</td>\n",
       "      <td>58114</td>\n",
       "      <td>-86.530830</td>\n",
       "      <td>0.018672</td>\n",
       "      <td>-86.476541</td>\n",
       "      <td>-0.054289</td>\n",
       "      <td>0</td>\n",
       "    </tr>\n",
       "    <tr>\n",
       "      <th>13</th>\n",
       "      <td>apo25m.5226.150-08-RV.2M03252400+4614203</td>\n",
       "      <td>58087</td>\n",
       "      <td>-86.532440</td>\n",
       "      <td>0.008684</td>\n",
       "      <td>-86.476541</td>\n",
       "      <td>-0.055899</td>\n",
       "      <td>0</td>\n",
       "    </tr>\n",
       "    <tr>\n",
       "      <th>12</th>\n",
       "      <td>apo25m.5226.150-08-RV.2M03252400+4614203</td>\n",
       "      <td>58085</td>\n",
       "      <td>-86.569565</td>\n",
       "      <td>0.009636</td>\n",
       "      <td>-86.476541</td>\n",
       "      <td>-0.093024</td>\n",
       "      <td>0</td>\n",
       "    </tr>\n",
       "    <tr>\n",
       "      <th>...</th>\n",
       "      <td>...</td>\n",
       "      <td>...</td>\n",
       "      <td>...</td>\n",
       "      <td>...</td>\n",
       "      <td>...</td>\n",
       "      <td>...</td>\n",
       "      <td>...</td>\n",
       "    </tr>\n",
       "    <tr>\n",
       "      <th>3300</th>\n",
       "      <td>apo25m.5226.150-08-RV.2M03411209+4530317</td>\n",
       "      <td>57760</td>\n",
       "      <td>-31.895340</td>\n",
       "      <td>0.349240</td>\n",
       "      <td>-32.182084</td>\n",
       "      <td>0.286744</td>\n",
       "      <td>1</td>\n",
       "    </tr>\n",
       "    <tr>\n",
       "      <th>3298</th>\n",
       "      <td>apo25m.5226.150-08-RV.2M03411209+4530317</td>\n",
       "      <td>57734</td>\n",
       "      <td>-33.901012</td>\n",
       "      <td>0.408702</td>\n",
       "      <td>-32.182084</td>\n",
       "      <td>-1.718928</td>\n",
       "      <td>1</td>\n",
       "    </tr>\n",
       "    <tr>\n",
       "      <th>3297</th>\n",
       "      <td>apo25m.5226.150-08-RV.2M03411209+4530317</td>\n",
       "      <td>57732</td>\n",
       "      <td>-34.098110</td>\n",
       "      <td>0.179040</td>\n",
       "      <td>-32.182084</td>\n",
       "      <td>-1.916026</td>\n",
       "      <td>1</td>\n",
       "    </tr>\n",
       "    <tr>\n",
       "      <th>3296</th>\n",
       "      <td>apo25m.5226.150-08-RV.2M03411209+4530317</td>\n",
       "      <td>57706</td>\n",
       "      <td>-32.973503</td>\n",
       "      <td>0.359694</td>\n",
       "      <td>-32.182084</td>\n",
       "      <td>-0.791419</td>\n",
       "      <td>1</td>\n",
       "    </tr>\n",
       "    <tr>\n",
       "      <th>3303</th>\n",
       "      <td>apo25m.5226.150-08-RV.2M03411209+4530317</td>\n",
       "      <td>58006</td>\n",
       "      <td>-30.903458</td>\n",
       "      <td>0.334707</td>\n",
       "      <td>-32.182084</td>\n",
       "      <td>1.278626</td>\n",
       "      <td>1</td>\n",
       "    </tr>\n",
       "  </tbody>\n",
       "</table>\n",
       "<p>3408 rows × 7 columns</p>\n",
       "</div>"
      ],
      "text/plain": [
       "                                     Target ID    MJD  OBSVHELIO (km/s)  \\\n",
       "0     apo25m.5226.150-08-RV.2M03252400+4614203  57706        -86.565704   \n",
       "15    apo25m.5226.150-08-RV.2M03252400+4614203  58143        -86.096080   \n",
       "14    apo25m.5226.150-08-RV.2M03252400+4614203  58114        -86.530830   \n",
       "13    apo25m.5226.150-08-RV.2M03252400+4614203  58087        -86.532440   \n",
       "12    apo25m.5226.150-08-RV.2M03252400+4614203  58085        -86.569565   \n",
       "...                                        ...    ...               ...   \n",
       "3300  apo25m.5226.150-08-RV.2M03411209+4530317  57760        -31.895340   \n",
       "3298  apo25m.5226.150-08-RV.2M03411209+4530317  57734        -33.901012   \n",
       "3297  apo25m.5226.150-08-RV.2M03411209+4530317  57732        -34.098110   \n",
       "3296  apo25m.5226.150-08-RV.2M03411209+4530317  57706        -32.973503   \n",
       "3303  apo25m.5226.150-08-RV.2M03411209+4530317  58006        -30.903458   \n",
       "\n",
       "      OBSVREL Error (km/s)       <RV>       ΔRV  Cluster  \n",
       "0                 0.010245 -86.476541 -0.089163        0  \n",
       "15                0.019952 -86.476541  0.380461        0  \n",
       "14                0.018672 -86.476541 -0.054289        0  \n",
       "13                0.008684 -86.476541 -0.055899        0  \n",
       "12                0.009636 -86.476541 -0.093024        0  \n",
       "...                    ...        ...       ...      ...  \n",
       "3300              0.349240 -32.182084  0.286744        1  \n",
       "3298              0.408702 -32.182084 -1.718928        1  \n",
       "3297              0.179040 -32.182084 -1.916026        1  \n",
       "3296              0.359694 -32.182084 -0.791419        1  \n",
       "3303              0.334707 -32.182084  1.278626        1  \n",
       "\n",
       "[3408 rows x 7 columns]"
      ]
     },
     "execution_count": 93,
     "metadata": {},
     "output_type": "execute_result"
    }
   ],
   "source": [
    "df2"
   ]
  },
  {
   "cell_type": "code",
   "execution_count": 94,
   "metadata": {},
   "outputs": [
    {
     "data": {
      "text/plain": [
       "<AxesSubplot:ylabel='Frequency'>"
      ]
     },
     "execution_count": 94,
     "metadata": {},
     "output_type": "execute_result"
    },
    {
     "data": {
      "image/png": "[encoded data removed]",
      "text/plain": [
       "<Figure size 1440x720 with 1 Axes>"
      ]
     },
     "metadata": {
      "needs_background": "light"
     },
     "output_type": "display_data"
    }
   ],
   "source": [
    "plt.figure(figsize=(20, 10))\n",
    "df2['ΔRV'].plot.hist(grid=True, bins=2000, rwidth=1, color='b')\n",
    "df1['ΔRV'].plot.hist(grid=True, bins=2000, rwidth=1, color='g')\n",
    "df0['ΔRV'].plot.hist(grid=True, bins=2000, rwidth=1, color='r')\n",
    "# plt.xlim(-5, 5)"
   ]
  },
  {
   "cell_type": "code",
   "execution_count": 95,
   "metadata": {},
   "outputs": [],
   "source": [
    "data0 = list(df0['ΔRV'])\n",
    "data1 = list(df1['ΔRV'])\n",
    "data2 = data0 + data1"
   ]
  },
  {
   "cell_type": "code",
   "execution_count": 96,
   "metadata": {},
   "outputs": [
    {
     "data": {
      "text/plain": [
       "(array([1., 0., 0., ..., 0., 0., 1.]),\n",
       " array([-55.42705416, -55.37734637, -55.32763859, ...,  43.88910027,\n",
       "         43.93880806,  43.98851584]),\n",
       " <BarContainer object of 2000 artists>)"
      ]
     },
     "execution_count": 96,
     "metadata": {},
     "output_type": "execute_result"
    },
    {
     "data": {
      "image/png": "[encoded data removed]",
      "text/plain": [
       "<Figure size 1440x720 with 1 Axes>"
      ]
     },
     "metadata": {
      "needs_background": "light"
     },
     "output_type": "display_data"
    }
   ],
   "source": [
    "plt.figure(figsize=(20,10))\n",
    "plt.hist(data0, bins=2000, alpha=0.5, label='cluster 0', color='r')\n",
    "plt.hist(data1, bins=2000, alpha=0.5, label='cluster 0', color='g')\n",
    "plt.hist(data2, bins=2000, alpha=0.5, label='cluster 0', color='b')\n",
    "# plt.xlim(-20, 20)"
   ]
  },
  {
   "cell_type": "code",
   "execution_count": 97,
   "metadata": {},
   "outputs": [
    {
     "data": {
      "text/plain": [
       "(array([1., 0., 0., ..., 0., 0., 1.]),\n",
       " array([-55.42705416, -55.37734637, -55.32763859, ...,  43.88910027,\n",
       "         43.93880806,  43.98851584]),\n",
       " <BarContainer object of 2000 artists>)"
      ]
     },
     "execution_count": 97,
     "metadata": {},
     "output_type": "execute_result"
    },
    {
     "data": {
      "image/png": "[encoded data removed]",
      "text/plain": [
       "<Figure size 1440x720 with 1 Axes>"
      ]
     },
     "metadata": {
      "needs_background": "light"
     },
     "output_type": "display_data"
    }
   ],
   "source": [
    "plt.figure(figsize=(20,10))\n",
    "plt.hist(data2, bins=2000, alpha=0.5, label='cluster 0', color='b')"
   ]
  },
  {
   "cell_type": "code",
   "execution_count": null,
   "metadata": {},
   "outputs": [],
   "source": []
  },
  {
   "cell_type": "markdown",
   "metadata": {},
   "source": [
    "## Step 5\n",
    "- Pick some RV standard stars (~10)\n",
    "- Apply correction (50/100 m correction is large for typical statistical error of APOGEE)"
   ]
  },
  {
   "cell_type": "code",
   "execution_count": null,
   "metadata": {},
   "outputs": [],
   "source": []
  },
  {
   "cell_type": "code",
   "execution_count": null,
   "metadata": {},
   "outputs": [],
   "source": []
  },
  {
   "cell_type": "code",
   "execution_count": null,
   "metadata": {},
   "outputs": [],
   "source": []
  },
  {
   "cell_type": "code",
   "execution_count": null,
   "metadata": {},
   "outputs": [],
   "source": []
  },
  {
   "cell_type": "code",
   "execution_count": null,
   "metadata": {},
   "outputs": [],
   "source": []
  },
  {
   "cell_type": "code",
   "execution_count": null,
   "metadata": {},
   "outputs": [],
   "source": []
  },
  {
   "cell_type": "markdown",
   "metadata": {},
   "source": [
    "## Step 6\n",
    "- Try repeating this process for other plates\n",
    "- Combine plots for all plates (fill in gaps in MJD)\n",
    "    - Difference in N measurements per object doesn't matter bc statistical error will be larger with fewer data points, makes up for it"
   ]
  },
  {
   "cell_type": "markdown",
   "metadata": {},
   "source": [
    "## Step ?\n",
    "- Try PCA"
   ]
  },
  {
   "cell_type": "code",
   "execution_count": 41,
   "metadata": {},
   "outputs": [],
   "source": [
    "features = ['MJD', 'ΔRV']#, 'OBSVREL Error (km/s)', '<RV>']"
   ]
  },
  {
   "cell_type": "code",
   "execution_count": 42,
   "metadata": {},
   "outputs": [],
   "source": [
    "x2 = df.loc[:, features].values"
   ]
  },
  {
   "cell_type": "code",
   "execution_count": 43,
   "metadata": {},
   "outputs": [],
   "source": [
    "y2 = df.loc[:, ['Target ID']].values"
   ]
  },
  {
   "cell_type": "code",
   "execution_count": 44,
   "metadata": {},
   "outputs": [],
   "source": [
    "x2 = StandardScaler().fit_transform(x2)"
   ]
  },
  {
   "cell_type": "code",
   "execution_count": 45,
   "metadata": {},
   "outputs": [
    {
     "data": {
      "text/plain": [
       "(3408, 2)"
      ]
     },
     "execution_count": 45,
     "metadata": {},
     "output_type": "execute_result"
    }
   ],
   "source": [
    "x2.shape"
   ]
  },
  {
   "cell_type": "code",
   "execution_count": 46,
   "metadata": {},
   "outputs": [
    {
     "data": {
      "text/plain": [
       "(1.9546180011006278e-18, 1.0)"
      ]
     },
     "execution_count": 46,
     "metadata": {},
     "output_type": "execute_result"
    }
   ],
   "source": [
    "# Check standard dev is 1.0\n",
    "\n",
    "np.mean(x2), np.std(x2)"
   ]
  },
  {
   "cell_type": "code",
   "execution_count": 47,
   "metadata": {},
   "outputs": [],
   "source": [
    "feat_cols = ['feature'+str(i) for i in range(x2.shape[1])]"
   ]
  },
  {
   "cell_type": "code",
   "execution_count": 48,
   "metadata": {},
   "outputs": [],
   "source": [
    "normalised_data = pd.DataFrame(x2,columns=feat_cols)"
   ]
  },
  {
   "cell_type": "code",
   "execution_count": 49,
   "metadata": {},
   "outputs": [
    {
     "data": {
      "text/html": [
       "<div>\n",
       "<style scoped>\n",
       "    .dataframe tbody tr th:only-of-type {\n",
       "        vertical-align: middle;\n",
       "    }\n",
       "\n",
       "    .dataframe tbody tr th {\n",
       "        vertical-align: top;\n",
       "    }\n",
       "\n",
       "    .dataframe thead th {\n",
       "        text-align: right;\n",
       "    }\n",
       "</style>\n",
       "<table border=\"1\" class=\"dataframe\">\n",
       "  <thead>\n",
       "    <tr style=\"text-align: right;\">\n",
       "      <th></th>\n",
       "      <th>feature0</th>\n",
       "      <th>feature1</th>\n",
       "    </tr>\n",
       "  </thead>\n",
       "  <tbody>\n",
       "    <tr>\n",
       "      <th>3403</th>\n",
       "      <td>-1.212567</td>\n",
       "      <td>0.010070</td>\n",
       "    </tr>\n",
       "    <tr>\n",
       "      <th>3404</th>\n",
       "      <td>-1.370993</td>\n",
       "      <td>-0.038174</td>\n",
       "    </tr>\n",
       "    <tr>\n",
       "      <th>3405</th>\n",
       "      <td>1.115074</td>\n",
       "      <td>-0.005590</td>\n",
       "    </tr>\n",
       "    <tr>\n",
       "      <th>3406</th>\n",
       "      <td>-0.865249</td>\n",
       "      <td>0.001966</td>\n",
       "    </tr>\n",
       "    <tr>\n",
       "      <th>3407</th>\n",
       "      <td>1.291780</td>\n",
       "      <td>0.036056</td>\n",
       "    </tr>\n",
       "  </tbody>\n",
       "</table>\n",
       "</div>"
      ],
      "text/plain": [
       "      feature0  feature1\n",
       "3403 -1.212567  0.010070\n",
       "3404 -1.370993 -0.038174\n",
       "3405  1.115074 -0.005590\n",
       "3406 -0.865249  0.001966\n",
       "3407  1.291780  0.036056"
      ]
     },
     "execution_count": 49,
     "metadata": {},
     "output_type": "execute_result"
    }
   ],
   "source": [
    "normalised_data.tail()"
   ]
  },
  {
   "cell_type": "code",
   "execution_count": 50,
   "metadata": {},
   "outputs": [],
   "source": [
    "pca = PCA(n_components = 2)"
   ]
  },
  {
   "cell_type": "code",
   "execution_count": 51,
   "metadata": {},
   "outputs": [],
   "source": [
    "principalComponents = pca.fit_transform(x2)"
   ]
  },
  {
   "cell_type": "code",
   "execution_count": 52,
   "metadata": {},
   "outputs": [],
   "source": [
    "principalDf = pd.DataFrame(data = principalComponents, \n",
    "                           columns = ['principal component 1', 'principal component 2'])"
   ]
  },
  {
   "cell_type": "code",
   "execution_count": 53,
   "metadata": {
    "scrolled": true
   },
   "outputs": [
    {
     "data": {
      "text/html": [
       "<div>\n",
       "<style scoped>\n",
       "    .dataframe tbody tr th:only-of-type {\n",
       "        vertical-align: middle;\n",
       "    }\n",
       "\n",
       "    .dataframe tbody tr th {\n",
       "        vertical-align: top;\n",
       "    }\n",
       "\n",
       "    .dataframe thead th {\n",
       "        text-align: right;\n",
       "    }\n",
       "</style>\n",
       "<table border=\"1\" class=\"dataframe\">\n",
       "  <thead>\n",
       "    <tr style=\"text-align: right;\">\n",
       "      <th></th>\n",
       "      <th>principal component 1</th>\n",
       "      <th>principal component 2</th>\n",
       "    </tr>\n",
       "  </thead>\n",
       "  <tbody>\n",
       "    <tr>\n",
       "      <th>3403</th>\n",
       "      <td>-0.864535</td>\n",
       "      <td>0.850293</td>\n",
       "    </tr>\n",
       "    <tr>\n",
       "      <th>3404</th>\n",
       "      <td>-0.942445</td>\n",
       "      <td>0.996431</td>\n",
       "    </tr>\n",
       "    <tr>\n",
       "      <th>3405</th>\n",
       "      <td>0.792429</td>\n",
       "      <td>-0.784524</td>\n",
       "    </tr>\n",
       "    <tr>\n",
       "      <th>3406</th>\n",
       "      <td>-0.613213</td>\n",
       "      <td>0.610433</td>\n",
       "    </tr>\n",
       "    <tr>\n",
       "      <th>3407</th>\n",
       "      <td>0.887931</td>\n",
       "      <td>-0.938921</td>\n",
       "    </tr>\n",
       "  </tbody>\n",
       "</table>\n",
       "</div>"
      ],
      "text/plain": [
       "      principal component 1  principal component 2\n",
       "3403              -0.864535               0.850293\n",
       "3404              -0.942445               0.996431\n",
       "3405               0.792429              -0.784524\n",
       "3406              -0.613213               0.610433\n",
       "3407               0.887931              -0.938921"
      ]
     },
     "execution_count": 53,
     "metadata": {},
     "output_type": "execute_result"
    }
   ],
   "source": [
    "principalDf.tail()"
   ]
  },
  {
   "cell_type": "code",
   "execution_count": 54,
   "metadata": {
    "scrolled": true
   },
   "outputs": [
    {
     "name": "stdout",
     "output_type": "stream",
     "text": [
      "Explained variation per principal component: [0.52070766 0.47929234]\n"
     ]
    }
   ],
   "source": [
    "print('Explained variation per principal component: {}'.format(pca.explained_variance_ratio_))"
   ]
  },
  {
   "cell_type": "code",
   "execution_count": 55,
   "metadata": {},
   "outputs": [
    {
     "data": {
      "text/plain": [
       "<Figure size 432x288 with 0 Axes>"
      ]
     },
     "metadata": {},
     "output_type": "display_data"
    },
    {
     "data": {
      "image/png": "[encoded data removed]",
      "text/plain": [
       "<Figure size 720x720 with 1 Axes>"
      ]
     },
     "metadata": {
      "needs_background": "light"
     },
     "output_type": "display_data"
    }
   ],
   "source": [
    "plt.figure()\n",
    "plt.figure(figsize=(10,10))\n",
    "# plt.xticks(fontsize=12)\n",
    "# plt.yticks(fontsize=14)\n",
    "plt.xlabel('Principal Component - 1',fontsize=20)\n",
    "plt.ylabel('Principal Component - 2',fontsize=20)\n",
    "plt.title(\"PCA of Dataset\",fontsize=20)\n",
    "targets = [df['Target ID']]\n",
    "colors = ['r', 'g']\n",
    "for target, color in zip(targets,colors):\n",
    "    indicesToKeep = df['Target ID'] == target\n",
    "    plt.scatter(principalDf.loc[indicesToKeep, 'principal component 1']\n",
    "               , principalDf.loc[indicesToKeep, 'principal component 2'], c = color, s = 50)\n",
    "\n",
    "# plt.legend(targets,prop={'size': 15})"
   ]
  },
  {
   "cell_type": "code",
   "execution_count": null,
   "metadata": {},
   "outputs": [],
   "source": []
  },
  {
   "cell_type": "code",
   "execution_count": 165,
   "metadata": {},
   "outputs": [],
   "source": [
    "finalDf = pd.concat([principalDf, df[['Target ID']]], axis = 1)"
   ]
  },
  {
   "cell_type": "code",
   "execution_count": 166,
   "metadata": {},
   "outputs": [
    {
     "data": {
      "text/html": [
       "<div>\n",
       "<style scoped>\n",
       "    .dataframe tbody tr th:only-of-type {\n",
       "        vertical-align: middle;\n",
       "    }\n",
       "\n",
       "    .dataframe tbody tr th {\n",
       "        vertical-align: top;\n",
       "    }\n",
       "\n",
       "    .dataframe thead th {\n",
       "        text-align: right;\n",
       "    }\n",
       "</style>\n",
       "<table border=\"1\" class=\"dataframe\">\n",
       "  <thead>\n",
       "    <tr style=\"text-align: right;\">\n",
       "      <th></th>\n",
       "      <th>principal component 1</th>\n",
       "      <th>principal component 2</th>\n",
       "      <th>Target ID</th>\n",
       "    </tr>\n",
       "  </thead>\n",
       "  <tbody>\n",
       "    <tr>\n",
       "      <th>0</th>\n",
       "      <td>-0.018731</td>\n",
       "      <td>-1.022855</td>\n",
       "      <td>apo25m.5226.150-08-RV.2M03252400+4614203</td>\n",
       "    </tr>\n",
       "    <tr>\n",
       "      <th>1</th>\n",
       "      <td>-0.025336</td>\n",
       "      <td>-0.914397</td>\n",
       "      <td>apo25m.5226.150-08-RV.2M03252400+4614203</td>\n",
       "    </tr>\n",
       "    <tr>\n",
       "      <th>2</th>\n",
       "      <td>-0.025844</td>\n",
       "      <td>-0.906054</td>\n",
       "      <td>apo25m.5226.150-08-RV.2M03252400+4614203</td>\n",
       "    </tr>\n",
       "    <tr>\n",
       "      <th>3</th>\n",
       "      <td>-0.026098</td>\n",
       "      <td>-0.901884</td>\n",
       "      <td>apo25m.5226.150-08-RV.2M03252400+4614203</td>\n",
       "    </tr>\n",
       "    <tr>\n",
       "      <th>4</th>\n",
       "      <td>-0.032449</td>\n",
       "      <td>-0.797598</td>\n",
       "      <td>apo25m.5226.150-08-RV.2M03252400+4614203</td>\n",
       "    </tr>\n",
       "    <tr>\n",
       "      <th>...</th>\n",
       "      <td>...</td>\n",
       "      <td>...</td>\n",
       "      <td>...</td>\n",
       "    </tr>\n",
       "    <tr>\n",
       "      <th>3627</th>\n",
       "      <td>-0.109078</td>\n",
       "      <td>0.488988</td>\n",
       "      <td>apo25m.5226.150-08-RV.2M03415658+4626067</td>\n",
       "    </tr>\n",
       "    <tr>\n",
       "      <th>3628</th>\n",
       "      <td>-0.113397</td>\n",
       "      <td>0.559901</td>\n",
       "      <td>apo25m.5226.150-08-RV.2M03415658+4626067</td>\n",
       "    </tr>\n",
       "    <tr>\n",
       "      <th>3629</th>\n",
       "      <td>-0.113905</td>\n",
       "      <td>0.568244</td>\n",
       "      <td>apo25m.5226.150-08-RV.2M03415658+4626067</td>\n",
       "    </tr>\n",
       "    <tr>\n",
       "      <th>3630</th>\n",
       "      <td>-0.120764</td>\n",
       "      <td>0.680872</td>\n",
       "      <td>apo25m.5226.150-08-RV.2M03415658+4626067</td>\n",
       "    </tr>\n",
       "    <tr>\n",
       "      <th>3631</th>\n",
       "      <td>-0.128131</td>\n",
       "      <td>0.801843</td>\n",
       "      <td>apo25m.5226.150-08-RV.2M03415658+4626067</td>\n",
       "    </tr>\n",
       "  </tbody>\n",
       "</table>\n",
       "<p>3632 rows × 3 columns</p>\n",
       "</div>"
      ],
      "text/plain": [
       "      principal component 1  principal component 2  \\\n",
       "0                 -0.018731              -1.022855   \n",
       "1                 -0.025336              -0.914397   \n",
       "2                 -0.025844              -0.906054   \n",
       "3                 -0.026098              -0.901884   \n",
       "4                 -0.032449              -0.797598   \n",
       "...                     ...                    ...   \n",
       "3627              -0.109078               0.488988   \n",
       "3628              -0.113397               0.559901   \n",
       "3629              -0.113905               0.568244   \n",
       "3630              -0.120764               0.680872   \n",
       "3631              -0.128131               0.801843   \n",
       "\n",
       "                                     Target ID  \n",
       "0     apo25m.5226.150-08-RV.2M03252400+4614203  \n",
       "1     apo25m.5226.150-08-RV.2M03252400+4614203  \n",
       "2     apo25m.5226.150-08-RV.2M03252400+4614203  \n",
       "3     apo25m.5226.150-08-RV.2M03252400+4614203  \n",
       "4     apo25m.5226.150-08-RV.2M03252400+4614203  \n",
       "...                                        ...  \n",
       "3627  apo25m.5226.150-08-RV.2M03415658+4626067  \n",
       "3628  apo25m.5226.150-08-RV.2M03415658+4626067  \n",
       "3629  apo25m.5226.150-08-RV.2M03415658+4626067  \n",
       "3630  apo25m.5226.150-08-RV.2M03415658+4626067  \n",
       "3631  apo25m.5226.150-08-RV.2M03415658+4626067  \n",
       "\n",
       "[3632 rows x 3 columns]"
      ]
     },
     "execution_count": 166,
     "metadata": {},
     "output_type": "execute_result"
    }
   ],
   "source": [
    "finalDf"
   ]
  }
 ],
 "metadata": {
  "kernelspec": {
   "display_name": "Python 3 (ipykernel)",
   "language": "python",
   "name": "python3"
  },
  "language_info": {
   "codemirror_mode": {
    "name": "ipython",
    "version": 3
   },
   "file_extension": ".py",
   "mimetype": "text/x-python",
   "name": "python",
   "nbconvert_exporter": "python",
   "pygments_lexer": "ipython3",
   "version": "3.9.7"
  }
 },
 "nbformat": 4,
 "nbformat_minor": 4
}
