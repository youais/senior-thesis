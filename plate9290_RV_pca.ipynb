{
 "cells": [
  {
   "cell_type": "code",
   "execution_count": 1,
   "metadata": {},
   "outputs": [],
   "source": [
    "import numpy as np\n",
    "import pandas as pd\n",
    "import matplotlib.pyplot as plt\n",
    "from sklearn.preprocessing import StandardScaler\n",
    "from sklearn.decomposition import PCA\n",
    "from collections import Counter"
   ]
  },
  {
   "cell_type": "code",
   "execution_count": 125,
   "metadata": {},
   "outputs": [],
   "source": [
    "# Read in CSV file\n",
    "\n",
    "df = pd.read_csv('plate9290_RVs.csv').drop(['Unnamed: 0', 'Plate ID'], axis=1)"
   ]
  },
  {
   "cell_type": "code",
   "execution_count": 126,
   "metadata": {
    "scrolled": true
   },
   "outputs": [],
   "source": [
    "df = df.sort_values(['Target ID'], ascending=True)"
   ]
  },
  {
   "cell_type": "code",
   "execution_count": 127,
   "metadata": {},
   "outputs": [
    {
     "data": {
      "text/html": [
       "<div>\n",
       "<style scoped>\n",
       "    .dataframe tbody tr th:only-of-type {\n",
       "        vertical-align: middle;\n",
       "    }\n",
       "\n",
       "    .dataframe tbody tr th {\n",
       "        vertical-align: top;\n",
       "    }\n",
       "\n",
       "    .dataframe thead th {\n",
       "        text-align: right;\n",
       "    }\n",
       "</style>\n",
       "<table border=\"1\" class=\"dataframe\">\n",
       "  <thead>\n",
       "    <tr style=\"text-align: right;\">\n",
       "      <th></th>\n",
       "      <th>Target ID</th>\n",
       "      <th>MJD</th>\n",
       "      <th>OBSVHELIO (km/s)</th>\n",
       "      <th>OBSVREL Error (km/s)</th>\n",
       "    </tr>\n",
       "  </thead>\n",
       "  <tbody>\n",
       "    <tr>\n",
       "      <th>0</th>\n",
       "      <td>apo25m.5226.150-08-RV.2M03252400+4614203</td>\n",
       "      <td>57706</td>\n",
       "      <td>-86.565704</td>\n",
       "      <td>0.010245</td>\n",
       "    </tr>\n",
       "    <tr>\n",
       "      <th>15</th>\n",
       "      <td>apo25m.5226.150-08-RV.2M03252400+4614203</td>\n",
       "      <td>58143</td>\n",
       "      <td>-86.096080</td>\n",
       "      <td>0.019952</td>\n",
       "    </tr>\n",
       "    <tr>\n",
       "      <th>14</th>\n",
       "      <td>apo25m.5226.150-08-RV.2M03252400+4614203</td>\n",
       "      <td>58114</td>\n",
       "      <td>-86.530830</td>\n",
       "      <td>0.018672</td>\n",
       "    </tr>\n",
       "    <tr>\n",
       "      <th>13</th>\n",
       "      <td>apo25m.5226.150-08-RV.2M03252400+4614203</td>\n",
       "      <td>58087</td>\n",
       "      <td>-86.532440</td>\n",
       "      <td>0.008684</td>\n",
       "    </tr>\n",
       "    <tr>\n",
       "      <th>12</th>\n",
       "      <td>apo25m.5226.150-08-RV.2M03252400+4614203</td>\n",
       "      <td>58085</td>\n",
       "      <td>-86.569565</td>\n",
       "      <td>0.009636</td>\n",
       "    </tr>\n",
       "    <tr>\n",
       "      <th>...</th>\n",
       "      <td>...</td>\n",
       "      <td>...</td>\n",
       "      <td>...</td>\n",
       "      <td>...</td>\n",
       "    </tr>\n",
       "    <tr>\n",
       "      <th>3393</th>\n",
       "      <td>apo25m.5226.150-08-RV.2M03415658+4626067</td>\n",
       "      <td>57732</td>\n",
       "      <td>-26.530085</td>\n",
       "      <td>0.016809</td>\n",
       "    </tr>\n",
       "    <tr>\n",
       "      <th>3392</th>\n",
       "      <td>apo25m.5226.150-08-RV.2M03415658+4626067</td>\n",
       "      <td>57706</td>\n",
       "      <td>-26.743143</td>\n",
       "      <td>0.010706</td>\n",
       "    </tr>\n",
       "    <tr>\n",
       "      <th>3406</th>\n",
       "      <td>apo25m.5226.150-08-RV.2M03415658+4626067</td>\n",
       "      <td>58114</td>\n",
       "      <td>-26.599243</td>\n",
       "      <td>0.021124</td>\n",
       "    </tr>\n",
       "    <tr>\n",
       "      <th>3398</th>\n",
       "      <td>apo25m.5226.150-08-RV.2M03415658+4626067</td>\n",
       "      <td>57789</td>\n",
       "      <td>-26.565876</td>\n",
       "      <td>0.009245</td>\n",
       "    </tr>\n",
       "    <tr>\n",
       "      <th>3407</th>\n",
       "      <td>apo25m.5226.150-08-RV.2M03415658+4626067</td>\n",
       "      <td>58143</td>\n",
       "      <td>-26.415329</td>\n",
       "      <td>0.008397</td>\n",
       "    </tr>\n",
       "  </tbody>\n",
       "</table>\n",
       "<p>3408 rows × 4 columns</p>\n",
       "</div>"
      ],
      "text/plain": [
       "                                     Target ID    MJD  OBSVHELIO (km/s)  \\\n",
       "0     apo25m.5226.150-08-RV.2M03252400+4614203  57706        -86.565704   \n",
       "15    apo25m.5226.150-08-RV.2M03252400+4614203  58143        -86.096080   \n",
       "14    apo25m.5226.150-08-RV.2M03252400+4614203  58114        -86.530830   \n",
       "13    apo25m.5226.150-08-RV.2M03252400+4614203  58087        -86.532440   \n",
       "12    apo25m.5226.150-08-RV.2M03252400+4614203  58085        -86.569565   \n",
       "...                                        ...    ...               ...   \n",
       "3393  apo25m.5226.150-08-RV.2M03415658+4626067  57732        -26.530085   \n",
       "3392  apo25m.5226.150-08-RV.2M03415658+4626067  57706        -26.743143   \n",
       "3406  apo25m.5226.150-08-RV.2M03415658+4626067  58114        -26.599243   \n",
       "3398  apo25m.5226.150-08-RV.2M03415658+4626067  57789        -26.565876   \n",
       "3407  apo25m.5226.150-08-RV.2M03415658+4626067  58143        -26.415329   \n",
       "\n",
       "      OBSVREL Error (km/s)  \n",
       "0                 0.010245  \n",
       "15                0.019952  \n",
       "14                0.018672  \n",
       "13                0.008684  \n",
       "12                0.009636  \n",
       "...                    ...  \n",
       "3393              0.016809  \n",
       "3392              0.010706  \n",
       "3406              0.021124  \n",
       "3398              0.009245  \n",
       "3407              0.008397  \n",
       "\n",
       "[3408 rows x 4 columns]"
      ]
     },
     "execution_count": 127,
     "metadata": {},
     "output_type": "execute_result"
    }
   ],
   "source": [
    "df"
   ]
  },
  {
   "cell_type": "markdown",
   "metadata": {},
   "source": [
    "## Step 1\n",
    "- Calculate ΔRV_j = RV_j - < RV >\n",
    "- Plot ΔRV vs MJD, try to locate pattern\n",
    "\n",
    "#### Notes\n",
    "- j denotes epoch (MJD?)\n",
    "- 'epoch', an arbitrarily fixed date relative to which stellar/planetary measurements are expressed\n",
    "\n",
    "#### Questions\n",
    "- Does it matter that uncertainty is for OBSVREL not OBSVHELIO? --> no"
   ]
  },
  {
   "cell_type": "code",
   "execution_count": 128,
   "metadata": {},
   "outputs": [],
   "source": [
    "# Identify list of unique targets\n",
    "\n",
    "unique_targets = Counter(df['Target ID'])\n",
    "unique_targets_list = unique_targets.keys()"
   ]
  },
  {
   "cell_type": "code",
   "execution_count": 129,
   "metadata": {},
   "outputs": [],
   "source": [
    "# unique_targets"
   ]
  },
  {
   "cell_type": "code",
   "execution_count": 130,
   "metadata": {
    "scrolled": true
   },
   "outputs": [
    {
     "data": {
      "text/plain": [
       "213"
      ]
     },
     "execution_count": 130,
     "metadata": {},
     "output_type": "execute_result"
    }
   ],
   "source": [
    "len(unique_targets)"
   ]
  },
  {
   "cell_type": "code",
   "execution_count": 131,
   "metadata": {},
   "outputs": [],
   "source": [
    "# Create list of RV_j values\n",
    "\n",
    "RV_j = list(df['OBSVHELIO (km/s)'])"
   ]
  },
  {
   "cell_type": "code",
   "execution_count": 132,
   "metadata": {},
   "outputs": [],
   "source": [
    "# Calculate <RV>, i.e. weighted RV_j values\n",
    "\n",
    "weightedRVs = []\n",
    "\n",
    "for target in unique_targets_list:\n",
    "    target_df = df[df['Target ID'] == target]\n",
    "    targetRV_j = list(target_df['OBSVHELIO (km/s)'])\n",
    "    sigma = list(target_df['OBSVREL Error (km/s)'])\n",
    "    weight = [1 / (sigma[s]**2) for s in range(len(sigma))]\n",
    "    weightedavg = sum([targetRV_j[i] * weight[i] for i in range(len(targetRV_j))]) / sum(weight)\n",
    "    for j in range(16):\n",
    "        weightedRVs.append(weightedavg)"
   ]
  },
  {
   "cell_type": "code",
   "execution_count": 133,
   "metadata": {},
   "outputs": [],
   "source": [
    "# Check list of <RV> values\n",
    "\n",
    "# weightedRVs"
   ]
  },
  {
   "cell_type": "code",
   "execution_count": 134,
   "metadata": {},
   "outputs": [],
   "source": [
    "# Append <RV> values to dataframe\n",
    "\n",
    "df['<RV>'] = weightedRVs\n",
    "# df['<RV>'] = [abs(rv) for rv in weightedRVs] # Don't want the abs value!"
   ]
  },
  {
   "cell_type": "code",
   "execution_count": 135,
   "metadata": {
    "scrolled": true
   },
   "outputs": [
    {
     "data": {
      "text/html": [
       "<div>\n",
       "<style scoped>\n",
       "    .dataframe tbody tr th:only-of-type {\n",
       "        vertical-align: middle;\n",
       "    }\n",
       "\n",
       "    .dataframe tbody tr th {\n",
       "        vertical-align: top;\n",
       "    }\n",
       "\n",
       "    .dataframe thead th {\n",
       "        text-align: right;\n",
       "    }\n",
       "</style>\n",
       "<table border=\"1\" class=\"dataframe\">\n",
       "  <thead>\n",
       "    <tr style=\"text-align: right;\">\n",
       "      <th></th>\n",
       "      <th>Target ID</th>\n",
       "      <th>MJD</th>\n",
       "      <th>OBSVHELIO (km/s)</th>\n",
       "      <th>OBSVREL Error (km/s)</th>\n",
       "      <th>&lt;RV&gt;</th>\n",
       "    </tr>\n",
       "  </thead>\n",
       "  <tbody>\n",
       "    <tr>\n",
       "      <th>0</th>\n",
       "      <td>apo25m.5226.150-08-RV.2M03252400+4614203</td>\n",
       "      <td>57706</td>\n",
       "      <td>-86.565704</td>\n",
       "      <td>0.010245</td>\n",
       "      <td>-86.476541</td>\n",
       "    </tr>\n",
       "    <tr>\n",
       "      <th>15</th>\n",
       "      <td>apo25m.5226.150-08-RV.2M03252400+4614203</td>\n",
       "      <td>58143</td>\n",
       "      <td>-86.096080</td>\n",
       "      <td>0.019952</td>\n",
       "      <td>-86.476541</td>\n",
       "    </tr>\n",
       "    <tr>\n",
       "      <th>14</th>\n",
       "      <td>apo25m.5226.150-08-RV.2M03252400+4614203</td>\n",
       "      <td>58114</td>\n",
       "      <td>-86.530830</td>\n",
       "      <td>0.018672</td>\n",
       "      <td>-86.476541</td>\n",
       "    </tr>\n",
       "    <tr>\n",
       "      <th>13</th>\n",
       "      <td>apo25m.5226.150-08-RV.2M03252400+4614203</td>\n",
       "      <td>58087</td>\n",
       "      <td>-86.532440</td>\n",
       "      <td>0.008684</td>\n",
       "      <td>-86.476541</td>\n",
       "    </tr>\n",
       "    <tr>\n",
       "      <th>12</th>\n",
       "      <td>apo25m.5226.150-08-RV.2M03252400+4614203</td>\n",
       "      <td>58085</td>\n",
       "      <td>-86.569565</td>\n",
       "      <td>0.009636</td>\n",
       "      <td>-86.476541</td>\n",
       "    </tr>\n",
       "    <tr>\n",
       "      <th>...</th>\n",
       "      <td>...</td>\n",
       "      <td>...</td>\n",
       "      <td>...</td>\n",
       "      <td>...</td>\n",
       "      <td>...</td>\n",
       "    </tr>\n",
       "    <tr>\n",
       "      <th>3393</th>\n",
       "      <td>apo25m.5226.150-08-RV.2M03415658+4626067</td>\n",
       "      <td>57732</td>\n",
       "      <td>-26.530085</td>\n",
       "      <td>0.016809</td>\n",
       "      <td>-26.537180</td>\n",
       "    </tr>\n",
       "    <tr>\n",
       "      <th>3392</th>\n",
       "      <td>apo25m.5226.150-08-RV.2M03415658+4626067</td>\n",
       "      <td>57706</td>\n",
       "      <td>-26.743143</td>\n",
       "      <td>0.010706</td>\n",
       "      <td>-26.537180</td>\n",
       "    </tr>\n",
       "    <tr>\n",
       "      <th>3406</th>\n",
       "      <td>apo25m.5226.150-08-RV.2M03415658+4626067</td>\n",
       "      <td>58114</td>\n",
       "      <td>-26.599243</td>\n",
       "      <td>0.021124</td>\n",
       "      <td>-26.537180</td>\n",
       "    </tr>\n",
       "    <tr>\n",
       "      <th>3398</th>\n",
       "      <td>apo25m.5226.150-08-RV.2M03415658+4626067</td>\n",
       "      <td>57789</td>\n",
       "      <td>-26.565876</td>\n",
       "      <td>0.009245</td>\n",
       "      <td>-26.537180</td>\n",
       "    </tr>\n",
       "    <tr>\n",
       "      <th>3407</th>\n",
       "      <td>apo25m.5226.150-08-RV.2M03415658+4626067</td>\n",
       "      <td>58143</td>\n",
       "      <td>-26.415329</td>\n",
       "      <td>0.008397</td>\n",
       "      <td>-26.537180</td>\n",
       "    </tr>\n",
       "  </tbody>\n",
       "</table>\n",
       "<p>3408 rows × 5 columns</p>\n",
       "</div>"
      ],
      "text/plain": [
       "                                     Target ID    MJD  OBSVHELIO (km/s)  \\\n",
       "0     apo25m.5226.150-08-RV.2M03252400+4614203  57706        -86.565704   \n",
       "15    apo25m.5226.150-08-RV.2M03252400+4614203  58143        -86.096080   \n",
       "14    apo25m.5226.150-08-RV.2M03252400+4614203  58114        -86.530830   \n",
       "13    apo25m.5226.150-08-RV.2M03252400+4614203  58087        -86.532440   \n",
       "12    apo25m.5226.150-08-RV.2M03252400+4614203  58085        -86.569565   \n",
       "...                                        ...    ...               ...   \n",
       "3393  apo25m.5226.150-08-RV.2M03415658+4626067  57732        -26.530085   \n",
       "3392  apo25m.5226.150-08-RV.2M03415658+4626067  57706        -26.743143   \n",
       "3406  apo25m.5226.150-08-RV.2M03415658+4626067  58114        -26.599243   \n",
       "3398  apo25m.5226.150-08-RV.2M03415658+4626067  57789        -26.565876   \n",
       "3407  apo25m.5226.150-08-RV.2M03415658+4626067  58143        -26.415329   \n",
       "\n",
       "      OBSVREL Error (km/s)       <RV>  \n",
       "0                 0.010245 -86.476541  \n",
       "15                0.019952 -86.476541  \n",
       "14                0.018672 -86.476541  \n",
       "13                0.008684 -86.476541  \n",
       "12                0.009636 -86.476541  \n",
       "...                    ...        ...  \n",
       "3393              0.016809 -26.537180  \n",
       "3392              0.010706 -26.537180  \n",
       "3406              0.021124 -26.537180  \n",
       "3398              0.009245 -26.537180  \n",
       "3407              0.008397 -26.537180  \n",
       "\n",
       "[3408 rows x 5 columns]"
      ]
     },
     "execution_count": 135,
     "metadata": {},
     "output_type": "execute_result"
    }
   ],
   "source": [
    "df"
   ]
  },
  {
   "cell_type": "code",
   "execution_count": 136,
   "metadata": {},
   "outputs": [],
   "source": [
    "# Calculate ΔRV_j = RV_j - < RV >\n",
    "\n",
    "deltaRV_j = [RV_j[i] - weightedRVs[i] for i in range(len(RV_j))]"
   ]
  },
  {
   "cell_type": "code",
   "execution_count": 137,
   "metadata": {},
   "outputs": [],
   "source": [
    "# Append ΔRV_j values to dataframe as ΔRV\n",
    "\n",
    "df['ΔRV'] = deltaRV_j"
   ]
  },
  {
   "cell_type": "code",
   "execution_count": 138,
   "metadata": {
    "scrolled": true
   },
   "outputs": [
    {
     "data": {
      "text/html": [
       "<div>\n",
       "<style scoped>\n",
       "    .dataframe tbody tr th:only-of-type {\n",
       "        vertical-align: middle;\n",
       "    }\n",
       "\n",
       "    .dataframe tbody tr th {\n",
       "        vertical-align: top;\n",
       "    }\n",
       "\n",
       "    .dataframe thead th {\n",
       "        text-align: right;\n",
       "    }\n",
       "</style>\n",
       "<table border=\"1\" class=\"dataframe\">\n",
       "  <thead>\n",
       "    <tr style=\"text-align: right;\">\n",
       "      <th></th>\n",
       "      <th>Target ID</th>\n",
       "      <th>MJD</th>\n",
       "      <th>OBSVHELIO (km/s)</th>\n",
       "      <th>OBSVREL Error (km/s)</th>\n",
       "      <th>&lt;RV&gt;</th>\n",
       "      <th>ΔRV</th>\n",
       "    </tr>\n",
       "  </thead>\n",
       "  <tbody>\n",
       "    <tr>\n",
       "      <th>1959</th>\n",
       "      <td>apo25m.5226.150-08-RV.2M03335959+4534540</td>\n",
       "      <td>58006</td>\n",
       "      <td>15.602287</td>\n",
       "      <td>3.578358</td>\n",
       "      <td>-28.386229</td>\n",
       "      <td>43.988516</td>\n",
       "    </tr>\n",
       "    <tr>\n",
       "      <th>1512</th>\n",
       "      <td>apo25m.5226.150-08-RV.2M03322119+4723171</td>\n",
       "      <td>58032</td>\n",
       "      <td>17.542360</td>\n",
       "      <td>1.956752</td>\n",
       "      <td>-19.569800</td>\n",
       "      <td>37.112160</td>\n",
       "    </tr>\n",
       "    <tr>\n",
       "      <th>991</th>\n",
       "      <td>apo25m.5226.150-08-RV.2M03303128+4559542</td>\n",
       "      <td>58143</td>\n",
       "      <td>20.871874</td>\n",
       "      <td>0.993278</td>\n",
       "      <td>-9.691109</td>\n",
       "      <td>30.562983</td>\n",
       "    </tr>\n",
       "    <tr>\n",
       "      <th>2162</th>\n",
       "      <td>apo25m.5226.150-08-RV.2M03343562+4544527</td>\n",
       "      <td>57734</td>\n",
       "      <td>-0.000636</td>\n",
       "      <td>1.380878</td>\n",
       "      <td>-29.698267</td>\n",
       "      <td>29.697631</td>\n",
       "    </tr>\n",
       "    <tr>\n",
       "      <th>3149</th>\n",
       "      <td>apo25m.5226.150-08-RV.2M03400642+4701351</td>\n",
       "      <td>58087</td>\n",
       "      <td>-17.536911</td>\n",
       "      <td>2.266302</td>\n",
       "      <td>-46.019250</td>\n",
       "      <td>28.482339</td>\n",
       "    </tr>\n",
       "    <tr>\n",
       "      <th>...</th>\n",
       "      <td>...</td>\n",
       "      <td>...</td>\n",
       "      <td>...</td>\n",
       "      <td>...</td>\n",
       "      <td>...</td>\n",
       "      <td>...</td>\n",
       "    </tr>\n",
       "    <tr>\n",
       "      <th>952</th>\n",
       "      <td>apo25m.5226.150-08-RV.2M03302753+4708196</td>\n",
       "      <td>58032</td>\n",
       "      <td>-42.902916</td>\n",
       "      <td>2.925044</td>\n",
       "      <td>-13.774434</td>\n",
       "      <td>-29.128482</td>\n",
       "    </tr>\n",
       "    <tr>\n",
       "      <th>1822</th>\n",
       "      <td>apo25m.5226.150-08-RV.2M03332225+4725193</td>\n",
       "      <td>58114</td>\n",
       "      <td>-38.664597</td>\n",
       "      <td>1.081097</td>\n",
       "      <td>-6.147122</td>\n",
       "      <td>-32.517475</td>\n",
       "    </tr>\n",
       "    <tr>\n",
       "      <th>1518</th>\n",
       "      <td>apo25m.5226.150-08-RV.2M03322119+4723171</td>\n",
       "      <td>58114</td>\n",
       "      <td>-55.707108</td>\n",
       "      <td>5.909284</td>\n",
       "      <td>-19.569800</td>\n",
       "      <td>-36.137308</td>\n",
       "    </tr>\n",
       "    <tr>\n",
       "      <th>1784</th>\n",
       "      <td>apo25m.5226.150-08-RV.2M03331168+4604257</td>\n",
       "      <td>58032</td>\n",
       "      <td>-26.816109</td>\n",
       "      <td>1.158200</td>\n",
       "      <td>13.196386</td>\n",
       "      <td>-40.012495</td>\n",
       "    </tr>\n",
       "    <tr>\n",
       "      <th>3139</th>\n",
       "      <td>apo25m.5226.150-08-RV.2M03400642+4701351</td>\n",
       "      <td>57735</td>\n",
       "      <td>-101.446304</td>\n",
       "      <td>2.936572</td>\n",
       "      <td>-46.019250</td>\n",
       "      <td>-55.427054</td>\n",
       "    </tr>\n",
       "  </tbody>\n",
       "</table>\n",
       "<p>3408 rows × 6 columns</p>\n",
       "</div>"
      ],
      "text/plain": [
       "                                     Target ID    MJD  OBSVHELIO (km/s)  \\\n",
       "1959  apo25m.5226.150-08-RV.2M03335959+4534540  58006         15.602287   \n",
       "1512  apo25m.5226.150-08-RV.2M03322119+4723171  58032         17.542360   \n",
       "991   apo25m.5226.150-08-RV.2M03303128+4559542  58143         20.871874   \n",
       "2162  apo25m.5226.150-08-RV.2M03343562+4544527  57734         -0.000636   \n",
       "3149  apo25m.5226.150-08-RV.2M03400642+4701351  58087        -17.536911   \n",
       "...                                        ...    ...               ...   \n",
       "952   apo25m.5226.150-08-RV.2M03302753+4708196  58032        -42.902916   \n",
       "1822  apo25m.5226.150-08-RV.2M03332225+4725193  58114        -38.664597   \n",
       "1518  apo25m.5226.150-08-RV.2M03322119+4723171  58114        -55.707108   \n",
       "1784  apo25m.5226.150-08-RV.2M03331168+4604257  58032        -26.816109   \n",
       "3139  apo25m.5226.150-08-RV.2M03400642+4701351  57735       -101.446304   \n",
       "\n",
       "      OBSVREL Error (km/s)       <RV>        ΔRV  \n",
       "1959              3.578358 -28.386229  43.988516  \n",
       "1512              1.956752 -19.569800  37.112160  \n",
       "991               0.993278  -9.691109  30.562983  \n",
       "2162              1.380878 -29.698267  29.697631  \n",
       "3149              2.266302 -46.019250  28.482339  \n",
       "...                    ...        ...        ...  \n",
       "952               2.925044 -13.774434 -29.128482  \n",
       "1822              1.081097  -6.147122 -32.517475  \n",
       "1518              5.909284 -19.569800 -36.137308  \n",
       "1784              1.158200  13.196386 -40.012495  \n",
       "3139              2.936572 -46.019250 -55.427054  \n",
       "\n",
       "[3408 rows x 6 columns]"
      ]
     },
     "execution_count": 138,
     "metadata": {},
     "output_type": "execute_result"
    }
   ],
   "source": [
    "# Check updated dataframe\n",
    "\n",
    "df.sort_values('ΔRV', ascending=False)"
   ]
  },
  {
   "cell_type": "code",
   "execution_count": 139,
   "metadata": {
    "scrolled": true
   },
   "outputs": [
    {
     "data": {
      "text/plain": [
       "<AxesSubplot:xlabel='MJD', ylabel='ΔRV'>"
      ]
     },
     "execution_count": 139,
     "metadata": {},
     "output_type": "execute_result"
    },
    {
     "data": {
      "image/png": "[encoded data removed]",
      "text/plain": [
       "<Figure size 1080x720 with 1 Axes>"
      ]
     },
     "metadata": {
      "needs_background": "light"
     },
     "output_type": "display_data"
    }
   ],
   "source": [
    "# Plot ΔRV versus epoch\n",
    "\n",
    "df.plot(x = 'MJD', y = 'ΔRV', kind = 'scatter', figsize=(15,10))"
   ]
  },
  {
   "cell_type": "code",
   "execution_count": 174,
   "metadata": {},
   "outputs": [
    {
     "data": {
      "text/html": [
       "<div>\n",
       "<style scoped>\n",
       "    .dataframe tbody tr th:only-of-type {\n",
       "        vertical-align: middle;\n",
       "    }\n",
       "\n",
       "    .dataframe tbody tr th {\n",
       "        vertical-align: top;\n",
       "    }\n",
       "\n",
       "    .dataframe thead th {\n",
       "        text-align: right;\n",
       "    }\n",
       "</style>\n",
       "<table border=\"1\" class=\"dataframe\">\n",
       "  <thead>\n",
       "    <tr style=\"text-align: right;\">\n",
       "      <th></th>\n",
       "      <th>Target ID</th>\n",
       "      <th>MJD</th>\n",
       "      <th>OBSVHELIO (km/s)</th>\n",
       "      <th>OBSVREL Error (km/s)</th>\n",
       "      <th>&lt;RV&gt;</th>\n",
       "      <th>ΔRV</th>\n",
       "    </tr>\n",
       "  </thead>\n",
       "  <tbody>\n",
       "    <tr>\n",
       "      <th>369</th>\n",
       "      <td>apo25m.5226.150-08-RV.2M03281678+4513003</td>\n",
       "      <td>57732</td>\n",
       "      <td>1.472417</td>\n",
       "      <td>0.065090</td>\n",
       "      <td>2.456475</td>\n",
       "      <td>-0.984058</td>\n",
       "    </tr>\n",
       "    <tr>\n",
       "      <th>3302</th>\n",
       "      <td>apo25m.5226.150-08-RV.2M03411209+4530317</td>\n",
       "      <td>57789</td>\n",
       "      <td>-33.110073</td>\n",
       "      <td>0.224766</td>\n",
       "      <td>-32.182084</td>\n",
       "      <td>-0.927989</td>\n",
       "    </tr>\n",
       "    <tr>\n",
       "      <th>1756</th>\n",
       "      <td>apo25m.5226.150-08-RV.2M03330449+4732443</td>\n",
       "      <td>58085</td>\n",
       "      <td>-56.091194</td>\n",
       "      <td>0.064767</td>\n",
       "      <td>-55.192485</td>\n",
       "      <td>-0.898709</td>\n",
       "    </tr>\n",
       "    <tr>\n",
       "      <th>1689</th>\n",
       "      <td>apo25m.5226.150-08-RV.2M03325400+4641080</td>\n",
       "      <td>58054</td>\n",
       "      <td>-2.538757</td>\n",
       "      <td>1.030917</td>\n",
       "      <td>-1.664955</td>\n",
       "      <td>-0.873803</td>\n",
       "    </tr>\n",
       "    <tr>\n",
       "      <th>1575</th>\n",
       "      <td>apo25m.5226.150-08-RV.2M03323778+4716306</td>\n",
       "      <td>58006</td>\n",
       "      <td>44.638680</td>\n",
       "      <td>0.008422</td>\n",
       "      <td>45.489041</td>\n",
       "      <td>-0.850361</td>\n",
       "    </tr>\n",
       "    <tr>\n",
       "      <th>...</th>\n",
       "      <td>...</td>\n",
       "      <td>...</td>\n",
       "      <td>...</td>\n",
       "      <td>...</td>\n",
       "      <td>...</td>\n",
       "      <td>...</td>\n",
       "    </tr>\n",
       "    <tr>\n",
       "      <th>419</th>\n",
       "      <td>apo25m.5226.150-08-RV.2M03282484+4535044</td>\n",
       "      <td>57735</td>\n",
       "      <td>-8.687350</td>\n",
       "      <td>0.660753</td>\n",
       "      <td>-9.577363</td>\n",
       "      <td>0.890013</td>\n",
       "    </tr>\n",
       "    <tr>\n",
       "      <th>2630</th>\n",
       "      <td>apo25m.5226.150-08-RV.2M03371083+4537137</td>\n",
       "      <td>57789</td>\n",
       "      <td>-14.980543</td>\n",
       "      <td>0.011571</td>\n",
       "      <td>-15.937572</td>\n",
       "      <td>0.957029</td>\n",
       "    </tr>\n",
       "    <tr>\n",
       "      <th>3110</th>\n",
       "      <td>apo25m.5226.150-08-RV.2M03400345+4520415</td>\n",
       "      <td>57789</td>\n",
       "      <td>-1.775444</td>\n",
       "      <td>0.734468</td>\n",
       "      <td>-2.740936</td>\n",
       "      <td>0.965492</td>\n",
       "    </tr>\n",
       "    <tr>\n",
       "      <th>2809</th>\n",
       "      <td>apo25m.5226.150-08-RV.2M03380104+4603136</td>\n",
       "      <td>58054</td>\n",
       "      <td>-11.825833</td>\n",
       "      <td>0.002948</td>\n",
       "      <td>-12.807833</td>\n",
       "      <td>0.982000</td>\n",
       "    </tr>\n",
       "    <tr>\n",
       "      <th>1819</th>\n",
       "      <td>apo25m.5226.150-08-RV.2M03332225+4725193</td>\n",
       "      <td>58068</td>\n",
       "      <td>-5.164158</td>\n",
       "      <td>0.660496</td>\n",
       "      <td>-6.147122</td>\n",
       "      <td>0.982964</td>\n",
       "    </tr>\n",
       "  </tbody>\n",
       "</table>\n",
       "<p>2770 rows × 6 columns</p>\n",
       "</div>"
      ],
      "text/plain": [
       "                                     Target ID    MJD  OBSVHELIO (km/s)  \\\n",
       "369   apo25m.5226.150-08-RV.2M03281678+4513003  57732          1.472417   \n",
       "3302  apo25m.5226.150-08-RV.2M03411209+4530317  57789        -33.110073   \n",
       "1756  apo25m.5226.150-08-RV.2M03330449+4732443  58085        -56.091194   \n",
       "1689  apo25m.5226.150-08-RV.2M03325400+4641080  58054         -2.538757   \n",
       "1575  apo25m.5226.150-08-RV.2M03323778+4716306  58006         44.638680   \n",
       "...                                        ...    ...               ...   \n",
       "419   apo25m.5226.150-08-RV.2M03282484+4535044  57735         -8.687350   \n",
       "2630  apo25m.5226.150-08-RV.2M03371083+4537137  57789        -14.980543   \n",
       "3110  apo25m.5226.150-08-RV.2M03400345+4520415  57789         -1.775444   \n",
       "2809  apo25m.5226.150-08-RV.2M03380104+4603136  58054        -11.825833   \n",
       "1819  apo25m.5226.150-08-RV.2M03332225+4725193  58068         -5.164158   \n",
       "\n",
       "      OBSVREL Error (km/s)       <RV>       ΔRV  \n",
       "369               0.065090   2.456475 -0.984058  \n",
       "3302              0.224766 -32.182084 -0.927989  \n",
       "1756              0.064767 -55.192485 -0.898709  \n",
       "1689              1.030917  -1.664955 -0.873803  \n",
       "1575              0.008422  45.489041 -0.850361  \n",
       "...                    ...        ...       ...  \n",
       "419               0.660753  -9.577363  0.890013  \n",
       "2630              0.011571 -15.937572  0.957029  \n",
       "3110              0.734468  -2.740936  0.965492  \n",
       "2809              0.002948 -12.807833  0.982000  \n",
       "1819              0.660496  -6.147122  0.982964  \n",
       "\n",
       "[2770 rows x 6 columns]"
      ]
     },
     "execution_count": 174,
     "metadata": {},
     "output_type": "execute_result"
    }
   ],
   "source": [
    "# Consider limiting ΔRV range?\n",
    "\n",
    "df_cutoff = df.loc[(df['ΔRV'] < 1.0) & (df['ΔRV'] > -1.0)]\n",
    "\n",
    "df_cutoff.sort_values('ΔRV')"
   ]
  },
  {
   "cell_type": "code",
   "execution_count": 175,
   "metadata": {},
   "outputs": [
    {
     "data": {
      "text/plain": [
       "<AxesSubplot:xlabel='MJD', ylabel='ΔRV'>"
      ]
     },
     "execution_count": 175,
     "metadata": {},
     "output_type": "execute_result"
    },
    {
     "data": {
      "image/png": "[encoded data removed]",
      "text/plain": [
       "<Figure size 1080x720 with 1 Axes>"
      ]
     },
     "metadata": {
      "needs_background": "light"
     },
     "output_type": "display_data"
    }
   ],
   "source": [
    "# Plot ΔRV versus epoch for cutoff dataframe\n",
    "\n",
    "df_cutoff.plot(x = 'MJD', y = 'ΔRV', kind = 'scatter', figsize=(15,10))"
   ]
  },
  {
   "cell_type": "markdown",
   "metadata": {},
   "source": [
    "## Step 2\n",
    "- Condense all ΔRVs into a single point per MJD\n",
    "\n",
    "### Step 2.5\n",
    "- Calculate statistical/standard error: sigma_< RV > = sqrt(1/sum(weight))\n",
    "- Plot statistical error bars"
   ]
  },
  {
   "cell_type": "code",
   "execution_count": 176,
   "metadata": {},
   "outputs": [],
   "source": [
    "# Identify list of unique MJDs\n",
    "\n",
    "unique_mjd = Counter(df['MJD'])\n",
    "unique_mjd_list = unique_mjd.keys()"
   ]
  },
  {
   "cell_type": "code",
   "execution_count": 177,
   "metadata": {},
   "outputs": [
    {
     "data": {
      "text/plain": [
       "dict_keys([57706, 58143, 58114, 58087, 58085, 58063, 58054, 58032, 58068, 57789, 57788, 57760, 57735, 57734, 57732, 58006])"
      ]
     },
     "execution_count": 177,
     "metadata": {},
     "output_type": "execute_result"
    }
   ],
   "source": [
    "unique_mjd_list"
   ]
  },
  {
   "cell_type": "code",
   "execution_count": 178,
   "metadata": {},
   "outputs": [],
   "source": [
    "# Obtain weighted average ΔRV for each MJD\n",
    "\n",
    "combined_weightedRVs = []\n",
    "combined_staterror = []\n",
    "\n",
    "for mjd in unique_mjd_list:\n",
    "    mjd_df = df_cutoff[df_cutoff['MJD'] == mjd]\n",
    "    mjd_RVs = list(mjd_df['ΔRV'])\n",
    "    mjd_sigma = list(mjd_df['OBSVREL Error (km/s)'])\n",
    "    weight = [1 / (mjd_sigma[s]**2) for s in range(len(mjd_sigma))]\n",
    "    sigmaRV = 1000*np.sqrt(1/sum(weight))\n",
    "    # print('Sum of ΔRV for MJD', mjd, ':', sum(mjd_RVs))\n",
    "    # print('Sum of weights:', sum(weight))\n",
    "    combined_weightedavg = 1000*sum([mjd_RVs[r] * weight[r] for r in range(len(mjd_RVs))]) / sum(weight) #[r] for r in range(len(mjd_sigma)))\n",
    "    # combined_weightedavg = sum([mjd_RVs[r] * mjd_sigma[r] for r in range(len(mjd_RVs))]) / sum(mjd_sigma) #[r] for r in range(len(mjd_sigma)))\n",
    "    combined_weightedRVs.append(combined_weightedavg)\n",
    "    combined_staterror.append(sigmaRV)"
   ]
  },
  {
   "cell_type": "code",
   "execution_count": 179,
   "metadata": {
    "scrolled": true
   },
   "outputs": [
    {
     "data": {
      "text/plain": [
       "[-81.66852832781822,\n",
       " 34.91041282210907,\n",
       " -60.822071546428,\n",
       " 72.75976914046947,\n",
       " 8.806468256408392,\n",
       " 73.97118453358496,\n",
       " 42.6725856967026,\n",
       " 17.860295229205164,\n",
       " 28.686699472083408,\n",
       " -46.7292834470181,\n",
       " -131.29241513199347,\n",
       " 80.55650702745567,\n",
       " -94.05405386715728,\n",
       " -36.65473318220431,\n",
       " -114.90610483993828,\n",
       " 62.23628622150652]"
      ]
     },
     "execution_count": 179,
     "metadata": {},
     "output_type": "execute_result"
    }
   ],
   "source": [
    "combined_weightedRVs # Expect order of 1-10 m/s; actually ~10-100 m/s, why??"
   ]
  },
  {
   "cell_type": "code",
   "execution_count": 180,
   "metadata": {},
   "outputs": [
    {
     "data": {
      "text/plain": [
       "[0.48695834807997634,\n",
       " 0.3854235364641232,\n",
       " 0.8517645265874908,\n",
       " 0.42395272953424823,\n",
       " 0.4648752493675228,\n",
       " 0.3691929630747168,\n",
       " 0.41203693579317396,\n",
       " 0.6268982904878597,\n",
       " 0.4201256040928953,\n",
       " 0.44061881318146084,\n",
       " 0.9204464694618404,\n",
       " 0.5557634243969821,\n",
       " 0.522900763204256,\n",
       " 0.45487678022281275,\n",
       " 0.39755938536391766,\n",
       " 0.46073025210913743]"
      ]
     },
     "execution_count": 180,
     "metadata": {},
     "output_type": "execute_result"
    }
   ],
   "source": [
    "combined_staterror"
   ]
  },
  {
   "cell_type": "code",
   "execution_count": 181,
   "metadata": {},
   "outputs": [],
   "source": [
    "# Create dataframe for MJD and combined weighted ΔRV values\n",
    "\n",
    "weightedavg_data = [unique_mjd_list, combined_weightedRVs, combined_staterror]\n",
    "weightedavg_df = pd.DataFrame(weightedavg_data).transpose()\n",
    "weightedavg_df.columns = ['MJD', 'Combined ΔRV (m/s)', 'Combined σRV (m/s)']"
   ]
  },
  {
   "cell_type": "code",
   "execution_count": 182,
   "metadata": {},
   "outputs": [
    {
     "data": {
      "text/html": [
       "<div>\n",
       "<style scoped>\n",
       "    .dataframe tbody tr th:only-of-type {\n",
       "        vertical-align: middle;\n",
       "    }\n",
       "\n",
       "    .dataframe tbody tr th {\n",
       "        vertical-align: top;\n",
       "    }\n",
       "\n",
       "    .dataframe thead th {\n",
       "        text-align: right;\n",
       "    }\n",
       "</style>\n",
       "<table border=\"1\" class=\"dataframe\">\n",
       "  <thead>\n",
       "    <tr style=\"text-align: right;\">\n",
       "      <th></th>\n",
       "      <th>MJD</th>\n",
       "      <th>Combined ΔRV (m/s)</th>\n",
       "      <th>Combined σRV (m/s)</th>\n",
       "    </tr>\n",
       "  </thead>\n",
       "  <tbody>\n",
       "    <tr>\n",
       "      <th>0</th>\n",
       "      <td>57706.0</td>\n",
       "      <td>-81.668528</td>\n",
       "      <td>0.486958</td>\n",
       "    </tr>\n",
       "    <tr>\n",
       "      <th>1</th>\n",
       "      <td>58143.0</td>\n",
       "      <td>34.910413</td>\n",
       "      <td>0.385424</td>\n",
       "    </tr>\n",
       "    <tr>\n",
       "      <th>2</th>\n",
       "      <td>58114.0</td>\n",
       "      <td>-60.822072</td>\n",
       "      <td>0.851765</td>\n",
       "    </tr>\n",
       "    <tr>\n",
       "      <th>3</th>\n",
       "      <td>58087.0</td>\n",
       "      <td>72.759769</td>\n",
       "      <td>0.423953</td>\n",
       "    </tr>\n",
       "    <tr>\n",
       "      <th>4</th>\n",
       "      <td>58085.0</td>\n",
       "      <td>8.806468</td>\n",
       "      <td>0.464875</td>\n",
       "    </tr>\n",
       "    <tr>\n",
       "      <th>5</th>\n",
       "      <td>58063.0</td>\n",
       "      <td>73.971185</td>\n",
       "      <td>0.369193</td>\n",
       "    </tr>\n",
       "    <tr>\n",
       "      <th>6</th>\n",
       "      <td>58054.0</td>\n",
       "      <td>42.672586</td>\n",
       "      <td>0.412037</td>\n",
       "    </tr>\n",
       "    <tr>\n",
       "      <th>7</th>\n",
       "      <td>58032.0</td>\n",
       "      <td>17.860295</td>\n",
       "      <td>0.626898</td>\n",
       "    </tr>\n",
       "    <tr>\n",
       "      <th>8</th>\n",
       "      <td>58068.0</td>\n",
       "      <td>28.686699</td>\n",
       "      <td>0.420126</td>\n",
       "    </tr>\n",
       "    <tr>\n",
       "      <th>9</th>\n",
       "      <td>57789.0</td>\n",
       "      <td>-46.729283</td>\n",
       "      <td>0.440619</td>\n",
       "    </tr>\n",
       "    <tr>\n",
       "      <th>10</th>\n",
       "      <td>57788.0</td>\n",
       "      <td>-131.292415</td>\n",
       "      <td>0.920446</td>\n",
       "    </tr>\n",
       "    <tr>\n",
       "      <th>11</th>\n",
       "      <td>57760.0</td>\n",
       "      <td>80.556507</td>\n",
       "      <td>0.555763</td>\n",
       "    </tr>\n",
       "    <tr>\n",
       "      <th>12</th>\n",
       "      <td>57735.0</td>\n",
       "      <td>-94.054054</td>\n",
       "      <td>0.522901</td>\n",
       "    </tr>\n",
       "    <tr>\n",
       "      <th>13</th>\n",
       "      <td>57734.0</td>\n",
       "      <td>-36.654733</td>\n",
       "      <td>0.454877</td>\n",
       "    </tr>\n",
       "    <tr>\n",
       "      <th>14</th>\n",
       "      <td>57732.0</td>\n",
       "      <td>-114.906105</td>\n",
       "      <td>0.397559</td>\n",
       "    </tr>\n",
       "    <tr>\n",
       "      <th>15</th>\n",
       "      <td>58006.0</td>\n",
       "      <td>62.236286</td>\n",
       "      <td>0.460730</td>\n",
       "    </tr>\n",
       "  </tbody>\n",
       "</table>\n",
       "</div>"
      ],
      "text/plain": [
       "        MJD  Combined ΔRV (m/s)  Combined σRV (m/s)\n",
       "0   57706.0          -81.668528            0.486958\n",
       "1   58143.0           34.910413            0.385424\n",
       "2   58114.0          -60.822072            0.851765\n",
       "3   58087.0           72.759769            0.423953\n",
       "4   58085.0            8.806468            0.464875\n",
       "5   58063.0           73.971185            0.369193\n",
       "6   58054.0           42.672586            0.412037\n",
       "7   58032.0           17.860295            0.626898\n",
       "8   58068.0           28.686699            0.420126\n",
       "9   57789.0          -46.729283            0.440619\n",
       "10  57788.0         -131.292415            0.920446\n",
       "11  57760.0           80.556507            0.555763\n",
       "12  57735.0          -94.054054            0.522901\n",
       "13  57734.0          -36.654733            0.454877\n",
       "14  57732.0         -114.906105            0.397559\n",
       "15  58006.0           62.236286            0.460730"
      ]
     },
     "execution_count": 182,
     "metadata": {},
     "output_type": "execute_result"
    }
   ],
   "source": [
    "weightedavg_df"
   ]
  },
  {
   "cell_type": "code",
   "execution_count": 183,
   "metadata": {},
   "outputs": [
    {
     "data": {
      "text/plain": [
       "<AxesSubplot:xlabel='MJD', ylabel='Combined ΔRV (m/s)'>"
      ]
     },
     "execution_count": 183,
     "metadata": {},
     "output_type": "execute_result"
    },
    {
     "data": {
      "image/png": "[encoded data removed]",
      "text/plain": [
       "<Figure size 720x720 with 1 Axes>"
      ]
     },
     "metadata": {
      "needs_background": "light"
     },
     "output_type": "display_data"
    }
   ],
   "source": [
    "# Plot combined weighted ΔRV values vs MJD, with statistical error\n",
    "\n",
    "weightedavg_df.plot(x='MJD', y='Combined ΔRV (m/s)', yerr='Combined σRV (m/s)', kind='scatter', s=1, figsize=(10,10)) # Statistical error very hard to see"
   ]
  },
  {
   "cell_type": "markdown",
   "metadata": {},
   "source": [
    "## Step 3\n",
    "- Fit line to free parameters (i.e. x & y values), check gradient for anything interesting?"
   ]
  },
  {
   "cell_type": "code",
   "execution_count": 184,
   "metadata": {},
   "outputs": [],
   "source": [
    "x = weightedavg_df['MJD']\n",
    "y = weightedavg_df['Combined ΔRV (m/s)']\n",
    "yerr = weightedavg_df['Combined σRV (m/s)']"
   ]
  },
  {
   "cell_type": "code",
   "execution_count": 185,
   "metadata": {},
   "outputs": [],
   "source": [
    "a, b = np.polyfit(x, y, 1)"
   ]
  },
  {
   "cell_type": "code",
   "execution_count": 186,
   "metadata": {},
   "outputs": [
    {
     "data": {
      "text/plain": [
       "[<matplotlib.lines.Line2D at 0x7fb25e77c640>]"
      ]
     },
     "execution_count": 186,
     "metadata": {},
     "output_type": "execute_result"
    },
    {
     "data": {
      "image/png": "[encoded data removed]",
      "text/plain": [
       "<Figure size 720x720 with 1 Axes>"
      ]
     },
     "metadata": {
      "needs_background": "light"
     },
     "output_type": "display_data"
    }
   ],
   "source": [
    "plt.figure(figsize=(10, 10))\n",
    "plt.errorbar(x, y, yerr, fmt='.', color='blue', ecolor='red', capsize=5)\n",
    "plt.plot(x, a*x+b, color='lightgreen')"
   ]
  },
  {
   "cell_type": "code",
   "execution_count": 187,
   "metadata": {},
   "outputs": [
    {
     "name": "stdout",
     "output_type": "stream",
     "text": [
      "Gradient of slope: 0.2620433187086763 [m/MJD]\n"
     ]
    }
   ],
   "source": [
    "# Gradient - not sure how to interpret?\n",
    "\n",
    "print('Gradient of slope:', a, '[m/MJD]')"
   ]
  },
  {
   "cell_type": "markdown",
   "metadata": {},
   "source": [
    "## Step 4\n",
    "- Check distribution of ~200 data points used to create combined ΔRV\n",
    "    - Don't expect Gaussian, but should be relatively well-behaved (big tail suggests outlier that should be removed)\n",
    "- Check distribution of all ΔRV per MJD\n",
    "\n",
    "### Results\n",
    "- All subhistograms centred around 0 ΔRV\n",
    "- Some have certain big outliers\n",
    "- What is the cutoff?\n",
    "- Should I cut off overall, or for each subhistogram?"
   ]
  },
  {
   "cell_type": "code",
   "execution_count": 188,
   "metadata": {},
   "outputs": [],
   "source": [
    "# Counter(df_cutoff['ΔRV'])"
   ]
  },
  {
   "cell_type": "code",
   "execution_count": 189,
   "metadata": {},
   "outputs": [],
   "source": [
    "ΔRVdist = df['ΔRV']"
   ]
  },
  {
   "cell_type": "code",
   "execution_count": 190,
   "metadata": {},
   "outputs": [
    {
     "data": {
      "text/plain": [
       "(-50.0, 50.0)"
      ]
     },
     "execution_count": 190,
     "metadata": {},
     "output_type": "execute_result"
    },
    {
     "data": {
      "image/png": "[encoded data removed]",
      "text/plain": [
       "<Figure size 1440x720 with 1 Axes>"
      ]
     },
     "metadata": {
      "needs_background": "light"
     },
     "output_type": "display_data"
    }
   ],
   "source": [
    "plt.figure(figsize=(20, 10))\n",
    "ΔRVdist.plot.hist(grid=True, bins=2000, rwidth=1)\n",
    "plt.title('Distribution of ΔRVs on Plate 9290')\n",
    "plt.xlabel('ΔRV [km/s]')\n",
    "plt.xlim(-50, 50)"
   ]
  },
  {
   "cell_type": "markdown",
   "metadata": {},
   "source": [
    "### Distributions of ΔRV per MJD"
   ]
  },
  {
   "cell_type": "code",
   "execution_count": 191,
   "metadata": {},
   "outputs": [],
   "source": [
    "ΔRV_57706 = df[df['MJD'] == 57706]['ΔRV']*1000"
   ]
  },
  {
   "cell_type": "code",
   "execution_count": 192,
   "metadata": {},
   "outputs": [
    {
     "data": {
      "text/plain": [
       "Text(0.5, 0, 'ΔRV [m/s]')"
      ]
     },
     "execution_count": 192,
     "metadata": {},
     "output_type": "execute_result"
    },
    {
     "data": {
      "image/png": "[encoded data removed]",
      "text/plain": [
       "<Figure size 1440x720 with 1 Axes>"
      ]
     },
     "metadata": {
      "needs_background": "light"
     },
     "output_type": "display_data"
    }
   ],
   "source": [
    "df_57706 = df[df['MJD'] == 57706]\n",
    "ΔRV_57706 = df[df['MJD'] == 57706]['ΔRV']*1000\n",
    "plt.figure(figsize=(20, 10))\n",
    "ΔRV_57706.plot.hist(grid=True, bins=500, rwidth=1)\n",
    "plt.title('Distribution of ΔRVs on Plate 9290, MJD 57706')\n",
    "plt.xlabel('ΔRV [m/s]')"
   ]
  },
  {
   "cell_type": "code",
   "execution_count": 193,
   "metadata": {},
   "outputs": [
    {
     "data": {
      "text/plain": [
       "Text(0.5, 0, 'ΔRV [km/s]')"
      ]
     },
     "execution_count": 193,
     "metadata": {},
     "output_type": "execute_result"
    },
    {
     "data": {
      "image/png": "[encoded data removed]",
      "text/plain": [
       "<Figure size 1440x720 with 1 Axes>"
      ]
     },
     "metadata": {
      "needs_background": "light"
     },
     "output_type": "display_data"
    }
   ],
   "source": [
    "df_57732 = df[df['MJD'] == 57732]\n",
    "plt.figure(figsize=(20, 10))\n",
    "df_57732['ΔRV'].plot.hist(grid=True, bins=500, rwidth=1)\n",
    "plt.title('Distribution of ΔRVs on Plate 9290, MJD 57732')\n",
    "plt.xlabel('ΔRV [km/s]')"
   ]
  },
  {
   "cell_type": "code",
   "execution_count": 194,
   "metadata": {},
   "outputs": [
    {
     "data": {
      "text/plain": [
       "Text(0.5, 0, 'ΔRV [km/s]')"
      ]
     },
     "execution_count": 194,
     "metadata": {},
     "output_type": "execute_result"
    },
    {
     "data": {
      "image/png": "[encoded data removed]",
      "text/plain": [
       "<Figure size 1440x720 with 1 Axes>"
      ]
     },
     "metadata": {
      "needs_background": "light"
     },
     "output_type": "display_data"
    }
   ],
   "source": [
    "df_57734 = df[df['MJD'] == 57734]\n",
    "plt.figure(figsize=(20, 10))\n",
    "df_57734['ΔRV'].plot.hist(grid=True, bins=500, rwidth=1)\n",
    "plt.title('Distribution of ΔRVs on Plate 9290, MJD 57734')\n",
    "plt.xlabel('ΔRV [km/s]')"
   ]
  },
  {
   "cell_type": "code",
   "execution_count": 79,
   "metadata": {},
   "outputs": [
    {
     "data": {
      "text/plain": [
       "Text(0.5, 0, 'ΔRV [km/s]')"
      ]
     },
     "execution_count": 79,
     "metadata": {},
     "output_type": "execute_result"
    },
    {
     "data": {
      "image/png": "[encoded data removed]",
      "text/plain": [
       "<Figure size 1440x720 with 1 Axes>"
      ]
     },
     "metadata": {
      "needs_background": "light"
     },
     "output_type": "display_data"
    }
   ],
   "source": [
    "df_57735 = df[df['MJD'] == 57735]\n",
    "plt.figure(figsize=(20, 10))\n",
    "df_57735['ΔRV'].plot.hist(grid=True, bins=500, rwidth=1)\n",
    "plt.title('Distribution of ΔRVs on Plate 9290, MJD 57735')\n",
    "plt.xlabel('ΔRV [km/s]')"
   ]
  },
  {
   "cell_type": "code",
   "execution_count": 78,
   "metadata": {},
   "outputs": [
    {
     "data": {
      "text/plain": [
       "Text(0.5, 0, 'ΔRV [km/s]')"
      ]
     },
     "execution_count": 78,
     "metadata": {},
     "output_type": "execute_result"
    },
    {
     "data": {
      "image/png": "[encoded data removed]",
      "text/plain": [
       "<Figure size 1440x720 with 1 Axes>"
      ]
     },
     "metadata": {
      "needs_background": "light"
     },
     "output_type": "display_data"
    }
   ],
   "source": [
    "df_57760 = df[df['MJD'] == 57760]\n",
    "plt.figure(figsize=(20, 10))\n",
    "df_57760['ΔRV'].plot.hist(grid=True, bins=500, rwidth=1)\n",
    "plt.title('Distribution of ΔRVs on Plate 9290, MJD 57760')\n",
    "plt.xlabel('ΔRV [km/s]')"
   ]
  },
  {
   "cell_type": "code",
   "execution_count": 68,
   "metadata": {},
   "outputs": [
    {
     "data": {
      "text/plain": [
       "Text(0.5, 0, 'ΔRV [km/s]')"
      ]
     },
     "execution_count": 68,
     "metadata": {},
     "output_type": "execute_result"
    },
    {
     "data": {
      "image/png": "[encoded data removed]",
      "text/plain": [
       "<Figure size 1440x720 with 1 Axes>"
      ]
     },
     "metadata": {
      "needs_background": "light"
     },
     "output_type": "display_data"
    }
   ],
   "source": [
    "df_57788 = df[df['MJD'] == 57788]\n",
    "plt.figure(figsize=(20, 10))\n",
    "df_57788['ΔRV'].plot.hist(grid=True, bins=500, rwidth=1)\n",
    "plt.title('Distribution of ΔRVs on Plate 9290, MJD 57788')\n",
    "plt.xlabel('ΔRV [km/s]')"
   ]
  },
  {
   "cell_type": "code",
   "execution_count": 67,
   "metadata": {},
   "outputs": [
    {
     "data": {
      "text/plain": [
       "Text(0.5, 0, 'ΔRV [km/s]')"
      ]
     },
     "execution_count": 67,
     "metadata": {},
     "output_type": "execute_result"
    },
    {
     "data": {
      "image/png": "[encoded data removed]",
      "text/plain": [
       "<Figure size 1440x720 with 1 Axes>"
      ]
     },
     "metadata": {
      "needs_background": "light"
     },
     "output_type": "display_data"
    }
   ],
   "source": [
    "df_57789 = df[df['MJD'] == 57789]\n",
    "plt.figure(figsize=(20, 10))\n",
    "df_57789['ΔRV'].plot.hist(grid=True, bins=500, rwidth=1)\n",
    "plt.title('Distribution of ΔRVs on Plate 9290, MJD 57789')\n",
    "plt.xlabel('ΔRV [km/s]')"
   ]
  },
  {
   "cell_type": "code",
   "execution_count": 69,
   "metadata": {},
   "outputs": [
    {
     "data": {
      "text/plain": [
       "Text(0.5, 0, 'ΔRV [km/s]')"
      ]
     },
     "execution_count": 69,
     "metadata": {},
     "output_type": "execute_result"
    },
    {
     "data": {
      "image/png": "[encoded data removed]",
      "text/plain": [
       "<Figure size 1440x720 with 1 Axes>"
      ]
     },
     "metadata": {
      "needs_background": "light"
     },
     "output_type": "display_data"
    }
   ],
   "source": [
    "df_58006 = df[df['MJD'] == 58006]\n",
    "plt.figure(figsize=(20, 10))\n",
    "df_58006['ΔRV'].plot.hist(grid=True, bins=500, rwidth=1)\n",
    "plt.title('Distribution of ΔRVs on Plate 9290, MJD 58006')\n",
    "plt.xlabel('ΔRV [km/s]')"
   ]
  },
  {
   "cell_type": "code",
   "execution_count": 70,
   "metadata": {},
   "outputs": [
    {
     "data": {
      "text/plain": [
       "Text(0.5, 0, 'ΔRV [km/s]')"
      ]
     },
     "execution_count": 70,
     "metadata": {},
     "output_type": "execute_result"
    },
    {
     "data": {
      "image/png": "[encoded data removed]",
      "text/plain": [
       "<Figure size 1440x720 with 1 Axes>"
      ]
     },
     "metadata": {
      "needs_background": "light"
     },
     "output_type": "display_data"
    }
   ],
   "source": [
    "df_58032 = df[df['MJD'] == 58032]\n",
    "plt.figure(figsize=(20, 10))\n",
    "df_58032['ΔRV'].plot.hist(grid=True, bins=500, rwidth=1)\n",
    "plt.title('Distribution of ΔRVs on Plate 9290, MJD 58032')\n",
    "plt.xlabel('ΔRV [km/s]')"
   ]
  },
  {
   "cell_type": "code",
   "execution_count": 71,
   "metadata": {},
   "outputs": [
    {
     "data": {
      "text/plain": [
       "Text(0.5, 0, 'ΔRV [km/s]')"
      ]
     },
     "execution_count": 71,
     "metadata": {},
     "output_type": "execute_result"
    },
    {
     "data": {
      "image/png": "[encoded data removed]",
      "text/plain": [
       "<Figure size 1440x720 with 1 Axes>"
      ]
     },
     "metadata": {
      "needs_background": "light"
     },
     "output_type": "display_data"
    }
   ],
   "source": [
    "df_58054 = df[df['MJD'] == 58054]\n",
    "plt.figure(figsize=(20, 10))\n",
    "df_58054['ΔRV'].plot.hist(grid=True, bins=500, rwidth=1)\n",
    "plt.title('Distribution of ΔRVs on Plate 9290, MJD 58054')\n",
    "plt.xlabel('ΔRV [km/s]')"
   ]
  },
  {
   "cell_type": "code",
   "execution_count": 72,
   "metadata": {},
   "outputs": [
    {
     "data": {
      "text/plain": [
       "Text(0.5, 0, 'ΔRV [km/s]')"
      ]
     },
     "execution_count": 72,
     "metadata": {},
     "output_type": "execute_result"
    },
    {
     "data": {
      "image/png": "[encoded data removed]",
      "text/plain": [
       "<Figure size 1440x720 with 1 Axes>"
      ]
     },
     "metadata": {
      "needs_background": "light"
     },
     "output_type": "display_data"
    }
   ],
   "source": [
    "df_58063 = df[df['MJD'] == 58063]\n",
    "plt.figure(figsize=(20, 10))\n",
    "df_58063['ΔRV'].plot.hist(grid=True, bins=500, rwidth=1)\n",
    "plt.title('Distribution of ΔRVs on Plate 9290, MJD 58063')\n",
    "plt.xlabel('ΔRV [km/s]')"
   ]
  },
  {
   "cell_type": "code",
   "execution_count": 73,
   "metadata": {},
   "outputs": [
    {
     "data": {
      "text/plain": [
       "Text(0.5, 0, 'ΔRV [km/s]')"
      ]
     },
     "execution_count": 73,
     "metadata": {},
     "output_type": "execute_result"
    },
    {
     "data": {
      "image/png": "[encoded data removed]",
      "text/plain": [
       "<Figure size 1440x720 with 1 Axes>"
      ]
     },
     "metadata": {
      "needs_background": "light"
     },
     "output_type": "display_data"
    }
   ],
   "source": [
    "df_58068 = df[df['MJD'] == 58068]\n",
    "plt.figure(figsize=(20, 10))\n",
    "df_58068['ΔRV'].plot.hist(grid=True, bins=500, rwidth=1)\n",
    "plt.title('Distribution of ΔRVs on Plate 9290, MJD 58068')\n",
    "plt.xlabel('ΔRV [km/s]')"
   ]
  },
  {
   "cell_type": "code",
   "execution_count": 74,
   "metadata": {},
   "outputs": [
    {
     "data": {
      "text/plain": [
       "Text(0.5, 0, 'ΔRV [km/s]')"
      ]
     },
     "execution_count": 74,
     "metadata": {},
     "output_type": "execute_result"
    },
    {
     "data": {
      "image/png": "[encoded data removed]",
      "text/plain": [
       "<Figure size 1440x720 with 1 Axes>"
      ]
     },
     "metadata": {
      "needs_background": "light"
     },
     "output_type": "display_data"
    }
   ],
   "source": [
    "df_58085 = df[df['MJD'] == 58085]\n",
    "plt.figure(figsize=(20, 10))\n",
    "df_58085['ΔRV'].plot.hist(grid=True, bins=500, rwidth=1)\n",
    "plt.title('Distribution of ΔRVs on Plate 9290, MJD 58085')\n",
    "plt.xlabel('ΔRV [km/s]')"
   ]
  },
  {
   "cell_type": "code",
   "execution_count": 75,
   "metadata": {},
   "outputs": [
    {
     "data": {
      "text/plain": [
       "Text(0.5, 0, 'ΔRV [km/s]')"
      ]
     },
     "execution_count": 75,
     "metadata": {},
     "output_type": "execute_result"
    },
    {
     "data": {
      "image/png": "[encoded data removed]",
      "text/plain": [
       "<Figure size 1440x720 with 1 Axes>"
      ]
     },
     "metadata": {
      "needs_background": "light"
     },
     "output_type": "display_data"
    }
   ],
   "source": [
    "df_58087 = df[df['MJD'] == 58087]\n",
    "plt.figure(figsize=(20, 10))\n",
    "df_58087['ΔRV'].plot.hist(grid=True, bins=500, rwidth=1)\n",
    "plt.title('Distribution of ΔRVs on Plate 9290, MJD 58087')\n",
    "plt.xlabel('ΔRV [km/s]')"
   ]
  },
  {
   "cell_type": "code",
   "execution_count": 76,
   "metadata": {},
   "outputs": [
    {
     "data": {
      "text/plain": [
       "Text(0.5, 0, 'ΔRV [km/s]')"
      ]
     },
     "execution_count": 76,
     "metadata": {},
     "output_type": "execute_result"
    },
    {
     "data": {
      "image/png": "[encoded data removed]",
      "text/plain": [
       "<Figure size 1440x720 with 1 Axes>"
      ]
     },
     "metadata": {
      "needs_background": "light"
     },
     "output_type": "display_data"
    }
   ],
   "source": [
    "df_58114 = df[df['MJD'] == 58114]\n",
    "plt.figure(figsize=(20, 10))\n",
    "df_58114['ΔRV'].plot.hist(grid=True, bins=500, rwidth=1)\n",
    "plt.title('Distribution of ΔRVs on Plate 9290, MJD 58114')\n",
    "plt.xlabel('ΔRV [km/s]')"
   ]
  },
  {
   "cell_type": "code",
   "execution_count": 77,
   "metadata": {},
   "outputs": [
    {
     "data": {
      "text/plain": [
       "Text(0.5, 0, 'ΔRV [km/s]')"
      ]
     },
     "execution_count": 77,
     "metadata": {},
     "output_type": "execute_result"
    },
    {
     "data": {
      "image/png": "[encoded data removed]",
      "text/plain": [
       "<Figure size 1440x720 with 1 Axes>"
      ]
     },
     "metadata": {
      "needs_background": "light"
     },
     "output_type": "display_data"
    }
   ],
   "source": [
    "df_58143 = df[df['MJD'] == 58143]\n",
    "plt.figure(figsize=(20, 10))\n",
    "df_58143['ΔRV'].plot.hist(grid=True, bins=500, rwidth=1)\n",
    "plt.title('Distribution of ΔRVs on Plate 9290, MJD 58143')\n",
    "plt.xlabel('ΔRV [km/s]')"
   ]
  },
  {
   "cell_type": "code",
   "execution_count": 117,
   "metadata": {},
   "outputs": [
    {
     "data": {
      "text/plain": [
       "[<matplotlib.lines.Line2D at 0x7fb25c32c340>]"
      ]
     },
     "execution_count": 117,
     "metadata": {},
     "output_type": "execute_result"
    },
    {
     "data": {
      "image/png": "[encoded data removed]",
      "text/plain": [
       "<Figure size 720x720 with 1 Axes>"
      ]
     },
     "metadata": {
      "needs_background": "light"
     },
     "output_type": "display_data"
    }
   ],
   "source": [
    "# Cutoff to |250m/s|\n",
    "\n",
    "x = weightedavgcutoff_df['MJD']\n",
    "y = weightedavgcutoff_df['Combined ΔRV (m/s)']\n",
    "yerr = weightedavgcutoff_df['Combined σRV (m/s)']\n",
    "a, b = np.polyfit(x, y, 1)\n",
    "plt.figure(figsize=(10, 10))\n",
    "plt.errorbar(x, y, yerr, fmt='.', color='blue', ecolor='red', capsize=5)\n",
    "plt.plot(x, a*x+b, color='lightgreen')"
   ]
  },
  {
   "cell_type": "markdown",
   "metadata": {},
   "source": [
    "## Step 5\n",
    "- Pick some RV standard stars (~10)\n",
    "- Apply correction (50/100 m correction is large for typical statistical error of APOGEE)"
   ]
  },
  {
   "cell_type": "code",
   "execution_count": null,
   "metadata": {},
   "outputs": [],
   "source": []
  },
  {
   "cell_type": "markdown",
   "metadata": {},
   "source": [
    "## Step 6\n",
    "- Try repeating this process for other plates\n",
    "- Combine plots for all plates (fill in gaps in MJD)\n",
    "    - Difference in N measurements per object doesn't matter bc statistical error will be larger with fewer data points, makes up for it"
   ]
  },
  {
   "cell_type": "markdown",
   "metadata": {},
   "source": [
    "## Step ?\n",
    "- Try PCA"
   ]
  },
  {
   "cell_type": "code",
   "execution_count": 41,
   "metadata": {},
   "outputs": [],
   "source": [
    "features = ['MJD', 'ΔRV']#, 'OBSVREL Error (km/s)', '<RV>']"
   ]
  },
  {
   "cell_type": "code",
   "execution_count": 42,
   "metadata": {},
   "outputs": [],
   "source": [
    "x2 = df.loc[:, features].values"
   ]
  },
  {
   "cell_type": "code",
   "execution_count": 43,
   "metadata": {},
   "outputs": [],
   "source": [
    "y2 = df.loc[:, ['Target ID']].values"
   ]
  },
  {
   "cell_type": "code",
   "execution_count": 44,
   "metadata": {},
   "outputs": [],
   "source": [
    "x2 = StandardScaler().fit_transform(x2)"
   ]
  },
  {
   "cell_type": "code",
   "execution_count": 45,
   "metadata": {},
   "outputs": [
    {
     "data": {
      "text/plain": [
       "(3408, 2)"
      ]
     },
     "execution_count": 45,
     "metadata": {},
     "output_type": "execute_result"
    }
   ],
   "source": [
    "x2.shape"
   ]
  },
  {
   "cell_type": "code",
   "execution_count": 46,
   "metadata": {},
   "outputs": [
    {
     "data": {
      "text/plain": [
       "(1.9546180011006278e-18, 1.0)"
      ]
     },
     "execution_count": 46,
     "metadata": {},
     "output_type": "execute_result"
    }
   ],
   "source": [
    "# Check standard dev is 1.0\n",
    "\n",
    "np.mean(x2), np.std(x2)"
   ]
  },
  {
   "cell_type": "code",
   "execution_count": 47,
   "metadata": {},
   "outputs": [],
   "source": [
    "feat_cols = ['feature'+str(i) for i in range(x2.shape[1])]"
   ]
  },
  {
   "cell_type": "code",
   "execution_count": 48,
   "metadata": {},
   "outputs": [],
   "source": [
    "normalised_data = pd.DataFrame(x2,columns=feat_cols)"
   ]
  },
  {
   "cell_type": "code",
   "execution_count": 49,
   "metadata": {},
   "outputs": [
    {
     "data": {
      "text/html": [
       "<div>\n",
       "<style scoped>\n",
       "    .dataframe tbody tr th:only-of-type {\n",
       "        vertical-align: middle;\n",
       "    }\n",
       "\n",
       "    .dataframe tbody tr th {\n",
       "        vertical-align: top;\n",
       "    }\n",
       "\n",
       "    .dataframe thead th {\n",
       "        text-align: right;\n",
       "    }\n",
       "</style>\n",
       "<table border=\"1\" class=\"dataframe\">\n",
       "  <thead>\n",
       "    <tr style=\"text-align: right;\">\n",
       "      <th></th>\n",
       "      <th>feature0</th>\n",
       "      <th>feature1</th>\n",
       "    </tr>\n",
       "  </thead>\n",
       "  <tbody>\n",
       "    <tr>\n",
       "      <th>3403</th>\n",
       "      <td>-1.212567</td>\n",
       "      <td>0.010070</td>\n",
       "    </tr>\n",
       "    <tr>\n",
       "      <th>3404</th>\n",
       "      <td>-1.370993</td>\n",
       "      <td>-0.038174</td>\n",
       "    </tr>\n",
       "    <tr>\n",
       "      <th>3405</th>\n",
       "      <td>1.115074</td>\n",
       "      <td>-0.005590</td>\n",
       "    </tr>\n",
       "    <tr>\n",
       "      <th>3406</th>\n",
       "      <td>-0.865249</td>\n",
       "      <td>0.001966</td>\n",
       "    </tr>\n",
       "    <tr>\n",
       "      <th>3407</th>\n",
       "      <td>1.291780</td>\n",
       "      <td>0.036056</td>\n",
       "    </tr>\n",
       "  </tbody>\n",
       "</table>\n",
       "</div>"
      ],
      "text/plain": [
       "      feature0  feature1\n",
       "3403 -1.212567  0.010070\n",
       "3404 -1.370993 -0.038174\n",
       "3405  1.115074 -0.005590\n",
       "3406 -0.865249  0.001966\n",
       "3407  1.291780  0.036056"
      ]
     },
     "execution_count": 49,
     "metadata": {},
     "output_type": "execute_result"
    }
   ],
   "source": [
    "normalised_data.tail()"
   ]
  },
  {
   "cell_type": "code",
   "execution_count": 50,
   "metadata": {},
   "outputs": [],
   "source": [
    "pca = PCA(n_components = 2)"
   ]
  },
  {
   "cell_type": "code",
   "execution_count": 51,
   "metadata": {},
   "outputs": [],
   "source": [
    "principalComponents = pca.fit_transform(x2)"
   ]
  },
  {
   "cell_type": "code",
   "execution_count": 52,
   "metadata": {},
   "outputs": [],
   "source": [
    "principalDf = pd.DataFrame(data = principalComponents, \n",
    "                           columns = ['principal component 1', 'principal component 2'])"
   ]
  },
  {
   "cell_type": "code",
   "execution_count": 53,
   "metadata": {
    "scrolled": true
   },
   "outputs": [
    {
     "data": {
      "text/html": [
       "<div>\n",
       "<style scoped>\n",
       "    .dataframe tbody tr th:only-of-type {\n",
       "        vertical-align: middle;\n",
       "    }\n",
       "\n",
       "    .dataframe tbody tr th {\n",
       "        vertical-align: top;\n",
       "    }\n",
       "\n",
       "    .dataframe thead th {\n",
       "        text-align: right;\n",
       "    }\n",
       "</style>\n",
       "<table border=\"1\" class=\"dataframe\">\n",
       "  <thead>\n",
       "    <tr style=\"text-align: right;\">\n",
       "      <th></th>\n",
       "      <th>principal component 1</th>\n",
       "      <th>principal component 2</th>\n",
       "    </tr>\n",
       "  </thead>\n",
       "  <tbody>\n",
       "    <tr>\n",
       "      <th>3403</th>\n",
       "      <td>-0.864535</td>\n",
       "      <td>0.850293</td>\n",
       "    </tr>\n",
       "    <tr>\n",
       "      <th>3404</th>\n",
       "      <td>-0.942445</td>\n",
       "      <td>0.996431</td>\n",
       "    </tr>\n",
       "    <tr>\n",
       "      <th>3405</th>\n",
       "      <td>0.792429</td>\n",
       "      <td>-0.784524</td>\n",
       "    </tr>\n",
       "    <tr>\n",
       "      <th>3406</th>\n",
       "      <td>-0.613213</td>\n",
       "      <td>0.610433</td>\n",
       "    </tr>\n",
       "    <tr>\n",
       "      <th>3407</th>\n",
       "      <td>0.887931</td>\n",
       "      <td>-0.938921</td>\n",
       "    </tr>\n",
       "  </tbody>\n",
       "</table>\n",
       "</div>"
      ],
      "text/plain": [
       "      principal component 1  principal component 2\n",
       "3403              -0.864535               0.850293\n",
       "3404              -0.942445               0.996431\n",
       "3405               0.792429              -0.784524\n",
       "3406              -0.613213               0.610433\n",
       "3407               0.887931              -0.938921"
      ]
     },
     "execution_count": 53,
     "metadata": {},
     "output_type": "execute_result"
    }
   ],
   "source": [
    "principalDf.tail()"
   ]
  },
  {
   "cell_type": "code",
   "execution_count": 54,
   "metadata": {
    "scrolled": true
   },
   "outputs": [
    {
     "name": "stdout",
     "output_type": "stream",
     "text": [
      "Explained variation per principal component: [0.52070766 0.47929234]\n"
     ]
    }
   ],
   "source": [
    "print('Explained variation per principal component: {}'.format(pca.explained_variance_ratio_))"
   ]
  },
  {
   "cell_type": "code",
   "execution_count": 55,
   "metadata": {},
   "outputs": [
    {
     "data": {
      "text/plain": [
       "<Figure size 432x288 with 0 Axes>"
      ]
     },
     "metadata": {},
     "output_type": "display_data"
    },
    {
     "data": {
      "image/png": "[encoded data removed]",
      "text/plain": [
       "<Figure size 720x720 with 1 Axes>"
      ]
     },
     "metadata": {
      "needs_background": "light"
     },
     "output_type": "display_data"
    }
   ],
   "source": [
    "plt.figure()\n",
    "plt.figure(figsize=(10,10))\n",
    "# plt.xticks(fontsize=12)\n",
    "# plt.yticks(fontsize=14)\n",
    "plt.xlabel('Principal Component - 1',fontsize=20)\n",
    "plt.ylabel('Principal Component - 2',fontsize=20)\n",
    "plt.title(\"PCA of Dataset\",fontsize=20)\n",
    "targets = [df['Target ID']]\n",
    "colors = ['r', 'g']\n",
    "for target, color in zip(targets,colors):\n",
    "    indicesToKeep = df['Target ID'] == target\n",
    "    plt.scatter(principalDf.loc[indicesToKeep, 'principal component 1']\n",
    "               , principalDf.loc[indicesToKeep, 'principal component 2'], c = color, s = 50)\n",
    "\n",
    "# plt.legend(targets,prop={'size': 15})"
   ]
  },
  {
   "cell_type": "code",
   "execution_count": null,
   "metadata": {},
   "outputs": [],
   "source": []
  },
  {
   "cell_type": "code",
   "execution_count": 165,
   "metadata": {},
   "outputs": [],
   "source": [
    "finalDf = pd.concat([principalDf, df[['Target ID']]], axis = 1)"
   ]
  },
  {
   "cell_type": "code",
   "execution_count": 166,
   "metadata": {},
   "outputs": [
    {
     "data": {
      "text/html": [
       "<div>\n",
       "<style scoped>\n",
       "    .dataframe tbody tr th:only-of-type {\n",
       "        vertical-align: middle;\n",
       "    }\n",
       "\n",
       "    .dataframe tbody tr th {\n",
       "        vertical-align: top;\n",
       "    }\n",
       "\n",
       "    .dataframe thead th {\n",
       "        text-align: right;\n",
       "    }\n",
       "</style>\n",
       "<table border=\"1\" class=\"dataframe\">\n",
       "  <thead>\n",
       "    <tr style=\"text-align: right;\">\n",
       "      <th></th>\n",
       "      <th>principal component 1</th>\n",
       "      <th>principal component 2</th>\n",
       "      <th>Target ID</th>\n",
       "    </tr>\n",
       "  </thead>\n",
       "  <tbody>\n",
       "    <tr>\n",
       "      <th>0</th>\n",
       "      <td>-0.018731</td>\n",
       "      <td>-1.022855</td>\n",
       "      <td>apo25m.5226.150-08-RV.2M03252400+4614203</td>\n",
       "    </tr>\n",
       "    <tr>\n",
       "      <th>1</th>\n",
       "      <td>-0.025336</td>\n",
       "      <td>-0.914397</td>\n",
       "      <td>apo25m.5226.150-08-RV.2M03252400+4614203</td>\n",
       "    </tr>\n",
       "    <tr>\n",
       "      <th>2</th>\n",
       "      <td>-0.025844</td>\n",
       "      <td>-0.906054</td>\n",
       "      <td>apo25m.5226.150-08-RV.2M03252400+4614203</td>\n",
       "    </tr>\n",
       "    <tr>\n",
       "      <th>3</th>\n",
       "      <td>-0.026098</td>\n",
       "      <td>-0.901884</td>\n",
       "      <td>apo25m.5226.150-08-RV.2M03252400+4614203</td>\n",
       "    </tr>\n",
       "    <tr>\n",
       "      <th>4</th>\n",
       "      <td>-0.032449</td>\n",
       "      <td>-0.797598</td>\n",
       "      <td>apo25m.5226.150-08-RV.2M03252400+4614203</td>\n",
       "    </tr>\n",
       "    <tr>\n",
       "      <th>...</th>\n",
       "      <td>...</td>\n",
       "      <td>...</td>\n",
       "      <td>...</td>\n",
       "    </tr>\n",
       "    <tr>\n",
       "      <th>3627</th>\n",
       "      <td>-0.109078</td>\n",
       "      <td>0.488988</td>\n",
       "      <td>apo25m.5226.150-08-RV.2M03415658+4626067</td>\n",
       "    </tr>\n",
       "    <tr>\n",
       "      <th>3628</th>\n",
       "      <td>-0.113397</td>\n",
       "      <td>0.559901</td>\n",
       "      <td>apo25m.5226.150-08-RV.2M03415658+4626067</td>\n",
       "    </tr>\n",
       "    <tr>\n",
       "      <th>3629</th>\n",
       "      <td>-0.113905</td>\n",
       "      <td>0.568244</td>\n",
       "      <td>apo25m.5226.150-08-RV.2M03415658+4626067</td>\n",
       "    </tr>\n",
       "    <tr>\n",
       "      <th>3630</th>\n",
       "      <td>-0.120764</td>\n",
       "      <td>0.680872</td>\n",
       "      <td>apo25m.5226.150-08-RV.2M03415658+4626067</td>\n",
       "    </tr>\n",
       "    <tr>\n",
       "      <th>3631</th>\n",
       "      <td>-0.128131</td>\n",
       "      <td>0.801843</td>\n",
       "      <td>apo25m.5226.150-08-RV.2M03415658+4626067</td>\n",
       "    </tr>\n",
       "  </tbody>\n",
       "</table>\n",
       "<p>3632 rows × 3 columns</p>\n",
       "</div>"
      ],
      "text/plain": [
       "      principal component 1  principal component 2  \\\n",
       "0                 -0.018731              -1.022855   \n",
       "1                 -0.025336              -0.914397   \n",
       "2                 -0.025844              -0.906054   \n",
       "3                 -0.026098              -0.901884   \n",
       "4                 -0.032449              -0.797598   \n",
       "...                     ...                    ...   \n",
       "3627              -0.109078               0.488988   \n",
       "3628              -0.113397               0.559901   \n",
       "3629              -0.113905               0.568244   \n",
       "3630              -0.120764               0.680872   \n",
       "3631              -0.128131               0.801843   \n",
       "\n",
       "                                     Target ID  \n",
       "0     apo25m.5226.150-08-RV.2M03252400+4614203  \n",
       "1     apo25m.5226.150-08-RV.2M03252400+4614203  \n",
       "2     apo25m.5226.150-08-RV.2M03252400+4614203  \n",
       "3     apo25m.5226.150-08-RV.2M03252400+4614203  \n",
       "4     apo25m.5226.150-08-RV.2M03252400+4614203  \n",
       "...                                        ...  \n",
       "3627  apo25m.5226.150-08-RV.2M03415658+4626067  \n",
       "3628  apo25m.5226.150-08-RV.2M03415658+4626067  \n",
       "3629  apo25m.5226.150-08-RV.2M03415658+4626067  \n",
       "3630  apo25m.5226.150-08-RV.2M03415658+4626067  \n",
       "3631  apo25m.5226.150-08-RV.2M03415658+4626067  \n",
       "\n",
       "[3632 rows x 3 columns]"
      ]
     },
     "execution_count": 166,
     "metadata": {},
     "output_type": "execute_result"
    }
   ],
   "source": [
    "finalDf"
   ]
  }
 ],
 "metadata": {
  "kernelspec": {
   "display_name": "Python 3 (ipykernel)",
   "language": "python",
   "name": "python3"
  },
  "language_info": {
   "codemirror_mode": {
    "name": "ipython",
    "version": 3
   },
   "file_extension": ".py",
   "mimetype": "text/x-python",
   "name": "python",
   "nbconvert_exporter": "python",
   "pygments_lexer": "ipython3",
   "version": "3.9.7"
  }
 },
 "nbformat": 4,
 "nbformat_minor": 4
}
