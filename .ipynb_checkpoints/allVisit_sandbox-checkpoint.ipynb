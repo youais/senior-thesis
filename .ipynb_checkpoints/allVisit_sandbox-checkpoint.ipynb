{
 "cells": [
  {
   "cell_type": "markdown",
   "metadata": {},
   "source": [
    "## to do:\n",
    "- work out how to show number of visits per target for a plate\n",
    "- sort plates by number of visits (ideally N > 20)\n",
    "- make plate data into pandas df\n",
    "- run pca to analyse the N RV measurements of those ~200 stars together\n",
    "\n",
    "## questions:\n",
    "- what does 'bestars' represent?\n",
    "- what is observed spectrum template matching?\n",
    "- how is field location id determined?\n",
    "- what does tmass-style object name mean?"
   ]
  },
  {
   "cell_type": "code",
   "execution_count": 1,
   "metadata": {},
   "outputs": [],
   "source": [
    "import numpy as np\n",
    "from matplotlib import pyplot as plt\n",
    "from astropy.io import fits\n",
    "import fitsio\n",
    "import statistics as stat\n",
    "import pandas as pd"
   ]
  },
  {
   "cell_type": "markdown",
   "metadata": {},
   "source": [
    "## using fitsio\n",
    "### figuring out plate id data"
   ]
  },
  {
   "cell_type": "code",
   "execution_count": 2,
   "metadata": {},
   "outputs": [],
   "source": [
    "# Read in fits file data using fitsio\n",
    "\n",
    "data = fitsio.read('allVisit-r12-l33.fits')"
   ]
  },
  {
   "cell_type": "code",
   "execution_count": 3,
   "metadata": {},
   "outputs": [
    {
     "name": "stdout",
     "output_type": "stream",
     "text": [
      "1778792\n"
     ]
    }
   ],
   "source": [
    "# Define variables for working with PLATE data\n",
    "\n",
    "plates = data['PLATE']\n",
    "plateslist = list(plates) #[5:]) # only numerical plate ids\n",
    "\n",
    "print(plates.size) # Same as total number of visits"
   ]
  },
  {
   "cell_type": "code",
   "execution_count": 4,
   "metadata": {},
   "outputs": [
    {
     "name": "stdout",
     "output_type": "stream",
     "text": [
      "['Bestars', 'Bestars', 'calibration', 'calibration', 'calibration', '7545', '7545']\n"
     ]
    }
   ],
   "source": [
    "# Strip whitespace in plates list\n",
    "\n",
    "for i, s in enumerate(plateslist):\n",
    "    plateslist[i] = s.strip()\n",
    "\n",
    "print(plateslist[:7]) # Check if strip was successful"
   ]
  },
  {
   "cell_type": "code",
   "execution_count": 5,
   "metadata": {},
   "outputs": [
    {
     "data": {
      "text/plain": [
       "['9290']"
      ]
     },
     "execution_count": 5,
     "metadata": {},
     "output_type": "execute_result"
    }
   ],
   "source": [
    "# Plate with greatest number of visits\n",
    "\n",
    "stat.multimode(plateslist)"
   ]
  },
  {
   "cell_type": "code",
   "execution_count": 6,
   "metadata": {},
   "outputs": [
    {
     "name": "stdout",
     "output_type": "stream",
     "text": [
      "Number of unique plates: 2383\n"
     ]
    }
   ],
   "source": [
    "# Make list of unique plates\n",
    "\n",
    "unique_plates = []\n",
    "total_up = 0\n",
    "\n",
    "for i in plateslist:\n",
    "    if i not in unique_plates:\n",
    "        total_up = total_up + 1\n",
    "        unique_plates.append(i)\n",
    "\n",
    "print('Number of unique plates:', total_up)"
   ]
  },
  {
   "cell_type": "code",
   "execution_count": 7,
   "metadata": {},
   "outputs": [],
   "source": [
    "# Count the times that each plate appears; i.e. visits per plate\n",
    "\n",
    "visit_count = []\n",
    "for u in unique_plates:\n",
    "    nvisits = plateslist.count(u)\n",
    "    visit_count.append(nvisits)"
   ]
  },
  {
   "cell_type": "code",
   "execution_count": 8,
   "metadata": {
    "scrolled": true
   },
   "outputs": [
    {
     "name": "stdout",
     "output_type": "stream",
     "text": [
      "         Plate ID Visit Count\n",
      "0         Bestars          48\n",
      "1     calibration         237\n",
      "2            7545         792\n",
      "3            7917         500\n",
      "4            5583         794\n",
      "...           ...         ...\n",
      "2378         9260         794\n",
      "2379         5582         794\n",
      "2380         7540         792\n",
      "2381        11039         265\n",
      "2382         8655        1056\n",
      "\n",
      "[2383 rows x 2 columns]\n"
     ]
    }
   ],
   "source": [
    "# Create pandas df for visits per plate\n",
    "\n",
    "plates_mdlist = [unique_plates, visit_count]\n",
    "\n",
    "df = pd.DataFrame(plates_mdlist).transpose()\n",
    "df.columns = ['Plate ID', 'Visit Count']\n",
    "\n",
    "print(df)"
   ]
  },
  {
   "cell_type": "code",
   "execution_count": 9,
   "metadata": {},
   "outputs": [],
   "source": [
    "# Figure out number of unique visits per unique target per plate!\n",
    "\n",
    "targetlist = list(data['TARGET_ID'])"
   ]
  },
  {
   "cell_type": "code",
   "execution_count": 10,
   "metadata": {},
   "outputs": [
    {
     "ename": "KeyboardInterrupt",
     "evalue": "",
     "output_type": "error",
     "traceback": [
      "\u001b[0;31m---------------------------------------------------------------------------\u001b[0m",
      "\u001b[0;31mKeyboardInterrupt\u001b[0m                         Traceback (most recent call last)",
      "\u001b[0;32m<ipython-input-10-7f2ea0cbb4f4>\u001b[0m in \u001b[0;36m<module>\u001b[0;34m\u001b[0m\n\u001b[1;32m      3\u001b[0m \u001b[0;34m\u001b[0m\u001b[0m\n\u001b[1;32m      4\u001b[0m \u001b[0;32mfor\u001b[0m \u001b[0mt\u001b[0m \u001b[0;32min\u001b[0m \u001b[0mtargetlist\u001b[0m\u001b[0;34m:\u001b[0m\u001b[0;34m\u001b[0m\u001b[0;34m\u001b[0m\u001b[0m\n\u001b[0;32m----> 5\u001b[0;31m     \u001b[0;32mif\u001b[0m \u001b[0mt\u001b[0m \u001b[0;32mnot\u001b[0m \u001b[0;32min\u001b[0m \u001b[0munique_targets\u001b[0m\u001b[0;34m:\u001b[0m\u001b[0;34m\u001b[0m\u001b[0;34m\u001b[0m\u001b[0m\n\u001b[0m\u001b[1;32m      6\u001b[0m         \u001b[0mtotal_ut\u001b[0m \u001b[0;34m=\u001b[0m \u001b[0mtotal_ut\u001b[0m \u001b[0;34m+\u001b[0m \u001b[0;36m1\u001b[0m\u001b[0;34m\u001b[0m\u001b[0;34m\u001b[0m\u001b[0m\n\u001b[1;32m      7\u001b[0m         \u001b[0munique_targets\u001b[0m\u001b[0;34m.\u001b[0m\u001b[0mappend\u001b[0m\u001b[0;34m(\u001b[0m\u001b[0mt\u001b[0m\u001b[0;34m)\u001b[0m\u001b[0;34m\u001b[0m\u001b[0;34m\u001b[0m\u001b[0m\n",
      "\u001b[0;31mKeyboardInterrupt\u001b[0m: "
     ]
    }
   ],
   "source": [
    "unique_targets = []\n",
    "total_ut = 0\n",
    "\n",
    "for t in targetlist:\n",
    "    if t not in unique_targets:\n",
    "        total_ut = total_ut + 1\n",
    "        unique_targets.append(t)\n",
    "        \n",
    "print('Number of unique targets:', total_ut)"
   ]
  },
  {
   "cell_type": "code",
   "execution_count": null,
   "metadata": {},
   "outputs": [],
   "source": [
    "target_visit_count = []\n",
    "for c in unique_targets:\n",
    "    nvisits_t = targetlist.count(c)\n",
    "    target_visit_count.append(nvisits_t)"
   ]
  },
  {
   "cell_type": "markdown",
   "metadata": {},
   "source": [
    "## using astropy\n",
    "### figuring out rv data\n",
    "- Want to pick plate which has >20 visits per target!"
   ]
  },
  {
   "cell_type": "code",
   "execution_count": null,
   "metadata": {},
   "outputs": [],
   "source": [
    "# HDU stuff\n",
    "\n",
    "hdulist = fits.open('allVisit-r12-l33.fits')\n",
    "\n",
    "hdulist.info()\n",
    "\n",
    "header = hdulist[1].header\n",
    "data = hdulist[1].data\n",
    "\n",
    "hdulist.close()"
   ]
  },
  {
   "cell_type": "code",
   "execution_count": null,
   "metadata": {
    "scrolled": true
   },
   "outputs": [],
   "source": [
    "# Set up data parameters\n",
    "\n",
    "allplates = list(data['PLATE'])\n",
    "\n",
    "for i, s in enumerate(allplates):\n",
    "    allplates[i] = s.strip() # Remove whitespace in plate ids\n",
    "\n",
    "allmjd = list(data['MJD'])\n",
    "alltargets = list(data['TARGET_ID'])\n",
    "allrvs = list(data['OBSVHELIO']) # Heliocentric relative RV from 'observed spectrum template matching'"
   ]
  },
  {
   "cell_type": "code",
   "execution_count": null,
   "metadata": {
    "scrolled": true
   },
   "outputs": [],
   "source": [
    "# Create pandas df\n",
    "\n",
    "alldata = [allplates, allmjd, alltargets, allrvs]\n",
    "\n",
    "df = pd.DataFrame(alldata).transpose()\n",
    "df.columns = ['Plate ID', 'MJD', 'Target ID', 'OBSVHELIO (km/s)']\n",
    "\n",
    "print(df.to_markdown())"
   ]
  },
  {
   "cell_type": "code",
   "execution_count": null,
   "metadata": {
    "scrolled": false
   },
   "outputs": [],
   "source": [
    "print(df['Target ID'].value_counts())"
   ]
  },
  {
   "cell_type": "code",
   "execution_count": null,
   "metadata": {
    "scrolled": true
   },
   "outputs": [],
   "source": [
    "df['Target ID'].describe()"
   ]
  },
  {
   "cell_type": "code",
   "execution_count": null,
   "metadata": {},
   "outputs": [],
   "source": [
    "df.groupby('Target ID')"
   ]
  },
  {
   "cell_type": "code",
   "execution_count": null,
   "metadata": {},
   "outputs": [],
   "source": [
    "# Show data only if target was visited 20+ times\n",
    "\n",
    "dff = df[df['Target ID'].value_counts() > 20]"
   ]
  },
  {
   "cell_type": "code",
   "execution_count": null,
   "metadata": {},
   "outputs": [],
   "source": [
    "print(dff)"
   ]
  },
  {
   "cell_type": "code",
   "execution_count": null,
   "metadata": {},
   "outputs": [],
   "source": [
    "dff['MJD'].median()"
   ]
  },
  {
   "cell_type": "code",
   "execution_count": null,
   "metadata": {},
   "outputs": [],
   "source": []
  }
 ],
 "metadata": {
  "kernelspec": {
   "display_name": "Python 3",
   "language": "python",
   "name": "python3"
  },
  "language_info": {
   "codemirror_mode": {
    "name": "ipython",
    "version": 3
   },
   "file_extension": ".py",
   "mimetype": "text/x-python",
   "name": "python",
   "nbconvert_exporter": "python",
   "pygments_lexer": "ipython3",
   "version": "3.8.5"
  }
 },
 "nbformat": 4,
 "nbformat_minor": 4
}
