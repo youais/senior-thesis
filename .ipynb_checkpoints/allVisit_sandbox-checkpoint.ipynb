{
 "cells": [
  {
   "cell_type": "markdown",
   "metadata": {},
   "source": [
    "## to do:\n",
    "- work out how to show number of visits for a plate\n",
    "- sort plates by number of visits (ideally N > 20)\n",
    "- figure out how to turn data on this plate into pandas df\n",
    "- run pca to analyse the N RV measurements of those ~200 stars together"
   ]
  },
  {
   "cell_type": "code",
   "execution_count": 46,
   "metadata": {},
   "outputs": [],
   "source": [
    "import numpy as np\n",
    "import fitsio\n",
    "from matplotlib import pyplot as plt\n",
    "from astropy.io import fits\n",
    "\n"
   ]
  },
  {
   "cell_type": "code",
   "execution_count": 18,
   "metadata": {},
   "outputs": [],
   "source": [
    "data = fitsio.read(\"allVisit-r12-l33.fits\")"
   ]
  },
  {
   "cell_type": "code",
   "execution_count": 34,
   "metadata": {},
   "outputs": [
    {
     "name": "stdout",
     "output_type": "stream",
     "text": [
      "1778792\n",
      "['Bestars      ' 'Bestars      ' 'calibration  ' ... '        6560 '\n",
      " '        6560 ' '        6560 ']\n"
     ]
    }
   ],
   "source": [
    "plates = data[\"PLATE\"]\n",
    "\n",
    "print(plates.size)\n",
    "print(plates)"
   ]
  },
  {
   "cell_type": "code",
   "execution_count": 44,
   "metadata": {},
   "outputs": [
    {
     "ename": "AttributeError",
     "evalue": "'numpy.ndarray' object has no attribute 'header'",
     "output_type": "error",
     "traceback": [
      "\u001b[0;31m---------------------------------------------------------------------------\u001b[0m",
      "\u001b[0;31mAttributeError\u001b[0m                            Traceback (most recent call last)",
      "\u001b[0;32m<ipython-input-44-a43f010fdb82>\u001b[0m in \u001b[0;36m<module>\u001b[0;34m\u001b[0m\n\u001b[0;32m----> 1\u001b[0;31m \u001b[0mplates\u001b[0m\u001b[0;34m.\u001b[0m\u001b[0mheader\u001b[0m\u001b[0;34m\u001b[0m\u001b[0;34m\u001b[0m\u001b[0m\n\u001b[0m",
      "\u001b[0;31mAttributeError\u001b[0m: 'numpy.ndarray' object has no attribute 'header'"
     ]
    }
   ],
   "source": []
  },
  {
   "cell_type": "code",
   "execution_count": 45,
   "metadata": {},
   "outputs": [
    {
     "data": {
      "text/plain": [
       "1"
      ]
     },
     "execution_count": 45,
     "metadata": {},
     "output_type": "execute_result"
    }
   ],
   "source": [
    "plates[14].size"
   ]
  },
  {
   "cell_type": "code",
   "execution_count": 42,
   "metadata": {},
   "outputs": [
    {
     "data": {
      "text/plain": [
       "array(['Bestars      ', 'Bestars      ', 'calibration  ', ...,\n",
       "       '        6560 ', '        6560 ', '        6560 '], dtype='<U13')"
      ]
     },
     "execution_count": 42,
     "metadata": {},
     "output_type": "execute_result"
    }
   ],
   "source": [
    "plates.view()"
   ]
  },
  {
   "cell_type": "code",
   "execution_count": null,
   "metadata": {},
   "outputs": [],
   "source": []
  },
  {
   "cell_type": "code",
   "execution_count": null,
   "metadata": {},
   "outputs": [],
   "source": []
  },
  {
   "cell_type": "code",
   "execution_count": null,
   "metadata": {},
   "outputs": [],
   "source": []
  },
  {
   "cell_type": "code",
   "execution_count": 2,
   "metadata": {},
   "outputs": [],
   "source": [
    "visit_hdus = fits.open(\"allVisit-r12-l33.fits\", memmap=True)"
   ]
  },
  {
   "cell_type": "code",
   "execution_count": 43,
   "metadata": {},
   "outputs": [
    {
     "data": {
      "text/plain": [
       "XTENSION= 'BINTABLE'           /Binary table written by MWRFITS v1.11           \n",
       "BITPIX  =                    8 /Required value                                  \n",
       "NAXIS   =                    2 /Required value                                  \n",
       "NAXIS1  =                  967 /Number of bytes per row                         \n",
       "NAXIS2  =              1778792 /Number of rows                                  \n",
       "PCOUNT  =                    0 /Normally 0 (no varying arrays)                  \n",
       "GCOUNT  =                    1 /Required value                                  \n",
       "TFIELDS =                   96 /Number of columns in table                      \n",
       "COMMENT                                                                         \n",
       "COMMENT  *** End of mandatory fields ***                                        \n",
       "COMMENT                                                                         \n",
       "COMMENT                                                                         \n",
       "COMMENT  *** Column names ***                                                   \n",
       "COMMENT                                                                         \n",
       "TTYPE1  = 'VISIT_ID'           /                                                \n",
       "TTYPE2  = 'APRED_VERSION'      /                                                \n",
       "TTYPE3  = 'APOGEE_ID'          /                                                \n",
       "TTYPE4  = 'TARGET_ID'          /                                                \n",
       "TTYPE5  = 'FILE    '           /                                                \n",
       "TTYPE6  = 'FIBERID '           /                                                \n",
       "TTYPE7  = 'PLATE   '           /                                                \n",
       "TTYPE8  = 'MJD     '           /                                                \n",
       "TTYPE9  = 'TELESCOPE'          /                                                \n",
       "TTYPE10 = 'SURVEY  '           /                                                \n",
       "TTYPE11 = 'FIELD   '           /                                                \n",
       "TTYPE12 = 'PROGRAMNAME'        /                                                \n",
       "TTYPE13 = 'LOCATION_ID'        /                                                \n",
       "TTYPE14 = 'RA      '           /                                                \n",
       "TTYPE15 = 'DEC     '           /                                                \n",
       "TTYPE16 = 'GLON    '           /                                                \n",
       "TTYPE17 = 'GLAT    '           /                                                \n",
       "TTYPE18 = 'J       '           /                                                \n",
       "TTYPE19 = 'J_ERR   '           /                                                \n",
       "TTYPE20 = 'H       '           /                                                \n",
       "TTYPE21 = 'H_ERR   '           /                                                \n",
       "TTYPE22 = 'K       '           /                                                \n",
       "TTYPE23 = 'K_ERR   '           /                                                \n",
       "TTYPE24 = 'RA_TARG '           /                                                \n",
       "TTYPE25 = 'DEC_TARG'           /                                                \n",
       "TTYPE26 = 'APOGEE_TARGET1'     /                                                \n",
       "TTYPE27 = 'APOGEE_TARGET2'     /                                                \n",
       "TTYPE28 = 'APOGEE_TARGET3'     /                                                \n",
       "TTYPE29 = 'TARGFLAGS'          /                                                \n",
       "TTYPE30 = 'SNR     '           /                                                \n",
       "TTYPE31 = 'STARFLAG'           /                                                \n",
       "TTYPE32 = 'STARFLAGS'          /                                                \n",
       "TTYPE33 = 'DATEOBS '           /                                                \n",
       "TTYPE34 = 'JD      '           /                                                \n",
       "TTYPE35 = 'BC      '           /                                                \n",
       "TTYPE36 = 'VTYPE   '           /                                                \n",
       "TTYPE37 = 'VREL    '           /                                                \n",
       "TTYPE38 = 'VRELERR '           /                                                \n",
       "TTYPE39 = 'VHELIO  '           /                                                \n",
       "TTYPE40 = 'VLSR    '           /                                                \n",
       "TTYPE41 = 'VGSR    '           /                                                \n",
       "TTYPE42 = 'CHISQ   '           /                                                \n",
       "TTYPE43 = 'RV_TEFF '           /                                                \n",
       "TTYPE44 = 'RV_FEH  '           /                                                \n",
       "TTYPE45 = 'RV_LOGG '           /                                                \n",
       "TTYPE46 = 'RV_ALPHA'           /                                                \n",
       "TTYPE47 = 'RV_CARB '           /                                                \n",
       "TTYPE48 = 'SYNTHFILE'          /                                                \n",
       "TTYPE49 = 'ESTVTYPE'           /                                                \n",
       "TTYPE50 = 'ESTVREL '           /                                                \n",
       "TTYPE51 = 'ESTVRELERR'         /                                                \n",
       "TTYPE52 = 'ESTVHELIO'          /                                                \n",
       "TTYPE53 = 'SYNTHVREL'          /                                                \n",
       "TTYPE54 = 'SYNTHVRELERR'       /                                                \n",
       "TTYPE55 = 'SYNTHVHELIO'        /                                                \n",
       "TTYPE56 = 'OBSVREL '           /                                                \n",
       "TTYPE57 = 'OBSVRELERR'         /                                                \n",
       "TTYPE58 = 'OBSVHELIO'          /                                                \n",
       "TTYPE59 = 'APOGEE2_TARGET1'    /                                                \n",
       "TTYPE60 = 'APOGEE2_TARGET2'    /                                                \n",
       "TTYPE61 = 'APOGEE2_TARGET3'    /                                                \n",
       "TTYPE62 = 'COMMISS '           /                                                \n",
       "TTYPE63 = 'EXTRATARG'          /                                                \n",
       "TTYPE64 = 'MIN_H   '           /                                                \n",
       "TTYPE65 = 'MAX_H   '           /                                                \n",
       "TTYPE66 = 'MIN_JK  '           /                                                \n",
       "TTYPE67 = 'MAX_JK  '           /                                                \n",
       "TTYPE68 = 'ALT_ID  '           /                                                \n",
       "TTYPE69 = 'SRC_H   '           /                                                \n",
       "TTYPE70 = 'WASH_M  '           /                                                \n",
       "TTYPE71 = 'WASH_M_ERR'         /                                                \n",
       "TTYPE72 = 'WASH_T2 '           /                                                \n",
       "TTYPE73 = 'WASH_T2_ERR'        /                                                \n",
       "TTYPE74 = 'DDO51   '           /                                                \n",
       "TTYPE75 = 'DDO51_ERR'          /                                                \n",
       "TTYPE76 = 'IRAC_3_6'           /                                                \n",
       "TTYPE77 = 'IRAC_3_6_ERR'       /                                                \n",
       "TTYPE78 = 'IRAC_4_5'           /                                                \n",
       "TTYPE79 = 'IRAC_4_5_ERR'       /                                                \n",
       "TTYPE80 = 'IRAC_5_8'           /                                                \n",
       "TTYPE81 = 'IRAC_5_8_ERR'       /                                                \n",
       "TTYPE82 = 'IRAC_8_0'           /                                                \n",
       "TTYPE83 = 'IRAC_8_0_ERR'       /                                                \n",
       "TTYPE84 = 'WISE_4_5'           /                                                \n",
       "TTYPE85 = 'WISE_4_5_ERR'       /                                                \n",
       "TTYPE86 = 'TARG_4_5'           /                                                \n",
       "TTYPE87 = 'TARG_4_5_ERR'       /                                                \n",
       "TTYPE88 = 'AK_TARG '           /                                                \n",
       "TTYPE89 = 'AK_TARG_METHOD'     /                                                \n",
       "TTYPE90 = 'AK_WISE '           /                                                \n",
       "TTYPE91 = 'SFD_EBV '           /                                                \n",
       "TTYPE92 = 'WASH_DDO51_GIANT_FLAG' /                                             \n",
       "TTYPE93 = 'WASH_DDO51_STAR_FLAG' /                                              \n",
       "TTYPE94 = 'PMRA    '           /                                                \n",
       "TTYPE95 = 'PMDEC   '           /                                                \n",
       "TTYPE96 = 'PM_SRC  '           /                                                \n",
       "COMMENT                                                                         \n",
       "COMMENT  *** Column formats ***                                                 \n",
       "COMMENT                                                                         \n",
       "TFORM1  = '57A     '           /                                                \n",
       "TFORM2  = '3A      '           /                                                \n",
       "TFORM3  = '18A     '           /                                                \n",
       "TFORM4  = '47A     '           /                                                \n",
       "TFORM5  = '46A     '           /                                                \n",
       "TFORM6  = 'I       '           /                                                \n",
       "TFORM7  = '13A     '           /                                                \n",
       "TFORM8  = 'J       '           /                                                \n",
       "TFORM9  = '6A      '           /                                                \n",
       "TFORM10 = '14A     '           /                                                \n",
       "TFORM11 = '16A     '           /                                                \n",
       "TFORM12 = '18A     '           /                                                \n",
       "TFORM13 = 'I       '           /                                                \n",
       "TFORM14 = 'D       '           /                                                \n",
       "TFORM15 = 'D       '           /                                                \n",
       "TFORM16 = 'D       '           /                                                \n",
       "TFORM17 = 'D       '           /                                                \n",
       "TFORM18 = 'E       '           /                                                \n",
       "TFORM19 = 'E       '           /                                                \n",
       "TFORM20 = 'E       '           /                                                \n",
       "TFORM21 = 'E       '           /                                                \n",
       "TFORM22 = 'E       '           /                                                \n",
       "TFORM23 = 'E       '           /                                                \n",
       "TFORM24 = 'D       '           /                                                \n",
       "TFORM25 = 'D       '           /                                                \n",
       "TFORM26 = 'J       '           /                                                \n",
       "TFORM27 = 'J       '           /                                                \n",
       "TFORM28 = 'J       '           /                                                \n",
       "TFORM29 = '192A    '           /                                                \n",
       "TFORM30 = 'E       '           /                                                \n",
       "TFORM31 = 'J       '           /                                                \n",
       "TFORM32 = '74A     '           /                                                \n",
       "TFORM33 = '23A     '           /                                                \n",
       "TFORM34 = 'D       '           /                                                \n",
       "TFORM35 = 'E       '           /                                                \n",
       "TFORM36 = 'I       '           /                                                \n",
       "TFORM37 = 'E       '           /                                                \n",
       "TFORM38 = 'E       '           /                                                \n",
       "TFORM39 = 'E       '           /                                                \n",
       "TFORM40 = 'E       '           /                                                \n",
       "TFORM41 = 'E       '           /                                                \n",
       "TFORM42 = 'E       '           /                                                \n",
       "TFORM43 = 'E       '           /                                                \n",
       "TFORM44 = 'E       '           /                                                \n",
       "TFORM45 = 'E       '           /                                                \n",
       "TFORM46 = 'E       '           /                                                \n",
       "TFORM47 = 'E       '           /                                                \n",
       "TFORM48 = '18A     '           /                                                \n",
       "TFORM49 = 'I       '           /                                                \n",
       "TFORM50 = 'E       '           /                                                \n",
       "TFORM51 = 'E       '           /                                                \n",
       "TFORM52 = 'E       '           /                                                \n",
       "TFORM53 = 'E       '           /                                                \n",
       "TFORM54 = 'E       '           /                                                \n",
       "TFORM55 = 'E       '           /                                                \n",
       "TFORM56 = 'E       '           /                                                \n",
       "TFORM57 = 'E       '           /                                                \n",
       "TFORM58 = 'E       '           /                                                \n",
       "TFORM59 = 'J       '           /                                                \n",
       "TFORM60 = 'J       '           /                                                \n",
       "TFORM61 = 'J       '           /                                                \n",
       "TFORM62 = 'I       '           /                                                \n",
       "TFORM63 = 'I       '           /                                                \n",
       "TFORM64 = 'E       '           /                                                \n",
       "TFORM65 = 'E       '           /                                                \n",
       "TFORM66 = 'E       '           /                                                \n",
       "TFORM67 = 'E       '           /                                                \n",
       "TFORM68 = '47A     '           /                                                \n",
       "TFORM69 = '14A     '           /                                                \n",
       "TFORM70 = 'E       '           /                                                \n",
       "TFORM71 = 'E       '           /                                                \n",
       "TFORM72 = 'E       '           /                                                \n",
       "TFORM73 = 'E       '           /                                                \n",
       "TFORM74 = 'E       '           /                                                \n",
       "TFORM75 = 'E       '           /                                                \n",
       "TFORM76 = 'E       '           /                                                \n",
       "TFORM77 = 'E       '           /                                                \n",
       "TFORM78 = 'E       '           /                                                \n",
       "TFORM79 = 'E       '           /                                                \n",
       "TFORM80 = 'E       '           /                                                \n",
       "TFORM81 = 'E       '           /                                                \n",
       "TFORM82 = 'E       '           /                                                \n",
       "TFORM83 = 'E       '           /                                                \n",
       "TFORM84 = 'E       '           /                                                \n",
       "TFORM85 = 'E       '           /                                                \n",
       "TFORM86 = 'E       '           /                                                \n",
       "TFORM87 = 'E       '           /                                                \n",
       "TFORM88 = 'E       '           /                                                \n",
       "TFORM89 = '17A     '           /                                                \n",
       "TFORM90 = 'E       '           /                                                \n",
       "TFORM91 = 'E       '           /                                                \n",
       "TFORM92 = 'I       '           /                                                \n",
       "TFORM93 = 'I       '           /                                                \n",
       "TFORM94 = 'E       '           /                                                \n",
       "TFORM95 = 'E       '           /                                                \n",
       "TFORM96 = '20A     '           /                                                "
      ]
     },
     "execution_count": 43,
     "metadata": {},
     "output_type": "execute_result"
    }
   ],
   "source": [
    "visit_hdus[1].header"
   ]
  },
  {
   "cell_type": "code",
   "execution_count": 3,
   "metadata": {},
   "outputs": [],
   "source": [
    "visits = visit_hdus[1].data"
   ]
  },
  {
   "cell_type": "code",
   "execution_count": 4,
   "metadata": {},
   "outputs": [],
   "source": [
    "visit_hdus.close()"
   ]
  },
  {
   "cell_type": "code",
   "execution_count": 5,
   "metadata": {},
   "outputs": [
    {
     "name": "stdout",
     "output_type": "stream",
     "text": [
      "Filename: allVisit-r12-l33.fits\n",
      "No.    Name      Ver    Type      Cards   Dimensions   Format\n",
      "  0  PRIMARY       1 PrimaryHDU      13   ()      \n",
      "  1                1 BinTableHDU    209   1778792R x 96C   [57A, 3A, 18A, 47A, 46A, I, 13A, J, 6A, 14A, 16A, 18A, I, D, D, D, D, E, E, E, E, E, E, D, D, J, J, J, 192A, E, J, 74A, 23A, D, E, I, E, E, E, E, E, E, E, E, E, E, E, 18A, I, E, E, E, E, E, E, E, E, E, J, J, J, I, I, E, E, E, E, 47A, 14A, E, E, E, E, E, E, E, E, E, E, E, E, E, E, E, E, E, E, E, 17A, E, E, I, I, E, E, 20A]   \n"
     ]
    }
   ],
   "source": [
    "visit_hdus.info()"
   ]
  },
  {
   "cell_type": "code",
   "execution_count": 6,
   "metadata": {},
   "outputs": [
    {
     "data": {
      "text/plain": [
       "FITS_rec([('apogee.apo1m.s.r12.Bestars.58017.223', 'r12', '', 'apo1m.1.Bestars.', 'apVisit-r12-58017-.fits', 223, 'Bestars', 58017, 'apo1m', 'apo1m', 'Bestars', '',    1,   0.      ,  0.      ,  96.33721416, -60.18848303,    99.999,  0.00000e+00,  99.999,  0.00000e+00,    99.999,  0.00000e+00, 0., 0.,           0,           0, 0, '',  28.4633,   0, '', '2017-09-21T03:18:35.960', 2458017.64975,   0.799188, 3, -524.07947  , 1.9967076 , -523.2803   , -527.4561  , -418.7518 , 3.0746226, 13000., -2. , 3., 0., 0., 'apg_synthgrid.fits', 2, 676.2178   , 0.        , 677.01196  , -532.59753  , 8.553677  , -531.79834  , -523.96564  , 0.23494987, -523.16644  , 0, 0, 0, 0, 9, -9999.99, 9999.99, -9999.99, 9999.99, '', '',     0.      ,  0.000000e+00,     0.      ,  0.0000000e+00,     0.     ,  0.0000000e+00,     0.  ,     0.  ,     0.  ,     0.  ,     0.  ,     0.  ,     0.  ,     0.  ,     0.   ,  0.00000e+00,     0.   ,  0.00000e+00, -9.9999902e+03, '', -9.999990e+03, -9.9999902e+03,  0, 0,     0.  ,  0.00000e+00, ''),\n",
       "          ('apogee.apo1m.s.r12.Bestars.58022.223', 'r12', '', 'apo1m.1.Bestars.', 'apVisit-r12-58022-.fits', 223, 'Bestars', 58022, 'apo1m', 'apo1m', 'Bestars', '',    1,   0.      ,  0.      ,  96.33721416, -60.18848303,    99.999,  0.00000e+00,  99.999,  0.00000e+00,    99.999,  0.00000e+00, 0., 0.,           0,           0, 0, '',  14.7766,   0, '', '2017-09-26T04:40:14.544', 2458022.70644,  -1.91679 , 3, -524.2727   , 1.9822719 , -526.1895   , -530.36536 , -421.66104, 2.409659 , 13000., -2. , 3., 0., 0., 'apg_synthgrid.fits', 1, 301.96732  , 1.0832435 , 300.0451   , -512.6834   , 5.072696  , -514.6002   , -524.16754  , 0.10228964, -526.08435  , 0, 0, 0, 0, 9, -9999.99, 9999.99, -9999.99, 9999.99, '', '',     0.      ,  0.000000e+00,     0.      ,  0.0000000e+00,     0.     ,  0.0000000e+00,     0.  ,     0.  ,     0.  ,     0.  ,     0.  ,     0.  ,     0.  ,     0.  ,     0.   ,  0.00000e+00,     0.   ,  0.00000e+00, -9.9999902e+03, '', -9.999990e+03, -9.9999902e+03,  0, 0,     0.  ,  0.00000e+00, ''),\n",
       "          ('apogee.apo1m.s.r12.calibration.56398.VESTA', 'r12', 'VESTA', 'apo1m.1.calibration.VESTA', 'apVisit-r12-56398-VESTA.fits', 223, 'calibration', 56398, 'apo1m', 'apo1m', 'calibration', '',    1,   0.      ,  0.      , 292.21913091, -30.60291936, -9999.99 , -9.99999e+03, -99.999, -9.99999e+03, -9999.99 , -9.99999e+03, 0., 0.,           0,     4194304, 0, 'APOGEE_1MTARGET', 141.493 ,   0, '', '2013-04-16T02:57:26.462', 2456398.64712,   6.627355, 5,   18.797668 , 0.01687972,   25.425024 ,   20.846464, -154.45021, 3.1776834,  6000.,  0. , 5., 0., 0., 'apg_synthgrid.fits', 2,  18.734901 , 0.01752918,  25.357744 ,   18.797668 , 0.01687972,   25.425024 ,   18.925974 , 0.01830567,   25.55333  , 0, 0, 0, 0, 9, -9999.99, 9999.99, -9999.99, 9999.99, 'VESTA', 'none', -9999.99    , -9.999990e+03, -9999.99    , -9.9999902e+03, -9999.99   , -9.9999902e+03, -9999.99, -9999.99, -9999.99, -9999.99, -9999.99, -9999.99, -9999.99, -9999.99, -9999.99 , -9.99999e+03, -9999.99 , -9.99999e+03, -9.9999902e+03, 'none', -9.999990e+03,  1.7409158e-01, -1, 1, -9999.99, -9.99999e+03, 'none'),\n",
       "          ...,\n",
       "          ('apogee.apo25m.s.r12.6560.56584.140', 'r12', '2M23595980+1528407', 'apo25m.4548.105-45.2M23595980+1528407', 'apVisit-r12-6560-56584-140.fits', 140, '        6560', 56584, 'apo25m', 'apogee', '105-45', 'apogee', 4548, 359.999181, 15.477974, 105.07768981, -45.60283813,    10.786,  2.30000e-02,  10.546,  2.30000e-02,    10.513,  1.80000e-02, 0., 0., -2147483584, -2147483136, 0, 'APOGEE_NO_DERED,APOGEE_TELLURIC', 129.563 ,   4, 'BRIGHT_NEIGHBOR', '2013-10-19T05:25:10.406', 2456584.74908, -10.19534 , 3,    5.0626297, 0.06162136,   -5.1327105,   -8.529061,  140.0903 , 2.7585826,  6500., -0.5, 4., 0., 0., 'apg_synthgrid.fits', 2,   5.204154 , 0.06429408,  -4.996657 ,    5.4334936, 0.04651271,   -4.7618465,    4.993956 , 0.05028088,   -5.201384 , 0, 0, 0, 0, 5, -9999.99, 9999.99, -9999.99, 9999.99, 'none', '2MASS',    11.863856,  8.470587e-03,    11.129496,  1.3818886e-02,    11.83752,  6.0115126e-03, -9999.99, -9999.99, -9999.99, -9999.99, -9999.99, -9999.99, -9999.99, -9999.99,    10.502,  2.00000e-02,    10.501,  1.90000e-02,  1.6209872e-02, 'SFD', -5.508302e-03,  5.3675074e-02,  0, 1,    30.2 , -8.50000e+00, 'NOMAD'),\n",
       "          ('apogee.apo25m.s.r12.6560.56588.38', 'r12', '2M23595980+1528407', 'apo25m.4548.105-45.2M23595980+1528407', 'apVisit-r12-6560-56588-038.fits',  38, '        6560', 56588, 'apo25m', 'apogee', '105-45', 'apogee', 4548, 359.999181, 15.477974, 105.07768981, -45.60283813,    10.786,  2.30000e-02,  10.546,  2.30000e-02,    10.513,  1.80000e-02, 0., 0., -2147483584, -2147483136, 0, 'APOGEE_NO_DERED,APOGEE_TELLURIC', 105.042 , 516, 'BRIGHT_NEIGHBOR,PERSIST_HIGH', '2013-10-23T05:07:51.190', 2456588.73705, -12.045469, 3,    6.822419 , 0.0736573 ,   -5.22305  ,   -8.619401,  139.99995, 3.16699  ,  6500., -0.5, 4., 0., 0., 'apg_synthgrid.fits', 2,   6.8228407, 0.07460887,  -5.2281218,    7.339859 , 0.05988802,   -4.7056103,    7.0109167, 0.0667015 ,   -5.0345526, 0, 0, 0, 0, 5, -9999.99, 9999.99, -9999.99, 9999.99, 'none', '2MASS',    11.863856,  8.470587e-03,    11.129496,  1.3818886e-02,    11.83752,  6.0115126e-03, -9999.99, -9999.99, -9999.99, -9999.99, -9999.99, -9999.99, -9999.99, -9999.99,    10.502,  2.00000e-02,    10.501,  1.90000e-02,  1.6209872e-02, 'SFD', -5.508302e-03,  5.3675074e-02,  0, 1,    30.2 , -8.50000e+00, 'NOMAD'),\n",
       "          ('apogee.apo25m.s.r12.6560.56613.47', 'r12', '2M23595980+1528407', 'apo25m.4548.105-45.2M23595980+1528407', 'apVisit-r12-6560-56613-047.fits',  47, '        6560', 56613, 'apo25m', 'apogee', '105-45', 'apogee', 4548, 359.999181, 15.477974, 105.07768981, -45.60283813,    10.786,  2.30000e-02,  10.546,  2.30000e-02,    10.513,  1.80000e-02, 0., 0., -2147483584, -2147483136, 0, 'APOGEE_NO_DERED,APOGEE_TELLURIC',  56.6043, 512, 'PERSIST_HIGH', '2013-11-17T04:32:48.986', 2456613.70109, -22.240944, 3,   16.786684 , 0.12434879,   -5.45426  ,   -8.850611,  139.76875, 2.120164 ,  6500., -0.5, 4., 0., 0., 'apg_synthgrid.fits', 2,  16.864084 , 0.13963617,  -5.382477 ,   16.953253 , 0.10887567,   -5.287691 ,   16.723497 , 0.12621327,   -5.5174465, 0, 0, 0, 0, 5, -9999.99, 9999.99, -9999.99, 9999.99, 'none', '2MASS',    11.863856,  8.470587e-03,    11.129496,  1.3818886e-02,    11.83752,  6.0115126e-03, -9999.99, -9999.99, -9999.99, -9999.99, -9999.99, -9999.99, -9999.99, -9999.99,    10.502,  2.00000e-02,    10.501,  1.90000e-02,  1.6209872e-02, 'SFD', -5.508302e-03,  5.3675074e-02,  0, 1,    30.2 , -8.50000e+00, 'NOMAD')],\n",
       "         dtype=(numpy.record, [('VISIT_ID', 'S57'), ('APRED_VERSION', 'S3'), ('APOGEE_ID', 'S18'), ('TARGET_ID', 'S47'), ('FILE', 'S46'), ('FIBERID', '>i2'), ('PLATE', 'S13'), ('MJD', '>i4'), ('TELESCOPE', 'S6'), ('SURVEY', 'S14'), ('FIELD', 'S16'), ('PROGRAMNAME', 'S18'), ('LOCATION_ID', '>i2'), ('RA', '>f8'), ('DEC', '>f8'), ('GLON', '>f8'), ('GLAT', '>f8'), ('J', '>f4'), ('J_ERR', '>f4'), ('H', '>f4'), ('H_ERR', '>f4'), ('K', '>f4'), ('K_ERR', '>f4'), ('RA_TARG', '>f8'), ('DEC_TARG', '>f8'), ('APOGEE_TARGET1', '>i4'), ('APOGEE_TARGET2', '>i4'), ('APOGEE_TARGET3', '>i4'), ('TARGFLAGS', 'S192'), ('SNR', '>f4'), ('STARFLAG', '>i4'), ('STARFLAGS', 'S74'), ('DATEOBS', 'S23'), ('JD', '>f8'), ('BC', '>f4'), ('VTYPE', '>i2'), ('VREL', '>f4'), ('VRELERR', '>f4'), ('VHELIO', '>f4'), ('VLSR', '>f4'), ('VGSR', '>f4'), ('CHISQ', '>f4'), ('RV_TEFF', '>f4'), ('RV_FEH', '>f4'), ('RV_LOGG', '>f4'), ('RV_ALPHA', '>f4'), ('RV_CARB', '>f4'), ('SYNTHFILE', 'S18'), ('ESTVTYPE', '>i2'), ('ESTVREL', '>f4'), ('ESTVRELERR', '>f4'), ('ESTVHELIO', '>f4'), ('SYNTHVREL', '>f4'), ('SYNTHVRELERR', '>f4'), ('SYNTHVHELIO', '>f4'), ('OBSVREL', '>f4'), ('OBSVRELERR', '>f4'), ('OBSVHELIO', '>f4'), ('APOGEE2_TARGET1', '>i4'), ('APOGEE2_TARGET2', '>i4'), ('APOGEE2_TARGET3', '>i4'), ('COMMISS', '>i2'), ('EXTRATARG', '>i2'), ('MIN_H', '>f4'), ('MAX_H', '>f4'), ('MIN_JK', '>f4'), ('MAX_JK', '>f4'), ('ALT_ID', 'S47'), ('SRC_H', 'S14'), ('WASH_M', '>f4'), ('WASH_M_ERR', '>f4'), ('WASH_T2', '>f4'), ('WASH_T2_ERR', '>f4'), ('DDO51', '>f4'), ('DDO51_ERR', '>f4'), ('IRAC_3_6', '>f4'), ('IRAC_3_6_ERR', '>f4'), ('IRAC_4_5', '>f4'), ('IRAC_4_5_ERR', '>f4'), ('IRAC_5_8', '>f4'), ('IRAC_5_8_ERR', '>f4'), ('IRAC_8_0', '>f4'), ('IRAC_8_0_ERR', '>f4'), ('WISE_4_5', '>f4'), ('WISE_4_5_ERR', '>f4'), ('TARG_4_5', '>f4'), ('TARG_4_5_ERR', '>f4'), ('AK_TARG', '>f4'), ('AK_TARG_METHOD', 'S17'), ('AK_WISE', '>f4'), ('SFD_EBV', '>f4'), ('WASH_DDO51_GIANT_FLAG', '>i2'), ('WASH_DDO51_STAR_FLAG', '>i2'), ('PMRA', '>f4'), ('PMDEC', '>f4'), ('PM_SRC', 'S20')]))"
      ]
     },
     "execution_count": 6,
     "metadata": {},
     "output_type": "execute_result"
    }
   ],
   "source": [
    "visits"
   ]
  },
  {
   "cell_type": "code",
   "execution_count": null,
   "metadata": {},
   "outputs": [],
   "source": []
  }
 ],
 "metadata": {
  "kernelspec": {
   "display_name": "Python 3",
   "language": "python",
   "name": "python3"
  },
  "language_info": {
   "codemirror_mode": {
    "name": "ipython",
    "version": 3
   },
   "file_extension": ".py",
   "mimetype": "text/x-python",
   "name": "python",
   "nbconvert_exporter": "python",
   "pygments_lexer": "ipython3",
   "version": "3.8.5"
  }
 },
 "nbformat": 4,
 "nbformat_minor": 4
}
