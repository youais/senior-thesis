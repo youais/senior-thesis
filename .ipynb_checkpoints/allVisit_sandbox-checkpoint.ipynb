{
 "cells": [
  {
   "cell_type": "markdown",
   "metadata": {},
   "source": [
    "## to do:\n",
    "- work out how to show number of visits for a plate\n",
    "- sort plates by number of visits (ideally N > 20)\n",
    "- figure out how to turn data on this plate into pandas df\n",
    "- run pca to analyse the N RV measurements of those ~200 stars together\n",
    "\n",
    "## questions:\n",
    "- what does 'bestars' represent?\n",
    "- what is observed spectrum template matching"
   ]
  },
  {
   "cell_type": "code",
   "execution_count": 152,
   "metadata": {},
   "outputs": [],
   "source": [
    "import numpy as np\n",
    "from matplotlib import pyplot as plt\n",
    "from astropy.io import fits\n",
    "import fitsio\n",
    "import statistics as stat\n",
    "import pandas as pd"
   ]
  },
  {
   "cell_type": "markdown",
   "metadata": {},
   "source": [
    "## using fitsio\n",
    "### figuring out plate id data"
   ]
  },
  {
   "cell_type": "code",
   "execution_count": 155,
   "metadata": {},
   "outputs": [],
   "source": [
    "# Read in fits file data using fitsio\n",
    "\n",
    "data = fitsio.read(\"allVisit-r12-l33.fits\")"
   ]
  },
  {
   "cell_type": "code",
   "execution_count": 176,
   "metadata": {},
   "outputs": [],
   "source": [
    "# Define variables for working with PLATE data\n",
    "\n",
    "plates = data[\"PLATE\"]\n",
    "plateslist = list(plates) #[5:]) # only numerical plate ids\n",
    "\n",
    "print(plates.size) # Same as total number of visits"
   ]
  },
  {
   "cell_type": "code",
   "execution_count": 177,
   "metadata": {},
   "outputs": [
    {
     "name": "stdout",
     "output_type": "stream",
     "text": [
      "['Bestars', 'Bestars', 'calibration', 'calibration', 'calibration', '7545', '7545']\n"
     ]
    }
   ],
   "source": [
    "# Strip whitespace in plates list\n",
    "\n",
    "for i, s in enumerate(plateslist):\n",
    "    plateslist[i] = s.strip()\n",
    "\n",
    "print(plateslist[:7]) # Check if strip was successful"
   ]
  },
  {
   "cell_type": "code",
   "execution_count": 178,
   "metadata": {},
   "outputs": [
    {
     "data": {
      "text/plain": [
       "['9290']"
      ]
     },
     "execution_count": 178,
     "metadata": {},
     "output_type": "execute_result"
    }
   ],
   "source": [
    "# Plate with greatest number of visits\n",
    "\n",
    "stat.multimode(plateslist)"
   ]
  },
  {
   "cell_type": "code",
   "execution_count": 179,
   "metadata": {},
   "outputs": [
    {
     "name": "stdout",
     "output_type": "stream",
     "text": [
      "Number of unique plates: 2383\n"
     ]
    }
   ],
   "source": [
    "# Make list of unique plates\n",
    "\n",
    "unique_plates = []\n",
    "total_up = 0\n",
    "\n",
    "for i in plateslist:\n",
    "    if i not in unique_plates:\n",
    "        total_up = total_up + 1\n",
    "        unique_plates.append(i)\n",
    "\n",
    "print('Number of unique plates:', total_up)"
   ]
  },
  {
   "cell_type": "code",
   "execution_count": 182,
   "metadata": {},
   "outputs": [],
   "source": [
    "# Count the times that each plate appears; i.e. visits per plate\n",
    "\n",
    "visit_count = []\n",
    "for u in unique_plates:\n",
    "    nvisits = plateslist.count(u)\n",
    "    visit_count.append(nvisits)"
   ]
  },
  {
   "cell_type": "code",
   "execution_count": 197,
   "metadata": {
    "scrolled": false
   },
   "outputs": [
    {
     "name": "stdout",
     "output_type": "stream",
     "text": [
      "         Plate ID Visit Count\n",
      "0         Bestars          48\n",
      "1     calibration         237\n",
      "2            7545         792\n",
      "3            7917         500\n",
      "4            5583         794\n",
      "...           ...         ...\n",
      "2378         9260         794\n",
      "2379         5582         794\n",
      "2380         7540         792\n",
      "2381        11039         265\n",
      "2382         8655        1056\n",
      "\n",
      "[2383 rows x 2 columns]\n"
     ]
    }
   ],
   "source": [
    "# Create pandas df for visits per plate\n",
    "\n",
    "plates_mdlist = [unique_plates, visit_count]\n",
    "\n",
    "df = pd.DataFrame(plates_mdlist).transpose()\n",
    "df.columns = ['Plate ID', 'Visit Count']\n",
    "\n",
    "print(df)"
   ]
  },
  {
   "cell_type": "markdown",
   "metadata": {},
   "source": [
    "## using astropy\n",
    "### figuring out rv data\n",
    "- Let's work with plate '7545', which has 792 visits\n",
    "- Want to sort OBSVHELIO for plate '7545' to get RV\n",
    "- Want to sort MJD for plate '7545' to get time"
   ]
  },
  {
   "cell_type": "code",
   "execution_count": 202,
   "metadata": {},
   "outputs": [],
   "source": [
    "# HDU stuff\n",
    "\n",
    "hdulist = fits.open('allVisit-r12-l33.fits')\n",
    "\n",
    "hdulist.info()\n",
    "\n",
    "header = hdulist[1].header\n",
    "data = hdulist[1].data\n",
    "\n",
    "hdulist.close()"
   ]
  },
  {
   "cell_type": "code",
   "execution_count": 219,
   "metadata": {
    "scrolled": true
   },
   "outputs": [],
   "source": [
    "# Set up data parameters\n",
    "\n",
    "allplates = list(data['PLATE'])\n",
    "allmjd = list(data['MJD'])\n",
    "allrvs = list(data['OBSVHELIO']) # Heliocentric relative RV from 'observed spectrum template matching'"
   ]
  },
  {
   "cell_type": "code",
   "execution_count": 234,
   "metadata": {},
   "outputs": [
    {
     "name": "stdout",
     "output_type": "stream",
     "text": [
      "             Plate ID    MJD OBSVHELIO (km/s)\n",
      "0             Bestars  58017         -523.166\n",
      "1             Bestars  58022         -526.084\n",
      "2         calibration  56398          25.5533\n",
      "3         calibration  56778          10.5618\n",
      "4         calibration  57743         -36.2044\n",
      "...               ...    ...              ...\n",
      "1778787          5583  56261         -60.9357\n",
      "1778788          5583  56284          -60.901\n",
      "1778789          6560  56584         -5.20138\n",
      "1778790          6560  56588         -5.03455\n",
      "1778791          6560  56613         -5.51745\n",
      "\n",
      "[1778792 rows x 3 columns]\n"
     ]
    }
   ],
   "source": [
    "# Create pandas df\n",
    "\n",
    "datalst = [allplates, allmjd, allrvs]\n",
    "\n",
    "df = pd.DataFrame(datalst).transpose()\n",
    "df.columns = ['Plate ID', 'MJD', 'OBSVHELIO (km/s)']\n",
    "\n",
    "print(df)"
   ]
  },
  {
   "cell_type": "code",
   "execution_count": 232,
   "metadata": {},
   "outputs": [],
   "source": [
    "# Show data only if plate ID is '7545'\n",
    "\n",
    "dff = df[(df['Plate ID'] == 7545)]"
   ]
  },
  {
   "cell_type": "code",
   "execution_count": 233,
   "metadata": {},
   "outputs": [
    {
     "name": "stdout",
     "output_type": "stream",
     "text": [
      "Empty DataFrame\n",
      "Columns: [Plate ID, MJD, OBS V_HELIO (km/s)]\n",
      "Index: []\n"
     ]
    }
   ],
   "source": [
    "print(dff)"
   ]
  },
  {
   "cell_type": "code",
   "execution_count": null,
   "metadata": {},
   "outputs": [],
   "source": []
  }
 ],
 "metadata": {
  "kernelspec": {
   "display_name": "Python 3",
   "language": "python",
   "name": "python3"
  },
  "language_info": {
   "codemirror_mode": {
    "name": "ipython",
    "version": 3
   },
   "file_extension": ".py",
   "mimetype": "text/x-python",
   "name": "python",
   "nbconvert_exporter": "python",
   "pygments_lexer": "ipython3",
   "version": "3.8.5"
  }
 },
 "nbformat": 4,
 "nbformat_minor": 4
}
