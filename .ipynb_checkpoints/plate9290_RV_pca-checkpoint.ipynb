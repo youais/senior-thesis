{
 "cells": [
  {
   "cell_type": "code",
   "execution_count": 147,
   "metadata": {},
   "outputs": [],
   "source": [
    "import numpy as np\n",
    "import pandas as pd\n",
    "import matplotlib.pyplot as plt\n",
    "from sklearn.preprocessing import StandardScaler\n",
    "from collections import Counter"
   ]
  },
  {
   "cell_type": "code",
   "execution_count": 125,
   "metadata": {},
   "outputs": [],
   "source": [
    "# Read in CSV file\n",
    "\n",
    "df = pd.read_csv('plate9290_RVs.csv').drop(['Unnamed: 0', 'Plate ID'], axis=1)"
   ]
  },
  {
   "cell_type": "code",
   "execution_count": 126,
   "metadata": {
    "scrolled": true
   },
   "outputs": [
    {
     "data": {
      "text/html": [
       "<div>\n",
       "<style scoped>\n",
       "    .dataframe tbody tr th:only-of-type {\n",
       "        vertical-align: middle;\n",
       "    }\n",
       "\n",
       "    .dataframe tbody tr th {\n",
       "        vertical-align: top;\n",
       "    }\n",
       "\n",
       "    .dataframe thead th {\n",
       "        text-align: right;\n",
       "    }\n",
       "</style>\n",
       "<table border=\"1\" class=\"dataframe\">\n",
       "  <thead>\n",
       "    <tr style=\"text-align: right;\">\n",
       "      <th></th>\n",
       "      <th>Target ID</th>\n",
       "      <th>MJD</th>\n",
       "      <th>OBSVHELIO (km/s)</th>\n",
       "    </tr>\n",
       "  </thead>\n",
       "  <tbody>\n",
       "    <tr>\n",
       "      <th>0</th>\n",
       "      <td>apo25m.5226.150-08-RV.2M03252400+4614203</td>\n",
       "      <td>57706</td>\n",
       "      <td>-86.565704</td>\n",
       "    </tr>\n",
       "    <tr>\n",
       "      <th>1</th>\n",
       "      <td>apo25m.5226.150-08-RV.2M03252400+4614203</td>\n",
       "      <td>57732</td>\n",
       "      <td>-86.383430</td>\n",
       "    </tr>\n",
       "    <tr>\n",
       "      <th>2</th>\n",
       "      <td>apo25m.5226.150-08-RV.2M03252400+4614203</td>\n",
       "      <td>57734</td>\n",
       "      <td>-86.386870</td>\n",
       "    </tr>\n",
       "    <tr>\n",
       "      <th>3</th>\n",
       "      <td>apo25m.5226.150-08-RV.2M03252400+4614203</td>\n",
       "      <td>57735</td>\n",
       "      <td>-86.532840</td>\n",
       "    </tr>\n",
       "    <tr>\n",
       "      <th>4</th>\n",
       "      <td>apo25m.5226.150-08-RV.2M03252400+4614203</td>\n",
       "      <td>57760</td>\n",
       "      <td>-86.366640</td>\n",
       "    </tr>\n",
       "    <tr>\n",
       "      <th>...</th>\n",
       "      <td>...</td>\n",
       "      <td>...</td>\n",
       "      <td>...</td>\n",
       "    </tr>\n",
       "    <tr>\n",
       "      <th>3627</th>\n",
       "      <td>apo25m.5226.150-08-RV.2M03415658+4626067</td>\n",
       "      <td>58068</td>\n",
       "      <td>-26.490055</td>\n",
       "    </tr>\n",
       "    <tr>\n",
       "      <th>3628</th>\n",
       "      <td>apo25m.5226.150-08-RV.2M03415658+4626067</td>\n",
       "      <td>58085</td>\n",
       "      <td>-26.595278</td>\n",
       "    </tr>\n",
       "    <tr>\n",
       "      <th>3629</th>\n",
       "      <td>apo25m.5226.150-08-RV.2M03415658+4626067</td>\n",
       "      <td>58087</td>\n",
       "      <td>-26.603954</td>\n",
       "    </tr>\n",
       "    <tr>\n",
       "      <th>3630</th>\n",
       "      <td>apo25m.5226.150-08-RV.2M03415658+4626067</td>\n",
       "      <td>58114</td>\n",
       "      <td>-26.599243</td>\n",
       "    </tr>\n",
       "    <tr>\n",
       "      <th>3631</th>\n",
       "      <td>apo25m.5226.150-08-RV.2M03415658+4626067</td>\n",
       "      <td>58143</td>\n",
       "      <td>-26.415329</td>\n",
       "    </tr>\n",
       "  </tbody>\n",
       "</table>\n",
       "<p>3632 rows × 3 columns</p>\n",
       "</div>"
      ],
      "text/plain": [
       "                                     Target ID    MJD  OBSVHELIO (km/s)\n",
       "0     apo25m.5226.150-08-RV.2M03252400+4614203  57706        -86.565704\n",
       "1     apo25m.5226.150-08-RV.2M03252400+4614203  57732        -86.383430\n",
       "2     apo25m.5226.150-08-RV.2M03252400+4614203  57734        -86.386870\n",
       "3     apo25m.5226.150-08-RV.2M03252400+4614203  57735        -86.532840\n",
       "4     apo25m.5226.150-08-RV.2M03252400+4614203  57760        -86.366640\n",
       "...                                        ...    ...               ...\n",
       "3627  apo25m.5226.150-08-RV.2M03415658+4626067  58068        -26.490055\n",
       "3628  apo25m.5226.150-08-RV.2M03415658+4626067  58085        -26.595278\n",
       "3629  apo25m.5226.150-08-RV.2M03415658+4626067  58087        -26.603954\n",
       "3630  apo25m.5226.150-08-RV.2M03415658+4626067  58114        -26.599243\n",
       "3631  apo25m.5226.150-08-RV.2M03415658+4626067  58143        -26.415329\n",
       "\n",
       "[3632 rows x 3 columns]"
      ]
     },
     "execution_count": 126,
     "metadata": {},
     "output_type": "execute_result"
    }
   ],
   "source": [
    "df"
   ]
  },
  {
   "cell_type": "markdown",
   "metadata": {},
   "source": [
    "## Step 1\n",
    "- Plot ΔRV against MJD, try to locate pattern\n",
    "\n",
    "## To Do\n",
    "- ~For unique target in total df, create df for just that target's data~\n",
    "- ~Take RV data for each target and calculate avg~\n",
    "- ~For each RV data point in each df, find ΔRV = RV - RVavg~\n",
    "- ~Combine all ΔRVs for all dfs, add to total df~\n",
    "- ~Plot y=ΔRV, x=MJD~"
   ]
  },
  {
   "cell_type": "code",
   "execution_count": 127,
   "metadata": {},
   "outputs": [],
   "source": [
    "# Identify list of unique targets\n",
    "\n",
    "unique_targets = Counter(df['Target ID'])\n",
    "unique_targets_list = unique_targets.keys()"
   ]
  },
  {
   "cell_type": "code",
   "execution_count": 141,
   "metadata": {},
   "outputs": [
    {
     "data": {
      "text/plain": [
       "227"
      ]
     },
     "execution_count": 141,
     "metadata": {},
     "output_type": "execute_result"
    }
   ],
   "source": [
    "len(unique_targets)"
   ]
  },
  {
   "cell_type": "code",
   "execution_count": 129,
   "metadata": {
    "scrolled": true
   },
   "outputs": [],
   "source": [
    "# Obtain average RV and ΔRV for each target\n",
    "\n",
    "all_delta_rvs = []\n",
    "all_avg_rvs = []\n",
    "\n",
    "for target in unique_targets_list:\n",
    "    target_df = df[df['Target ID'] == target]\n",
    "    target_rvs = list(target_df['OBSVHELIO (km/s)'])\n",
    "    avg_rv = sum(list(target_df['OBSVHELIO (km/s)'])) / 16\n",
    "    delta_rvs = []\n",
    "    for trv in target_rvs:\n",
    "        delta_rv = abs(avg_rv) - abs(trv)\n",
    "        delta_rvs.append(delta_rv)\n",
    "        all_avg_rvs.append(avg_rv)\n",
    "        # print(abs(trv))\n",
    "        # print(delta_rv)\n",
    "    # print(target_rvs)\n",
    "    all_delta_rvs.append(delta_rvs)\n",
    "    # print(avg_rv)"
   ]
  },
  {
   "cell_type": "code",
   "execution_count": 142,
   "metadata": {
    "scrolled": true
   },
   "outputs": [],
   "source": [
    "# Flatten list of all ΔRVs\n",
    "\n",
    "flat_all_delta_rvs = [item for sublist in all_delta_rvs for item in sublist]\n",
    "# flat_all_delta_rvs"
   ]
  },
  {
   "cell_type": "code",
   "execution_count": 143,
   "metadata": {},
   "outputs": [
    {
     "data": {
      "text/plain": [
       "250004.225713775"
      ]
     },
     "execution_count": 143,
     "metadata": {},
     "output_type": "execute_result"
    }
   ],
   "source": [
    "max(flat_all_delta_rvs)"
   ]
  },
  {
   "cell_type": "code",
   "execution_count": 135,
   "metadata": {},
   "outputs": [],
   "source": [
    "# Add average RV and ΔRV columns to dataframe\n",
    "\n",
    "df['Avg RV'] = all_avg_rvs\n",
    "df['ΔRV'] = flat_all_delta_rvs"
   ]
  },
  {
   "cell_type": "code",
   "execution_count": 144,
   "metadata": {
    "scrolled": true
   },
   "outputs": [
    {
     "data": {
      "text/html": [
       "<div>\n",
       "<style scoped>\n",
       "    .dataframe tbody tr th:only-of-type {\n",
       "        vertical-align: middle;\n",
       "    }\n",
       "\n",
       "    .dataframe tbody tr th {\n",
       "        vertical-align: top;\n",
       "    }\n",
       "\n",
       "    .dataframe thead th {\n",
       "        text-align: right;\n",
       "    }\n",
       "</style>\n",
       "<table border=\"1\" class=\"dataframe\">\n",
       "  <thead>\n",
       "    <tr style=\"text-align: right;\">\n",
       "      <th></th>\n",
       "      <th>Target ID</th>\n",
       "      <th>MJD</th>\n",
       "      <th>OBSVHELIO (km/s)</th>\n",
       "      <th>Avg RV</th>\n",
       "      <th>ΔRV</th>\n",
       "    </tr>\n",
       "  </thead>\n",
       "  <tbody>\n",
       "    <tr>\n",
       "      <th>0</th>\n",
       "      <td>apo25m.5226.150-08-RV.2M03252400+4614203</td>\n",
       "      <td>57706</td>\n",
       "      <td>-86.565704</td>\n",
       "      <td>-86.460343</td>\n",
       "      <td>-0.105361</td>\n",
       "    </tr>\n",
       "    <tr>\n",
       "      <th>1</th>\n",
       "      <td>apo25m.5226.150-08-RV.2M03252400+4614203</td>\n",
       "      <td>57732</td>\n",
       "      <td>-86.383430</td>\n",
       "      <td>-86.460343</td>\n",
       "      <td>0.076913</td>\n",
       "    </tr>\n",
       "    <tr>\n",
       "      <th>2</th>\n",
       "      <td>apo25m.5226.150-08-RV.2M03252400+4614203</td>\n",
       "      <td>57734</td>\n",
       "      <td>-86.386870</td>\n",
       "      <td>-86.460343</td>\n",
       "      <td>0.073473</td>\n",
       "    </tr>\n",
       "    <tr>\n",
       "      <th>3</th>\n",
       "      <td>apo25m.5226.150-08-RV.2M03252400+4614203</td>\n",
       "      <td>57735</td>\n",
       "      <td>-86.532840</td>\n",
       "      <td>-86.460343</td>\n",
       "      <td>-0.072497</td>\n",
       "    </tr>\n",
       "    <tr>\n",
       "      <th>4</th>\n",
       "      <td>apo25m.5226.150-08-RV.2M03252400+4614203</td>\n",
       "      <td>57760</td>\n",
       "      <td>-86.366640</td>\n",
       "      <td>-86.460343</td>\n",
       "      <td>0.093703</td>\n",
       "    </tr>\n",
       "    <tr>\n",
       "      <th>...</th>\n",
       "      <td>...</td>\n",
       "      <td>...</td>\n",
       "      <td>...</td>\n",
       "      <td>...</td>\n",
       "      <td>...</td>\n",
       "    </tr>\n",
       "    <tr>\n",
       "      <th>3627</th>\n",
       "      <td>apo25m.5226.150-08-RV.2M03415658+4626067</td>\n",
       "      <td>58068</td>\n",
       "      <td>-26.490055</td>\n",
       "      <td>-26.555161</td>\n",
       "      <td>0.065106</td>\n",
       "    </tr>\n",
       "    <tr>\n",
       "      <th>3628</th>\n",
       "      <td>apo25m.5226.150-08-RV.2M03415658+4626067</td>\n",
       "      <td>58085</td>\n",
       "      <td>-26.595278</td>\n",
       "      <td>-26.555161</td>\n",
       "      <td>-0.040117</td>\n",
       "    </tr>\n",
       "    <tr>\n",
       "      <th>3629</th>\n",
       "      <td>apo25m.5226.150-08-RV.2M03415658+4626067</td>\n",
       "      <td>58087</td>\n",
       "      <td>-26.603954</td>\n",
       "      <td>-26.555161</td>\n",
       "      <td>-0.048793</td>\n",
       "    </tr>\n",
       "    <tr>\n",
       "      <th>3630</th>\n",
       "      <td>apo25m.5226.150-08-RV.2M03415658+4626067</td>\n",
       "      <td>58114</td>\n",
       "      <td>-26.599243</td>\n",
       "      <td>-26.555161</td>\n",
       "      <td>-0.044082</td>\n",
       "    </tr>\n",
       "    <tr>\n",
       "      <th>3631</th>\n",
       "      <td>apo25m.5226.150-08-RV.2M03415658+4626067</td>\n",
       "      <td>58143</td>\n",
       "      <td>-26.415329</td>\n",
       "      <td>-26.555161</td>\n",
       "      <td>0.139832</td>\n",
       "    </tr>\n",
       "  </tbody>\n",
       "</table>\n",
       "<p>3632 rows × 5 columns</p>\n",
       "</div>"
      ],
      "text/plain": [
       "                                     Target ID    MJD  OBSVHELIO (km/s)  \\\n",
       "0     apo25m.5226.150-08-RV.2M03252400+4614203  57706        -86.565704   \n",
       "1     apo25m.5226.150-08-RV.2M03252400+4614203  57732        -86.383430   \n",
       "2     apo25m.5226.150-08-RV.2M03252400+4614203  57734        -86.386870   \n",
       "3     apo25m.5226.150-08-RV.2M03252400+4614203  57735        -86.532840   \n",
       "4     apo25m.5226.150-08-RV.2M03252400+4614203  57760        -86.366640   \n",
       "...                                        ...    ...               ...   \n",
       "3627  apo25m.5226.150-08-RV.2M03415658+4626067  58068        -26.490055   \n",
       "3628  apo25m.5226.150-08-RV.2M03415658+4626067  58085        -26.595278   \n",
       "3629  apo25m.5226.150-08-RV.2M03415658+4626067  58087        -26.603954   \n",
       "3630  apo25m.5226.150-08-RV.2M03415658+4626067  58114        -26.599243   \n",
       "3631  apo25m.5226.150-08-RV.2M03415658+4626067  58143        -26.415329   \n",
       "\n",
       "         Avg RV       ΔRV  \n",
       "0    -86.460343 -0.105361  \n",
       "1    -86.460343  0.076913  \n",
       "2    -86.460343  0.073473  \n",
       "3    -86.460343 -0.072497  \n",
       "4    -86.460343  0.093703  \n",
       "...         ...       ...  \n",
       "3627 -26.555161  0.065106  \n",
       "3628 -26.555161 -0.040117  \n",
       "3629 -26.555161 -0.048793  \n",
       "3630 -26.555161 -0.044082  \n",
       "3631 -26.555161  0.139832  \n",
       "\n",
       "[3632 rows x 5 columns]"
      ]
     },
     "execution_count": 144,
     "metadata": {},
     "output_type": "execute_result"
    }
   ],
   "source": [
    "# Updated dataframe!\n",
    "\n",
    "df"
   ]
  },
  {
   "cell_type": "code",
   "execution_count": 95,
   "metadata": {
    "scrolled": false
   },
   "outputs": [
    {
     "data": {
      "text/plain": [
       "<AxesSubplot:xlabel='MJD', ylabel='ΔRV'>"
      ]
     },
     "execution_count": 95,
     "metadata": {},
     "output_type": "execute_result"
    },
    {
     "data": {
      "image/png": "[encoded data removed]",
      "text/plain": [
       "<Figure size 432x288 with 1 Axes>"
      ]
     },
     "metadata": {
      "needs_background": "light"
     },
     "output_type": "display_data"
    }
   ],
   "source": [
    "# Initial plot - lots of unexpected outliers?\n",
    "\n",
    "df.plot(x = 'MJD', y = 'ΔRV', kind = 'scatter')"
   ]
  },
  {
   "cell_type": "markdown",
   "metadata": {},
   "source": [
    "## Questions\n",
    "- What is causing the weird outliers?\n",
    "- What should be done about them?\n",
    "\n",
    "## Step 2\n",
    "- ?\n",
    "\n",
    "## To Do\n",
    "- ?"
   ]
  },
  {
   "cell_type": "code",
   "execution_count": 187,
   "metadata": {},
   "outputs": [],
   "source": [
    "x = df['MJD']\n",
    "y = df['ΔRV']"
   ]
  },
  {
   "cell_type": "code",
   "execution_count": 193,
   "metadata": {},
   "outputs": [],
   "source": [
    "%matplotlib widget"
   ]
  },
  {
   "cell_type": "code",
   "execution_count": 194,
   "metadata": {},
   "outputs": [
    {
     "data": {
      "application/vnd.jupyter.widget-view+json": {
       "model_id": "f78c055df2614c3194b434f892742645",
       "version_major": 2,
       "version_minor": 0
      },
      "text/plain": [
       "Canvas(toolbar=Toolbar(toolitems=[('Home', 'Reset original view', 'home', 'home'), ('Back', 'Back to previous …"
      ]
     },
     "metadata": {},
     "output_type": "display_data"
    }
   ],
   "source": [
    "plt.scatter(x, y)\n",
    "plt.xlabel('MJD')\n",
    "plt.ylabel('ΔRV [km/s]')\n",
    "plt.show()"
   ]
  },
  {
   "cell_type": "code",
   "execution_count": 138,
   "metadata": {},
   "outputs": [
    {
     "data": {
      "text/html": [
       "<div>\n",
       "<style scoped>\n",
       "    .dataframe tbody tr th:only-of-type {\n",
       "        vertical-align: middle;\n",
       "    }\n",
       "\n",
       "    .dataframe tbody tr th {\n",
       "        vertical-align: top;\n",
       "    }\n",
       "\n",
       "    .dataframe thead th {\n",
       "        text-align: right;\n",
       "    }\n",
       "</style>\n",
       "<table border=\"1\" class=\"dataframe\">\n",
       "  <thead>\n",
       "    <tr style=\"text-align: right;\">\n",
       "      <th></th>\n",
       "      <th>Target ID</th>\n",
       "      <th>MJD</th>\n",
       "      <th>OBSVHELIO (km/s)</th>\n",
       "      <th>Avg RV</th>\n",
       "      <th>ΔRV</th>\n",
       "    </tr>\n",
       "  </thead>\n",
       "  <tbody>\n",
       "    <tr>\n",
       "      <th>1053</th>\n",
       "      <td>apo25m.5226.150-08-RV.2M03302697+4703478</td>\n",
       "      <td>58087</td>\n",
       "      <td>0.0</td>\n",
       "      <td>250004.225714</td>\n",
       "      <td>250004.225714</td>\n",
       "    </tr>\n",
       "    <tr>\n",
       "      <th>1052</th>\n",
       "      <td>apo25m.5226.150-08-RV.2M03302697+4703478</td>\n",
       "      <td>58085</td>\n",
       "      <td>0.0</td>\n",
       "      <td>250004.225714</td>\n",
       "      <td>250004.225714</td>\n",
       "    </tr>\n",
       "    <tr>\n",
       "      <th>1051</th>\n",
       "      <td>apo25m.5226.150-08-RV.2M03302697+4703478</td>\n",
       "      <td>58068</td>\n",
       "      <td>0.0</td>\n",
       "      <td>250004.225714</td>\n",
       "      <td>250004.225714</td>\n",
       "    </tr>\n",
       "    <tr>\n",
       "      <th>1050</th>\n",
       "      <td>apo25m.5226.150-08-RV.2M03302697+4703478</td>\n",
       "      <td>58063</td>\n",
       "      <td>0.0</td>\n",
       "      <td>250004.225714</td>\n",
       "      <td>250004.225714</td>\n",
       "    </tr>\n",
       "    <tr>\n",
       "      <th>1049</th>\n",
       "      <td>apo25m.5226.150-08-RV.2M03302697+4703478</td>\n",
       "      <td>58054</td>\n",
       "      <td>0.0</td>\n",
       "      <td>250004.225714</td>\n",
       "      <td>250004.225714</td>\n",
       "    </tr>\n",
       "    <tr>\n",
       "      <th>...</th>\n",
       "      <td>...</td>\n",
       "      <td>...</td>\n",
       "      <td>...</td>\n",
       "      <td>...</td>\n",
       "      <td>...</td>\n",
       "    </tr>\n",
       "    <tr>\n",
       "      <th>2129</th>\n",
       "      <td>apo25m.5226.150-08-RV.2M03340241+4638066</td>\n",
       "      <td>57732</td>\n",
       "      <td>999999.0</td>\n",
       "      <td>187490.120951</td>\n",
       "      <td>-812508.879049</td>\n",
       "    </tr>\n",
       "    <tr>\n",
       "      <th>2130</th>\n",
       "      <td>apo25m.5226.150-08-RV.2M03340241+4638066</td>\n",
       "      <td>57734</td>\n",
       "      <td>999999.0</td>\n",
       "      <td>187490.120951</td>\n",
       "      <td>-812508.879049</td>\n",
       "    </tr>\n",
       "    <tr>\n",
       "      <th>1557</th>\n",
       "      <td>apo25m.5226.150-08-RV.2M03320675+4519114</td>\n",
       "      <td>57788</td>\n",
       "      <td>999999.0</td>\n",
       "      <td>125012.080229</td>\n",
       "      <td>-874986.919771</td>\n",
       "    </tr>\n",
       "    <tr>\n",
       "      <th>1566</th>\n",
       "      <td>apo25m.5226.150-08-RV.2M03320675+4519114</td>\n",
       "      <td>58114</td>\n",
       "      <td>999999.0</td>\n",
       "      <td>125012.080229</td>\n",
       "      <td>-874986.919771</td>\n",
       "    </tr>\n",
       "    <tr>\n",
       "      <th>841</th>\n",
       "      <td>apo25m.5226.150-08-RV.2M03294546+4531510</td>\n",
       "      <td>58054</td>\n",
       "      <td>999999.0</td>\n",
       "      <td>62470.779686</td>\n",
       "      <td>-937528.220314</td>\n",
       "    </tr>\n",
       "  </tbody>\n",
       "</table>\n",
       "<p>3632 rows × 5 columns</p>\n",
       "</div>"
      ],
      "text/plain": [
       "                                     Target ID    MJD  OBSVHELIO (km/s)  \\\n",
       "1053  apo25m.5226.150-08-RV.2M03302697+4703478  58087               0.0   \n",
       "1052  apo25m.5226.150-08-RV.2M03302697+4703478  58085               0.0   \n",
       "1051  apo25m.5226.150-08-RV.2M03302697+4703478  58068               0.0   \n",
       "1050  apo25m.5226.150-08-RV.2M03302697+4703478  58063               0.0   \n",
       "1049  apo25m.5226.150-08-RV.2M03302697+4703478  58054               0.0   \n",
       "...                                        ...    ...               ...   \n",
       "2129  apo25m.5226.150-08-RV.2M03340241+4638066  57732          999999.0   \n",
       "2130  apo25m.5226.150-08-RV.2M03340241+4638066  57734          999999.0   \n",
       "1557  apo25m.5226.150-08-RV.2M03320675+4519114  57788          999999.0   \n",
       "1566  apo25m.5226.150-08-RV.2M03320675+4519114  58114          999999.0   \n",
       "841   apo25m.5226.150-08-RV.2M03294546+4531510  58054          999999.0   \n",
       "\n",
       "             Avg RV            ΔRV  \n",
       "1053  250004.225714  250004.225714  \n",
       "1052  250004.225714  250004.225714  \n",
       "1051  250004.225714  250004.225714  \n",
       "1050  250004.225714  250004.225714  \n",
       "1049  250004.225714  250004.225714  \n",
       "...             ...            ...  \n",
       "2129  187490.120951 -812508.879049  \n",
       "2130  187490.120951 -812508.879049  \n",
       "1557  125012.080229 -874986.919771  \n",
       "1566  125012.080229 -874986.919771  \n",
       "841    62470.779686 -937528.220314  \n",
       "\n",
       "[3632 rows x 5 columns]"
      ]
     },
     "execution_count": 138,
     "metadata": {},
     "output_type": "execute_result"
    }
   ],
   "source": [
    "df.sort_values(['ΔRV'], ascending=False)"
   ]
  },
  {
   "cell_type": "code",
   "execution_count": 106,
   "metadata": {},
   "outputs": [],
   "source": [
    "df_test = df[df['Target ID'] == 'apo25m.5226.150-08-RV.2M03252400+4614203']"
   ]
  },
  {
   "cell_type": "code",
   "execution_count": 107,
   "metadata": {
    "scrolled": true
   },
   "outputs": [
    {
     "data": {
      "text/html": [
       "<div>\n",
       "<style scoped>\n",
       "    .dataframe tbody tr th:only-of-type {\n",
       "        vertical-align: middle;\n",
       "    }\n",
       "\n",
       "    .dataframe tbody tr th {\n",
       "        vertical-align: top;\n",
       "    }\n",
       "\n",
       "    .dataframe thead th {\n",
       "        text-align: right;\n",
       "    }\n",
       "</style>\n",
       "<table border=\"1\" class=\"dataframe\">\n",
       "  <thead>\n",
       "    <tr style=\"text-align: right;\">\n",
       "      <th></th>\n",
       "      <th>Target ID</th>\n",
       "      <th>MJD</th>\n",
       "      <th>OBSVHELIO (km/s)</th>\n",
       "      <th>ΔRV</th>\n",
       "    </tr>\n",
       "  </thead>\n",
       "  <tbody>\n",
       "    <tr>\n",
       "      <th>0</th>\n",
       "      <td>apo25m.5226.150-08-RV.2M03252400+4614203</td>\n",
       "      <td>57706</td>\n",
       "      <td>-86.565704</td>\n",
       "      <td>-0.105361</td>\n",
       "    </tr>\n",
       "    <tr>\n",
       "      <th>1</th>\n",
       "      <td>apo25m.5226.150-08-RV.2M03252400+4614203</td>\n",
       "      <td>57732</td>\n",
       "      <td>-86.383430</td>\n",
       "      <td>0.076913</td>\n",
       "    </tr>\n",
       "    <tr>\n",
       "      <th>2</th>\n",
       "      <td>apo25m.5226.150-08-RV.2M03252400+4614203</td>\n",
       "      <td>57734</td>\n",
       "      <td>-86.386870</td>\n",
       "      <td>0.073473</td>\n",
       "    </tr>\n",
       "    <tr>\n",
       "      <th>3</th>\n",
       "      <td>apo25m.5226.150-08-RV.2M03252400+4614203</td>\n",
       "      <td>57735</td>\n",
       "      <td>-86.532840</td>\n",
       "      <td>-0.072497</td>\n",
       "    </tr>\n",
       "    <tr>\n",
       "      <th>4</th>\n",
       "      <td>apo25m.5226.150-08-RV.2M03252400+4614203</td>\n",
       "      <td>57760</td>\n",
       "      <td>-86.366640</td>\n",
       "      <td>0.093703</td>\n",
       "    </tr>\n",
       "    <tr>\n",
       "      <th>5</th>\n",
       "      <td>apo25m.5226.150-08-RV.2M03252400+4614203</td>\n",
       "      <td>57788</td>\n",
       "      <td>-86.563065</td>\n",
       "      <td>-0.102722</td>\n",
       "    </tr>\n",
       "    <tr>\n",
       "      <th>6</th>\n",
       "      <td>apo25m.5226.150-08-RV.2M03252400+4614203</td>\n",
       "      <td>57789</td>\n",
       "      <td>-86.457430</td>\n",
       "      <td>0.002913</td>\n",
       "    </tr>\n",
       "    <tr>\n",
       "      <th>7</th>\n",
       "      <td>apo25m.5226.150-08-RV.2M03252400+4614203</td>\n",
       "      <td>58006</td>\n",
       "      <td>-86.392876</td>\n",
       "      <td>0.067467</td>\n",
       "    </tr>\n",
       "    <tr>\n",
       "      <th>8</th>\n",
       "      <td>apo25m.5226.150-08-RV.2M03252400+4614203</td>\n",
       "      <td>58032</td>\n",
       "      <td>-86.379560</td>\n",
       "      <td>0.080783</td>\n",
       "    </tr>\n",
       "    <tr>\n",
       "      <th>9</th>\n",
       "      <td>apo25m.5226.150-08-RV.2M03252400+4614203</td>\n",
       "      <td>58054</td>\n",
       "      <td>-86.564070</td>\n",
       "      <td>-0.103727</td>\n",
       "    </tr>\n",
       "    <tr>\n",
       "      <th>10</th>\n",
       "      <td>apo25m.5226.150-08-RV.2M03252400+4614203</td>\n",
       "      <td>58063</td>\n",
       "      <td>-86.519880</td>\n",
       "      <td>-0.059537</td>\n",
       "    </tr>\n",
       "    <tr>\n",
       "      <th>11</th>\n",
       "      <td>apo25m.5226.150-08-RV.2M03252400+4614203</td>\n",
       "      <td>58068</td>\n",
       "      <td>-86.524210</td>\n",
       "      <td>-0.063867</td>\n",
       "    </tr>\n",
       "    <tr>\n",
       "      <th>12</th>\n",
       "      <td>apo25m.5226.150-08-RV.2M03252400+4614203</td>\n",
       "      <td>58085</td>\n",
       "      <td>-86.569565</td>\n",
       "      <td>-0.109222</td>\n",
       "    </tr>\n",
       "    <tr>\n",
       "      <th>13</th>\n",
       "      <td>apo25m.5226.150-08-RV.2M03252400+4614203</td>\n",
       "      <td>58087</td>\n",
       "      <td>-86.532440</td>\n",
       "      <td>-0.072097</td>\n",
       "    </tr>\n",
       "    <tr>\n",
       "      <th>14</th>\n",
       "      <td>apo25m.5226.150-08-RV.2M03252400+4614203</td>\n",
       "      <td>58114</td>\n",
       "      <td>-86.530830</td>\n",
       "      <td>-0.070487</td>\n",
       "    </tr>\n",
       "    <tr>\n",
       "      <th>15</th>\n",
       "      <td>apo25m.5226.150-08-RV.2M03252400+4614203</td>\n",
       "      <td>58143</td>\n",
       "      <td>-86.096080</td>\n",
       "      <td>0.364263</td>\n",
       "    </tr>\n",
       "  </tbody>\n",
       "</table>\n",
       "</div>"
      ],
      "text/plain": [
       "                                   Target ID    MJD  OBSVHELIO (km/s)  \\\n",
       "0   apo25m.5226.150-08-RV.2M03252400+4614203  57706        -86.565704   \n",
       "1   apo25m.5226.150-08-RV.2M03252400+4614203  57732        -86.383430   \n",
       "2   apo25m.5226.150-08-RV.2M03252400+4614203  57734        -86.386870   \n",
       "3   apo25m.5226.150-08-RV.2M03252400+4614203  57735        -86.532840   \n",
       "4   apo25m.5226.150-08-RV.2M03252400+4614203  57760        -86.366640   \n",
       "5   apo25m.5226.150-08-RV.2M03252400+4614203  57788        -86.563065   \n",
       "6   apo25m.5226.150-08-RV.2M03252400+4614203  57789        -86.457430   \n",
       "7   apo25m.5226.150-08-RV.2M03252400+4614203  58006        -86.392876   \n",
       "8   apo25m.5226.150-08-RV.2M03252400+4614203  58032        -86.379560   \n",
       "9   apo25m.5226.150-08-RV.2M03252400+4614203  58054        -86.564070   \n",
       "10  apo25m.5226.150-08-RV.2M03252400+4614203  58063        -86.519880   \n",
       "11  apo25m.5226.150-08-RV.2M03252400+4614203  58068        -86.524210   \n",
       "12  apo25m.5226.150-08-RV.2M03252400+4614203  58085        -86.569565   \n",
       "13  apo25m.5226.150-08-RV.2M03252400+4614203  58087        -86.532440   \n",
       "14  apo25m.5226.150-08-RV.2M03252400+4614203  58114        -86.530830   \n",
       "15  apo25m.5226.150-08-RV.2M03252400+4614203  58143        -86.096080   \n",
       "\n",
       "         ΔRV  \n",
       "0  -0.105361  \n",
       "1   0.076913  \n",
       "2   0.073473  \n",
       "3  -0.072497  \n",
       "4   0.093703  \n",
       "5  -0.102722  \n",
       "6   0.002913  \n",
       "7   0.067467  \n",
       "8   0.080783  \n",
       "9  -0.103727  \n",
       "10 -0.059537  \n",
       "11 -0.063867  \n",
       "12 -0.109222  \n",
       "13 -0.072097  \n",
       "14 -0.070487  \n",
       "15  0.364263  "
      ]
     },
     "execution_count": 107,
     "metadata": {},
     "output_type": "execute_result"
    }
   ],
   "source": [
    "df_test"
   ]
  },
  {
   "cell_type": "code",
   "execution_count": 108,
   "metadata": {
    "scrolled": true
   },
   "outputs": [
    {
     "data": {
      "text/plain": [
       "<AxesSubplot:xlabel='MJD', ylabel='ΔRV'>"
      ]
     },
     "execution_count": 108,
     "metadata": {},
     "output_type": "execute_result"
    },
    {
     "data": {
      "image/png": "[encoded data removed]",
      "text/plain": [
       "<Figure size 432x288 with 1 Axes>"
      ]
     },
     "metadata": {
      "needs_background": "light"
     },
     "output_type": "display_data"
    }
   ],
   "source": [
    "df_test.plot(x = 'MJD', y = 'ΔRV', kind = 'scatter')"
   ]
  },
  {
   "cell_type": "code",
   "execution_count": null,
   "metadata": {},
   "outputs": [],
   "source": []
  },
  {
   "cell_type": "code",
   "execution_count": 40,
   "metadata": {
    "scrolled": true
   },
   "outputs": [
    {
     "data": {
      "text/plain": [
       "<AxesSubplot:xlabel='MJD', ylabel='OBSVHELIO (km/s)'>"
      ]
     },
     "execution_count": 40,
     "metadata": {},
     "output_type": "execute_result"
    },
    {
     "data": {
      "image/png": "[encoded data removed]",
      "text/plain": [
       "<Figure size 432x288 with 1 Axes>"
      ]
     },
     "metadata": {
      "needs_background": "light"
     },
     "output_type": "display_data"
    }
   ],
   "source": [
    "df.plot(x = 'MJD', y = 'OBSVHELIO (km/s)', kind = 'scatter')"
   ]
  },
  {
   "cell_type": "code",
   "execution_count": null,
   "metadata": {},
   "outputs": [],
   "source": []
  },
  {
   "cell_type": "code",
   "execution_count": null,
   "metadata": {},
   "outputs": [],
   "source": []
  },
  {
   "cell_type": "code",
   "execution_count": null,
   "metadata": {},
   "outputs": [],
   "source": []
  },
  {
   "cell_type": "code",
   "execution_count": 157,
   "metadata": {},
   "outputs": [],
   "source": [
    "features = ['MJD', 'OBSVHELIO (km/s)', 'Avg RV', 'ΔRV']"
   ]
  },
  {
   "cell_type": "code",
   "execution_count": 158,
   "metadata": {},
   "outputs": [],
   "source": [
    "x2 = df.loc[:, features].values"
   ]
  },
  {
   "cell_type": "code",
   "execution_count": 159,
   "metadata": {},
   "outputs": [],
   "source": [
    "y2 = df.loc[:, ['Target ID']].values"
   ]
  },
  {
   "cell_type": "code",
   "execution_count": 160,
   "metadata": {},
   "outputs": [],
   "source": [
    "x2 = StandardScaler().fit_transform(x2)"
   ]
  },
  {
   "cell_type": "code",
   "execution_count": 167,
   "metadata": {},
   "outputs": [
    {
     "data": {
      "text/plain": [
       "(3632, 4)"
      ]
     },
     "execution_count": 167,
     "metadata": {},
     "output_type": "execute_result"
    }
   ],
   "source": [
    "x2.shape"
   ]
  },
  {
   "cell_type": "code",
   "execution_count": 168,
   "metadata": {},
   "outputs": [
    {
     "data": {
      "text/plain": [
       "(-1.173804078898844e-17, 0.9999999999999999)"
      ]
     },
     "execution_count": 168,
     "metadata": {},
     "output_type": "execute_result"
    }
   ],
   "source": [
    "np.mean(x2), np.std(x2)"
   ]
  },
  {
   "cell_type": "code",
   "execution_count": 169,
   "metadata": {},
   "outputs": [],
   "source": [
    "feat_cols = ['feature'+str(i) for i in range(x2.shape[1])]"
   ]
  },
  {
   "cell_type": "code",
   "execution_count": 170,
   "metadata": {},
   "outputs": [],
   "source": [
    "normalised_data = pd.DataFrame(x2,columns=feat_cols)"
   ]
  },
  {
   "cell_type": "code",
   "execution_count": 171,
   "metadata": {},
   "outputs": [
    {
     "data": {
      "text/html": [
       "<div>\n",
       "<style scoped>\n",
       "    .dataframe tbody tr th:only-of-type {\n",
       "        vertical-align: middle;\n",
       "    }\n",
       "\n",
       "    .dataframe tbody tr th {\n",
       "        vertical-align: top;\n",
       "    }\n",
       "\n",
       "    .dataframe thead th {\n",
       "        text-align: right;\n",
       "    }\n",
       "</style>\n",
       "<table border=\"1\" class=\"dataframe\">\n",
       "  <thead>\n",
       "    <tr style=\"text-align: right;\">\n",
       "      <th></th>\n",
       "      <th>feature0</th>\n",
       "      <th>feature1</th>\n",
       "      <th>feature2</th>\n",
       "      <th>feature3</th>\n",
       "    </tr>\n",
       "  </thead>\n",
       "  <tbody>\n",
       "    <tr>\n",
       "      <th>3627</th>\n",
       "      <td>0.834782</td>\n",
       "      <td>-0.052604</td>\n",
       "      <td>-0.122209</td>\n",
       "      <td>0.000014</td>\n",
       "    </tr>\n",
       "    <tr>\n",
       "      <th>3628</th>\n",
       "      <td>0.938368</td>\n",
       "      <td>-0.052606</td>\n",
       "      <td>-0.122209</td>\n",
       "      <td>0.000012</td>\n",
       "    </tr>\n",
       "    <tr>\n",
       "      <th>3629</th>\n",
       "      <td>0.950555</td>\n",
       "      <td>-0.052606</td>\n",
       "      <td>-0.122209</td>\n",
       "      <td>0.000012</td>\n",
       "    </tr>\n",
       "    <tr>\n",
       "      <th>3630</th>\n",
       "      <td>1.115074</td>\n",
       "      <td>-0.052606</td>\n",
       "      <td>-0.122209</td>\n",
       "      <td>0.000012</td>\n",
       "    </tr>\n",
       "    <tr>\n",
       "      <th>3631</th>\n",
       "      <td>1.291780</td>\n",
       "      <td>-0.052603</td>\n",
       "      <td>-0.122209</td>\n",
       "      <td>0.000016</td>\n",
       "    </tr>\n",
       "  </tbody>\n",
       "</table>\n",
       "</div>"
      ],
      "text/plain": [
       "      feature0  feature1  feature2  feature3\n",
       "3627  0.834782 -0.052604 -0.122209  0.000014\n",
       "3628  0.938368 -0.052606 -0.122209  0.000012\n",
       "3629  0.950555 -0.052606 -0.122209  0.000012\n",
       "3630  1.115074 -0.052606 -0.122209  0.000012\n",
       "3631  1.291780 -0.052603 -0.122209  0.000016"
      ]
     },
     "execution_count": 171,
     "metadata": {},
     "output_type": "execute_result"
    }
   ],
   "source": [
    "normalised_data.tail()"
   ]
  },
  {
   "cell_type": "code",
   "execution_count": 172,
   "metadata": {},
   "outputs": [],
   "source": [
    "from sklearn.decomposition import PCA"
   ]
  },
  {
   "cell_type": "code",
   "execution_count": 173,
   "metadata": {},
   "outputs": [],
   "source": [
    "pca = PCA(n_components = 2)"
   ]
  },
  {
   "cell_type": "code",
   "execution_count": 174,
   "metadata": {},
   "outputs": [],
   "source": [
    "principalComponents = pca.fit_transform(x2)"
   ]
  },
  {
   "cell_type": "code",
   "execution_count": 175,
   "metadata": {},
   "outputs": [],
   "source": [
    "principalDf = pd.DataFrame(data = principalComponents, \n",
    "                           columns = ['principal component 1', 'principal component 2'])"
   ]
  },
  {
   "cell_type": "code",
   "execution_count": 176,
   "metadata": {
    "scrolled": true
   },
   "outputs": [
    {
     "data": {
      "text/html": [
       "<div>\n",
       "<style scoped>\n",
       "    .dataframe tbody tr th:only-of-type {\n",
       "        vertical-align: middle;\n",
       "    }\n",
       "\n",
       "    .dataframe tbody tr th {\n",
       "        vertical-align: top;\n",
       "    }\n",
       "\n",
       "    .dataframe thead th {\n",
       "        text-align: right;\n",
       "    }\n",
       "</style>\n",
       "<table border=\"1\" class=\"dataframe\">\n",
       "  <thead>\n",
       "    <tr style=\"text-align: right;\">\n",
       "      <th></th>\n",
       "      <th>principal component 1</th>\n",
       "      <th>principal component 2</th>\n",
       "    </tr>\n",
       "  </thead>\n",
       "  <tbody>\n",
       "    <tr>\n",
       "      <th>3627</th>\n",
       "      <td>-0.109078</td>\n",
       "      <td>0.488988</td>\n",
       "    </tr>\n",
       "    <tr>\n",
       "      <th>3628</th>\n",
       "      <td>-0.113397</td>\n",
       "      <td>0.559901</td>\n",
       "    </tr>\n",
       "    <tr>\n",
       "      <th>3629</th>\n",
       "      <td>-0.113905</td>\n",
       "      <td>0.568244</td>\n",
       "    </tr>\n",
       "    <tr>\n",
       "      <th>3630</th>\n",
       "      <td>-0.120764</td>\n",
       "      <td>0.680872</td>\n",
       "    </tr>\n",
       "    <tr>\n",
       "      <th>3631</th>\n",
       "      <td>-0.128131</td>\n",
       "      <td>0.801843</td>\n",
       "    </tr>\n",
       "  </tbody>\n",
       "</table>\n",
       "</div>"
      ],
      "text/plain": [
       "      principal component 1  principal component 2\n",
       "3627              -0.109078               0.488988\n",
       "3628              -0.113397               0.559901\n",
       "3629              -0.113905               0.568244\n",
       "3630              -0.120764               0.680872\n",
       "3631              -0.128131               0.801843"
      ]
     },
     "execution_count": 176,
     "metadata": {},
     "output_type": "execute_result"
    }
   ],
   "source": [
    "principalDf.tail()"
   ]
  },
  {
   "cell_type": "code",
   "execution_count": 177,
   "metadata": {
    "scrolled": true
   },
   "outputs": [
    {
     "name": "stdout",
     "output_type": "stream",
     "text": [
      "Explained variation per principal component: [0.50044152 0.2533061 ]\n"
     ]
    }
   ],
   "source": [
    "print('Explained variation per principal component: {}'.format(pca.explained_variance_ratio_))"
   ]
  },
  {
   "cell_type": "code",
   "execution_count": 180,
   "metadata": {},
   "outputs": [
    {
     "data": {
      "text/plain": [
       "<Figure size 432x288 with 0 Axes>"
      ]
     },
     "metadata": {},
     "output_type": "display_data"
    },
    {
     "data": {
      "image/png": "[encoded data removed]",
      "text/plain": [
       "<Figure size 720x720 with 1 Axes>"
      ]
     },
     "metadata": {
      "needs_background": "light"
     },
     "output_type": "display_data"
    }
   ],
   "source": [
    "plt.figure()\n",
    "plt.figure(figsize=(10,10))\n",
    "plt.xticks(fontsize=12)\n",
    "plt.yticks(fontsize=14)\n",
    "plt.xlabel('Principal Component - 1',fontsize=20)\n",
    "plt.ylabel('Principal Component - 2',fontsize=20)\n",
    "plt.title(\"PCA of Dataset\",fontsize=20)\n",
    "targets = [df['Target ID']]\n",
    "colors = ['r', 'g']\n",
    "for target, color in zip(targets,colors):\n",
    "    indicesToKeep = df['Target ID'] == target\n",
    "    plt.scatter(principalDf.loc[indicesToKeep, 'principal component 1']\n",
    "               , principalDf.loc[indicesToKeep, 'principal component 2'], c = color, s = 50)\n",
    "\n",
    "# plt.legend(targets,prop={'size': 15})"
   ]
  },
  {
   "cell_type": "code",
   "execution_count": null,
   "metadata": {},
   "outputs": [],
   "source": []
  },
  {
   "cell_type": "code",
   "execution_count": 165,
   "metadata": {},
   "outputs": [],
   "source": [
    "finalDf = pd.concat([principalDf, df[['Target ID']]], axis = 1)"
   ]
  },
  {
   "cell_type": "code",
   "execution_count": 166,
   "metadata": {},
   "outputs": [
    {
     "data": {
      "text/html": [
       "<div>\n",
       "<style scoped>\n",
       "    .dataframe tbody tr th:only-of-type {\n",
       "        vertical-align: middle;\n",
       "    }\n",
       "\n",
       "    .dataframe tbody tr th {\n",
       "        vertical-align: top;\n",
       "    }\n",
       "\n",
       "    .dataframe thead th {\n",
       "        text-align: right;\n",
       "    }\n",
       "</style>\n",
       "<table border=\"1\" class=\"dataframe\">\n",
       "  <thead>\n",
       "    <tr style=\"text-align: right;\">\n",
       "      <th></th>\n",
       "      <th>principal component 1</th>\n",
       "      <th>principal component 2</th>\n",
       "      <th>Target ID</th>\n",
       "    </tr>\n",
       "  </thead>\n",
       "  <tbody>\n",
       "    <tr>\n",
       "      <th>0</th>\n",
       "      <td>-0.018731</td>\n",
       "      <td>-1.022855</td>\n",
       "      <td>apo25m.5226.150-08-RV.2M03252400+4614203</td>\n",
       "    </tr>\n",
       "    <tr>\n",
       "      <th>1</th>\n",
       "      <td>-0.025336</td>\n",
       "      <td>-0.914397</td>\n",
       "      <td>apo25m.5226.150-08-RV.2M03252400+4614203</td>\n",
       "    </tr>\n",
       "    <tr>\n",
       "      <th>2</th>\n",
       "      <td>-0.025844</td>\n",
       "      <td>-0.906054</td>\n",
       "      <td>apo25m.5226.150-08-RV.2M03252400+4614203</td>\n",
       "    </tr>\n",
       "    <tr>\n",
       "      <th>3</th>\n",
       "      <td>-0.026098</td>\n",
       "      <td>-0.901884</td>\n",
       "      <td>apo25m.5226.150-08-RV.2M03252400+4614203</td>\n",
       "    </tr>\n",
       "    <tr>\n",
       "      <th>4</th>\n",
       "      <td>-0.032449</td>\n",
       "      <td>-0.797598</td>\n",
       "      <td>apo25m.5226.150-08-RV.2M03252400+4614203</td>\n",
       "    </tr>\n",
       "    <tr>\n",
       "      <th>...</th>\n",
       "      <td>...</td>\n",
       "      <td>...</td>\n",
       "      <td>...</td>\n",
       "    </tr>\n",
       "    <tr>\n",
       "      <th>3627</th>\n",
       "      <td>-0.109078</td>\n",
       "      <td>0.488988</td>\n",
       "      <td>apo25m.5226.150-08-RV.2M03415658+4626067</td>\n",
       "    </tr>\n",
       "    <tr>\n",
       "      <th>3628</th>\n",
       "      <td>-0.113397</td>\n",
       "      <td>0.559901</td>\n",
       "      <td>apo25m.5226.150-08-RV.2M03415658+4626067</td>\n",
       "    </tr>\n",
       "    <tr>\n",
       "      <th>3629</th>\n",
       "      <td>-0.113905</td>\n",
       "      <td>0.568244</td>\n",
       "      <td>apo25m.5226.150-08-RV.2M03415658+4626067</td>\n",
       "    </tr>\n",
       "    <tr>\n",
       "      <th>3630</th>\n",
       "      <td>-0.120764</td>\n",
       "      <td>0.680872</td>\n",
       "      <td>apo25m.5226.150-08-RV.2M03415658+4626067</td>\n",
       "    </tr>\n",
       "    <tr>\n",
       "      <th>3631</th>\n",
       "      <td>-0.128131</td>\n",
       "      <td>0.801843</td>\n",
       "      <td>apo25m.5226.150-08-RV.2M03415658+4626067</td>\n",
       "    </tr>\n",
       "  </tbody>\n",
       "</table>\n",
       "<p>3632 rows × 3 columns</p>\n",
       "</div>"
      ],
      "text/plain": [
       "      principal component 1  principal component 2  \\\n",
       "0                 -0.018731              -1.022855   \n",
       "1                 -0.025336              -0.914397   \n",
       "2                 -0.025844              -0.906054   \n",
       "3                 -0.026098              -0.901884   \n",
       "4                 -0.032449              -0.797598   \n",
       "...                     ...                    ...   \n",
       "3627              -0.109078               0.488988   \n",
       "3628              -0.113397               0.559901   \n",
       "3629              -0.113905               0.568244   \n",
       "3630              -0.120764               0.680872   \n",
       "3631              -0.128131               0.801843   \n",
       "\n",
       "                                     Target ID  \n",
       "0     apo25m.5226.150-08-RV.2M03252400+4614203  \n",
       "1     apo25m.5226.150-08-RV.2M03252400+4614203  \n",
       "2     apo25m.5226.150-08-RV.2M03252400+4614203  \n",
       "3     apo25m.5226.150-08-RV.2M03252400+4614203  \n",
       "4     apo25m.5226.150-08-RV.2M03252400+4614203  \n",
       "...                                        ...  \n",
       "3627  apo25m.5226.150-08-RV.2M03415658+4626067  \n",
       "3628  apo25m.5226.150-08-RV.2M03415658+4626067  \n",
       "3629  apo25m.5226.150-08-RV.2M03415658+4626067  \n",
       "3630  apo25m.5226.150-08-RV.2M03415658+4626067  \n",
       "3631  apo25m.5226.150-08-RV.2M03415658+4626067  \n",
       "\n",
       "[3632 rows x 3 columns]"
      ]
     },
     "execution_count": 166,
     "metadata": {},
     "output_type": "execute_result"
    }
   ],
   "source": [
    "finalDf"
   ]
  }
 ],
 "metadata": {
  "kernelspec": {
   "display_name": "Python 3",
   "language": "python",
   "name": "python3"
  },
  "language_info": {
   "codemirror_mode": {
    "name": "ipython",
    "version": 3
   },
   "file_extension": ".py",
   "mimetype": "text/x-python",
   "name": "python",
   "nbconvert_exporter": "python",
   "pygments_lexer": "ipython3",
   "version": "3.8.5"
  }
 },
 "nbformat": 4,
 "nbformat_minor": 4
}
