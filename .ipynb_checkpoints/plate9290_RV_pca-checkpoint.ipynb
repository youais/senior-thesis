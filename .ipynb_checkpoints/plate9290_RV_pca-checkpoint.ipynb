{
 "cells": [
  {
   "cell_type": "code",
   "execution_count": 1,
   "metadata": {},
   "outputs": [],
   "source": [
    "import numpy as np\n",
    "import pandas as pd\n",
    "import matplotlib.pyplot as plt\n",
    "from sklearn.preprocessing import StandardScaler\n",
    "from sklearn.decomposition import PCA\n",
    "from collections import Counter"
   ]
  },
  {
   "cell_type": "code",
   "execution_count": 2,
   "metadata": {},
   "outputs": [],
   "source": [
    "# Read in CSV file\n",
    "\n",
    "df = pd.read_csv('plate9290_RVs.csv').drop(['Unnamed: 0', 'Plate ID'], axis=1)"
   ]
  },
  {
   "cell_type": "code",
   "execution_count": 3,
   "metadata": {
    "scrolled": true
   },
   "outputs": [],
   "source": [
    "df = df.sort_values(['Target ID'], ascending=True)"
   ]
  },
  {
   "cell_type": "code",
   "execution_count": 4,
   "metadata": {},
   "outputs": [
    {
     "data": {
      "text/html": [
       "<div>\n",
       "<style scoped>\n",
       "    .dataframe tbody tr th:only-of-type {\n",
       "        vertical-align: middle;\n",
       "    }\n",
       "\n",
       "    .dataframe tbody tr th {\n",
       "        vertical-align: top;\n",
       "    }\n",
       "\n",
       "    .dataframe thead th {\n",
       "        text-align: right;\n",
       "    }\n",
       "</style>\n",
       "<table border=\"1\" class=\"dataframe\">\n",
       "  <thead>\n",
       "    <tr style=\"text-align: right;\">\n",
       "      <th></th>\n",
       "      <th>Target ID</th>\n",
       "      <th>MJD</th>\n",
       "      <th>OBSVHELIO (km/s)</th>\n",
       "    </tr>\n",
       "  </thead>\n",
       "  <tbody>\n",
       "    <tr>\n",
       "      <th>0</th>\n",
       "      <td>apo25m.5226.150-08-RV.2M03252400+4614203</td>\n",
       "      <td>57706</td>\n",
       "      <td>-86.565704</td>\n",
       "    </tr>\n",
       "    <tr>\n",
       "      <th>15</th>\n",
       "      <td>apo25m.5226.150-08-RV.2M03252400+4614203</td>\n",
       "      <td>58143</td>\n",
       "      <td>-86.096080</td>\n",
       "    </tr>\n",
       "    <tr>\n",
       "      <th>14</th>\n",
       "      <td>apo25m.5226.150-08-RV.2M03252400+4614203</td>\n",
       "      <td>58114</td>\n",
       "      <td>-86.530830</td>\n",
       "    </tr>\n",
       "    <tr>\n",
       "      <th>13</th>\n",
       "      <td>apo25m.5226.150-08-RV.2M03252400+4614203</td>\n",
       "      <td>58087</td>\n",
       "      <td>-86.532440</td>\n",
       "    </tr>\n",
       "    <tr>\n",
       "      <th>12</th>\n",
       "      <td>apo25m.5226.150-08-RV.2M03252400+4614203</td>\n",
       "      <td>58085</td>\n",
       "      <td>-86.569565</td>\n",
       "    </tr>\n",
       "    <tr>\n",
       "      <th>...</th>\n",
       "      <td>...</td>\n",
       "      <td>...</td>\n",
       "      <td>...</td>\n",
       "    </tr>\n",
       "    <tr>\n",
       "      <th>3617</th>\n",
       "      <td>apo25m.5226.150-08-RV.2M03415658+4626067</td>\n",
       "      <td>57732</td>\n",
       "      <td>-26.530085</td>\n",
       "    </tr>\n",
       "    <tr>\n",
       "      <th>3616</th>\n",
       "      <td>apo25m.5226.150-08-RV.2M03415658+4626067</td>\n",
       "      <td>57706</td>\n",
       "      <td>-26.743143</td>\n",
       "    </tr>\n",
       "    <tr>\n",
       "      <th>3630</th>\n",
       "      <td>apo25m.5226.150-08-RV.2M03415658+4626067</td>\n",
       "      <td>58114</td>\n",
       "      <td>-26.599243</td>\n",
       "    </tr>\n",
       "    <tr>\n",
       "      <th>3622</th>\n",
       "      <td>apo25m.5226.150-08-RV.2M03415658+4626067</td>\n",
       "      <td>57789</td>\n",
       "      <td>-26.565876</td>\n",
       "    </tr>\n",
       "    <tr>\n",
       "      <th>3631</th>\n",
       "      <td>apo25m.5226.150-08-RV.2M03415658+4626067</td>\n",
       "      <td>58143</td>\n",
       "      <td>-26.415329</td>\n",
       "    </tr>\n",
       "  </tbody>\n",
       "</table>\n",
       "<p>3632 rows × 3 columns</p>\n",
       "</div>"
      ],
      "text/plain": [
       "                                     Target ID    MJD  OBSVHELIO (km/s)\n",
       "0     apo25m.5226.150-08-RV.2M03252400+4614203  57706        -86.565704\n",
       "15    apo25m.5226.150-08-RV.2M03252400+4614203  58143        -86.096080\n",
       "14    apo25m.5226.150-08-RV.2M03252400+4614203  58114        -86.530830\n",
       "13    apo25m.5226.150-08-RV.2M03252400+4614203  58087        -86.532440\n",
       "12    apo25m.5226.150-08-RV.2M03252400+4614203  58085        -86.569565\n",
       "...                                        ...    ...               ...\n",
       "3617  apo25m.5226.150-08-RV.2M03415658+4626067  57732        -26.530085\n",
       "3616  apo25m.5226.150-08-RV.2M03415658+4626067  57706        -26.743143\n",
       "3630  apo25m.5226.150-08-RV.2M03415658+4626067  58114        -26.599243\n",
       "3622  apo25m.5226.150-08-RV.2M03415658+4626067  57789        -26.565876\n",
       "3631  apo25m.5226.150-08-RV.2M03415658+4626067  58143        -26.415329\n",
       "\n",
       "[3632 rows x 3 columns]"
      ]
     },
     "execution_count": 4,
     "metadata": {},
     "output_type": "execute_result"
    }
   ],
   "source": [
    "df"
   ]
  },
  {
   "cell_type": "markdown",
   "metadata": {},
   "source": [
    "## Step 1\n",
    "- Plot ΔRV against MJD, try to locate pattern\n",
    "\n",
    "## To Do\n",
    "- ~For unique target in total df, create df for just that target's data~\n",
    "- ~Take RV data for each target and calculate avg~\n",
    "- ~For each RV data point in each df, find ΔRV = RV - RVavg~\n",
    "- ~Combine all ΔRVs for all dfs, add to total df~\n",
    "- ~Plot y=ΔRV, x=MJD~"
   ]
  },
  {
   "cell_type": "code",
   "execution_count": 5,
   "metadata": {},
   "outputs": [],
   "source": [
    "# Identify list of unique targets\n",
    "\n",
    "unique_targets = Counter(df['Target ID'])\n",
    "unique_targets_list = unique_targets.keys()"
   ]
  },
  {
   "cell_type": "code",
   "execution_count": 6,
   "metadata": {},
   "outputs": [],
   "source": [
    "# unique_targets"
   ]
  },
  {
   "cell_type": "code",
   "execution_count": 7,
   "metadata": {},
   "outputs": [
    {
     "data": {
      "text/plain": [
       "227"
      ]
     },
     "execution_count": 7,
     "metadata": {},
     "output_type": "execute_result"
    }
   ],
   "source": [
    "len(unique_targets)"
   ]
  },
  {
   "cell_type": "code",
   "execution_count": 13,
   "metadata": {
    "scrolled": true
   },
   "outputs": [],
   "source": [
    "# Obtain average RV and ΔRV for each target\n",
    "# Find better way to do this!\n",
    "\n",
    "all_delta_rvs = []\n",
    "all_avg_rvs = []\n",
    "\n",
    "for target in unique_targets_list:\n",
    "    target_df = df[df['Target ID'] == target]\n",
    "    # print('Single Target DF:', target_df)\n",
    "    target_rvs = list(target_df['OBSVHELIO (km/s)'])\n",
    "    # print('All RVs for Target:', target_rvs)\n",
    "    avg_rv = sum(list(target_df['OBSVHELIO (km/s)'])) / len(target_df['OBSVHELIO (km/s)']) # Should be 16\n",
    "    # print('RV Sum:', sum(list(target_df['OBSVHELIO (km/s)'])))\n",
    "    # print('RV Count:', len(target_df['OBSVHELIO (km/s)']))\n",
    "    # print('Avg RV:', avg_rv)\n",
    "    # print('Abs Avg RV:', abs(avg_rv))\n",
    "    delta_rvs = []\n",
    "    for trv in target_rvs:\n",
    "        delta_rv = abs(avg_rv) - abs(trv) # Should this be an abs value?\n",
    "        delta_rvs.append(delta_rv)\n",
    "        all_avg_rvs.append(avg_rv)\n",
    "        # print(abs(trv))\n",
    "        # print(delta_rv)\n",
    "    # print(target_rvs)\n",
    "    all_delta_rvs.append(delta_rvs)\n",
    "    # print(avg_rv)"
   ]
  },
  {
   "cell_type": "code",
   "execution_count": 14,
   "metadata": {
    "scrolled": true
   },
   "outputs": [],
   "source": [
    "# Flatten list of all ΔRVs\n",
    "\n",
    "flat_all_delta_rvs = [item for sublist in all_delta_rvs for item in sublist]\n",
    "# flat_all_delta_rvs"
   ]
  },
  {
   "cell_type": "code",
   "execution_count": 15,
   "metadata": {},
   "outputs": [
    {
     "data": {
      "text/plain": [
       "250004.225713775"
      ]
     },
     "execution_count": 15,
     "metadata": {},
     "output_type": "execute_result"
    }
   ],
   "source": [
    "max(flat_all_delta_rvs)"
   ]
  },
  {
   "cell_type": "code",
   "execution_count": 16,
   "metadata": {},
   "outputs": [],
   "source": [
    "# Add average RV and ΔRV columns to dataframe\n",
    "\n",
    "df['Avg RV'] = all_avg_rvs\n",
    "df['ΔRV'] = flat_all_delta_rvs"
   ]
  },
  {
   "cell_type": "code",
   "execution_count": 17,
   "metadata": {
    "scrolled": true
   },
   "outputs": [
    {
     "data": {
      "text/html": [
       "<div>\n",
       "<style scoped>\n",
       "    .dataframe tbody tr th:only-of-type {\n",
       "        vertical-align: middle;\n",
       "    }\n",
       "\n",
       "    .dataframe tbody tr th {\n",
       "        vertical-align: top;\n",
       "    }\n",
       "\n",
       "    .dataframe thead th {\n",
       "        text-align: right;\n",
       "    }\n",
       "</style>\n",
       "<table border=\"1\" class=\"dataframe\">\n",
       "  <thead>\n",
       "    <tr style=\"text-align: right;\">\n",
       "      <th></th>\n",
       "      <th>Target ID</th>\n",
       "      <th>MJD</th>\n",
       "      <th>OBSVHELIO (km/s)</th>\n",
       "      <th>Avg RV</th>\n",
       "      <th>ΔRV</th>\n",
       "    </tr>\n",
       "  </thead>\n",
       "  <tbody>\n",
       "    <tr>\n",
       "      <th>0</th>\n",
       "      <td>apo25m.5226.150-08-RV.2M03252400+4614203</td>\n",
       "      <td>57706</td>\n",
       "      <td>-86.565704</td>\n",
       "      <td>-86.460343</td>\n",
       "      <td>-0.105361</td>\n",
       "    </tr>\n",
       "    <tr>\n",
       "      <th>15</th>\n",
       "      <td>apo25m.5226.150-08-RV.2M03252400+4614203</td>\n",
       "      <td>58143</td>\n",
       "      <td>-86.096080</td>\n",
       "      <td>-86.460343</td>\n",
       "      <td>0.364263</td>\n",
       "    </tr>\n",
       "    <tr>\n",
       "      <th>14</th>\n",
       "      <td>apo25m.5226.150-08-RV.2M03252400+4614203</td>\n",
       "      <td>58114</td>\n",
       "      <td>-86.530830</td>\n",
       "      <td>-86.460343</td>\n",
       "      <td>-0.070487</td>\n",
       "    </tr>\n",
       "    <tr>\n",
       "      <th>13</th>\n",
       "      <td>apo25m.5226.150-08-RV.2M03252400+4614203</td>\n",
       "      <td>58087</td>\n",
       "      <td>-86.532440</td>\n",
       "      <td>-86.460343</td>\n",
       "      <td>-0.072097</td>\n",
       "    </tr>\n",
       "    <tr>\n",
       "      <th>12</th>\n",
       "      <td>apo25m.5226.150-08-RV.2M03252400+4614203</td>\n",
       "      <td>58085</td>\n",
       "      <td>-86.569565</td>\n",
       "      <td>-86.460343</td>\n",
       "      <td>-0.109222</td>\n",
       "    </tr>\n",
       "    <tr>\n",
       "      <th>...</th>\n",
       "      <td>...</td>\n",
       "      <td>...</td>\n",
       "      <td>...</td>\n",
       "      <td>...</td>\n",
       "      <td>...</td>\n",
       "    </tr>\n",
       "    <tr>\n",
       "      <th>3617</th>\n",
       "      <td>apo25m.5226.150-08-RV.2M03415658+4626067</td>\n",
       "      <td>57732</td>\n",
       "      <td>-26.530085</td>\n",
       "      <td>-26.555161</td>\n",
       "      <td>0.025076</td>\n",
       "    </tr>\n",
       "    <tr>\n",
       "      <th>3616</th>\n",
       "      <td>apo25m.5226.150-08-RV.2M03415658+4626067</td>\n",
       "      <td>57706</td>\n",
       "      <td>-26.743143</td>\n",
       "      <td>-26.555161</td>\n",
       "      <td>-0.187982</td>\n",
       "    </tr>\n",
       "    <tr>\n",
       "      <th>3630</th>\n",
       "      <td>apo25m.5226.150-08-RV.2M03415658+4626067</td>\n",
       "      <td>58114</td>\n",
       "      <td>-26.599243</td>\n",
       "      <td>-26.555161</td>\n",
       "      <td>-0.044082</td>\n",
       "    </tr>\n",
       "    <tr>\n",
       "      <th>3622</th>\n",
       "      <td>apo25m.5226.150-08-RV.2M03415658+4626067</td>\n",
       "      <td>57789</td>\n",
       "      <td>-26.565876</td>\n",
       "      <td>-26.555161</td>\n",
       "      <td>-0.010715</td>\n",
       "    </tr>\n",
       "    <tr>\n",
       "      <th>3631</th>\n",
       "      <td>apo25m.5226.150-08-RV.2M03415658+4626067</td>\n",
       "      <td>58143</td>\n",
       "      <td>-26.415329</td>\n",
       "      <td>-26.555161</td>\n",
       "      <td>0.139832</td>\n",
       "    </tr>\n",
       "  </tbody>\n",
       "</table>\n",
       "<p>3632 rows × 5 columns</p>\n",
       "</div>"
      ],
      "text/plain": [
       "                                     Target ID    MJD  OBSVHELIO (km/s)  \\\n",
       "0     apo25m.5226.150-08-RV.2M03252400+4614203  57706        -86.565704   \n",
       "15    apo25m.5226.150-08-RV.2M03252400+4614203  58143        -86.096080   \n",
       "14    apo25m.5226.150-08-RV.2M03252400+4614203  58114        -86.530830   \n",
       "13    apo25m.5226.150-08-RV.2M03252400+4614203  58087        -86.532440   \n",
       "12    apo25m.5226.150-08-RV.2M03252400+4614203  58085        -86.569565   \n",
       "...                                        ...    ...               ...   \n",
       "3617  apo25m.5226.150-08-RV.2M03415658+4626067  57732        -26.530085   \n",
       "3616  apo25m.5226.150-08-RV.2M03415658+4626067  57706        -26.743143   \n",
       "3630  apo25m.5226.150-08-RV.2M03415658+4626067  58114        -26.599243   \n",
       "3622  apo25m.5226.150-08-RV.2M03415658+4626067  57789        -26.565876   \n",
       "3631  apo25m.5226.150-08-RV.2M03415658+4626067  58143        -26.415329   \n",
       "\n",
       "         Avg RV       ΔRV  \n",
       "0    -86.460343 -0.105361  \n",
       "15   -86.460343  0.364263  \n",
       "14   -86.460343 -0.070487  \n",
       "13   -86.460343 -0.072097  \n",
       "12   -86.460343 -0.109222  \n",
       "...         ...       ...  \n",
       "3617 -26.555161  0.025076  \n",
       "3616 -26.555161 -0.187982  \n",
       "3630 -26.555161 -0.044082  \n",
       "3622 -26.555161 -0.010715  \n",
       "3631 -26.555161  0.139832  \n",
       "\n",
       "[3632 rows x 5 columns]"
      ]
     },
     "execution_count": 17,
     "metadata": {},
     "output_type": "execute_result"
    }
   ],
   "source": [
    "# Updated dataframe!\n",
    "\n",
    "df"
   ]
  },
  {
   "cell_type": "code",
   "execution_count": 18,
   "metadata": {
    "scrolled": false
   },
   "outputs": [
    {
     "data": {
      "text/plain": [
       "<AxesSubplot:xlabel='MJD', ylabel='ΔRV'>"
      ]
     },
     "execution_count": 18,
     "metadata": {},
     "output_type": "execute_result"
    },
    {
     "data": {
      "image/png": "[encoded data removed]",
      "text/plain": [
       "<Figure size 432x288 with 1 Axes>"
      ]
     },
     "metadata": {
      "needs_background": "light"
     },
     "output_type": "display_data"
    }
   ],
   "source": [
    "# Initial plot - lots of unexpected outliers?\n",
    "\n",
    "df.plot(x = 'MJD', y = 'ΔRV', kind = 'scatter')"
   ]
  },
  {
   "cell_type": "markdown",
   "metadata": {},
   "source": [
    "## Questions\n",
    "- What is causing the weird outliers?\n",
    "- What should be done about them?\n",
    "\n",
    "## Step 2\n",
    "- Adjust plot, check for visible pattern\n",
    "- If no pattern, try PCA"
   ]
  },
  {
   "cell_type": "code",
   "execution_count": 19,
   "metadata": {
    "scrolled": true
   },
   "outputs": [
    {
     "data": {
      "text/html": [
       "<div>\n",
       "<style scoped>\n",
       "    .dataframe tbody tr th:only-of-type {\n",
       "        vertical-align: middle;\n",
       "    }\n",
       "\n",
       "    .dataframe tbody tr th {\n",
       "        vertical-align: top;\n",
       "    }\n",
       "\n",
       "    .dataframe thead th {\n",
       "        text-align: right;\n",
       "    }\n",
       "</style>\n",
       "<table border=\"1\" class=\"dataframe\">\n",
       "  <thead>\n",
       "    <tr style=\"text-align: right;\">\n",
       "      <th></th>\n",
       "      <th>Target ID</th>\n",
       "      <th>MJD</th>\n",
       "      <th>OBSVHELIO (km/s)</th>\n",
       "      <th>Avg RV</th>\n",
       "      <th>ΔRV</th>\n",
       "    </tr>\n",
       "  </thead>\n",
       "  <tbody>\n",
       "    <tr>\n",
       "      <th>841</th>\n",
       "      <td>apo25m.5226.150-08-RV.2M03294546+4531510</td>\n",
       "      <td>58054</td>\n",
       "      <td>999999.0</td>\n",
       "      <td>62470.779686</td>\n",
       "      <td>-937528.220314</td>\n",
       "    </tr>\n",
       "    <tr>\n",
       "      <th>1566</th>\n",
       "      <td>apo25m.5226.150-08-RV.2M03320675+4519114</td>\n",
       "      <td>58114</td>\n",
       "      <td>999999.0</td>\n",
       "      <td>125012.080229</td>\n",
       "      <td>-874986.919771</td>\n",
       "    </tr>\n",
       "    <tr>\n",
       "      <th>1557</th>\n",
       "      <td>apo25m.5226.150-08-RV.2M03320675+4519114</td>\n",
       "      <td>57788</td>\n",
       "      <td>999999.0</td>\n",
       "      <td>125012.080229</td>\n",
       "      <td>-874986.919771</td>\n",
       "    </tr>\n",
       "    <tr>\n",
       "      <th>2129</th>\n",
       "      <td>apo25m.5226.150-08-RV.2M03340241+4638066</td>\n",
       "      <td>57732</td>\n",
       "      <td>999999.0</td>\n",
       "      <td>187490.120951</td>\n",
       "      <td>-812508.879049</td>\n",
       "    </tr>\n",
       "    <tr>\n",
       "      <th>2128</th>\n",
       "      <td>apo25m.5226.150-08-RV.2M03340241+4638066</td>\n",
       "      <td>57706</td>\n",
       "      <td>999999.0</td>\n",
       "      <td>187490.120951</td>\n",
       "      <td>-812508.879049</td>\n",
       "    </tr>\n",
       "    <tr>\n",
       "      <th>...</th>\n",
       "      <td>...</td>\n",
       "      <td>...</td>\n",
       "      <td>...</td>\n",
       "      <td>...</td>\n",
       "      <td>...</td>\n",
       "    </tr>\n",
       "    <tr>\n",
       "      <th>1053</th>\n",
       "      <td>apo25m.5226.150-08-RV.2M03302697+4703478</td>\n",
       "      <td>58087</td>\n",
       "      <td>0.0</td>\n",
       "      <td>250004.225714</td>\n",
       "      <td>250004.225714</td>\n",
       "    </tr>\n",
       "    <tr>\n",
       "      <th>1052</th>\n",
       "      <td>apo25m.5226.150-08-RV.2M03302697+4703478</td>\n",
       "      <td>58085</td>\n",
       "      <td>0.0</td>\n",
       "      <td>250004.225714</td>\n",
       "      <td>250004.225714</td>\n",
       "    </tr>\n",
       "    <tr>\n",
       "      <th>1051</th>\n",
       "      <td>apo25m.5226.150-08-RV.2M03302697+4703478</td>\n",
       "      <td>58068</td>\n",
       "      <td>0.0</td>\n",
       "      <td>250004.225714</td>\n",
       "      <td>250004.225714</td>\n",
       "    </tr>\n",
       "    <tr>\n",
       "      <th>1049</th>\n",
       "      <td>apo25m.5226.150-08-RV.2M03302697+4703478</td>\n",
       "      <td>58054</td>\n",
       "      <td>0.0</td>\n",
       "      <td>250004.225714</td>\n",
       "      <td>250004.225714</td>\n",
       "    </tr>\n",
       "    <tr>\n",
       "      <th>1050</th>\n",
       "      <td>apo25m.5226.150-08-RV.2M03302697+4703478</td>\n",
       "      <td>58063</td>\n",
       "      <td>0.0</td>\n",
       "      <td>250004.225714</td>\n",
       "      <td>250004.225714</td>\n",
       "    </tr>\n",
       "  </tbody>\n",
       "</table>\n",
       "<p>3632 rows × 5 columns</p>\n",
       "</div>"
      ],
      "text/plain": [
       "                                     Target ID    MJD  OBSVHELIO (km/s)  \\\n",
       "841   apo25m.5226.150-08-RV.2M03294546+4531510  58054          999999.0   \n",
       "1566  apo25m.5226.150-08-RV.2M03320675+4519114  58114          999999.0   \n",
       "1557  apo25m.5226.150-08-RV.2M03320675+4519114  57788          999999.0   \n",
       "2129  apo25m.5226.150-08-RV.2M03340241+4638066  57732          999999.0   \n",
       "2128  apo25m.5226.150-08-RV.2M03340241+4638066  57706          999999.0   \n",
       "...                                        ...    ...               ...   \n",
       "1053  apo25m.5226.150-08-RV.2M03302697+4703478  58087               0.0   \n",
       "1052  apo25m.5226.150-08-RV.2M03302697+4703478  58085               0.0   \n",
       "1051  apo25m.5226.150-08-RV.2M03302697+4703478  58068               0.0   \n",
       "1049  apo25m.5226.150-08-RV.2M03302697+4703478  58054               0.0   \n",
       "1050  apo25m.5226.150-08-RV.2M03302697+4703478  58063               0.0   \n",
       "\n",
       "             Avg RV            ΔRV  \n",
       "841    62470.779686 -937528.220314  \n",
       "1566  125012.080229 -874986.919771  \n",
       "1557  125012.080229 -874986.919771  \n",
       "2129  187490.120951 -812508.879049  \n",
       "2128  187490.120951 -812508.879049  \n",
       "...             ...            ...  \n",
       "1053  250004.225714  250004.225714  \n",
       "1052  250004.225714  250004.225714  \n",
       "1051  250004.225714  250004.225714  \n",
       "1049  250004.225714  250004.225714  \n",
       "1050  250004.225714  250004.225714  \n",
       "\n",
       "[3632 rows x 5 columns]"
      ]
     },
     "execution_count": 19,
     "metadata": {},
     "output_type": "execute_result"
    }
   ],
   "source": [
    "# Check ΔRV values\n",
    "\n",
    "df.sort_values(['ΔRV'], ascending=True)"
   ]
  },
  {
   "cell_type": "code",
   "execution_count": 20,
   "metadata": {},
   "outputs": [
    {
     "data": {
      "text/html": [
       "<div>\n",
       "<style scoped>\n",
       "    .dataframe tbody tr th:only-of-type {\n",
       "        vertical-align: middle;\n",
       "    }\n",
       "\n",
       "    .dataframe tbody tr th {\n",
       "        vertical-align: top;\n",
       "    }\n",
       "\n",
       "    .dataframe thead th {\n",
       "        text-align: right;\n",
       "    }\n",
       "</style>\n",
       "<table border=\"1\" class=\"dataframe\">\n",
       "  <thead>\n",
       "    <tr style=\"text-align: right;\">\n",
       "      <th></th>\n",
       "      <th>Target ID</th>\n",
       "      <th>MJD</th>\n",
       "      <th>OBSVHELIO (km/s)</th>\n",
       "      <th>Avg RV</th>\n",
       "      <th>ΔRV</th>\n",
       "    </tr>\n",
       "  </thead>\n",
       "  <tbody>\n",
       "    <tr>\n",
       "      <th>841</th>\n",
       "      <td>apo25m.5226.150-08-RV.2M03294546+4531510</td>\n",
       "      <td>58054</td>\n",
       "      <td>999999.000000</td>\n",
       "      <td>62470.779686</td>\n",
       "      <td>-937528.220314</td>\n",
       "    </tr>\n",
       "    <tr>\n",
       "      <th>846</th>\n",
       "      <td>apo25m.5226.150-08-RV.2M03294546+4531510</td>\n",
       "      <td>58114</td>\n",
       "      <td>-34.726265</td>\n",
       "      <td>62470.779686</td>\n",
       "      <td>62436.053421</td>\n",
       "    </tr>\n",
       "    <tr>\n",
       "      <th>845</th>\n",
       "      <td>apo25m.5226.150-08-RV.2M03294546+4531510</td>\n",
       "      <td>58087</td>\n",
       "      <td>-49.396343</td>\n",
       "      <td>62470.779686</td>\n",
       "      <td>62421.383343</td>\n",
       "    </tr>\n",
       "    <tr>\n",
       "      <th>844</th>\n",
       "      <td>apo25m.5226.150-08-RV.2M03294546+4531510</td>\n",
       "      <td>58085</td>\n",
       "      <td>-33.324802</td>\n",
       "      <td>62470.779686</td>\n",
       "      <td>62437.454884</td>\n",
       "    </tr>\n",
       "    <tr>\n",
       "      <th>843</th>\n",
       "      <td>apo25m.5226.150-08-RV.2M03294546+4531510</td>\n",
       "      <td>58068</td>\n",
       "      <td>-4.026879</td>\n",
       "      <td>62470.779686</td>\n",
       "      <td>62466.752807</td>\n",
       "    </tr>\n",
       "    <tr>\n",
       "      <th>...</th>\n",
       "      <td>...</td>\n",
       "      <td>...</td>\n",
       "      <td>...</td>\n",
       "      <td>...</td>\n",
       "      <td>...</td>\n",
       "    </tr>\n",
       "    <tr>\n",
       "      <th>2130</th>\n",
       "      <td>apo25m.5226.150-08-RV.2M03340241+4638066</td>\n",
       "      <td>57734</td>\n",
       "      <td>999999.000000</td>\n",
       "      <td>187490.120951</td>\n",
       "      <td>-812508.879049</td>\n",
       "    </tr>\n",
       "    <tr>\n",
       "      <th>2135</th>\n",
       "      <td>apo25m.5226.150-08-RV.2M03340241+4638066</td>\n",
       "      <td>58006</td>\n",
       "      <td>-12.611349</td>\n",
       "      <td>187490.120951</td>\n",
       "      <td>187477.509602</td>\n",
       "    </tr>\n",
       "    <tr>\n",
       "      <th>2132</th>\n",
       "      <td>apo25m.5226.150-08-RV.2M03340241+4638066</td>\n",
       "      <td>57760</td>\n",
       "      <td>-9.671673</td>\n",
       "      <td>187490.120951</td>\n",
       "      <td>187480.449278</td>\n",
       "    </tr>\n",
       "    <tr>\n",
       "      <th>2133</th>\n",
       "      <td>apo25m.5226.150-08-RV.2M03340241+4638066</td>\n",
       "      <td>57788</td>\n",
       "      <td>-10.598166</td>\n",
       "      <td>187490.120951</td>\n",
       "      <td>187479.522785</td>\n",
       "    </tr>\n",
       "    <tr>\n",
       "      <th>2131</th>\n",
       "      <td>apo25m.5226.150-08-RV.2M03340241+4638066</td>\n",
       "      <td>57735</td>\n",
       "      <td>-9.062152</td>\n",
       "      <td>187490.120951</td>\n",
       "      <td>187481.058799</td>\n",
       "    </tr>\n",
       "  </tbody>\n",
       "</table>\n",
       "<p>64 rows × 5 columns</p>\n",
       "</div>"
      ],
      "text/plain": [
       "                                     Target ID    MJD  OBSVHELIO (km/s)  \\\n",
       "841   apo25m.5226.150-08-RV.2M03294546+4531510  58054     999999.000000   \n",
       "846   apo25m.5226.150-08-RV.2M03294546+4531510  58114        -34.726265   \n",
       "845   apo25m.5226.150-08-RV.2M03294546+4531510  58087        -49.396343   \n",
       "844   apo25m.5226.150-08-RV.2M03294546+4531510  58085        -33.324802   \n",
       "843   apo25m.5226.150-08-RV.2M03294546+4531510  58068         -4.026879   \n",
       "...                                        ...    ...               ...   \n",
       "2130  apo25m.5226.150-08-RV.2M03340241+4638066  57734     999999.000000   \n",
       "2135  apo25m.5226.150-08-RV.2M03340241+4638066  58006        -12.611349   \n",
       "2132  apo25m.5226.150-08-RV.2M03340241+4638066  57760         -9.671673   \n",
       "2133  apo25m.5226.150-08-RV.2M03340241+4638066  57788        -10.598166   \n",
       "2131  apo25m.5226.150-08-RV.2M03340241+4638066  57735         -9.062152   \n",
       "\n",
       "             Avg RV            ΔRV  \n",
       "841    62470.779686 -937528.220314  \n",
       "846    62470.779686   62436.053421  \n",
       "845    62470.779686   62421.383343  \n",
       "844    62470.779686   62437.454884  \n",
       "843    62470.779686   62466.752807  \n",
       "...             ...            ...  \n",
       "2130  187490.120951 -812508.879049  \n",
       "2135  187490.120951  187477.509602  \n",
       "2132  187490.120951  187480.449278  \n",
       "2133  187490.120951  187479.522785  \n",
       "2131  187490.120951  187481.058799  \n",
       "\n",
       "[64 rows x 5 columns]"
      ]
     },
     "execution_count": 20,
     "metadata": {},
     "output_type": "execute_result"
    }
   ],
   "source": [
    "# Show bad values\n",
    "\n",
    "df[df['Avg RV'] > 100]"
   ]
  },
  {
   "cell_type": "code",
   "execution_count": 21,
   "metadata": {
    "scrolled": true
   },
   "outputs": [
    {
     "data": {
      "text/html": [
       "<div>\n",
       "<style scoped>\n",
       "    .dataframe tbody tr th:only-of-type {\n",
       "        vertical-align: middle;\n",
       "    }\n",
       "\n",
       "    .dataframe tbody tr th {\n",
       "        vertical-align: top;\n",
       "    }\n",
       "\n",
       "    .dataframe thead th {\n",
       "        text-align: right;\n",
       "    }\n",
       "</style>\n",
       "<table border=\"1\" class=\"dataframe\">\n",
       "  <thead>\n",
       "    <tr style=\"text-align: right;\">\n",
       "      <th></th>\n",
       "      <th>Target ID</th>\n",
       "      <th>MJD</th>\n",
       "      <th>OBSVHELIO (km/s)</th>\n",
       "      <th>Avg RV</th>\n",
       "      <th>ΔRV</th>\n",
       "    </tr>\n",
       "  </thead>\n",
       "  <tbody>\n",
       "    <tr>\n",
       "      <th>1143</th>\n",
       "      <td>apo25m.5226.150-08-RV.2M03303764+4658476</td>\n",
       "      <td>58006</td>\n",
       "      <td>69.291336</td>\n",
       "      <td>69.298957</td>\n",
       "      <td>0.007621</td>\n",
       "    </tr>\n",
       "    <tr>\n",
       "      <th>1151</th>\n",
       "      <td>apo25m.5226.150-08-RV.2M03303764+4658476</td>\n",
       "      <td>58143</td>\n",
       "      <td>69.407870</td>\n",
       "      <td>69.298957</td>\n",
       "      <td>-0.108913</td>\n",
       "    </tr>\n",
       "    <tr>\n",
       "      <th>1147</th>\n",
       "      <td>apo25m.5226.150-08-RV.2M03303764+4658476</td>\n",
       "      <td>58068</td>\n",
       "      <td>69.426580</td>\n",
       "      <td>69.298957</td>\n",
       "      <td>-0.127623</td>\n",
       "    </tr>\n",
       "    <tr>\n",
       "      <th>1146</th>\n",
       "      <td>apo25m.5226.150-08-RV.2M03303764+4658476</td>\n",
       "      <td>58063</td>\n",
       "      <td>69.468094</td>\n",
       "      <td>69.298957</td>\n",
       "      <td>-0.169137</td>\n",
       "    </tr>\n",
       "    <tr>\n",
       "      <th>1145</th>\n",
       "      <td>apo25m.5226.150-08-RV.2M03303764+4658476</td>\n",
       "      <td>58054</td>\n",
       "      <td>69.230255</td>\n",
       "      <td>69.298957</td>\n",
       "      <td>0.068702</td>\n",
       "    </tr>\n",
       "    <tr>\n",
       "      <th>...</th>\n",
       "      <td>...</td>\n",
       "      <td>...</td>\n",
       "      <td>...</td>\n",
       "      <td>...</td>\n",
       "      <td>...</td>\n",
       "    </tr>\n",
       "    <tr>\n",
       "      <th>395</th>\n",
       "      <td>apo25m.5226.150-08-RV.2M03281525+4636079</td>\n",
       "      <td>58068</td>\n",
       "      <td>-104.073670</td>\n",
       "      <td>-104.032626</td>\n",
       "      <td>-0.041044</td>\n",
       "    </tr>\n",
       "    <tr>\n",
       "      <th>396</th>\n",
       "      <td>apo25m.5226.150-08-RV.2M03281525+4636079</td>\n",
       "      <td>58085</td>\n",
       "      <td>-104.152390</td>\n",
       "      <td>-104.032626</td>\n",
       "      <td>-0.119764</td>\n",
       "    </tr>\n",
       "    <tr>\n",
       "      <th>397</th>\n",
       "      <td>apo25m.5226.150-08-RV.2M03281525+4636079</td>\n",
       "      <td>58087</td>\n",
       "      <td>-103.987430</td>\n",
       "      <td>-104.032626</td>\n",
       "      <td>0.045196</td>\n",
       "    </tr>\n",
       "    <tr>\n",
       "      <th>393</th>\n",
       "      <td>apo25m.5226.150-08-RV.2M03281525+4636079</td>\n",
       "      <td>58054</td>\n",
       "      <td>-103.938790</td>\n",
       "      <td>-104.032626</td>\n",
       "      <td>0.093836</td>\n",
       "    </tr>\n",
       "    <tr>\n",
       "      <th>391</th>\n",
       "      <td>apo25m.5226.150-08-RV.2M03281525+4636079</td>\n",
       "      <td>58006</td>\n",
       "      <td>-104.129020</td>\n",
       "      <td>-104.032626</td>\n",
       "      <td>-0.096394</td>\n",
       "    </tr>\n",
       "  </tbody>\n",
       "</table>\n",
       "<p>3568 rows × 5 columns</p>\n",
       "</div>"
      ],
      "text/plain": [
       "                                     Target ID    MJD  OBSVHELIO (km/s)  \\\n",
       "1143  apo25m.5226.150-08-RV.2M03303764+4658476  58006         69.291336   \n",
       "1151  apo25m.5226.150-08-RV.2M03303764+4658476  58143         69.407870   \n",
       "1147  apo25m.5226.150-08-RV.2M03303764+4658476  58068         69.426580   \n",
       "1146  apo25m.5226.150-08-RV.2M03303764+4658476  58063         69.468094   \n",
       "1145  apo25m.5226.150-08-RV.2M03303764+4658476  58054         69.230255   \n",
       "...                                        ...    ...               ...   \n",
       "395   apo25m.5226.150-08-RV.2M03281525+4636079  58068       -104.073670   \n",
       "396   apo25m.5226.150-08-RV.2M03281525+4636079  58085       -104.152390   \n",
       "397   apo25m.5226.150-08-RV.2M03281525+4636079  58087       -103.987430   \n",
       "393   apo25m.5226.150-08-RV.2M03281525+4636079  58054       -103.938790   \n",
       "391   apo25m.5226.150-08-RV.2M03281525+4636079  58006       -104.129020   \n",
       "\n",
       "          Avg RV       ΔRV  \n",
       "1143   69.298957  0.007621  \n",
       "1151   69.298957 -0.108913  \n",
       "1147   69.298957 -0.127623  \n",
       "1146   69.298957 -0.169137  \n",
       "1145   69.298957  0.068702  \n",
       "...          ...       ...  \n",
       "395  -104.032626 -0.041044  \n",
       "396  -104.032626 -0.119764  \n",
       "397  -104.032626  0.045196  \n",
       "393  -104.032626  0.093836  \n",
       "391  -104.032626 -0.096394  \n",
       "\n",
       "[3568 rows x 5 columns]"
      ]
     },
     "execution_count": 21,
     "metadata": {},
     "output_type": "execute_result"
    }
   ],
   "source": [
    "# Drop bad values\n",
    "\n",
    "df_cutoff = df[df['Avg RV'] < 100]\n",
    "df_cutoff.sort_values(['Avg RV'], ascending=False)"
   ]
  },
  {
   "cell_type": "code",
   "execution_count": 22,
   "metadata": {
    "scrolled": true
   },
   "outputs": [
    {
     "data": {
      "text/plain": [
       "<AxesSubplot:xlabel='MJD', ylabel='ΔRV'>"
      ]
     },
     "execution_count": 22,
     "metadata": {},
     "output_type": "execute_result"
    },
    {
     "data": {
      "image/png": "[encoded data removed]",
      "text/plain": [
       "<Figure size 432x288 with 1 Axes>"
      ]
     },
     "metadata": {
      "needs_background": "light"
     },
     "output_type": "display_data"
    }
   ],
   "source": [
    "# New plot with only good values\n",
    "\n",
    "df_cutoff.plot(x = 'MJD', y = 'ΔRV', kind = 'scatter') #, figsize=(15, 15))"
   ]
  },
  {
   "cell_type": "code",
   "execution_count": 23,
   "metadata": {},
   "outputs": [],
   "source": [
    "df_cutoff1 = df_cutoff.loc[(df_cutoff['ΔRV'] < 0.5) & (df_cutoff['ΔRV'] > -0.5)]"
   ]
  },
  {
   "cell_type": "code",
   "execution_count": 24,
   "metadata": {},
   "outputs": [
    {
     "data": {
      "text/plain": [
       "<AxesSubplot:xlabel='MJD', ylabel='ΔRV'>"
      ]
     },
     "execution_count": 24,
     "metadata": {},
     "output_type": "execute_result"
    },
    {
     "data": {
      "image/png": "[encoded data removed]",
      "text/plain": [
       "<Figure size 1080x1080 with 1 Axes>"
      ]
     },
     "metadata": {
      "needs_background": "light"
     },
     "output_type": "display_data"
    }
   ],
   "source": [
    "df_cutoff1.plot(x='MJD', y='ΔRV', kind='scatter', figsize=(15,15))"
   ]
  },
  {
   "cell_type": "code",
   "execution_count": 25,
   "metadata": {
    "scrolled": true
   },
   "outputs": [
    {
     "data": {
      "image/png": "[encoded data removed]",
      "text/plain": [
       "<Figure size 432x288 with 1 Axes>"
      ]
     },
     "metadata": {
      "needs_background": "light"
     },
     "output_type": "display_data"
    },
    {
     "data": {
      "image/png": "[encoded data removed]",
      "text/plain": [
       "<Figure size 432x288 with 1 Axes>"
      ]
     },
     "metadata": {
      "needs_background": "light"
     },
     "output_type": "display_data"
    }
   ],
   "source": [
    "# Plots of avg RVs and all RVs\n",
    "\n",
    "rv_avg_plot = df_cutoff.plot(x = 'MJD', y = 'Avg RV', kind = 'scatter')\n",
    "rv_all_plot = df_cutoff.plot(x = 'MJD', y = 'OBSVHELIO (km/s)', kind = 'scatter')"
   ]
  },
  {
   "cell_type": "code",
   "execution_count": 26,
   "metadata": {},
   "outputs": [],
   "source": [
    "df_test = df[df['Target ID'] == 'apo25m.5226.150-08-RV.2M03252400+4614203']"
   ]
  },
  {
   "cell_type": "code",
   "execution_count": 27,
   "metadata": {
    "scrolled": true
   },
   "outputs": [
    {
     "data": {
      "text/html": [
       "<div>\n",
       "<style scoped>\n",
       "    .dataframe tbody tr th:only-of-type {\n",
       "        vertical-align: middle;\n",
       "    }\n",
       "\n",
       "    .dataframe tbody tr th {\n",
       "        vertical-align: top;\n",
       "    }\n",
       "\n",
       "    .dataframe thead th {\n",
       "        text-align: right;\n",
       "    }\n",
       "</style>\n",
       "<table border=\"1\" class=\"dataframe\">\n",
       "  <thead>\n",
       "    <tr style=\"text-align: right;\">\n",
       "      <th></th>\n",
       "      <th>Target ID</th>\n",
       "      <th>MJD</th>\n",
       "      <th>OBSVHELIO (km/s)</th>\n",
       "      <th>Avg RV</th>\n",
       "      <th>ΔRV</th>\n",
       "    </tr>\n",
       "  </thead>\n",
       "  <tbody>\n",
       "    <tr>\n",
       "      <th>0</th>\n",
       "      <td>apo25m.5226.150-08-RV.2M03252400+4614203</td>\n",
       "      <td>57706</td>\n",
       "      <td>-86.565704</td>\n",
       "      <td>-86.460343</td>\n",
       "      <td>-0.105361</td>\n",
       "    </tr>\n",
       "    <tr>\n",
       "      <th>15</th>\n",
       "      <td>apo25m.5226.150-08-RV.2M03252400+4614203</td>\n",
       "      <td>58143</td>\n",
       "      <td>-86.096080</td>\n",
       "      <td>-86.460343</td>\n",
       "      <td>0.364263</td>\n",
       "    </tr>\n",
       "    <tr>\n",
       "      <th>14</th>\n",
       "      <td>apo25m.5226.150-08-RV.2M03252400+4614203</td>\n",
       "      <td>58114</td>\n",
       "      <td>-86.530830</td>\n",
       "      <td>-86.460343</td>\n",
       "      <td>-0.070487</td>\n",
       "    </tr>\n",
       "    <tr>\n",
       "      <th>13</th>\n",
       "      <td>apo25m.5226.150-08-RV.2M03252400+4614203</td>\n",
       "      <td>58087</td>\n",
       "      <td>-86.532440</td>\n",
       "      <td>-86.460343</td>\n",
       "      <td>-0.072097</td>\n",
       "    </tr>\n",
       "    <tr>\n",
       "      <th>12</th>\n",
       "      <td>apo25m.5226.150-08-RV.2M03252400+4614203</td>\n",
       "      <td>58085</td>\n",
       "      <td>-86.569565</td>\n",
       "      <td>-86.460343</td>\n",
       "      <td>-0.109222</td>\n",
       "    </tr>\n",
       "    <tr>\n",
       "      <th>10</th>\n",
       "      <td>apo25m.5226.150-08-RV.2M03252400+4614203</td>\n",
       "      <td>58063</td>\n",
       "      <td>-86.519880</td>\n",
       "      <td>-86.460343</td>\n",
       "      <td>-0.059537</td>\n",
       "    </tr>\n",
       "    <tr>\n",
       "      <th>9</th>\n",
       "      <td>apo25m.5226.150-08-RV.2M03252400+4614203</td>\n",
       "      <td>58054</td>\n",
       "      <td>-86.564070</td>\n",
       "      <td>-86.460343</td>\n",
       "      <td>-0.103727</td>\n",
       "    </tr>\n",
       "    <tr>\n",
       "      <th>8</th>\n",
       "      <td>apo25m.5226.150-08-RV.2M03252400+4614203</td>\n",
       "      <td>58032</td>\n",
       "      <td>-86.379560</td>\n",
       "      <td>-86.460343</td>\n",
       "      <td>0.080783</td>\n",
       "    </tr>\n",
       "    <tr>\n",
       "      <th>11</th>\n",
       "      <td>apo25m.5226.150-08-RV.2M03252400+4614203</td>\n",
       "      <td>58068</td>\n",
       "      <td>-86.524210</td>\n",
       "      <td>-86.460343</td>\n",
       "      <td>-0.063867</td>\n",
       "    </tr>\n",
       "    <tr>\n",
       "      <th>6</th>\n",
       "      <td>apo25m.5226.150-08-RV.2M03252400+4614203</td>\n",
       "      <td>57789</td>\n",
       "      <td>-86.457430</td>\n",
       "      <td>-86.460343</td>\n",
       "      <td>0.002913</td>\n",
       "    </tr>\n",
       "    <tr>\n",
       "      <th>5</th>\n",
       "      <td>apo25m.5226.150-08-RV.2M03252400+4614203</td>\n",
       "      <td>57788</td>\n",
       "      <td>-86.563065</td>\n",
       "      <td>-86.460343</td>\n",
       "      <td>-0.102722</td>\n",
       "    </tr>\n",
       "    <tr>\n",
       "      <th>4</th>\n",
       "      <td>apo25m.5226.150-08-RV.2M03252400+4614203</td>\n",
       "      <td>57760</td>\n",
       "      <td>-86.366640</td>\n",
       "      <td>-86.460343</td>\n",
       "      <td>0.093703</td>\n",
       "    </tr>\n",
       "    <tr>\n",
       "      <th>3</th>\n",
       "      <td>apo25m.5226.150-08-RV.2M03252400+4614203</td>\n",
       "      <td>57735</td>\n",
       "      <td>-86.532840</td>\n",
       "      <td>-86.460343</td>\n",
       "      <td>-0.072497</td>\n",
       "    </tr>\n",
       "    <tr>\n",
       "      <th>2</th>\n",
       "      <td>apo25m.5226.150-08-RV.2M03252400+4614203</td>\n",
       "      <td>57734</td>\n",
       "      <td>-86.386870</td>\n",
       "      <td>-86.460343</td>\n",
       "      <td>0.073473</td>\n",
       "    </tr>\n",
       "    <tr>\n",
       "      <th>1</th>\n",
       "      <td>apo25m.5226.150-08-RV.2M03252400+4614203</td>\n",
       "      <td>57732</td>\n",
       "      <td>-86.383430</td>\n",
       "      <td>-86.460343</td>\n",
       "      <td>0.076913</td>\n",
       "    </tr>\n",
       "    <tr>\n",
       "      <th>7</th>\n",
       "      <td>apo25m.5226.150-08-RV.2M03252400+4614203</td>\n",
       "      <td>58006</td>\n",
       "      <td>-86.392876</td>\n",
       "      <td>-86.460343</td>\n",
       "      <td>0.067467</td>\n",
       "    </tr>\n",
       "  </tbody>\n",
       "</table>\n",
       "</div>"
      ],
      "text/plain": [
       "                                   Target ID    MJD  OBSVHELIO (km/s)  \\\n",
       "0   apo25m.5226.150-08-RV.2M03252400+4614203  57706        -86.565704   \n",
       "15  apo25m.5226.150-08-RV.2M03252400+4614203  58143        -86.096080   \n",
       "14  apo25m.5226.150-08-RV.2M03252400+4614203  58114        -86.530830   \n",
       "13  apo25m.5226.150-08-RV.2M03252400+4614203  58087        -86.532440   \n",
       "12  apo25m.5226.150-08-RV.2M03252400+4614203  58085        -86.569565   \n",
       "10  apo25m.5226.150-08-RV.2M03252400+4614203  58063        -86.519880   \n",
       "9   apo25m.5226.150-08-RV.2M03252400+4614203  58054        -86.564070   \n",
       "8   apo25m.5226.150-08-RV.2M03252400+4614203  58032        -86.379560   \n",
       "11  apo25m.5226.150-08-RV.2M03252400+4614203  58068        -86.524210   \n",
       "6   apo25m.5226.150-08-RV.2M03252400+4614203  57789        -86.457430   \n",
       "5   apo25m.5226.150-08-RV.2M03252400+4614203  57788        -86.563065   \n",
       "4   apo25m.5226.150-08-RV.2M03252400+4614203  57760        -86.366640   \n",
       "3   apo25m.5226.150-08-RV.2M03252400+4614203  57735        -86.532840   \n",
       "2   apo25m.5226.150-08-RV.2M03252400+4614203  57734        -86.386870   \n",
       "1   apo25m.5226.150-08-RV.2M03252400+4614203  57732        -86.383430   \n",
       "7   apo25m.5226.150-08-RV.2M03252400+4614203  58006        -86.392876   \n",
       "\n",
       "       Avg RV       ΔRV  \n",
       "0  -86.460343 -0.105361  \n",
       "15 -86.460343  0.364263  \n",
       "14 -86.460343 -0.070487  \n",
       "13 -86.460343 -0.072097  \n",
       "12 -86.460343 -0.109222  \n",
       "10 -86.460343 -0.059537  \n",
       "9  -86.460343 -0.103727  \n",
       "8  -86.460343  0.080783  \n",
       "11 -86.460343 -0.063867  \n",
       "6  -86.460343  0.002913  \n",
       "5  -86.460343 -0.102722  \n",
       "4  -86.460343  0.093703  \n",
       "3  -86.460343 -0.072497  \n",
       "2  -86.460343  0.073473  \n",
       "1  -86.460343  0.076913  \n",
       "7  -86.460343  0.067467  "
      ]
     },
     "execution_count": 27,
     "metadata": {},
     "output_type": "execute_result"
    }
   ],
   "source": [
    "df_test"
   ]
  },
  {
   "cell_type": "code",
   "execution_count": 28,
   "metadata": {
    "scrolled": true
   },
   "outputs": [
    {
     "data": {
      "text/plain": [
       "<AxesSubplot:xlabel='MJD', ylabel='ΔRV'>"
      ]
     },
     "execution_count": 28,
     "metadata": {},
     "output_type": "execute_result"
    },
    {
     "data": {
      "image/png": "[encoded data removed]",
      "text/plain": [
       "<Figure size 432x288 with 1 Axes>"
      ]
     },
     "metadata": {
      "needs_background": "light"
     },
     "output_type": "display_data"
    }
   ],
   "source": [
    "df_test.plot(x = 'MJD', y = 'ΔRV', kind = 'scatter')"
   ]
  },
  {
   "cell_type": "markdown",
   "metadata": {},
   "source": [
    "### Try PCA"
   ]
  },
  {
   "cell_type": "code",
   "execution_count": 29,
   "metadata": {},
   "outputs": [],
   "source": [
    "features = ['MJD', 'ΔRV']"
   ]
  },
  {
   "cell_type": "code",
   "execution_count": 30,
   "metadata": {},
   "outputs": [],
   "source": [
    "x2 = df.loc[:, features].values"
   ]
  },
  {
   "cell_type": "code",
   "execution_count": 31,
   "metadata": {},
   "outputs": [],
   "source": [
    "y2 = df.loc[:, ['Target ID']].values"
   ]
  },
  {
   "cell_type": "code",
   "execution_count": 32,
   "metadata": {},
   "outputs": [],
   "source": [
    "x2 = StandardScaler().fit_transform(x2)"
   ]
  },
  {
   "cell_type": "code",
   "execution_count": 33,
   "metadata": {},
   "outputs": [
    {
     "data": {
      "text/plain": [
       "(3632, 2)"
      ]
     },
     "execution_count": 33,
     "metadata": {},
     "output_type": "execute_result"
    }
   ],
   "source": [
    "x2.shape"
   ]
  },
  {
   "cell_type": "code",
   "execution_count": 34,
   "metadata": {},
   "outputs": [
    {
     "data": {
      "text/plain": [
       "(1.5883323015861432e-18, 1.0)"
      ]
     },
     "execution_count": 34,
     "metadata": {},
     "output_type": "execute_result"
    }
   ],
   "source": [
    "# Check standard dev is 1.0\n",
    "\n",
    "np.mean(x2), np.std(x2)"
   ]
  },
  {
   "cell_type": "code",
   "execution_count": 35,
   "metadata": {},
   "outputs": [],
   "source": [
    "feat_cols = ['feature'+str(i) for i in range(x2.shape[1])]"
   ]
  },
  {
   "cell_type": "code",
   "execution_count": 36,
   "metadata": {},
   "outputs": [],
   "source": [
    "normalised_data = pd.DataFrame(x2,columns=feat_cols)"
   ]
  },
  {
   "cell_type": "code",
   "execution_count": 37,
   "metadata": {},
   "outputs": [
    {
     "data": {
      "text/html": [
       "<div>\n",
       "<style scoped>\n",
       "    .dataframe tbody tr th:only-of-type {\n",
       "        vertical-align: middle;\n",
       "    }\n",
       "\n",
       "    .dataframe tbody tr th {\n",
       "        vertical-align: top;\n",
       "    }\n",
       "\n",
       "    .dataframe thead th {\n",
       "        text-align: right;\n",
       "    }\n",
       "</style>\n",
       "<table border=\"1\" class=\"dataframe\">\n",
       "  <thead>\n",
       "    <tr style=\"text-align: right;\">\n",
       "      <th></th>\n",
       "      <th>feature0</th>\n",
       "      <th>feature1</th>\n",
       "    </tr>\n",
       "  </thead>\n",
       "  <tbody>\n",
       "    <tr>\n",
       "      <th>3627</th>\n",
       "      <td>-1.212567</td>\n",
       "      <td>0.000014</td>\n",
       "    </tr>\n",
       "    <tr>\n",
       "      <th>3628</th>\n",
       "      <td>-1.370993</td>\n",
       "      <td>0.000009</td>\n",
       "    </tr>\n",
       "    <tr>\n",
       "      <th>3629</th>\n",
       "      <td>1.115074</td>\n",
       "      <td>0.000012</td>\n",
       "    </tr>\n",
       "    <tr>\n",
       "      <th>3630</th>\n",
       "      <td>-0.865249</td>\n",
       "      <td>0.000013</td>\n",
       "    </tr>\n",
       "    <tr>\n",
       "      <th>3631</th>\n",
       "      <td>1.291780</td>\n",
       "      <td>0.000016</td>\n",
       "    </tr>\n",
       "  </tbody>\n",
       "</table>\n",
       "</div>"
      ],
      "text/plain": [
       "      feature0  feature1\n",
       "3627 -1.212567  0.000014\n",
       "3628 -1.370993  0.000009\n",
       "3629  1.115074  0.000012\n",
       "3630 -0.865249  0.000013\n",
       "3631  1.291780  0.000016"
      ]
     },
     "execution_count": 37,
     "metadata": {},
     "output_type": "execute_result"
    }
   ],
   "source": [
    "normalised_data.tail()"
   ]
  },
  {
   "cell_type": "code",
   "execution_count": 38,
   "metadata": {},
   "outputs": [],
   "source": [
    "pca = PCA(n_components = 2)"
   ]
  },
  {
   "cell_type": "code",
   "execution_count": 39,
   "metadata": {},
   "outputs": [],
   "source": [
    "principalComponents = pca.fit_transform(x2)"
   ]
  },
  {
   "cell_type": "code",
   "execution_count": 40,
   "metadata": {},
   "outputs": [],
   "source": [
    "principalDf = pd.DataFrame(data = principalComponents, \n",
    "                           columns = ['principal component 1', 'principal component 2'])"
   ]
  },
  {
   "cell_type": "code",
   "execution_count": 41,
   "metadata": {
    "scrolled": true
   },
   "outputs": [
    {
     "data": {
      "text/html": [
       "<div>\n",
       "<style scoped>\n",
       "    .dataframe tbody tr th:only-of-type {\n",
       "        vertical-align: middle;\n",
       "    }\n",
       "\n",
       "    .dataframe tbody tr th {\n",
       "        vertical-align: top;\n",
       "    }\n",
       "\n",
       "    .dataframe thead th {\n",
       "        text-align: right;\n",
       "    }\n",
       "</style>\n",
       "<table border=\"1\" class=\"dataframe\">\n",
       "  <thead>\n",
       "    <tr style=\"text-align: right;\">\n",
       "      <th></th>\n",
       "      <th>principal component 1</th>\n",
       "      <th>principal component 2</th>\n",
       "    </tr>\n",
       "  </thead>\n",
       "  <tbody>\n",
       "    <tr>\n",
       "      <th>3627</th>\n",
       "      <td>0.857405</td>\n",
       "      <td>-0.857424</td>\n",
       "    </tr>\n",
       "    <tr>\n",
       "      <th>3628</th>\n",
       "      <td>0.969432</td>\n",
       "      <td>-0.969445</td>\n",
       "    </tr>\n",
       "    <tr>\n",
       "      <th>3629</th>\n",
       "      <td>-0.788485</td>\n",
       "      <td>0.788468</td>\n",
       "    </tr>\n",
       "    <tr>\n",
       "      <th>3630</th>\n",
       "      <td>0.611814</td>\n",
       "      <td>-0.611832</td>\n",
       "    </tr>\n",
       "    <tr>\n",
       "      <th>3631</th>\n",
       "      <td>-0.913437</td>\n",
       "      <td>0.913415</td>\n",
       "    </tr>\n",
       "  </tbody>\n",
       "</table>\n",
       "</div>"
      ],
      "text/plain": [
       "      principal component 1  principal component 2\n",
       "3627               0.857405              -0.857424\n",
       "3628               0.969432              -0.969445\n",
       "3629              -0.788485               0.788468\n",
       "3630               0.611814              -0.611832\n",
       "3631              -0.913437               0.913415"
      ]
     },
     "execution_count": 41,
     "metadata": {},
     "output_type": "execute_result"
    }
   ],
   "source": [
    "principalDf.tail()"
   ]
  },
  {
   "cell_type": "code",
   "execution_count": 42,
   "metadata": {
    "scrolled": true
   },
   "outputs": [
    {
     "name": "stdout",
     "output_type": "stream",
     "text": [
      "Explained variation per principal component: [0.51636992 0.48363008]\n"
     ]
    }
   ],
   "source": [
    "print('Explained variation per principal component: {}'.format(pca.explained_variance_ratio_))"
   ]
  },
  {
   "cell_type": "code",
   "execution_count": 43,
   "metadata": {},
   "outputs": [
    {
     "data": {
      "text/plain": [
       "<Figure size 432x288 with 0 Axes>"
      ]
     },
     "metadata": {},
     "output_type": "display_data"
    },
    {
     "data": {
      "image/png": "[encoded data removed]",
      "text/plain": [
       "<Figure size 720x720 with 1 Axes>"
      ]
     },
     "metadata": {
      "needs_background": "light"
     },
     "output_type": "display_data"
    }
   ],
   "source": [
    "plt.figure()\n",
    "plt.figure(figsize=(10,10))\n",
    "# plt.xticks(fontsize=12)\n",
    "# plt.yticks(fontsize=14)\n",
    "plt.xlabel('Principal Component - 1',fontsize=20)\n",
    "plt.ylabel('Principal Component - 2',fontsize=20)\n",
    "plt.title(\"PCA of Dataset\",fontsize=20)\n",
    "targets = [df['Target ID']]\n",
    "colors = ['r', 'g']\n",
    "for target, color in zip(targets,colors):\n",
    "    indicesToKeep = df['Target ID'] == target\n",
    "    plt.scatter(principalDf.loc[indicesToKeep, 'principal component 1']\n",
    "               , principalDf.loc[indicesToKeep, 'principal component 2'], c = color, s = 50)\n",
    "\n",
    "# plt.legend(targets,prop={'size': 15})"
   ]
  },
  {
   "cell_type": "code",
   "execution_count": null,
   "metadata": {},
   "outputs": [],
   "source": []
  },
  {
   "cell_type": "code",
   "execution_count": 165,
   "metadata": {},
   "outputs": [],
   "source": [
    "finalDf = pd.concat([principalDf, df[['Target ID']]], axis = 1)"
   ]
  },
  {
   "cell_type": "code",
   "execution_count": 166,
   "metadata": {},
   "outputs": [
    {
     "data": {
      "text/html": [
       "<div>\n",
       "<style scoped>\n",
       "    .dataframe tbody tr th:only-of-type {\n",
       "        vertical-align: middle;\n",
       "    }\n",
       "\n",
       "    .dataframe tbody tr th {\n",
       "        vertical-align: top;\n",
       "    }\n",
       "\n",
       "    .dataframe thead th {\n",
       "        text-align: right;\n",
       "    }\n",
       "</style>\n",
       "<table border=\"1\" class=\"dataframe\">\n",
       "  <thead>\n",
       "    <tr style=\"text-align: right;\">\n",
       "      <th></th>\n",
       "      <th>principal component 1</th>\n",
       "      <th>principal component 2</th>\n",
       "      <th>Target ID</th>\n",
       "    </tr>\n",
       "  </thead>\n",
       "  <tbody>\n",
       "    <tr>\n",
       "      <th>0</th>\n",
       "      <td>-0.018731</td>\n",
       "      <td>-1.022855</td>\n",
       "      <td>apo25m.5226.150-08-RV.2M03252400+4614203</td>\n",
       "    </tr>\n",
       "    <tr>\n",
       "      <th>1</th>\n",
       "      <td>-0.025336</td>\n",
       "      <td>-0.914397</td>\n",
       "      <td>apo25m.5226.150-08-RV.2M03252400+4614203</td>\n",
       "    </tr>\n",
       "    <tr>\n",
       "      <th>2</th>\n",
       "      <td>-0.025844</td>\n",
       "      <td>-0.906054</td>\n",
       "      <td>apo25m.5226.150-08-RV.2M03252400+4614203</td>\n",
       "    </tr>\n",
       "    <tr>\n",
       "      <th>3</th>\n",
       "      <td>-0.026098</td>\n",
       "      <td>-0.901884</td>\n",
       "      <td>apo25m.5226.150-08-RV.2M03252400+4614203</td>\n",
       "    </tr>\n",
       "    <tr>\n",
       "      <th>4</th>\n",
       "      <td>-0.032449</td>\n",
       "      <td>-0.797598</td>\n",
       "      <td>apo25m.5226.150-08-RV.2M03252400+4614203</td>\n",
       "    </tr>\n",
       "    <tr>\n",
       "      <th>...</th>\n",
       "      <td>...</td>\n",
       "      <td>...</td>\n",
       "      <td>...</td>\n",
       "    </tr>\n",
       "    <tr>\n",
       "      <th>3627</th>\n",
       "      <td>-0.109078</td>\n",
       "      <td>0.488988</td>\n",
       "      <td>apo25m.5226.150-08-RV.2M03415658+4626067</td>\n",
       "    </tr>\n",
       "    <tr>\n",
       "      <th>3628</th>\n",
       "      <td>-0.113397</td>\n",
       "      <td>0.559901</td>\n",
       "      <td>apo25m.5226.150-08-RV.2M03415658+4626067</td>\n",
       "    </tr>\n",
       "    <tr>\n",
       "      <th>3629</th>\n",
       "      <td>-0.113905</td>\n",
       "      <td>0.568244</td>\n",
       "      <td>apo25m.5226.150-08-RV.2M03415658+4626067</td>\n",
       "    </tr>\n",
       "    <tr>\n",
       "      <th>3630</th>\n",
       "      <td>-0.120764</td>\n",
       "      <td>0.680872</td>\n",
       "      <td>apo25m.5226.150-08-RV.2M03415658+4626067</td>\n",
       "    </tr>\n",
       "    <tr>\n",
       "      <th>3631</th>\n",
       "      <td>-0.128131</td>\n",
       "      <td>0.801843</td>\n",
       "      <td>apo25m.5226.150-08-RV.2M03415658+4626067</td>\n",
       "    </tr>\n",
       "  </tbody>\n",
       "</table>\n",
       "<p>3632 rows × 3 columns</p>\n",
       "</div>"
      ],
      "text/plain": [
       "      principal component 1  principal component 2  \\\n",
       "0                 -0.018731              -1.022855   \n",
       "1                 -0.025336              -0.914397   \n",
       "2                 -0.025844              -0.906054   \n",
       "3                 -0.026098              -0.901884   \n",
       "4                 -0.032449              -0.797598   \n",
       "...                     ...                    ...   \n",
       "3627              -0.109078               0.488988   \n",
       "3628              -0.113397               0.559901   \n",
       "3629              -0.113905               0.568244   \n",
       "3630              -0.120764               0.680872   \n",
       "3631              -0.128131               0.801843   \n",
       "\n",
       "                                     Target ID  \n",
       "0     apo25m.5226.150-08-RV.2M03252400+4614203  \n",
       "1     apo25m.5226.150-08-RV.2M03252400+4614203  \n",
       "2     apo25m.5226.150-08-RV.2M03252400+4614203  \n",
       "3     apo25m.5226.150-08-RV.2M03252400+4614203  \n",
       "4     apo25m.5226.150-08-RV.2M03252400+4614203  \n",
       "...                                        ...  \n",
       "3627  apo25m.5226.150-08-RV.2M03415658+4626067  \n",
       "3628  apo25m.5226.150-08-RV.2M03415658+4626067  \n",
       "3629  apo25m.5226.150-08-RV.2M03415658+4626067  \n",
       "3630  apo25m.5226.150-08-RV.2M03415658+4626067  \n",
       "3631  apo25m.5226.150-08-RV.2M03415658+4626067  \n",
       "\n",
       "[3632 rows x 3 columns]"
      ]
     },
     "execution_count": 166,
     "metadata": {},
     "output_type": "execute_result"
    }
   ],
   "source": [
    "finalDf"
   ]
  }
 ],
 "metadata": {
  "kernelspec": {
   "display_name": "Python 3",
   "language": "python",
   "name": "python3"
  },
  "language_info": {
   "codemirror_mode": {
    "name": "ipython",
    "version": 3
   },
   "file_extension": ".py",
   "mimetype": "text/x-python",
   "name": "python",
   "nbconvert_exporter": "python",
   "pygments_lexer": "ipython3",
   "version": "3.8.5"
  }
 },
 "nbformat": 4,
 "nbformat_minor": 4
}
