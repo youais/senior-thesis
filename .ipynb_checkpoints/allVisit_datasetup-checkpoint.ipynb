{
 "cells": [
  {
   "cell_type": "code",
   "execution_count": 1,
   "metadata": {},
   "outputs": [],
   "source": [
    "import numpy as np\n",
    "import pandas as pd\n",
    "from astropy.io import fits"
   ]
  },
  {
   "cell_type": "code",
   "execution_count": 2,
   "metadata": {},
   "outputs": [],
   "source": [
    "visit_hdus = fits.open('allVisit-r12-l33.fits')\n",
    "\n",
    "# print(visit_hdus.info())"
   ]
  },
  {
   "cell_type": "code",
   "execution_count": 3,
   "metadata": {},
   "outputs": [],
   "source": [
    "visit_header = visit_hdus[1].header\n",
    "visit_data = visit_hdus[1].data\n",
    "\n",
    "visit_hdus.close()\n",
    "\n",
    "# print(visit_header)"
   ]
  },
  {
   "cell_type": "code",
   "execution_count": 4,
   "metadata": {},
   "outputs": [],
   "source": [
    "all_targets = list(visit_data['TARGET_ID'])\n",
    "all_mjd = list(visit_data['MJD'])\n",
    "all_obsvhelio = list(visit_data['OBSVHELIO']) # Heliocentric relative RV from 'observed spectrum template matching'\n",
    "all_plates = list(visit_data['PLATE'])"
   ]
  },
  {
   "cell_type": "code",
   "execution_count": 5,
   "metadata": {},
   "outputs": [],
   "source": [
    "for i, s in enumerate(all_plates):\n",
    "    all_plates[i] = s.strip()\n",
    "    \n",
    "# print(all_plates[:7])"
   ]
  },
  {
   "cell_type": "code",
   "execution_count": 6,
   "metadata": {},
   "outputs": [],
   "source": [
    "all_data = [all_targets, all_plates, all_mjd, all_obsvhelio]\n",
    "\n",
    "df = pd.DataFrame(all_data).transpose()\n",
    "df.columns = ['Target ID', 'Plate ID', 'MJD', 'OBSVHELIO (km/s)']"
   ]
  },
  {
   "cell_type": "code",
   "execution_count": 7,
   "metadata": {},
   "outputs": [
    {
     "data": {
      "text/html": [
       "<div>\n",
       "<style scoped>\n",
       "    .dataframe tbody tr th:only-of-type {\n",
       "        vertical-align: middle;\n",
       "    }\n",
       "\n",
       "    .dataframe tbody tr th {\n",
       "        vertical-align: top;\n",
       "    }\n",
       "\n",
       "    .dataframe thead th {\n",
       "        text-align: right;\n",
       "    }\n",
       "</style>\n",
       "<table border=\"1\" class=\"dataframe\">\n",
       "  <thead>\n",
       "    <tr style=\"text-align: right;\">\n",
       "      <th></th>\n",
       "      <th>Target ID</th>\n",
       "      <th>Plate ID</th>\n",
       "      <th>MJD</th>\n",
       "      <th>OBSVHELIO (km/s)</th>\n",
       "    </tr>\n",
       "  </thead>\n",
       "  <tbody>\n",
       "    <tr>\n",
       "      <th>0</th>\n",
       "      <td>apo1m.1.Bestars.</td>\n",
       "      <td>Bestars</td>\n",
       "      <td>58017</td>\n",
       "      <td>-523.166</td>\n",
       "    </tr>\n",
       "    <tr>\n",
       "      <th>1</th>\n",
       "      <td>apo1m.1.Bestars.</td>\n",
       "      <td>Bestars</td>\n",
       "      <td>58022</td>\n",
       "      <td>-526.084</td>\n",
       "    </tr>\n",
       "    <tr>\n",
       "      <th>2</th>\n",
       "      <td>apo1m.1.calibration.VESTA</td>\n",
       "      <td>calibration</td>\n",
       "      <td>56398</td>\n",
       "      <td>25.5533</td>\n",
       "    </tr>\n",
       "    <tr>\n",
       "      <th>3</th>\n",
       "      <td>apo1m.1.calibration.VESTA</td>\n",
       "      <td>calibration</td>\n",
       "      <td>56778</td>\n",
       "      <td>10.5618</td>\n",
       "    </tr>\n",
       "    <tr>\n",
       "      <th>4</th>\n",
       "      <td>apo1m.1.calibration.</td>\n",
       "      <td>calibration</td>\n",
       "      <td>57743</td>\n",
       "      <td>-36.2044</td>\n",
       "    </tr>\n",
       "    <tr>\n",
       "      <th>5</th>\n",
       "      <td>apo25m.5046.120+12.2M00000002+7417074</td>\n",
       "      <td>7545</td>\n",
       "      <td>56933</td>\n",
       "      <td>-51.673</td>\n",
       "    </tr>\n",
       "    <tr>\n",
       "      <th>6</th>\n",
       "      <td>apo25m.5046.120+12.2M00000002+7417074</td>\n",
       "      <td>7545</td>\n",
       "      <td>56936</td>\n",
       "      <td>-51.6342</td>\n",
       "    </tr>\n",
       "    <tr>\n",
       "      <th>7</th>\n",
       "      <td>apo25m.5046.120+12.2M00000002+7417074</td>\n",
       "      <td>7545</td>\n",
       "      <td>56971</td>\n",
       "      <td>-51.8788</td>\n",
       "    </tr>\n",
       "    <tr>\n",
       "      <th>8</th>\n",
       "      <td>apo25m.5071.060-75.2M00000019-1924498</td>\n",
       "      <td>7917</td>\n",
       "      <td>57293</td>\n",
       "      <td>18.841</td>\n",
       "    </tr>\n",
       "    <tr>\n",
       "      <th>9</th>\n",
       "      <td>apo25m.5071.060-75.2M00000019-1924498</td>\n",
       "      <td>7917</td>\n",
       "      <td>58037</td>\n",
       "      <td>19.174</td>\n",
       "    </tr>\n",
       "  </tbody>\n",
       "</table>\n",
       "</div>"
      ],
      "text/plain": [
       "                               Target ID     Plate ID    MJD OBSVHELIO (km/s)\n",
       "0                       apo1m.1.Bestars.      Bestars  58017         -523.166\n",
       "1                       apo1m.1.Bestars.      Bestars  58022         -526.084\n",
       "2              apo1m.1.calibration.VESTA  calibration  56398          25.5533\n",
       "3              apo1m.1.calibration.VESTA  calibration  56778          10.5618\n",
       "4                   apo1m.1.calibration.  calibration  57743         -36.2044\n",
       "5  apo25m.5046.120+12.2M00000002+7417074         7545  56933          -51.673\n",
       "6  apo25m.5046.120+12.2M00000002+7417074         7545  56936         -51.6342\n",
       "7  apo25m.5046.120+12.2M00000002+7417074         7545  56971         -51.8788\n",
       "8  apo25m.5071.060-75.2M00000019-1924498         7917  57293           18.841\n",
       "9  apo25m.5071.060-75.2M00000019-1924498         7917  58037           19.174"
      ]
     },
     "execution_count": 7,
     "metadata": {},
     "output_type": "execute_result"
    }
   ],
   "source": [
    "df.head(10)"
   ]
  },
  {
   "cell_type": "code",
   "execution_count": 30,
   "metadata": {},
   "outputs": [],
   "source": [
    "# list(df['Target ID'].value_counts())"
   ]
  },
  {
   "cell_type": "code",
   "execution_count": 8,
   "metadata": {},
   "outputs": [],
   "source": [
    "from collections import Counter"
   ]
  },
  {
   "cell_type": "code",
   "execution_count": 9,
   "metadata": {},
   "outputs": [],
   "source": [
    "target_count = Counter(all_targets)"
   ]
  },
  {
   "cell_type": "code",
   "execution_count": 19,
   "metadata": {},
   "outputs": [],
   "source": [
    "filtered_targets = []\n",
    "filtered_targets_count = []"
   ]
  },
  {
   "cell_type": "code",
   "execution_count": 20,
   "metadata": {},
   "outputs": [],
   "source": [
    "for tc in target_count:\n",
    "    if target_count[tc] > 19:\n",
    "        filtered_targets.append(tc)\n",
    "        filtered_targets_count.append(target_count[tc])"
   ]
  },
  {
   "cell_type": "code",
   "execution_count": 28,
   "metadata": {},
   "outputs": [],
   "source": [
    "filtered_targets_data = [filtered_targets, filtered_targets_count]\n",
    "targets_df = pd.DataFrame(filtered_targets_data).transpose()\n",
    "targets_df.columns = ['Target ID', 'Visit Count']"
   ]
  },
  {
   "cell_type": "code",
   "execution_count": 29,
   "metadata": {},
   "outputs": [
    {
     "data": {
      "text/html": [
       "<div>\n",
       "<style scoped>\n",
       "    .dataframe tbody tr th:only-of-type {\n",
       "        vertical-align: middle;\n",
       "    }\n",
       "\n",
       "    .dataframe tbody tr th {\n",
       "        vertical-align: top;\n",
       "    }\n",
       "\n",
       "    .dataframe thead th {\n",
       "        text-align: right;\n",
       "    }\n",
       "</style>\n",
       "<table border=\"1\" class=\"dataframe\">\n",
       "  <thead>\n",
       "    <tr style=\"text-align: right;\">\n",
       "      <th></th>\n",
       "      <th>Target ID</th>\n",
       "      <th>Visit Count</th>\n",
       "    </tr>\n",
       "  </thead>\n",
       "  <tbody>\n",
       "    <tr>\n",
       "      <th>0</th>\n",
       "      <td>apo25m.4205.PAL1.2M03033027+7944165</td>\n",
       "      <td>32</td>\n",
       "    </tr>\n",
       "    <tr>\n",
       "      <th>1</th>\n",
       "      <td>apo25m.4205.PAL1.2M03060474+8013408</td>\n",
       "      <td>32</td>\n",
       "    </tr>\n",
       "    <tr>\n",
       "      <th>2</th>\n",
       "      <td>apo25m.4205.PAL1.2M03062146+7929484</td>\n",
       "      <td>32</td>\n",
       "    </tr>\n",
       "    <tr>\n",
       "      <th>3</th>\n",
       "      <td>apo25m.4205.PAL1.2M03062526+7950267</td>\n",
       "      <td>32</td>\n",
       "    </tr>\n",
       "    <tr>\n",
       "      <th>4</th>\n",
       "      <td>apo25m.4205.PAL1.2M03070369+7933134</td>\n",
       "      <td>32</td>\n",
       "    </tr>\n",
       "    <tr>\n",
       "      <th>...</th>\n",
       "      <td>...</td>\n",
       "      <td>...</td>\n",
       "    </tr>\n",
       "    <tr>\n",
       "      <th>9005</th>\n",
       "      <td>apo25m.4230.M15.2M21334126+1116576</td>\n",
       "      <td>37</td>\n",
       "    </tr>\n",
       "    <tr>\n",
       "      <th>9006</th>\n",
       "      <td>apo25m.4230.M15.2M21335234+1150104</td>\n",
       "      <td>33</td>\n",
       "    </tr>\n",
       "    <tr>\n",
       "      <th>9007</th>\n",
       "      <td>apo25m.4230.M15.2M21335519+1207530</td>\n",
       "      <td>33</td>\n",
       "    </tr>\n",
       "    <tr>\n",
       "      <th>9008</th>\n",
       "      <td>apo25m.4230.M15.2M21342115+1137063</td>\n",
       "      <td>37</td>\n",
       "    </tr>\n",
       "    <tr>\n",
       "      <th>9009</th>\n",
       "      <td>apo25m.4230.M15.2M21342357+1215247</td>\n",
       "      <td>37</td>\n",
       "    </tr>\n",
       "  </tbody>\n",
       "</table>\n",
       "<p>9010 rows × 2 columns</p>\n",
       "</div>"
      ],
      "text/plain": [
       "                                Target ID Visit Count\n",
       "0     apo25m.4205.PAL1.2M03033027+7944165          32\n",
       "1     apo25m.4205.PAL1.2M03060474+8013408          32\n",
       "2     apo25m.4205.PAL1.2M03062146+7929484          32\n",
       "3     apo25m.4205.PAL1.2M03062526+7950267          32\n",
       "4     apo25m.4205.PAL1.2M03070369+7933134          32\n",
       "...                                   ...         ...\n",
       "9005   apo25m.4230.M15.2M21334126+1116576          37\n",
       "9006   apo25m.4230.M15.2M21335234+1150104          33\n",
       "9007   apo25m.4230.M15.2M21335519+1207530          33\n",
       "9008   apo25m.4230.M15.2M21342115+1137063          37\n",
       "9009   apo25m.4230.M15.2M21342357+1215247          37\n",
       "\n",
       "[9010 rows x 2 columns]"
      ]
     },
     "execution_count": 29,
     "metadata": {},
     "output_type": "execute_result"
    }
   ],
   "source": [
    "targets_df"
   ]
  },
  {
   "cell_type": "code",
   "execution_count": 14,
   "metadata": {},
   "outputs": [],
   "source": []
  },
  {
   "cell_type": "code",
   "execution_count": 17,
   "metadata": {},
   "outputs": [
    {
     "data": {
      "text/plain": [
       "1546720"
      ]
     },
     "execution_count": 17,
     "metadata": {},
     "output_type": "execute_result"
    }
   ],
   "source": []
  },
  {
   "cell_type": "code",
   "execution_count": null,
   "metadata": {},
   "outputs": [],
   "source": []
  }
 ],
 "metadata": {
  "kernelspec": {
   "display_name": "Python 3",
   "language": "python",
   "name": "python3"
  },
  "language_info": {
   "codemirror_mode": {
    "name": "ipython",
    "version": 3
   },
   "file_extension": ".py",
   "mimetype": "text/x-python",
   "name": "python",
   "nbconvert_exporter": "python",
   "pygments_lexer": "ipython3",
   "version": "3.8.5"
  }
 },
 "nbformat": 4,
 "nbformat_minor": 4
}
