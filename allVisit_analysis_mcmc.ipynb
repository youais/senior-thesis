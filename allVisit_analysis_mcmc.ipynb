{
 "cells": [
  {
   "cell_type": "code",
   "execution_count": 30,
   "id": "9ed4085e",
   "metadata": {
    "scrolled": true
   },
   "outputs": [],
   "source": [
    "import numpy as np\n",
    "import pandas as pd\n",
    "import matplotlib.pyplot as plt\n",
    "import statistics as stat\n",
    "import time\n",
    "import scipy\n",
    "import scipy.stats\n",
    "import pymc3 as pm"
   ]
  },
  {
   "cell_type": "code",
   "execution_count": 31,
   "id": "ba60b47a",
   "metadata": {},
   "outputs": [],
   "source": [
    "# Read in CSV files\n",
    "df_all = pd.read_csv('all_RVs.csv').drop(['Unnamed: 0'], axis=1)"
   ]
  },
  {
   "cell_type": "code",
   "execution_count": 32,
   "id": "84461e13",
   "metadata": {},
   "outputs": [
    {
     "data": {
      "text/html": [
       "<div>\n",
       "<style scoped>\n",
       "    .dataframe tbody tr th:only-of-type {\n",
       "        vertical-align: middle;\n",
       "    }\n",
       "\n",
       "    .dataframe tbody tr th {\n",
       "        vertical-align: top;\n",
       "    }\n",
       "\n",
       "    .dataframe thead th {\n",
       "        text-align: right;\n",
       "    }\n",
       "</style>\n",
       "<table border=\"1\" class=\"dataframe\">\n",
       "  <thead>\n",
       "    <tr style=\"text-align: right;\">\n",
       "      <th></th>\n",
       "      <th>Target ID</th>\n",
       "      <th>Plate ID</th>\n",
       "      <th>MJD</th>\n",
       "      <th>OBSVHELIO (km/s)</th>\n",
       "      <th>OBSVREL Error (km/s)</th>\n",
       "      <th>&lt;RV&gt;</th>\n",
       "      <th>ΔRV</th>\n",
       "    </tr>\n",
       "  </thead>\n",
       "  <tbody>\n",
       "    <tr>\n",
       "      <th>0</th>\n",
       "      <td>apo1m.1.Bestars.</td>\n",
       "      <td>Bestars</td>\n",
       "      <td>58017</td>\n",
       "      <td>-523.166440</td>\n",
       "      <td>0.234950</td>\n",
       "      <td>-525.619404</td>\n",
       "      <td>2.452961</td>\n",
       "    </tr>\n",
       "    <tr>\n",
       "      <th>1</th>\n",
       "      <td>apo1m.1.Bestars.</td>\n",
       "      <td>Bestars</td>\n",
       "      <td>58022</td>\n",
       "      <td>-526.084350</td>\n",
       "      <td>0.102290</td>\n",
       "      <td>-525.619404</td>\n",
       "      <td>-0.464947</td>\n",
       "    </tr>\n",
       "    <tr>\n",
       "      <th>2</th>\n",
       "      <td>apo1m.1.calibration.VESTA</td>\n",
       "      <td>calibration</td>\n",
       "      <td>56398</td>\n",
       "      <td>25.553330</td>\n",
       "      <td>0.018306</td>\n",
       "      <td>14.014931</td>\n",
       "      <td>11.538398</td>\n",
       "    </tr>\n",
       "    <tr>\n",
       "      <th>3</th>\n",
       "      <td>apo1m.1.calibration.VESTA</td>\n",
       "      <td>calibration</td>\n",
       "      <td>56778</td>\n",
       "      <td>10.561789</td>\n",
       "      <td>0.010014</td>\n",
       "      <td>14.014931</td>\n",
       "      <td>-3.453142</td>\n",
       "    </tr>\n",
       "    <tr>\n",
       "      <th>4</th>\n",
       "      <td>apo1m.1.calibration.</td>\n",
       "      <td>calibration</td>\n",
       "      <td>57743</td>\n",
       "      <td>-36.204376</td>\n",
       "      <td>0.003971</td>\n",
       "      <td>-36.204376</td>\n",
       "      <td>0.000000</td>\n",
       "    </tr>\n",
       "    <tr>\n",
       "      <th>...</th>\n",
       "      <td>...</td>\n",
       "      <td>...</td>\n",
       "      <td>...</td>\n",
       "      <td>...</td>\n",
       "      <td>...</td>\n",
       "      <td>...</td>\n",
       "      <td>...</td>\n",
       "    </tr>\n",
       "    <tr>\n",
       "      <th>1730343</th>\n",
       "      <td>apo25m.4424.116-04.2M23595886+5726058</td>\n",
       "      <td>5583</td>\n",
       "      <td>56261</td>\n",
       "      <td>-60.935745</td>\n",
       "      <td>0.012662</td>\n",
       "      <td>-60.924493</td>\n",
       "      <td>-0.011252</td>\n",
       "    </tr>\n",
       "    <tr>\n",
       "      <th>1730344</th>\n",
       "      <td>apo25m.4424.116-04.2M23595886+5726058</td>\n",
       "      <td>5583</td>\n",
       "      <td>56284</td>\n",
       "      <td>-60.901040</td>\n",
       "      <td>0.019322</td>\n",
       "      <td>-60.924493</td>\n",
       "      <td>0.023454</td>\n",
       "    </tr>\n",
       "    <tr>\n",
       "      <th>1730345</th>\n",
       "      <td>apo25m.4548.105-45.2M23595980+1528407</td>\n",
       "      <td>6560</td>\n",
       "      <td>56584</td>\n",
       "      <td>-5.201384</td>\n",
       "      <td>0.050281</td>\n",
       "      <td>-5.175535</td>\n",
       "      <td>-0.025849</td>\n",
       "    </tr>\n",
       "    <tr>\n",
       "      <th>1730346</th>\n",
       "      <td>apo25m.4548.105-45.2M23595980+1528407</td>\n",
       "      <td>6560</td>\n",
       "      <td>56588</td>\n",
       "      <td>-5.034553</td>\n",
       "      <td>0.066701</td>\n",
       "      <td>-5.175535</td>\n",
       "      <td>0.140983</td>\n",
       "    </tr>\n",
       "    <tr>\n",
       "      <th>1730347</th>\n",
       "      <td>apo25m.4548.105-45.2M23595980+1528407</td>\n",
       "      <td>6560</td>\n",
       "      <td>56613</td>\n",
       "      <td>-5.517447</td>\n",
       "      <td>0.126213</td>\n",
       "      <td>-5.175535</td>\n",
       "      <td>-0.341911</td>\n",
       "    </tr>\n",
       "  </tbody>\n",
       "</table>\n",
       "<p>1730348 rows × 7 columns</p>\n",
       "</div>"
      ],
      "text/plain": [
       "                                     Target ID      Plate ID    MJD  \\\n",
       "0                             apo1m.1.Bestars.       Bestars  58017   \n",
       "1                             apo1m.1.Bestars.       Bestars  58022   \n",
       "2                    apo1m.1.calibration.VESTA   calibration  56398   \n",
       "3                    apo1m.1.calibration.VESTA   calibration  56778   \n",
       "4                         apo1m.1.calibration.   calibration  57743   \n",
       "...                                        ...           ...    ...   \n",
       "1730343  apo25m.4424.116-04.2M23595886+5726058          5583  56261   \n",
       "1730344  apo25m.4424.116-04.2M23595886+5726058          5583  56284   \n",
       "1730345  apo25m.4548.105-45.2M23595980+1528407          6560  56584   \n",
       "1730346  apo25m.4548.105-45.2M23595980+1528407          6560  56588   \n",
       "1730347  apo25m.4548.105-45.2M23595980+1528407          6560  56613   \n",
       "\n",
       "         OBSVHELIO (km/s)  OBSVREL Error (km/s)        <RV>        ΔRV  \n",
       "0             -523.166440              0.234950 -525.619404   2.452961  \n",
       "1             -526.084350              0.102290 -525.619404  -0.464947  \n",
       "2               25.553330              0.018306   14.014931  11.538398  \n",
       "3               10.561789              0.010014   14.014931  -3.453142  \n",
       "4              -36.204376              0.003971  -36.204376   0.000000  \n",
       "...                   ...                   ...         ...        ...  \n",
       "1730343        -60.935745              0.012662  -60.924493  -0.011252  \n",
       "1730344        -60.901040              0.019322  -60.924493   0.023454  \n",
       "1730345         -5.201384              0.050281   -5.175535  -0.025849  \n",
       "1730346         -5.034553              0.066701   -5.175535   0.140983  \n",
       "1730347         -5.517447              0.126213   -5.175535  -0.341911  \n",
       "\n",
       "[1730348 rows x 7 columns]"
      ]
     },
     "execution_count": 32,
     "metadata": {},
     "output_type": "execute_result"
    }
   ],
   "source": [
    "df_all"
   ]
  },
  {
   "cell_type": "code",
   "execution_count": 33,
   "id": "8fd27ddb",
   "metadata": {},
   "outputs": [],
   "source": [
    "df_wavg = pd.read_csv('weightedavg_RVs.csv').drop(['Unnamed: 0'], axis=1)"
   ]
  },
  {
   "cell_type": "code",
   "execution_count": 34,
   "id": "58d45858",
   "metadata": {},
   "outputs": [
    {
     "data": {
      "text/html": [
       "<div>\n",
       "<style scoped>\n",
       "    .dataframe tbody tr th:only-of-type {\n",
       "        vertical-align: middle;\n",
       "    }\n",
       "\n",
       "    .dataframe tbody tr th {\n",
       "        vertical-align: top;\n",
       "    }\n",
       "\n",
       "    .dataframe thead th {\n",
       "        text-align: right;\n",
       "    }\n",
       "</style>\n",
       "<table border=\"1\" class=\"dataframe\">\n",
       "  <thead>\n",
       "    <tr style=\"text-align: right;\">\n",
       "      <th></th>\n",
       "      <th>MJD</th>\n",
       "      <th>Combined ΔRV (m/s)</th>\n",
       "      <th>Combined σRV (m/s)</th>\n",
       "      <th>std</th>\n",
       "    </tr>\n",
       "  </thead>\n",
       "  <tbody>\n",
       "    <tr>\n",
       "      <th>0</th>\n",
       "      <td>58022.0</td>\n",
       "      <td>-8.053015</td>\n",
       "      <td>0.407374</td>\n",
       "      <td>0.320451</td>\n",
       "    </tr>\n",
       "    <tr>\n",
       "      <th>1</th>\n",
       "      <td>57743.0</td>\n",
       "      <td>0.023227</td>\n",
       "      <td>2.212728</td>\n",
       "      <td>0.027177</td>\n",
       "    </tr>\n",
       "    <tr>\n",
       "      <th>2</th>\n",
       "      <td>56933.0</td>\n",
       "      <td>9.254238</td>\n",
       "      <td>0.147462</td>\n",
       "      <td>0.192564</td>\n",
       "    </tr>\n",
       "    <tr>\n",
       "      <th>3</th>\n",
       "      <td>56936.0</td>\n",
       "      <td>23.920864</td>\n",
       "      <td>0.095845</td>\n",
       "      <td>0.257771</td>\n",
       "    </tr>\n",
       "    <tr>\n",
       "      <th>4</th>\n",
       "      <td>56971.0</td>\n",
       "      <td>-178.377692</td>\n",
       "      <td>0.062524</td>\n",
       "      <td>0.258691</td>\n",
       "    </tr>\n",
       "    <tr>\n",
       "      <th>...</th>\n",
       "      <td>...</td>\n",
       "      <td>...</td>\n",
       "      <td>...</td>\n",
       "      <td>...</td>\n",
       "    </tr>\n",
       "    <tr>\n",
       "      <th>1519</th>\n",
       "      <td>55870.0</td>\n",
       "      <td>-73.029691</td>\n",
       "      <td>0.946294</td>\n",
       "      <td>0.348151</td>\n",
       "    </tr>\n",
       "    <tr>\n",
       "      <th>1520</th>\n",
       "      <td>56617.0</td>\n",
       "      <td>62.421917</td>\n",
       "      <td>1.511150</td>\n",
       "      <td>0.432546</td>\n",
       "    </tr>\n",
       "    <tr>\n",
       "      <th>1521</th>\n",
       "      <td>56625.0</td>\n",
       "      <td>11.459281</td>\n",
       "      <td>0.557512</td>\n",
       "      <td>0.309172</td>\n",
       "    </tr>\n",
       "    <tr>\n",
       "      <th>1522</th>\n",
       "      <td>56576.0</td>\n",
       "      <td>58.248624</td>\n",
       "      <td>0.569609</td>\n",
       "      <td>0.247437</td>\n",
       "    </tr>\n",
       "    <tr>\n",
       "      <th>1523</th>\n",
       "      <td>56482.0</td>\n",
       "      <td>305.706376</td>\n",
       "      <td>0.724491</td>\n",
       "      <td>0.387252</td>\n",
       "    </tr>\n",
       "  </tbody>\n",
       "</table>\n",
       "<p>1524 rows × 4 columns</p>\n",
       "</div>"
      ],
      "text/plain": [
       "          MJD  Combined ΔRV (m/s)  Combined σRV (m/s)       std\n",
       "0     58022.0           -8.053015            0.407374  0.320451\n",
       "1     57743.0            0.023227            2.212728  0.027177\n",
       "2     56933.0            9.254238            0.147462  0.192564\n",
       "3     56936.0           23.920864            0.095845  0.257771\n",
       "4     56971.0         -178.377692            0.062524  0.258691\n",
       "...       ...                 ...                 ...       ...\n",
       "1519  55870.0          -73.029691            0.946294  0.348151\n",
       "1520  56617.0           62.421917            1.511150  0.432546\n",
       "1521  56625.0           11.459281            0.557512  0.309172\n",
       "1522  56576.0           58.248624            0.569609  0.247437\n",
       "1523  56482.0          305.706376            0.724491  0.387252\n",
       "\n",
       "[1524 rows x 4 columns]"
      ]
     },
     "execution_count": 34,
     "metadata": {},
     "output_type": "execute_result"
    }
   ],
   "source": [
    "df_wavg"
   ]
  },
  {
   "cell_type": "code",
   "execution_count": 42,
   "id": "af985712",
   "metadata": {},
   "outputs": [],
   "source": [
    "muall = np.mean(list(df_all['ΔRV']))\n",
    "muavg = np.mean(list(df_wavg['Combined ΔRV (m/s)']))"
   ]
  },
  {
   "cell_type": "code",
   "execution_count": 43,
   "id": "bf1865c4",
   "metadata": {},
   "outputs": [
    {
     "data": {
      "text/plain": [
       "-0.04689815928958173"
      ]
     },
     "execution_count": 43,
     "metadata": {},
     "output_type": "execute_result"
    }
   ],
   "source": [
    "muall"
   ]
  },
  {
   "cell_type": "code",
   "execution_count": 45,
   "id": "53241678",
   "metadata": {},
   "outputs": [],
   "source": [
    "stdall = np.array(list(df_all['ΔRV'])).std()\n",
    "stdavg = np.array(list(df_wavg['Combined ΔRV (m/s)'])).std()"
   ]
  },
  {
   "cell_type": "code",
   "execution_count": 46,
   "id": "36a3f747",
   "metadata": {},
   "outputs": [
    {
     "data": {
      "text/plain": [
       "21.14692459505227"
      ]
     },
     "execution_count": 46,
     "metadata": {},
     "output_type": "execute_result"
    }
   ],
   "source": [
    "stdall"
   ]
  },
  {
   "cell_type": "markdown",
   "id": "d82056cc",
   "metadata": {},
   "source": [
    "## MCMC Plan\n",
    "\n",
    "### Steps\n",
    "1. Run a markov chain on fitting slope (30 days, 7 days, 28 days)\n",
    "2. Bootstrap error terms\n",
    "3. Fit for 2 parameters of line + additional error term, do with 1wk binning and 30d binning; will determine if posteriors on slopes are consistent\n",
    "\n",
    "### Working?\n",
    "- b = ?, x = ?\n",
    "- sigma = ?\n",
    "- each point is probs a Gaussian"
   ]
  },
  {
   "cell_type": "code",
   "execution_count": 58,
   "id": "1d6d5e32",
   "metadata": {},
   "outputs": [],
   "source": [
    "# 30 day binning\n",
    "n = 81\n",
    "_b = -1.847834726942623\n",
    "_a = 0.1040542656085063\n",
    "_sigma = 20.10334754313373\n",
    "x = np.linspace(0, 80, 81)\n",
    "y = _a*x + _b"
   ]
  },
  {
   "cell_type": "code",
   "execution_count": null,
   "id": "c120b289",
   "metadata": {},
   "outputs": [],
   "source": []
  },
  {
   "cell_type": "code",
   "execution_count": null,
   "id": "d13baab2",
   "metadata": {},
   "outputs": [],
   "source": []
  },
  {
   "cell_type": "code",
   "execution_count": null,
   "id": "dea47d9c",
   "metadata": {},
   "outputs": [],
   "source": []
  },
  {
   "cell_type": "code",
   "execution_count": null,
   "id": "c54da4f7",
   "metadata": {},
   "outputs": [],
   "source": []
  },
  {
   "cell_type": "code",
   "execution_count": null,
   "id": "73363885",
   "metadata": {},
   "outputs": [],
   "source": []
  },
  {
   "cell_type": "code",
   "execution_count": null,
   "id": "44876c1b",
   "metadata": {},
   "outputs": [],
   "source": []
  },
  {
   "cell_type": "code",
   "execution_count": null,
   "id": "dacfc09f",
   "metadata": {},
   "outputs": [],
   "source": []
  },
  {
   "cell_type": "markdown",
   "id": "ca22b324",
   "metadata": {},
   "source": [
    "## Attempt 1"
   ]
  },
  {
   "cell_type": "code",
   "execution_count": 54,
   "id": "e8fff0bc",
   "metadata": {},
   "outputs": [
    {
     "data": {
      "text/html": [
       "\n",
       "    <div>\n",
       "        <style>\n",
       "            /* Turns off some styling */\n",
       "            progress {\n",
       "                /* gets rid of default border in Firefox and Opera. */\n",
       "                border: none;\n",
       "                /* Needs to be in here for Safari polyfill so background images work as expected. */\n",
       "                background-size: auto;\n",
       "            }\n",
       "            .progress-bar-interrupted, .progress-bar-interrupted::-webkit-progress-bar {\n",
       "                background: #F44336;\n",
       "            }\n",
       "        </style>\n",
       "      <progress value='127' class='' max='127' style='width:300px; height:20px; vertical-align: middle;'></progress>\n",
       "      100.00% [127/127 00:00<00:00 logp = 958.24, ||grad|| = 4.6643e+06]\n",
       "    </div>\n",
       "    "
      ],
      "text/plain": [
       "<IPython.core.display.HTML object>"
      ]
     },
     "metadata": {},
     "output_type": "display_data"
    },
    {
     "name": "stdout",
     "output_type": "stream",
     "text": [
      "\n"
     ]
    },
    {
     "name": "stderr",
     "output_type": "stream",
     "text": [
      "/var/folders/hh/025gcjhx0zx_78ws1t9nf3f80000gn/T/ipykernel_2382/1577628452.py:12: FutureWarning: In v4.0, pm.sample will return an `arviz.InferenceData` object instead of a `MultiTrace` by default. You can pass return_inferencedata=True or return_inferencedata=False to be safe and silence this warning.\n",
      "  trace = pm.sample(niter, step, start, random_seed=123)\n",
      "Multiprocess sampling (4 chains in 4 jobs)\n",
      "NUTS: [sigma, b, a]\n"
     ]
    },
    {
     "data": {
      "text/html": [
       "\n",
       "    <div>\n",
       "        <style>\n",
       "            /* Turns off some styling */\n",
       "            progress {\n",
       "                /* gets rid of default border in Firefox and Opera. */\n",
       "                border: none;\n",
       "                /* Needs to be in here for Safari polyfill so background images work as expected. */\n",
       "                background-size: auto;\n",
       "            }\n",
       "            .progress-bar-interrupted, .progress-bar-interrupted::-webkit-progress-bar {\n",
       "                background: #F44336;\n",
       "            }\n",
       "        </style>\n",
       "      <progress value='44000' class='' max='44000' style='width:300px; height:20px; vertical-align: middle;'></progress>\n",
       "      100.00% [44000/44000 20:38<00:00 Sampling 4 chains, 37 divergences]\n",
       "    </div>\n",
       "    "
      ],
      "text/plain": [
       "<IPython.core.display.HTML object>"
      ]
     },
     "metadata": {},
     "output_type": "display_data"
    },
    {
     "name": "stderr",
     "output_type": "stream",
     "text": [
      "Sampling 4 chains for 1_000 tune and 10_000 draw iterations (4_000 + 40_000 draws total) took 1255 seconds.\n",
      "There was 1 divergence after tuning. Increase `target_accept` or reparameterize.\n",
      "The chain reached the maximum tree depth. Increase max_treedepth, increase target_accept or reparameterize.\n",
      "The chain reached the maximum tree depth. Increase max_treedepth, increase target_accept or reparameterize.\n",
      "There were 36 divergences after tuning. Increase `target_accept` or reparameterize.\n",
      "The chain reached the maximum tree depth. Increase max_treedepth, increase target_accept or reparameterize.\n",
      "The chain reached the maximum tree depth. Increase max_treedepth, increase target_accept or reparameterize.\n",
      "The rhat statistic is larger than 1.4 for some parameters. The sampler did not converge.\n",
      "The estimated number of effective samples is smaller than 200 for some parameters.\n"
     ]
    }
   ],
   "source": [
    "niter = 10000\n",
    "with pm.Model() as linreg:\n",
    "    a = pm.Normal('a', mu=0, sd=100)\n",
    "    b = pm.Normal('b', mu=0, sd=100)\n",
    "    sigma = pm.HalfNormal('sigma', sd=1)\n",
    "\n",
    "    y_est = a*x + b\n",
    "    likelihood = pm.Normal('y', mu=y_est, sd=sigma, observed=y)\n",
    "\n",
    "    start = pm.find_MAP()\n",
    "    step = pm.NUTS(scaling=start)\n",
    "    trace = pm.sample(niter, step, start, random_seed=123)"
   ]
  },
  {
   "cell_type": "code",
   "execution_count": 56,
   "id": "ccef46cd",
   "metadata": {},
   "outputs": [
    {
     "name": "stderr",
     "output_type": "stream",
     "text": [
      "/var/folders/hh/025gcjhx0zx_78ws1t9nf3f80000gn/T/ipykernel_2382/1702142005.py:2: DeprecationWarning: The function `traceplot` from PyMC3 is just an alias for `plot_trace` from ArviZ. Please switch to `pymc3.plot_trace` or `arviz.plot_trace`.\n",
      "  pm.traceplot(trace, var_names=['a', 'b'])\n",
      "/opt/anaconda3/lib/python3.9/site-packages/arviz/data/io_pymc3.py:96: FutureWarning: Using `from_pymc3` without the model will be deprecated in a future release. Not using the model will return less accurate and less useful results. Make sure you use the model argument or call from_pymc3 within a model context.\n",
      "  warnings.warn(\n"
     ]
    },
    {
     "data": {
      "image/png": "[encoded data removed]",
      "text/plain": [
       "<Figure size 864x288 with 4 Axes>"
      ]
     },
     "metadata": {
      "needs_background": "light"
     },
     "output_type": "display_data"
    }
   ],
   "source": [
    "t = trace[niter//2:]\n",
    "pm.traceplot(trace, var_names=['a', 'b'])\n",
    "pass"
   ]
  },
  {
   "cell_type": "code",
   "execution_count": 57,
   "id": "d032e8f3",
   "metadata": {},
   "outputs": [
    {
     "data": {
      "image/png": "[encoded data removed]",
      "text/plain": [
       "<Figure size 432x288 with 1 Axes>"
      ]
     },
     "metadata": {
      "needs_background": "light"
     },
     "output_type": "display_data"
    }
   ],
   "source": [
    "plt.scatter(x, y, s=30, label='data')\n",
    "for a_, b_ in zip(t['a'][-100:], t['b'][-100:]):\n",
    "    plt.plot(x, a_*x + b_, c='gray', alpha=0.1)\n",
    "plt.plot(x, _a*x + _b, label='true regression line', lw=3., c='red')\n",
    "plt.legend(loc='best')\n",
    "pass"
   ]
  },
  {
   "cell_type": "code",
   "execution_count": null,
   "id": "15c4ae36",
   "metadata": {},
   "outputs": [],
   "source": []
  },
  {
   "cell_type": "code",
   "execution_count": null,
   "id": "475493dc",
   "metadata": {},
   "outputs": [],
   "source": []
  },
  {
   "cell_type": "code",
   "execution_count": null,
   "id": "d4724728",
   "metadata": {},
   "outputs": [],
   "source": []
  },
  {
   "cell_type": "code",
   "execution_count": null,
   "id": "4bfbad36",
   "metadata": {},
   "outputs": [],
   "source": []
  },
  {
   "cell_type": "code",
   "execution_count": 47,
   "id": "80b93617",
   "metadata": {},
   "outputs": [],
   "source": [
    "N = 1524"
   ]
  },
  {
   "cell_type": "code",
   "execution_count": 48,
   "id": "91169f17",
   "metadata": {},
   "outputs": [],
   "source": [
    "np.random?"
   ]
  },
  {
   "cell_type": "code",
   "execution_count": 49,
   "id": "b21bb253",
   "metadata": {},
   "outputs": [
    {
     "name": "stdout",
     "output_type": "stream",
     "text": [
      "[-0.21016298 -0.00283532  0.75110877 ... -0.31113498  0.3469913\n",
      "  1.54344288]\n"
     ]
    }
   ],
   "source": [
    "rand = np.random.normal(size=N)\n",
    "seed = np.random.seed(1)\n",
    "print(rand)"
   ]
  },
  {
   "cell_type": "code",
   "execution_count": 50,
   "id": "88a8b1d4",
   "metadata": {},
   "outputs": [],
   "source": [
    "mu = muavg\n",
    "sigma = stdavg"
   ]
  },
  {
   "cell_type": "code",
   "execution_count": 51,
   "id": "bbf55181",
   "metadata": {},
   "outputs": [
    {
     "ename": "TypeError",
     "evalue": "No model on context stack, which is needed to instantiate distributions. Add variable inside a 'with model:' block, or use the '.dist' syntax for a standalone distribution.",
     "output_type": "error",
     "traceback": [
      "\u001b[0;31m---------------------------------------------------------------------------\u001b[0m",
      "\u001b[0;31mIndexError\u001b[0m                                Traceback (most recent call last)",
      "\u001b[0;32m/opt/anaconda3/lib/python3.9/site-packages/pymc3/model.py\u001b[0m in \u001b[0;36mget_context\u001b[0;34m(cls, error_if_none)\u001b[0m\n\u001b[1;32m    320\u001b[0m         \u001b[0;32mtry\u001b[0m\u001b[0;34m:\u001b[0m\u001b[0;34m\u001b[0m\u001b[0;34m\u001b[0m\u001b[0m\n\u001b[0;32m--> 321\u001b[0;31m             \u001b[0mcandidate\u001b[0m \u001b[0;34m=\u001b[0m \u001b[0mcls\u001b[0m\u001b[0;34m.\u001b[0m\u001b[0mget_contexts\u001b[0m\u001b[0;34m(\u001b[0m\u001b[0;34m)\u001b[0m\u001b[0;34m[\u001b[0m\u001b[0;34m-\u001b[0m\u001b[0;36m1\u001b[0m\u001b[0;34m]\u001b[0m  \u001b[0;31m# type: Optional[T]\u001b[0m\u001b[0;34m\u001b[0m\u001b[0;34m\u001b[0m\u001b[0m\n\u001b[0m\u001b[1;32m    322\u001b[0m         \u001b[0;32mexcept\u001b[0m \u001b[0mIndexError\u001b[0m \u001b[0;32mas\u001b[0m \u001b[0me\u001b[0m\u001b[0;34m:\u001b[0m\u001b[0;34m\u001b[0m\u001b[0;34m\u001b[0m\u001b[0m\n",
      "\u001b[0;31mIndexError\u001b[0m: list index out of range",
      "\nDuring handling of the above exception, another exception occurred:\n",
      "\u001b[0;31mTypeError\u001b[0m                                 Traceback (most recent call last)",
      "\u001b[0;32m/opt/anaconda3/lib/python3.9/site-packages/pymc3/distributions/distribution.py\u001b[0m in \u001b[0;36m__new__\u001b[0;34m(cls, name, *args, **kwargs)\u001b[0m\n\u001b[1;32m     82\u001b[0m         \u001b[0;32mtry\u001b[0m\u001b[0;34m:\u001b[0m\u001b[0;34m\u001b[0m\u001b[0;34m\u001b[0m\u001b[0m\n\u001b[0;32m---> 83\u001b[0;31m             \u001b[0mmodel\u001b[0m \u001b[0;34m=\u001b[0m \u001b[0mModel\u001b[0m\u001b[0;34m.\u001b[0m\u001b[0mget_context\u001b[0m\u001b[0;34m(\u001b[0m\u001b[0;34m)\u001b[0m\u001b[0;34m\u001b[0m\u001b[0;34m\u001b[0m\u001b[0m\n\u001b[0m\u001b[1;32m     84\u001b[0m         \u001b[0;32mexcept\u001b[0m \u001b[0mTypeError\u001b[0m\u001b[0;34m:\u001b[0m\u001b[0;34m\u001b[0m\u001b[0;34m\u001b[0m\u001b[0m\n",
      "\u001b[0;32m/opt/anaconda3/lib/python3.9/site-packages/pymc3/model.py\u001b[0m in \u001b[0;36mget_context\u001b[0;34m(cls, error_if_none)\u001b[0m\n\u001b[1;32m    325\u001b[0m             \u001b[0;32mif\u001b[0m \u001b[0merror_if_none\u001b[0m\u001b[0;34m:\u001b[0m\u001b[0;34m\u001b[0m\u001b[0;34m\u001b[0m\u001b[0m\n\u001b[0;32m--> 326\u001b[0;31m                 \u001b[0;32mraise\u001b[0m \u001b[0mTypeError\u001b[0m\u001b[0;34m(\u001b[0m\u001b[0;34m\"No %s on context stack\"\u001b[0m \u001b[0;34m%\u001b[0m \u001b[0mstr\u001b[0m\u001b[0;34m(\u001b[0m\u001b[0mcls\u001b[0m\u001b[0;34m)\u001b[0m\u001b[0;34m)\u001b[0m\u001b[0;34m\u001b[0m\u001b[0;34m\u001b[0m\u001b[0m\n\u001b[0m\u001b[1;32m    327\u001b[0m             \u001b[0;32mreturn\u001b[0m \u001b[0;32mNone\u001b[0m\u001b[0;34m\u001b[0m\u001b[0;34m\u001b[0m\u001b[0m\n",
      "\u001b[0;31mTypeError\u001b[0m: No <class 'pymc3.model.Model'> on context stack",
      "\nDuring handling of the above exception, another exception occurred:\n",
      "\u001b[0;31mTypeError\u001b[0m                                 Traceback (most recent call last)",
      "\u001b[0;32m/var/folders/hh/025gcjhx0zx_78ws1t9nf3f80000gn/T/ipykernel_2382/699075487.py\u001b[0m in \u001b[0;36m<module>\u001b[0;34m\u001b[0m\n\u001b[0;32m----> 1\u001b[0;31m \u001b[0mM\u001b[0m \u001b[0;34m=\u001b[0m \u001b[0mpm\u001b[0m\u001b[0;34m.\u001b[0m\u001b[0mNormal\u001b[0m\u001b[0;34m(\u001b[0m\u001b[0;34m'M'\u001b[0m\u001b[0;34m,\u001b[0m \u001b[0mmu\u001b[0m\u001b[0;34m,\u001b[0m \u001b[0msigma\u001b[0m\u001b[0;34m,\u001b[0m \u001b[0mobserved\u001b[0m\u001b[0;34m=\u001b[0m\u001b[0;32mTrue\u001b[0m\u001b[0;34m,\u001b[0m \u001b[0mvalue\u001b[0m\u001b[0;34m=\u001b[0m\u001b[0mx\u001b[0m\u001b[0;34m)\u001b[0m\u001b[0;34m\u001b[0m\u001b[0;34m\u001b[0m\u001b[0m\n\u001b[0m\u001b[1;32m      2\u001b[0m \u001b[0mmodel\u001b[0m \u001b[0;34m=\u001b[0m \u001b[0mdict\u001b[0m\u001b[0;34m(\u001b[0m\u001b[0mM\u001b[0m\u001b[0;34m=\u001b[0m\u001b[0mM\u001b[0m\u001b[0;34m,\u001b[0m \u001b[0mmu\u001b[0m\u001b[0;34m=\u001b[0m\u001b[0mmu\u001b[0m\u001b[0;34m)\u001b[0m\u001b[0;34m\u001b[0m\u001b[0;34m\u001b[0m\u001b[0m\n",
      "\u001b[0;32m/opt/anaconda3/lib/python3.9/site-packages/pymc3/distributions/distribution.py\u001b[0m in \u001b[0;36m__new__\u001b[0;34m(cls, name, *args, **kwargs)\u001b[0m\n\u001b[1;32m     83\u001b[0m             \u001b[0mmodel\u001b[0m \u001b[0;34m=\u001b[0m \u001b[0mModel\u001b[0m\u001b[0;34m.\u001b[0m\u001b[0mget_context\u001b[0m\u001b[0;34m(\u001b[0m\u001b[0;34m)\u001b[0m\u001b[0;34m\u001b[0m\u001b[0;34m\u001b[0m\u001b[0m\n\u001b[1;32m     84\u001b[0m         \u001b[0;32mexcept\u001b[0m \u001b[0mTypeError\u001b[0m\u001b[0;34m:\u001b[0m\u001b[0;34m\u001b[0m\u001b[0;34m\u001b[0m\u001b[0m\n\u001b[0;32m---> 85\u001b[0;31m             raise TypeError(\n\u001b[0m\u001b[1;32m     86\u001b[0m                 \u001b[0;34m\"No model on context stack, which is needed to \"\u001b[0m\u001b[0;34m\u001b[0m\u001b[0;34m\u001b[0m\u001b[0m\n\u001b[1;32m     87\u001b[0m                 \u001b[0;34m\"instantiate distributions. Add variable inside \"\u001b[0m\u001b[0;34m\u001b[0m\u001b[0;34m\u001b[0m\u001b[0m\n",
      "\u001b[0;31mTypeError\u001b[0m: No model on context stack, which is needed to instantiate distributions. Add variable inside a 'with model:' block, or use the '.dist' syntax for a standalone distribution."
     ]
    }
   ],
   "source": [
    "M = pm.Normal('M', mu, sigma, observed=True, value=x)\n",
    "model = dict(M=M, mu=mu)"
   ]
  },
  {
   "cell_type": "code",
   "execution_count": null,
   "id": "a1401f6c",
   "metadata": {},
   "outputs": [],
   "source": [
    "# initial belief\n",
    "sigma_e = 3.0            # make it known to avoid inverse gamma complexity\n",
    "a_0 = 0.5\n",
    "b_0 = 0.5\n",
    "sigma_a_0 = 0.5\n",
    "sigma_b_0 = 0.5\n",
    "beta_0 = np.array([[a_0], [b_0]])\n",
    "sigma_beta_0 = np.array([[sigma_a_0*sigma_a_0, 0], [0, sigma_b_0*sigma_b_0]])\n",
    "\n",
    "beta_recorder = []           # record parameter beta\n",
    "beta_recorder.append(beta_0)\n",
    "for pair in range(250):       # 500 points means 250 pairs\n",
    "    x1 = x[pair*2]\n",
    "    x2 = x[pair*2+1]\n",
    "    y1 = y[pair*2]\n",
    "    y2 = y[pair*2+1]\n",
    "    mu_y = np.array([[(x1*y2-x2*y1)/(x1-x2)], [(y1-y2)/(x1-x2)]])\n",
    "    sigma_y = np.array([[(np.square(x1/(x1-x2))+np.square(x2/(x1-x2)))*np.square(sigma_e),0],\n",
    "                             [0,2*np.square(sigma_e/(x1-x2))]])\n",
    "    sigma_beta_1 = np.linalg.inv(np.linalg.inv(sigma_beta_0)+np.linalg.inv(sigma_y))\n",
    "    beta_1 = sigma_beta_1.dot(np.linalg.inv(sigma_beta_0).dot(beta_0) + np.linalg.inv(sigma_y).dot(mu_y))\n",
    "\n",
    "    # assign beta_1 to beta_0\n",
    "    beta_0 = beta_1\n",
    "    sigma_beta_0 = sigma_beta_1\n",
    "    beta_recorder.append(beta_0)\n",
    "\n",
    "print('pamameters: %.7f, %.7f' %(beta_0[0], beta_0[1]))\n",
    "\n",
    "# plot the Beyesian dynamics\n",
    "xfit = np.linspace(0, 10, sample_size)\n",
    "ytrue = 2.0 * xfit + 1.0       # we know the true value of slope and intercept\n",
    "plt.plot(xfit, ytrue, label='true line', linewidth=3)\n",
    "y0 = beta_recorder[0][1] * xfit + beta_recorder[0][0]\n",
    "plt.plot(xfit, y0, label='initial belief', linewidth=1)\n",
    "y1 = beta_recorder[1][1] * xfit + beta_recorder[1][0]\n",
    "plt.plot(xfit, y1, label='1st update', linewidth=1)\n",
    "y10 = beta_recorder[10][1] * xfit + beta_recorder[10][0]\n",
    "plt.plot(xfit, y10, label='10th update', linewidth=1)\n",
    "y100 = beta_recorder[100][1] * xfit + beta_recorder[100][0]\n",
    "plt.plot(xfit, y100, label='100th update', linewidth=1)\n",
    "plt.legend()"
   ]
  },
  {
   "cell_type": "code",
   "execution_count": 29,
   "id": "565c56a8",
   "metadata": {},
   "outputs": [
    {
     "name": "stderr",
     "output_type": "stream",
     "text": [
      "/var/folders/hh/025gcjhx0zx_78ws1t9nf3f80000gn/T/ipykernel_2382/3867102967.py:18: RuntimeWarning: invalid value encountered in log\n",
      "  return np.log(a) + np.log(b)\n"
     ]
    },
    {
     "name": "stdout",
     "output_type": "stream",
     "text": [
      "[ 0.09777171 -1.86635383]\n"
     ]
    },
    {
     "data": {
      "image/png": "[encoded data removed]",
      "text/plain": [
       "<Figure size 432x288 with 2 Axes>"
      ]
     },
     "metadata": {
      "needs_background": "light"
     },
     "output_type": "display_data"
    }
   ],
   "source": [
    "import scipy.stats\n",
    "# don't forget to generate the 500 random samples as in the previous post\n",
    "#tra = 0.09777171416860668\n",
    "#trb = -1.8663538253776457\n",
    "x = rand\n",
    "#y = tra*x + trb + \n",
    "sigma_e = 3.0\n",
    "\n",
    "# Similar to last post, let's initially believe that a, b follow Normal distribution \n",
    "# with mean 0.5 and standard deviation 0.5\n",
    "# It returns the probability of seeing beta under this belief\n",
    "def prior_probability(beta):\n",
    "    a = beta[0]     # intercept\n",
    "    b = beta[1]     # slope\n",
    "    a_prior = scipy.stats.norm(0.5, 0.5).pdf(a)\n",
    "    b_prior = scipy.stats.norm(0.5, 0.5).pdf(b)\n",
    "    # log probability transforms multiplication to summation\n",
    "    return np.log(a) + np.log(b)\n",
    "\n",
    "# Given beta, the likehood of seeing x and y\n",
    "def likelihood_probability(beta):\n",
    "    a = beta[0]     # intercept\n",
    "    b = beta[1]     # slope\n",
    "    y_predict = a + b * x\n",
    "    single_likelihoods = scipy.stats.norm(y_predict, sigma_e).pdf(y_predict) # .pdf(y) --> we know sigma_e is 3.0\n",
    "    return np.sum(np.log(single_likelihoods))\n",
    "\n",
    "# We don't need to know the denominator of support f(y)\n",
    "# as it will be canceled out in the acceptance ratio\n",
    "def posterior_probability(beta):\n",
    "    return likelihood_probability(beta) + prior_probability(beta)\n",
    "\n",
    "# jump from beta to new beta\n",
    "# proposal function is Gaussian centered at beta\n",
    "def proposal_function(beta):\n",
    "    a = beta[0]\n",
    "    b = beta[1]\n",
    "    a_new = np.random.normal(a, 0.5)\n",
    "    b_new = np.random.normal(b, 0.5)\n",
    "    beta_new = [a_new, b_new]\n",
    "    return beta_new\n",
    "\n",
    "# run the Monte Carlo\n",
    "beta_0 = [0.09777171416860668, -1.8663538253776457]        # start value\n",
    "results = np.zeros([50000,2])            # record the results\n",
    "results[0,0] = beta_0[0]\n",
    "results[0, 1] = beta_0[1]\n",
    "for step in range(1, 50000):               # loop 50,000 times\n",
    "    #print('step: {}'.format(step))\n",
    "\n",
    "    beta_old = results[step-1, :]\n",
    "    beta_proposal = proposal_function(beta_old)\n",
    "\n",
    "    # Use np.exp to restore from log numbers\n",
    "    prob = np.exp(posterior_probability(beta_proposal) - posterior_probability(beta_old))\n",
    "\n",
    "    if np.random.uniform(0,1) < prob:\n",
    "        results[step, :] = beta_proposal    # jump\n",
    "    else:\n",
    "        results[step, :] = beta_old         # stay\n",
    "\n",
    "burn_in = 10000\n",
    "beta_posterior = results[burn_in:, :]\n",
    "print(beta_posterior.mean(axis=0))        # use average as point estimates\n",
    "\n",
    "# present the results\n",
    "fig = plt.figure()\n",
    "ax1 = fig.add_subplot(121)\n",
    "ax1.hist(beta_posterior[:,0], bins=20, color='blue')\n",
    "ax1.axvline(beta_posterior.mean(axis=0)[0], color='red', linestyle='dashed', linewidth=2)\n",
    "ax1.title.set_text('Posterior -- Intercept')\n",
    "ax2 = fig.add_subplot(122)\n",
    "ax2.hist(beta_posterior[:,1], bins=20, color='blue')\n",
    "ax2.axvline(beta_posterior.mean(axis=0)[1], color='red', linestyle='dashed', linewidth=2)\n",
    "ax2.title.set_text('Posterior -- Slope')\n",
    "plt.show()"
   ]
  },
  {
   "cell_type": "code",
   "execution_count": 23,
   "id": "3ddf2fd4",
   "metadata": {},
   "outputs": [
    {
     "name": "stdout",
     "output_type": "stream",
     "text": [
      "N = 1524\n"
     ]
    }
   ],
   "source": [
    "N = len(df_wavg)\n",
    "print('N =', N)"
   ]
  },
  {
   "cell_type": "code",
   "execution_count": 24,
   "id": "51ece397",
   "metadata": {},
   "outputs": [],
   "source": [
    "# Generate random Gaussian data w/ mu=0, sigma=1\n",
    "\n",
    "x = np.random.normal(size=N)"
   ]
  },
  {
   "cell_type": "code",
   "execution_count": 26,
   "id": "791334ed",
   "metadata": {},
   "outputs": [
    {
     "ename": "TypeError",
     "evalue": "No model on context stack, which is needed to instantiate distributions. Add variable inside a 'with model:' block, or use the '.dist' syntax for a standalone distribution.",
     "output_type": "error",
     "traceback": [
      "\u001b[0;31m---------------------------------------------------------------------------\u001b[0m",
      "\u001b[0;31mIndexError\u001b[0m                                Traceback (most recent call last)",
      "\u001b[0;32m/opt/anaconda3/lib/python3.9/site-packages/pymc3/model.py\u001b[0m in \u001b[0;36mget_context\u001b[0;34m(cls, error_if_none)\u001b[0m\n\u001b[1;32m    320\u001b[0m         \u001b[0;32mtry\u001b[0m\u001b[0;34m:\u001b[0m\u001b[0;34m\u001b[0m\u001b[0;34m\u001b[0m\u001b[0m\n\u001b[0;32m--> 321\u001b[0;31m             \u001b[0mcandidate\u001b[0m \u001b[0;34m=\u001b[0m \u001b[0mcls\u001b[0m\u001b[0;34m.\u001b[0m\u001b[0mget_contexts\u001b[0m\u001b[0;34m(\u001b[0m\u001b[0;34m)\u001b[0m\u001b[0;34m[\u001b[0m\u001b[0;34m-\u001b[0m\u001b[0;36m1\u001b[0m\u001b[0;34m]\u001b[0m  \u001b[0;31m# type: Optional[T]\u001b[0m\u001b[0;34m\u001b[0m\u001b[0;34m\u001b[0m\u001b[0m\n\u001b[0m\u001b[1;32m    322\u001b[0m         \u001b[0;32mexcept\u001b[0m \u001b[0mIndexError\u001b[0m \u001b[0;32mas\u001b[0m \u001b[0me\u001b[0m\u001b[0;34m:\u001b[0m\u001b[0;34m\u001b[0m\u001b[0;34m\u001b[0m\u001b[0m\n",
      "\u001b[0;31mIndexError\u001b[0m: list index out of range",
      "\nDuring handling of the above exception, another exception occurred:\n",
      "\u001b[0;31mTypeError\u001b[0m                                 Traceback (most recent call last)",
      "\u001b[0;32m/opt/anaconda3/lib/python3.9/site-packages/pymc3/distributions/distribution.py\u001b[0m in \u001b[0;36m__new__\u001b[0;34m(cls, name, *args, **kwargs)\u001b[0m\n\u001b[1;32m     82\u001b[0m         \u001b[0;32mtry\u001b[0m\u001b[0;34m:\u001b[0m\u001b[0;34m\u001b[0m\u001b[0;34m\u001b[0m\u001b[0m\n\u001b[0;32m---> 83\u001b[0;31m             \u001b[0mmodel\u001b[0m \u001b[0;34m=\u001b[0m \u001b[0mModel\u001b[0m\u001b[0;34m.\u001b[0m\u001b[0mget_context\u001b[0m\u001b[0;34m(\u001b[0m\u001b[0;34m)\u001b[0m\u001b[0;34m\u001b[0m\u001b[0;34m\u001b[0m\u001b[0m\n\u001b[0m\u001b[1;32m     84\u001b[0m         \u001b[0;32mexcept\u001b[0m \u001b[0mTypeError\u001b[0m\u001b[0;34m:\u001b[0m\u001b[0;34m\u001b[0m\u001b[0;34m\u001b[0m\u001b[0m\n",
      "\u001b[0;32m/opt/anaconda3/lib/python3.9/site-packages/pymc3/model.py\u001b[0m in \u001b[0;36mget_context\u001b[0;34m(cls, error_if_none)\u001b[0m\n\u001b[1;32m    325\u001b[0m             \u001b[0;32mif\u001b[0m \u001b[0merror_if_none\u001b[0m\u001b[0;34m:\u001b[0m\u001b[0;34m\u001b[0m\u001b[0;34m\u001b[0m\u001b[0m\n\u001b[0;32m--> 326\u001b[0;31m                 \u001b[0;32mraise\u001b[0m \u001b[0mTypeError\u001b[0m\u001b[0;34m(\u001b[0m\u001b[0;34m\"No %s on context stack\"\u001b[0m \u001b[0;34m%\u001b[0m \u001b[0mstr\u001b[0m\u001b[0;34m(\u001b[0m\u001b[0mcls\u001b[0m\u001b[0;34m)\u001b[0m\u001b[0;34m)\u001b[0m\u001b[0;34m\u001b[0m\u001b[0;34m\u001b[0m\u001b[0m\n\u001b[0m\u001b[1;32m    327\u001b[0m             \u001b[0;32mreturn\u001b[0m \u001b[0;32mNone\u001b[0m\u001b[0;34m\u001b[0m\u001b[0;34m\u001b[0m\u001b[0m\n",
      "\u001b[0;31mTypeError\u001b[0m: No <class 'pymc3.model.Model'> on context stack",
      "\nDuring handling of the above exception, another exception occurred:\n",
      "\u001b[0;31mTypeError\u001b[0m                                 Traceback (most recent call last)",
      "\u001b[0;32m/var/folders/hh/025gcjhx0zx_78ws1t9nf3f80000gn/T/ipykernel_91150/2304942631.py\u001b[0m in \u001b[0;36m<module>\u001b[0;34m\u001b[0m\n\u001b[1;32m      1\u001b[0m \u001b[0;31m# MCMC model w/ uniform prior on mu + fixed sigma\u001b[0m\u001b[0;34m\u001b[0m\u001b[0;34m\u001b[0m\u001b[0m\n\u001b[0;32m----> 2\u001b[0;31m \u001b[0mmu\u001b[0m \u001b[0;34m=\u001b[0m \u001b[0mpm\u001b[0m\u001b[0;34m.\u001b[0m\u001b[0mUniform\u001b[0m\u001b[0;34m(\u001b[0m\u001b[0;34m'mu'\u001b[0m\u001b[0;34m,\u001b[0m \u001b[0;34m-\u001b[0m\u001b[0;36m5\u001b[0m\u001b[0;34m,\u001b[0m \u001b[0;36m5\u001b[0m\u001b[0;34m)\u001b[0m\u001b[0;34m.\u001b[0m\u001b[0mdist\u001b[0m\u001b[0;34m\u001b[0m\u001b[0;34m\u001b[0m\u001b[0m\n\u001b[0m\u001b[1;32m      3\u001b[0m \u001b[0msigma\u001b[0m \u001b[0;34m=\u001b[0m \u001b[0;36m1\u001b[0m\u001b[0;34m\u001b[0m\u001b[0;34m\u001b[0m\u001b[0m\n\u001b[1;32m      4\u001b[0m \u001b[0mM\u001b[0m \u001b[0;34m=\u001b[0m \u001b[0mpm\u001b[0m\u001b[0;34m.\u001b[0m\u001b[0mNormal\u001b[0m\u001b[0;34m(\u001b[0m\u001b[0;34m'M'\u001b[0m\u001b[0;34m,\u001b[0m \u001b[0mmu\u001b[0m\u001b[0;34m,\u001b[0m \u001b[0msigma\u001b[0m\u001b[0;34m,\u001b[0m \u001b[0mobserved\u001b[0m\u001b[0;34m=\u001b[0m\u001b[0;32mTrue\u001b[0m\u001b[0;34m,\u001b[0m \u001b[0mvalue\u001b[0m\u001b[0;34m=\u001b[0m\u001b[0mx\u001b[0m\u001b[0;34m)\u001b[0m\u001b[0;34m\u001b[0m\u001b[0;34m\u001b[0m\u001b[0m\n\u001b[1;32m      5\u001b[0m \u001b[0mmodel\u001b[0m \u001b[0;34m=\u001b[0m \u001b[0mdict\u001b[0m\u001b[0;34m(\u001b[0m\u001b[0mM\u001b[0m\u001b[0;34m=\u001b[0m\u001b[0mM\u001b[0m\u001b[0;34m,\u001b[0m \u001b[0mmu\u001b[0m\u001b[0;34m=\u001b[0m\u001b[0mmu\u001b[0m\u001b[0;34m)\u001b[0m\u001b[0;34m\u001b[0m\u001b[0;34m\u001b[0m\u001b[0m\n",
      "\u001b[0;32m/opt/anaconda3/lib/python3.9/site-packages/pymc3/distributions/distribution.py\u001b[0m in \u001b[0;36m__new__\u001b[0;34m(cls, name, *args, **kwargs)\u001b[0m\n\u001b[1;32m     83\u001b[0m             \u001b[0mmodel\u001b[0m \u001b[0;34m=\u001b[0m \u001b[0mModel\u001b[0m\u001b[0;34m.\u001b[0m\u001b[0mget_context\u001b[0m\u001b[0;34m(\u001b[0m\u001b[0;34m)\u001b[0m\u001b[0;34m\u001b[0m\u001b[0;34m\u001b[0m\u001b[0m\n\u001b[1;32m     84\u001b[0m         \u001b[0;32mexcept\u001b[0m \u001b[0mTypeError\u001b[0m\u001b[0;34m:\u001b[0m\u001b[0;34m\u001b[0m\u001b[0;34m\u001b[0m\u001b[0m\n\u001b[0;32m---> 85\u001b[0;31m             raise TypeError(\n\u001b[0m\u001b[1;32m     86\u001b[0m                 \u001b[0;34m\"No model on context stack, which is needed to \"\u001b[0m\u001b[0;34m\u001b[0m\u001b[0;34m\u001b[0m\u001b[0m\n\u001b[1;32m     87\u001b[0m                 \u001b[0;34m\"instantiate distributions. Add variable inside \"\u001b[0m\u001b[0;34m\u001b[0m\u001b[0;34m\u001b[0m\u001b[0m\n",
      "\u001b[0;31mTypeError\u001b[0m: No model on context stack, which is needed to instantiate distributions. Add variable inside a 'with model:' block, or use the '.dist' syntax for a standalone distribution."
     ]
    }
   ],
   "source": [
    "# MCMC model w/ uniform prior on mu + fixed sigma \n",
    "mu = pm.Uniform('mu', -5, 5).dist\n",
    "sigma = 1\n",
    "M = pm.Normal('M', mu, sigma, observed=True, value=x)\n",
    "model = dict(M=M, mu=mu)"
   ]
  },
  {
   "cell_type": "code",
   "execution_count": null,
   "id": "d6a32f94",
   "metadata": {},
   "outputs": [],
   "source": []
  }
 ],
 "metadata": {
  "kernelspec": {
   "display_name": "Python 3 (ipykernel)",
   "language": "python",
   "name": "python3"
  },
  "language_info": {
   "codemirror_mode": {
    "name": "ipython",
    "version": 3
   },
   "file_extension": ".py",
   "mimetype": "text/x-python",
   "name": "python",
   "nbconvert_exporter": "python",
   "pygments_lexer": "ipython3",
   "version": "3.9.7"
  }
 },
 "nbformat": 4,
 "nbformat_minor": 5
}
